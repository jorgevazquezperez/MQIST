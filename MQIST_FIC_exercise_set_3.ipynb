{
 "cells": [
  {
   "cell_type": "markdown",
   "metadata": {
    "slideshow": {
     "slide_type": "slide"
    }
   },
   "source": [
    "\n",
    "<table width=\"100%\">\n",
    "<td style=\"font-size:45px;font-style:italic;text-align:right;background-color:rgba(0, 220, 170,0.7)\">\n",
    "Exercise set I\n",
    "</td></table>\n",
    "\n",
    "\n",
    "\n",
    "$ \\renewcommand{\\bra}[1]{\\langle #1|} $\n",
    "$ \\renewcommand{\\ket}[1]{|#1\\rangle} $\n",
    "$ \\renewcommand{\\braket}[2]{\\langle #1|#2\\rangle} $\n",
    "$ \\renewcommand{\\ketbra}[2]{\\ket{ #1}\\bra{#2}} $\n",
    "$ \\renewcommand{\\i}{{\\color{blue} i}} $ \n",
    "$ \\renewcommand{\\Hil}{{\\mathcal H}} $\n",
    "$ \\renewcommand{\\cg}[1]{{\\rm C}#1} $\n",
    "$ \\renewcommand{\\tr}{{\\rm Tr}\\,} $\n",
    "$ \\renewcommand{\\boldsig}{\\boldsymbol{\\sigma}} $\n",
    "$ \\renewcommand{\\bn}{\\boldsymbol{n}}$\n",
    "$ \\renewcommand{\\boldn}{\\boldsymbol{n}} $\n",
    "$ \\renewcommand{\\Lin}{\\hbox{Lin}} $\n",
    "$ \\renewcommand{\\id}{{\\mathbb I}} $"
   ]
  },
  {
   "cell_type": "markdown",
   "metadata": {},
   "source": [
    "<div class=\"alert alert-block alert-success\">\n",
    "<b>Exercise 3.1:</b>\n",
    "<br>\n",
    "\n",
    "Write in python the following functions (preferably without using  numpy) :\n",
    "\n",
    "- $braket(u,v)$   and  $norm(u)$  that compute  $\\braket{u}{v}$ and $\\|\\ket{u}\\|$ respectively\n",
    "\n",
    "- $ket\\_bra(u,v)$ that returns the matrix $\\ket{u}\\bra{v}$\n",
    "\n",
    "- $random\\_ket(d)$ that generate a normalized random vector  $\\ket{u}\\in\\Hil$  of dimension $d$\n",
    "\n",
    "-  $spectral\\_decomp$  that returns the two lists $\\lambda_i$ y $P_i$ associated with the spectral decomposition of a diagonalizable operator  $A = \\sum_i \\lambda_i P_i$.      \n",
    "\n",
    "- $reflector(\\psi,u)$ that returns the reflected vectors $R_{u}^{\\|}\\ket{\\psi}$  and  $R_{u}^{\\perp}\\ket{\\psi}$, along and perpendicular  to $\\ket{u}$. \n",
    "\n",
    "- $trace\\_distance(A,B)$ which returns the trace distance between two operators $A$ and $B$:\n",
    "\n",
    "\n",
    "Check in all cases that the functions work correctly.\n",
    "\n",
    "</div>"
   ]
  },
  {
   "cell_type": "markdown",
   "metadata": {},
   "source": [
    "<div class=\"alert alert-block\">\n",
    "\n",
    "- $braket(u,v)$   and  $norm(u)$  that compute  $\\braket{u}{v}$ and $\\|\\ket{u}\\|$ respectively \n",
    "\n",
    "</div>"
   ]
  },
  {
   "cell_type": "code",
   "execution_count": 42,
   "metadata": {},
   "outputs": [
    {
     "name": "stdout",
     "output_type": "stream",
     "text": [
      "0j\n",
      "1.0\n"
     ]
    }
   ],
   "source": [
    "def _check_dimension(*statevectors):\n",
    "    \"\"\"Function to check that the dimension of u is 2^k.\"\"\"\n",
    "    for statevector in statevectors:\n",
    "        if len(statevector) % 2:\n",
    "            raise ValueError(\"The vector is not a statevector (dimension is not equal to 2^k)\")\n",
    "\n",
    "\n",
    "\n",
    "def braket(u, v):\n",
    "    \"\"\"Compute the inner product of two state vectors u and v.\"\"\"\n",
    "    _check_dimension(u, v)\n",
    "    return sum([complex(u_i.real, -u_i.imag) * v_i for u_i, v_i in zip(u, v)])\n",
    "\n",
    "def norm(u):\n",
    "    \"\"\"Compute the norm of state vector u.\"\"\"\n",
    "    _check_dimension(u)\n",
    "    return abs(braket(u, u))**0.5\n",
    "\n",
    "# Example usage:\n",
    "u = [1, 0]\n",
    "v = [0, 1j]\n",
    "\n",
    "print(braket(u, v))  # Outputs: 0j\n",
    "print(norm(u))       # Outputs: 1.0\n"
   ]
  },
  {
   "cell_type": "markdown",
   "metadata": {},
   "source": [
    "<div class=\"alert alert-block\">\n",
    "\n",
    "- $ket\\_bra(u,v)$ that returns the operator $\\ket{u}\\bra{v}$\n",
    "\n",
    "</div>"
   ]
  },
  {
   "cell_type": "code",
   "execution_count": 43,
   "metadata": {},
   "outputs": [
    {
     "name": "stdout",
     "output_type": "stream",
     "text": [
      "[0j, (1+0j)]\n",
      "[0j, 0j]\n"
     ]
    }
   ],
   "source": [
    "def ket_bra(u, v):\n",
    "    \"\"\"Compute the outer product of two statevectors u and v.\"\"\"\n",
    "    _check_dimension(u, v)\n",
    "    return [[u_i * complex(v_j.real, -v_j.imag) for v_j in v] for u_i in u]\n",
    "\n",
    "# Example usage:\n",
    "u = [1, 0]\n",
    "v = [0, 1]\n",
    "\n",
    "result = ket_bra(u, v)\n",
    "for row in result:\n",
    "    print(row)\n"
   ]
  },
  {
   "cell_type": "markdown",
   "metadata": {},
   "source": [
    "<div class=\"alert alert-block\">\n",
    "\n",
    "- $random\\_ket(d)$ that generate a normalized random vector  $\\ket{u}\\in\\Hil$  of dimension $d$\n",
    "\n",
    "</div>"
   ]
  },
  {
   "cell_type": "code",
   "execution_count": 44,
   "metadata": {},
   "outputs": [
    {
     "name": "stdout",
     "output_type": "stream",
     "text": [
      "[(0.04450484859437179-0.7812318679412605j), (-0.49087652939499277-0.38306177028480365j)]\n",
      "Norm of ket is: 1.0\n"
     ]
    }
   ],
   "source": [
    "import random\n",
    "import math\n",
    "\n",
    "def random_ket(d):\n",
    "    \"\"\"Generate a normalized random vector of dimension 2**d.\"\"\"\n",
    "    # Generate a random vector with complex entries\n",
    "    vector = [complex(random.gauss(0, 1), random.gauss(0, 1)) for _ in range(pow(2, d))]\n",
    "    \n",
    "    # Compute the magnitude of the vector\n",
    "    magnitude = math.sqrt(sum(abs(x)**2 for x in vector))\n",
    "    \n",
    "    # Normalize the vector\n",
    "    normalized_vector = [x / magnitude for x in vector]\n",
    "    \n",
    "    return normalized_vector\n",
    "\n",
    "# Example usage:\n",
    "d = 1\n",
    "ket = random_ket(d)\n",
    "print(ket)\n",
    "print(\"Norm of ket is: \" + str(norm(ket)))"
   ]
  },
  {
   "cell_type": "markdown",
   "metadata": {},
   "source": [
    "<div class=\"alert alert-block\">\n",
    "\n",
    "-  $spectral\\_decomp$  that returns the two lists $\\lambda_i$ y $P_i$ associated with the spectral decomposition of a diagonalizable operator  $A = \\sum_i \\lambda_i P_i$. \n",
    "\n",
    "</div>"
   ]
  },
  {
   "cell_type": "code",
   "execution_count": 45,
   "metadata": {},
   "outputs": [
    {
     "name": "stdout",
     "output_type": "stream",
     "text": [
      "Eigenvalues: [ 1.+0.j -1.+0.j]\n",
      "Projection operator for eigenvalue (0.9999999999999996+0j):\n",
      " [[0.5+0.j  0. +0.5j]\n",
      " [0. -0.5j 0.5+0.j ]]\n",
      "Projection operator for eigenvalue (-0.9999999999999999+0j):\n",
      " [[0.5+0.j  0. -0.5j]\n",
      " [0. +0.5j 0.5+0.j ]]\n"
     ]
    }
   ],
   "source": [
    "import numpy as np\n",
    "\n",
    "def spectral_decomp(A):\n",
    "    \"\"\"\n",
    "    Compute the spectral decomposition of a diagonalizable matrix A.\n",
    "    Returns the eigenvalues and their associated projection operators.\n",
    "    \"\"\"\n",
    "    # Compute the eigenvalues and eigenvectors of A\n",
    "    eigenvalues, eigenvectors = np.linalg.eig(A)\n",
    "    \n",
    "    # Compute the projection operators\n",
    "    projection_operators = [np.outer(v, np.conj(v)) for v in eigenvectors.T]\n",
    "    \n",
    "    return eigenvalues, projection_operators\n",
    "\n",
    "# Example usage:\n",
    "A = np.array([[0, 1j], [-1j, 0]])\n",
    "eigenvalues, projection_operators = spectral_decomp(A)\n",
    "\n",
    "print(\"Eigenvalues:\", eigenvalues)\n",
    "for i, P in enumerate(projection_operators):\n",
    "    print(f\"Projection operator for eigenvalue {eigenvalues[i]}:\\n\", P)\n"
   ]
  },
  {
   "cell_type": "markdown",
   "metadata": {},
   "source": [
    "<div class=\"alert alert-block\">\n",
    "\n",
    "- $reflector(\\psi,u)$ that returns the reflected vectors $R_{u}^{\\|}\\ket{\\psi}$  and  $R_{u}^{\\perp}\\ket{\\psi}$, along and perpendicular  to $\\ket{u}$. \n",
    "\n",
    "</div>"
   ]
  },
  {
   "cell_type": "code",
   "execution_count": 46,
   "metadata": {},
   "outputs": [
    {
     "name": "stdout",
     "output_type": "stream",
     "text": [
      "Reflection along u: [(-1+0j), 0j]\n",
      "Reflection perpendicular to u: [(1+0j), 0j]\n"
     ]
    }
   ],
   "source": [
    "def scalar_multiply(scalar, vector):\n",
    "    \"\"\"Multiply a vector by a scalar.\"\"\"\n",
    "    _check_dimension(vector)\n",
    "    return [scalar * v for v in vector]\n",
    "\n",
    "def statevector_subtract(v1, v2):\n",
    "    \"\"\"Subtract vector v2 from v1.\"\"\"\n",
    "    _check_dimension(v1, v2)\n",
    "    return [a - b for a, b in zip(v1, v2)]\n",
    "\n",
    "def reflector(psi, u):\n",
    "    \"\"\"Compute the reflected vectors of psi along and perpendicular to u.\"\"\"\n",
    "    # Compute the inner product <u|psi>\n",
    "    inner = braket(u, psi)\n",
    "    \n",
    "    # Compute the reflection along u\n",
    "    R_parallel = statevector_subtract(scalar_multiply(2 * inner, u), psi)\n",
    "    \n",
    "    # Compute the reflection perpendicular to u\n",
    "    R_perpendicular = statevector_subtract(psi, scalar_multiply(2 * inner, u))\n",
    "    \n",
    "    return R_parallel, R_perpendicular\n",
    "\n",
    "# Example usage:\n",
    "psi = [1, 0]\n",
    "u = [0, 1]\n",
    "#u = [1/math.sqrt(2), 1/math.sqrt(2)]\n",
    "R_parallel, R_perpendicular = reflector(psi, u)\n",
    "print(\"Reflection along u:\", R_parallel)\n",
    "print(\"Reflection perpendicular to u:\", R_perpendicular)\n"
   ]
  },
  {
   "cell_type": "markdown",
   "metadata": {},
   "source": [
    "<div class=\"alert alert-block alert-success\">\n",
    "<b>Exercise 3.2:</b> \n",
    "    \n",
    "The   hamiltonian  of the  Heisenberg model  that describes the interaction of two neighbouring spins in $\\Hil^{\\otimes 2}$ is\n",
    "<br>\n",
    " \n",
    "$$\n",
    "H =\\frac{J}{4}\\left(\\vec \\sigma \\otimes \\vec\\sigma - \\id\\otimes \\id \\right) = \\frac{J}{4}\\left(X \\otimes X + Y \\otimes Y +  Z \\otimes Z   - \\id\\otimes \\id \\right) \n",
    "$$\n",
    "- Write down the matrix $H_{ij}$.  Compute the eigenvalues and the eigenvectors. Which one is the ground state?\n",
    "\n",
    "- Show that $H$ can be written as\n",
    "$$\n",
    "H\n",
    "= {J\\over 2} \\left(  \\vec S\\cdot \\vec S- 2 \\id \\otimes \\id \\right)\n",
    "\\,.\n",
    "$$\n",
    "where\n",
    "$\\vec S \\equiv {1\\over 2}\\left( \\vec\\sigma \\otimes \\id + \\id \\otimes \n",
    "\\vec\\sigma \\right) $ is the total spin operator\n",
    "    \n",
    "    \n",
    "</div>"
   ]
  },
  {
   "cell_type": "markdown",
   "metadata": {},
   "source": [
    "<div class=\"alert alert-block alert-success\">\n",
    "<b>Exercise 3.3:</b> \n",
    "    \n",
    "Let\n",
    "$$\n",
    " \\ket{+,\\hat\\bn} =  \\cos\\frac{\\theta}{2}\\ket{0} + e^{i\\phi}\\sin\\frac{\\theta}{2} \\ket{1}  ~~; ~~\n",
    "  \\ket{-,\\hat\\boldn} =  -e^{-i\\phi}\\sin\\frac{\\theta}{2}\\ket{0} + \\cos\\frac{\\theta}{2} \\ket{1} \\, .\n",
    " %\\label{baserotada}\n",
    " $$\n",
    "with $\\hat{\\bf n}=(\\sin\\theta\\cos\\phi,\\sin\\theta\\sin\\phi, \\cos\\theta)^t$,\n",
    "prove that \n",
    "- $\\hat\\boldn\\cdot \\boldsig \\ket{\\pm,\\hat\\boldn} = \\pm \\ket{\\pm,\\hat\\boldn} $\n",
    "<br>\n",
    "\n",
    "-  $\\langle  \\sigma_i \\rangle_{\\hat\\boldn,\\pm} \\equiv \\bra{\\hat\\boldn,\\pm } \\sigma_i   \\ket{\\hat\\boldn,\\pm }=\\pm  \\hat n_i $\n",
    "<br>\n",
    "- with $\\ket{B_{11}} = \\frac{1}{\\sqrt{2}}(\\ket{01}-\\ket{10})$  the singlet Bell state,\n",
    "$$\n",
    "  C(\\hat\\boldn_A, \\hat\\boldn_B) = \\bra{B_{11}} \\hat\\boldn_A\\!\\cdot \\!\\boldsig \\otimes  \\hat\\boldn_B \\! \\cdot \\! \\boldsig \\ket{B_{11}} = -\\boldn_A\\cdot \\boldn_B\n",
    "$$\n",
    "<br>\n",
    "\n",
    "(tip: set $\\hat\\boldn_B =\\hat{\\bf z}$ and try to argue why this is not a restriction) \n",
    "\n",
    "</div>"
   ]
  },
  {
   "cell_type": "markdown",
   "metadata": {},
   "source": [
    "<div class=\"alert alert-block alert-success\">\n",
    "<b>Exercies 3.4:</b> \n",
    "\n",
    "Write a function $exp\\_val(A,\\psi)$ that returns the expectation value $\\bra{u}A\\ket{\\psi}$ of an observable in the 1-qubit state  $\\ket{\\psi}\\in\\Hil$.\n",
    "\n",
    "</div>"
   ]
  },
  {
   "cell_type": "code",
   "execution_count": 54,
   "metadata": {},
   "outputs": [
    {
     "name": "stdout",
     "output_type": "stream",
     "text": [
      "0.0\n"
     ]
    }
   ],
   "source": [
    "def conjugate_transpose(vector):\n",
    "    \"\"\"Return the conjugate transpose (adjoint) of a vector.\"\"\"\n",
    "    return [complex(v.real, -v.imag) for v in vector]\n",
    "\n",
    "def apply_operator(operator, vector):\n",
    "    \"\"\"Apply a operator to a statevector.\"\"\"\n",
    "    return [sum(a * b for a, b in zip(row, vector)) for row in operator]\n",
    "\n",
    "def inner_product(u, v):\n",
    "    \"\"\"Compute the inner product of two vectors.\"\"\"\n",
    "    return sum([complex(u_i.real, -u_i.imag) * v_i for u_i, v_i in zip(u, v)])\n",
    "\n",
    "def exp_val(A, psi):\n",
    "    \"\"\"Compute the expectation value of an observable A in the state psi.\"\"\"\n",
    "    # Compute A|psi>\n",
    "    A_psi = apply_operator(A, psi)\n",
    "    # Compute <psi|A|psi>\n",
    "    expectation_value = inner_product(conjugate_transpose(psi), A_psi)\n",
    "    return expectation_value.real  # The expectation value should be real\n",
    "\n",
    "# Example usage:\n",
    "A = [\n",
    "    [1, 0],\n",
    "    [0, -1]\n",
    "]\n",
    "psi = [1/math.sqrt(2), 1/math.sqrt(2)]  # |+> state\n",
    "print(exp_val(A, psi))  # Outputs: 0.0 for the Pauli-Z observable on |+> state\n"
   ]
  },
  {
   "cell_type": "markdown",
   "metadata": {},
   "source": [
    "<div class=\"alert alert-block alert-success\">\n",
    "<b>Exercies 3.5:</b> \n",
    " (challenge!)\n",
    "\n",
    "Extend the  function  $exp\\_val(A,u)$ to return the expectation value $\\bra{u}A\\ket{u}$ of an observable in the multicubit state  $\\ket{u}\\in\\Hil^{\\otimes n}$.\n",
    "\n",
    "Apply this function to the   Heisenberg hamiltonian in $\\Hil^{\\otimes 2}$, taking $J=1eV$ and obtain the value of the energy $E = \\langle H\\rangle_\\Psi$  in the four Bell states  $\\ket{\\psi} = \\ket{B_{ij}}$.  \n",
    "\n",
    "<i>Tip</i>: you can ask for help if you lack coding skills, but you should document all the steps in the code. \n",
    "</div>"
   ]
  },
  {
   "cell_type": "markdown",
   "metadata": {},
   "source": [
    "<div class=\"alert alert-block\">\n",
    "\n",
    "Due to how $exp\\_val(A,u)$ was defined in last exercise, it is already able to compute multicubit states. \n",
    "\n",
    "</div>"
   ]
  },
  {
   "cell_type": "code",
   "execution_count": 55,
   "metadata": {},
   "outputs": [
    {
     "name": "stdout",
     "output_type": "stream",
     "text": [
      "Expectation value for B_00: 0.9999999999999998\n",
      "Expectation value for B_01: 0.9999999999999998\n",
      "Expectation value for B_10: 0.9999999999999998\n",
      "Expectation value for B_11: -2.9999999999999996\n"
     ]
    }
   ],
   "source": [
    "import math\n",
    "\n",
    "def operator_kron(A, B):\n",
    "    \"\"\"Compute the Kronecker product of matrices A and B.\"\"\"\n",
    "    # Get the dimensions of the matrices\n",
    "    m, n = len(A), len(A[0])\n",
    "    p, q = len(B), len(B[0])\n",
    "    \n",
    "    # Initialize the result operator with zeros\n",
    "    result = [[0 for _ in range(n * q)] for _ in range(m * p)]\n",
    "    \n",
    "    for i in range(m):\n",
    "        for j in range(n):\n",
    "            for k in range(p):\n",
    "                for l in range(q):\n",
    "                    result[i * p + k][j * q + l] = A[i][j] * B[k][l]\n",
    "                    \n",
    "    return result\n",
    "\n",
    "def operator_add(A, B):\n",
    "    \"\"\"Compute the sum of matrices A and B.\"\"\"\n",
    "    # Check if matrices have the same dimensions\n",
    "    if len(A) != len(B) or len(A[0]) != len(B[0]):\n",
    "        raise ValueError(\"Matrices must have the same dimensions for addition\")\n",
    "    \n",
    "    # Get the dimensions of the matrices\n",
    "    m, n = len(A), len(A[0])\n",
    "    \n",
    "    # Initialize the result operator with zeros\n",
    "    result = [[0 for _ in range(n)] for _ in range(m)]\n",
    "    \n",
    "    for i in range(m):\n",
    "        for j in range(n):\n",
    "            result[i][j] = A[i][j] + B[i][j]\n",
    "                    \n",
    "    return result\n",
    "\n",
    "\n",
    "# Define Pauli matrices\n",
    "sigma_x = [[0, 1], [1, 0]]\n",
    "sigma_y = [[0, -1j], [1j, 0]]\n",
    "sigma_z = [[1, 0], [0, -1]]\n",
    "\n",
    "# Define the Heisenberg Hamiltonian\n",
    "J = 1  # in eV\n",
    "H = scalar_multiply(J, operator_add(operator_kron(sigma_x, sigma_x), operator_add(operator_kron(sigma_y, sigma_y), operator_kron(sigma_z, sigma_z))))\n",
    "\n",
    "# Define the Bell states\n",
    "B_00 = [1/math.sqrt(2), 0, 0, 1/math.sqrt(2)]\n",
    "B_01 = [1/math.sqrt(2), 0, 0, -1/math.sqrt(2)]\n",
    "B_10 = [0, 1/math.sqrt(2), 1/math.sqrt(2), 0]\n",
    "B_11 = [0, 1/math.sqrt(2), -1/math.sqrt(2), 0]\n",
    "\n",
    "# Compute the expectation values\n",
    "E_B_00 = exp_val(H, B_00)\n",
    "E_B_01 = exp_val(H, B_01)\n",
    "E_B_10 = exp_val(H, B_10)\n",
    "E_B_11 = exp_val(H, B_11)\n",
    "\n",
    "print(\"Expectation value for B_00:\", E_B_00)\n",
    "print(\"Expectation value for B_01:\", E_B_01)\n",
    "print(\"Expectation value for B_10:\", E_B_10)\n",
    "print(\"Expectation value for B_11:\", E_B_11)"
   ]
  }
 ],
 "metadata": {
  "kernelspec": {
   "display_name": "Python 3 (ipykernel)",
   "language": "python",
   "name": "python3"
  },
  "language_info": {
   "codemirror_mode": {
    "name": "ipython",
    "version": 3
   },
   "file_extension": ".py",
   "mimetype": "text/x-python",
   "name": "python",
   "nbconvert_exporter": "python",
   "pygments_lexer": "ipython3",
   "version": "3.9.0"
  },
  "varInspector": {
   "cols": {
    "lenName": 16,
    "lenType": 16,
    "lenVar": 40
   },
   "kernels_config": {
    "python": {
     "delete_cmd_postfix": "",
     "delete_cmd_prefix": "del ",
     "library": "var_list.py",
     "varRefreshCmd": "print(var_dic_list())"
    },
    "r": {
     "delete_cmd_postfix": ") ",
     "delete_cmd_prefix": "rm(",
     "library": "var_list.r",
     "varRefreshCmd": "cat(var_dic_list()) "
    }
   },
   "types_to_exclude": [
    "module",
    "function",
    "builtin_function_or_method",
    "instance",
    "_Feature"
   ],
   "window_display": false
  }
 },
 "nbformat": 4,
 "nbformat_minor": 4
}
