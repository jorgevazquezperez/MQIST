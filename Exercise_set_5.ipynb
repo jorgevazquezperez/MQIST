{
 "cells": [
  {
   "cell_type": "markdown",
   "metadata": {
    "slideshow": {
     "slide_type": "slide"
    }
   },
   "source": [
    "\n",
    "<table width=\"100%\">\n",
    "<td style=\"font-size:45px;font-style:italic;text-align:right;background-color:rgba(0, 220, 170,0.7)\">\n",
    "Exercise set V\n",
    "</td></table>\n",
    "\n",
    "\n",
    "\n",
    "$ \\newcommand{\\bra}[1]{\\langle #1|} $\n",
    "$ \\newcommand{\\ket}[1]{|#1\\rangle} $\n",
    "$ \\newcommand{\\braket}[2]{\\langle #1|#2\\rangle} $\n",
    "$ \\newcommand{\\ketbra}[2]{\\ket{ #1}\\bra{#2}} $\n",
    "$ \\newcommand{\\i}{{\\color{blue} i}} $ \n",
    "$ \\newcommand{\\Hil}{{\\mathcal H}} $\n",
    "$ \\newcommand{\\cg}[1]{{\\rm C}#1} $\n",
    "$ \\newcommand{\\tr}{{\\rm Tr}\\,} $\n",
    "$ \\newcommand{\\boldsig}{\\boldsymbol{\\sigma}} $\n",
    "$ \\newcommand{\\bn}{\\boldsymbol{n}}$\n",
    "$ \\newcommand{\\boldn}{\\boldsymbol{n}} $\n",
    "$ \\newcommand{\\Lin}{\\hbox{Lin}} $\n",
    "$ \\newcommand{\\id}{{\\mathbb I}} $"
   ]
  },
  {
   "cell_type": "markdown",
   "metadata": {},
   "source": [
    "<div class=\"alert alert-block alert-success\">\n",
    "<b>Exercise 5.1:</b>  \n",
    "Prove that:\n",
    "    \n",
    "$a)$  for any observable $A$,  the expectation value $\\lambda_{min}\\leq \\bra{\\psi} E \\ket{\\psi}  \\leq \\lambda_{max}$ where $\\lambda_{min},\\lambda_{max}$ are the smallest and largest eigenvalues of $E$, and $\\ket{\\psi}$ is any state.\n",
    "\n",
    "$b)$  for any member  of a POVM, $\\{ E_m\\}\\, ,  m=1,...,r $\n",
    "\n",
    "-  the eigenvalues of $E_m $ are $\\lambda_i \\in [0,1]$.\n",
    "\n",
    "- the following implications are valid for $\\mu = 1, 0$\n",
    "$$\n",
    "\\bra{\\psi}E_m\\ket{\\psi} = \\mu ~~~\\Leftrightarrow ~~~E_m\\ket{\\psi} = \\mu\\ket{\\psi}\n",
    "$$\n",
    "\n",
    "</div>"
   ]
  },
  {
   "cell_type": "markdown",
   "metadata": {},
   "source": [
    "<div class=\"alert alert-block alert-success\">\n",
    "<b>Exercise 5.2:</b> \n",
    "\n",
    "Suppose that Alice sends with equal  probability  $1/2$ the states $ \\ket{a_\\perp} = \\ket{1} ,  \\ket{b_\\perp} =  \\frac{\\sqrt{3}}{2}\\ket{0} + \\frac{1}{2}\\ket{1}\\}$. Write the density operator that Bob uses to describe the statistical mixture. \n",
    "\n",
    "Bob tries to identify correctly which state was actually sent first by using the projective measurement $Z = P_0 + P_1$.\n",
    "Show that only $P_0$ discriminates and that this only occurs with probability 3/8 hence the identification rate is  $37.5\\%$.\n",
    "\n",
    "Then Bob tries to use the triangular POVM with  directions $\\{(\\theta_a = 0,\\phi_a = 0)$, $(\\theta_b = 4\\pi/3,\\phi_b = 0)\\}$ and $(\\theta_c = 8\\pi/3,\\phi_c = 0)$.  Find the associated Bloch vectors \n",
    "$\\{\\ket{i} = \\ket{\\hat\\boldn_i}\\} , ~i=a,b,c$ and build the POVM $\\{ E_i = \\frac{2}{3}\\ket{i}\\bra{i}\\}$.\n",
    "Show that now Bob can discriminate $\\ket{a_\\perp}$ from $\\ket{b_\\perp}$ with up to $50\\%$ certainty.\n",
    "     \n",
    "    \n",
    "    \n",
    "</div>"
   ]
  },
  {
   "cell_type": "markdown",
   "metadata": {},
   "source": [
    "<div class=\"alert alert-block alert-success\">\n",
    "<b>Ejercicio 5.3:</b> \n",
    "<br> \n",
    "\n",
    "Trabaja numéricamente en $\\Hil$ de dimensión $4$.\n",
    "    \n",
    "- de forma aleatoria, define un colectivo $\\{\\ket{\\psi_a},q_a\\},\\, a = 0,...,3$. \n",
    "    \n",
    "- obtén  $S(\\rho)$   y calcula la entropía de formación. \n",
    "\n",
    "- haz una medida no-selectiva proyectiva en la base $\\ket{i}$  computacional. Obtén el incremento de entropía. \n",
    "\n",
    "- repite, haciendo la medida en la base $\\ket{\\lambda_i}$ de autoestados de $\\rho$.   \n",
    "    \n",
    "\n",
    "</div>  "
   ]
  },
  {
   "cell_type": "code",
   "execution_count": 57,
   "metadata": {},
   "outputs": [
    {
     "name": "stdout",
     "output_type": "stream",
     "text": [
      "· The random set is:\n",
      "([(-0.5587199874483727+0.4828722564239682j), (0.22649714326155151-0.6351105444692853j)], 0.49394813889951356)\n",
      "([(-0.36819586230183415-0.4259482535724607j), (0.40712004378721783+0.7192031439093362j)], 0.2456175278636735)\n",
      "([(0.31193702465667916-0.7162891681768789j), (0.3539771299597356-0.5141257741703693j)], 0.21887567824825924)\n",
      "([(-0.872257661907539-0.29885278099291435j), (0.04823214708530597+0.3840927577082594j)], 0.0415586549885537)\n",
      "\n",
      "· S(rho) = 0.1907 and Delta(X, rho) = 1.4799\n",
      "\n",
      "· S(rho_prime) = 0.2160 and the increment is 0.0253 >= 0\n",
      "\n",
      "· S(rho_prime) = 0.1907 and the increment is -0.0000 >= 0\n"
     ]
    }
   ],
   "source": [
    "import random\n",
    "import math\n",
    "import numpy as np\n",
    "from scipy.linalg import logm\n",
    "\n",
    "def log2M(a): # base 2 matrix logarithm\n",
    "    return logm(a)/np.log(2.0)\n",
    "\n",
    "def random_ket(d):\n",
    "    \"\"\"Generate a normalized random vector of dimension 2**d.\"\"\"\n",
    "    # Generate a random vector with complex entries\n",
    "    vector = [complex(random.gauss(0, 1), random.gauss(0, 1)) for _ in range(pow(2, d))]\n",
    "    \n",
    "    # Compute the magnitude of the vector\n",
    "    magnitude = math.sqrt(sum(abs(x)**2 for x in vector))\n",
    "    \n",
    "    # Normalize the vector\n",
    "    normalized_vector = [x / magnitude for x in vector]\n",
    "    \n",
    "    return normalized_vector\n",
    "\n",
    "def ket_bra(u, v):\n",
    "    \"\"\"Compute the outer product of two statevectors u and v.\"\"\"\n",
    "    return [[u_i * complex(v_j.real, -v_j.imag) for v_j in v] for u_i in u]\n",
    "\n",
    "# Create the random custom_set\n",
    "custom_set = []\n",
    "acc_prob = 0\n",
    "for _ in range(4):\n",
    "    new_psi = random_ket(1)\n",
    "    new_prob = random.uniform(0, 1)\n",
    "    acc_prob += new_prob\n",
    "    custom_set.append((new_psi, new_prob))\n",
    "\n",
    "print(\"· The random set is:\")\n",
    "for i, pair in enumerate(custom_set):\n",
    "    custom_set[i] = (pair[0], pair[1]/acc_prob)\n",
    "    print(custom_set[i])\n",
    "\n",
    "# Create the density matrix\n",
    "for ket, prob in custom_set:\n",
    "    rho = prob * np.matrix(ket_bra(ket, ket))\n",
    "\n",
    "S = - np.trace(rho * log2M(rho)).real\n",
    "H = - np.sum([prob * np.log2(prob) for _, prob in custom_set])\n",
    "ent_for = H - S\n",
    "\n",
    "print(\"\\n· S(rho) = {:.4f} and Delta(X, rho) = {:.4f}\".format(S, ent_for))\n",
    "\n",
    "# Non-selective measurement and increment of S_prime\n",
    "ket0 = [1, 0]\n",
    "ket1 = [0, 1]\n",
    "P0 = np.matrix(ket_bra(ket0, ket0))\n",
    "P1 = np.matrix(ket_bra(ket1, ket1))\n",
    "\n",
    "rho_prime = P0 * rho * P0 + P1 * rho * P1\n",
    "S_prime = - np.trace(rho_prime * log2M(rho_prime)).real\n",
    "\n",
    "print(\"\\n· S(rho_prime) = {:.4f} and the increment is {:.4f} >= 0\".format(S_prime, S_prime - S))\n",
    "\n",
    "# Same with rho eigenvectors\n",
    "_, v = np.linalg.eig(rho)\n",
    "v1 = np.array(v)[:,0]\n",
    "v2 = np.array(v)[:,1]\n",
    "\n",
    "Pv1 = np.matrix(ket_bra(v1, v1))\n",
    "Pv2 = np.matrix(ket_bra(v2, v2))\n",
    "\n",
    "rho_prime = Pv1 * rho * Pv1 + Pv2 * rho * Pv2\n",
    "S_prime = - np.trace(rho_prime * log2M(rho_prime)).real\n",
    "\n",
    "print(\"\\n· S(rho_prime) = {:.4f} and the increment is {:.4f} >= 0\".format(S_prime, S_prime - S))"
   ]
  },
  {
   "cell_type": "markdown",
   "metadata": {},
   "source": [
    "<div class=\"alert alert-block alert-success\">\n",
    "<b>Exercise 5.4:</b> \n",
    "\n",
    "Sean las dos matrices densidad $\\rho_i = \\frac{1}{2}(I + \\frac{1}{2} \\sigma_i)$   con $i = 2,3$.\n",
    "Para la mezcla $\\rho(\\lambda) = \\lambda \\rho_2 + (1-\\lambda)\\rho_3$, grafica  la información de Holevo y verifica las desigualdades que satisface. Encuentra el punto en que se saturan, si lo hacen.\n",
    "    \n",
    "</div>"
   ]
  },
  {
   "cell_type": "code",
   "execution_count": 68,
   "metadata": {},
   "outputs": [
    {
     "data": {
      "image/png": "[encoded data removed]",
      "text/plain": [
       "<Figure size 640x480 with 1 Axes>"
      ]
     },
     "metadata": {},
     "output_type": "display_data"
    }
   ],
   "source": [
    "import numpy as np\n",
    "from matplotlib import pyplot as plt\n",
    "\n",
    "I = np.matrix([[1, 0],[0, 1]])\n",
    "Y = np.matrix([[0, -1j],[1j, 0]])\n",
    "Z = np.matrix([[1, 0],[0, -1]])\n",
    "\n",
    "rho2 = 0.5 * (I + 0.5 * Y)\n",
    "rho3 = 0.5 * (I + 0.5 * Z)\n",
    "\n",
    "# Define lambda values\n",
    "lambdas = np.linspace(0, 1, 100)\n",
    "\n",
    "# Calculate Holevo info\n",
    "holevo_info = []\n",
    "inequality_values = []\n",
    "\n",
    "for lam in lambdas:\n",
    "    rho = lam * rho2 + (1 - lam) * rho3\n",
    "    S_rho2 = - np.trace(rho2 * log2M(rho2)).real\n",
    "    S_rho3 = - np.trace(rho3 * log2M(rho3)).real\n",
    "    S_rho = - np.trace(rho * log2M(rho)).real\n",
    "    J = S_rho - (lam * S_rho2 + (1 - lam) * S_rho3)\n",
    "\n",
    "    if lam == 0 or lam == 1:\n",
    "        inequality_value = 0\n",
    "    else:\n",
    "        inequality_value = - lam * np.log2(lam) - (1 - lam) * np.log2(1 - lam)\n",
    "    holevo_info.append(J)\n",
    "    inequality_values.append(inequality_value)\n",
    "\n",
    "# Plot all the data\n",
    "plt.plot(lambdas, holevo_info, label='Holevo info')\n",
    "plt.plot(lambdas, inequality_values, label='Shanon entropy')\n",
    "plt.xlabel('lambda value')\n",
    "plt.ylabel('Value')\n",
    "plt.title('Holevo info')\n",
    "plt.axvline(x=0, color='r', linestyle='--', label=f'Saturation Point lambda=0')\n",
    "plt.axvline(x=1, color='g', linestyle='--', label=f'Saturation Point lambda=1')\n",
    "plt.legend()\n",
    "plt.grid(True)\n",
    "plt.show()"
   ]
  },
  {
   "cell_type": "markdown",
   "metadata": {},
   "source": []
  }
 ],
 "metadata": {
  "kernelspec": {
   "display_name": "Python 3 (ipykernel)",
   "language": "python",
   "name": "python3"
  },
  "language_info": {
   "codemirror_mode": {
    "name": "ipython",
    "version": 3
   },
   "file_extension": ".py",
   "mimetype": "text/x-python",
   "name": "python",
   "nbconvert_exporter": "python",
   "pygments_lexer": "ipython3",
   "version": "3.9.0"
  },
  "varInspector": {
   "cols": {
    "lenName": 16,
    "lenType": 16,
    "lenVar": 40
   },
   "kernels_config": {
    "python": {
     "delete_cmd_postfix": "",
     "delete_cmd_prefix": "del ",
     "library": "var_list.py",
     "varRefreshCmd": "print(var_dic_list())"
    },
    "r": {
     "delete_cmd_postfix": ") ",
     "delete_cmd_prefix": "rm(",
     "library": "var_list.r",
     "varRefreshCmd": "cat(var_dic_list()) "
    }
   },
   "types_to_exclude": [
    "module",
    "function",
    "builtin_function_or_method",
    "instance",
    "_Feature"
   ],
   "window_display": false
  }
 },
 "nbformat": 4,
 "nbformat_minor": 4
}
