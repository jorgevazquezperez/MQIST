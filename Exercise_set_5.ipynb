{
 "cells": [
  {
   "cell_type": "markdown",
   "metadata": {
    "slideshow": {
     "slide_type": "slide"
    }
   },
   "source": [
    "\n",
    "<table width=\"100%\">\n",
    "<td style=\"font-size:45px;font-style:italic;text-align:right;background-color:rgba(0, 220, 170,0.7)\">\n",
    "Exercise set V\n",
    "</td></table>\n",
    "\n",
    "\n",
    "\n",
    "$ \\newcommand{\\bra}[1]{\\langle #1|} $\n",
    "$ \\newcommand{\\ket}[1]{|#1\\rangle} $\n",
    "$ \\newcommand{\\braket}[2]{\\langle #1|#2\\rangle} $\n",
    "$ \\newcommand{\\ketbra}[2]{\\ket{ #1}\\bra{#2}} $\n",
    "$ \\newcommand{\\i}{{\\color{blue} i}} $ \n",
    "$ \\newcommand{\\Hil}{{\\mathcal H}} $\n",
    "$ \\newcommand{\\cg}[1]{{\\rm C}#1} $\n",
    "$ \\newcommand{\\tr}{{\\rm Tr}\\,} $\n",
    "$ \\newcommand{\\boldsig}{\\boldsymbol{\\sigma}} $\n",
    "$ \\newcommand{\\bn}{\\boldsymbol{n}}$\n",
    "$ \\newcommand{\\boldn}{\\boldsymbol{n}} $\n",
    "$ \\newcommand{\\Lin}{\\hbox{Lin}} $\n",
    "$ \\newcommand{\\id}{{\\mathbb I}} $"
   ]
  },
  {
   "cell_type": "markdown",
   "metadata": {},
   "source": [
    "<div class=\"alert alert-block alert-success\">\n",
    "<b>Exercise 5.1:</b>  \n",
    "Prove that:\n",
    "    \n",
    "$a)$  for any observable $A$,  the expectation value $\\lambda_{min}\\leq \\bra{\\psi} E \\ket{\\psi}  \\leq \\lambda_{max}$ where $\\lambda_{min},\\lambda_{max}$ are the smallest and largest eigenvalues of $E$, and $\\ket{\\psi}$ is any state.\n",
    "\n",
    "$b)$  for any member  of a POVM, $\\{ E_m\\}\\, ,  m=1,...,r $\n",
    "\n",
    "-  the eigenvalues of $E_m $ are $\\lambda_i \\in [0,1]$.\n",
    "\n",
    "- the following implications are valid for $\\mu = 1, 0$\n",
    "$$\n",
    "\\bra{\\psi}E_m\\ket{\\psi} = \\mu ~~~\\Leftrightarrow ~~~E_m\\ket{\\psi} = \\mu\\ket{\\psi}\n",
    "$$\n",
    "\n",
    "</div>"
   ]
  },
  {
   "cell_type": "markdown",
   "metadata": {},
   "source": [
    "<div class=\"alert alert-block alert-success\">\n",
    "<b>Exercise 5.2:</b> \n",
    "\n",
    "Suppose that Alice sends with equal  probability  $1/2$ the states $ \\ket{a_\\perp} = \\ket{1} ,  \\ket{b_\\perp} =  \\frac{\\sqrt{3}}{2}\\ket{0} + \\frac{1}{2}\\ket{1}\\}$. Write the density operator that Bob uses to describe the statistical mixture. \n",
    "\n",
    "Bob tries to identify correctly which state was actually sent first by using the projective measurement $Z = P_0 + P_1$.\n",
    "Show that only $P_0$ discriminates and that this only occurs with probability 3/8 hence the identification rate is  $37.5\\%$.\n",
    "\n",
    "Then Bob tries to use the triangular POVM with  directions $\\{(\\theta_a = 0,\\phi_a = 0)$, $(\\theta_b = 4\\pi/3,\\phi_b = 0)\\}$ and $(\\theta_c = 8\\pi/3,\\phi_c = 0)$.  Find the associated Bloch vectors \n",
    "$\\{\\ket{i} = \\ket{\\hat\\boldn_i}\\} , ~i=a,b,c$ and build the POVM $\\{ E_i = \\frac{2}{3}\\ket{i}\\bra{i}\\}$.\n",
    "Show that now Bob can discriminate $\\ket{a_\\perp}$ from $\\ket{b_\\perp}$ with up to $50\\%$ certainty.\n",
    "     \n",
    "    \n",
    "    \n",
    "</div>"
   ]
  },
  {
   "cell_type": "markdown",
   "metadata": {},
   "source": [
    "<div class=\"alert alert-block alert-success\">\n",
    "<b>Ejercicio 5.3:</b> \n",
    "<br> \n",
    "\n",
    "Trabaja numéricamente en $\\Hil$ de dimensión $4$.\n",
    "    \n",
    "- de forma aleatoria, define un colectivo $\\{\\ket{\\psi_a},q_a\\},\\, a = 0,...,3$. \n",
    "    \n",
    "- obtén  $S(\\rho)$   y calcula la entropía de formación. \n",
    "\n",
    "- haz una medida no-selectiva proyectiva en la base $\\ket{i}$  computacional. Obtén el incremento de entropía. \n",
    "\n",
    "- repite, haciendo la medida en la base $\\ket{\\lambda_i}$ de autoestados de $\\rho$.   \n",
    "    \n",
    "\n",
    "</div>  "
   ]
  },
  {
   "cell_type": "code",
   "execution_count": null,
   "metadata": {},
   "outputs": [],
   "source": [
    "import random\n",
    "import math\n",
    "\n",
    "def random_ket(d):\n",
    "    \"\"\"Generate a normalized random vector of dimension 2**d.\"\"\"\n",
    "    # Generate a random vector with complex entries\n",
    "    vector = [complex(random.gauss(0, 1), random.gauss(0, 1)) for _ in range(pow(2, d))]\n",
    "    \n",
    "    # Compute the magnitude of the vector\n",
    "    magnitude = math.sqrt(sum(abs(x)**2 for x in vector))\n",
    "    \n",
    "    # Normalize the vector\n",
    "    normalized_vector = [x / magnitude for x in vector]\n",
    "    \n",
    "    return normalized_vector\n",
    "\n",
    "set = []\n",
    "\n",
    "for _ in range(4):\n",
    "    print(random_ket(1))"
   ]
  },
  {
   "cell_type": "markdown",
   "metadata": {},
   "source": [
    "<div class=\"alert alert-block alert-success\">\n",
    "<b>Exercise 5.4:</b> \n",
    "\n",
    "Sean las dos matrices densidad $\\rho_i = \\frac{1}{2}(I + \\frac{1}{2} \\sigma_i)$   con $i = 2,3$.\n",
    "Para la mezcla $\\rho(\\lambda) = \\lambda \\rho_2 + (1-\\lambda)\\rho_3$, grafica  la información de Holevo y verifica las desigualdades que satisface. Encuentra el punto en que se saturan, si lo hacen.\n",
    "    \n",
    "</div>"
   ]
  }
 ],
 "metadata": {
  "kernelspec": {
   "display_name": "Python 3 (ipykernel)",
   "language": "python",
   "name": "python3"
  },
  "language_info": {
   "codemirror_mode": {
    "name": "ipython",
    "version": 3
   },
   "file_extension": ".py",
   "mimetype": "text/x-python",
   "name": "python",
   "nbconvert_exporter": "python",
   "pygments_lexer": "ipython3",
   "version": "3.9.0"
  },
  "varInspector": {
   "cols": {
    "lenName": 16,
    "lenType": 16,
    "lenVar": 40
   },
   "kernels_config": {
    "python": {
     "delete_cmd_postfix": "",
     "delete_cmd_prefix": "del ",
     "library": "var_list.py",
     "varRefreshCmd": "print(var_dic_list())"
    },
    "r": {
     "delete_cmd_postfix": ") ",
     "delete_cmd_prefix": "rm(",
     "library": "var_list.r",
     "varRefreshCmd": "cat(var_dic_list()) "
    }
   },
   "types_to_exclude": [
    "module",
    "function",
    "builtin_function_or_method",
    "instance",
    "_Feature"
   ],
   "window_display": false
  }
 },
 "nbformat": 4,
 "nbformat_minor": 4
}
