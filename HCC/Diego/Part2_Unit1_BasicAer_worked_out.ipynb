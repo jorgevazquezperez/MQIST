{
 "cells": [
  {
   "cell_type": "markdown",
   "id": "32f99662-cea4-4208-b0d1-1da9971f7381",
   "metadata": {},
   "source": [
    "<center>\n",
    "\n",
    "# __Introduction to Qiskit simulators__\n",
    "\n",
    "November 14, 2023\n",
    "\n",
    "<br>\n",
    "\n",
    "__Herramientas de la Computación Cuántica__\n",
    "\n",
    "__Máster en Ciencia y Tecnologías de Información Cuántica (MQIST)__\n",
    "\n",
    "<br>\n",
    "\n",
    "Diego Alvarez-Estevez, PhD.\n",
    "\n",
    "_Centro de Investigación en Tecnologías de la Información y las Comunicaciones (CITIC)_\n",
    "\n",
    "_Universidade da Coruña_\n",
    "\n",
    "</center>"
   ]
  },
  {
   "cell_type": "markdown",
   "id": "cc9b9995-724f-4a42-86ff-8ddcf28b8d5f",
   "metadata": {},
   "source": [
    "# 1. Introduction\n",
    "\n",
    "Qiskit supports running quantum circuits on a wide variety of quantum simulators and (real) devices\n",
    "\n",
    "These simulators or devices can be run either locally or remotely (e.g. IBM Quantum platform)\n",
    "\n",
    "Access to these resources is mediated through the use of different **\"providers\"**\n",
    "\n",
    "Examples of providers:\n",
    "\n",
    "-**BasicAer**: provides access to basic local simulators. These simulators are implemented in Python and therefore ideal only for learning purposes and not for high-performance use cases.\n",
    "\n",
    "-**Aer**: provides access to high-performance local simulators. These simulators are implemented in C++ and are made available in the Aer module in Qiskit. It includes capabilities for realistic noise models simulations.\n",
    "\n",
    "-**IBM Provider**: provides access to remote systems (real hardware) and simulators hosted at the <a href=https://www.ibm.com/quantum>IBM Quantum platform</a>.\n",
    "\n",
    "-**IBM Runtime Provider**: provides managed services with native support to Qiskit Primitives. It allows users to use optimized workloads and efficiently execute them on quantum systems at scale.\n",
    "\n",
    "-**Third party**: including a variety of non-IBM quantum hardware providers and other related quantum cloud services. In fact, one could eventually implement its own Qiskit-compatible provider by extending the <a href=https://qiskit.org/documentation/apidoc/providers.html>Providers Interface</a>.\n",
    "\n",
    "For a complete overview check https://qiskit.org/providers\n",
    "\n",
    "Regarless of the specific provider, <u>the involved steps</u> for running a quantum circuit are:\n",
    "\n",
    "1. Identify the appropriate provider (e.g. BasicAer, Aer, or a quantum device provider). A provider's purpose is to get \"backend\" objects that enable executing circuits on a quantum simulator or device\n",
    "\n",
    "2. Obtain a reference to the desired backend from the provider. A backend provides the interface between Qiskit and the hardware or simulator that will execute the implemented quantum circuits. Each provider might grant access to several specific types of backends. \n",
    "\n",
    "3. Using the chosen backend, run the circuit on the corresponding simulator or device. This returns an object that represents the job in which the circuit is being run.\n",
    "\n",
    "4. Interact with the job object for purposes such as checking status, and getting its result after running completion"
   ]
  },
  {
   "cell_type": "code",
   "execution_count": 1,
   "id": "51fd875c-1907-4633-8ffd-4146ff0b7bcb",
   "metadata": {},
   "outputs": [
    {
     "name": "stdout",
     "output_type": "stream",
     "text": [
      "/home/jvazquez/miniconda3/envs/basic-quantum/bin/python\n"
     ]
    },
    {
     "data": {
      "text/html": [
       "<h3>Version Information</h3><table><tr><th>Software</th><th>Version</th></tr><tr><td><code>qiskit</code></td><td>0.45.0</td></tr><tr><th colspan='2'>System information</th></tr><tr><td>Python version</td><td>3.9.0</td></tr><tr><td>Python compiler</td><td>GCC 7.3.0</td></tr><tr><td>Python build</td><td>default, Nov 15 2020 14:28:56</td></tr><tr><td>OS</td><td>Linux</td></tr><tr><td>CPUs</td><td>4</td></tr><tr><td>Memory (Gb)</td><td>12.432914733886719</td></tr><tr><td colspan='2'>Sun Dec 10 00:25:07 2023 CET</td></tr></table>"
      ],
      "text/plain": [
       "<IPython.core.display.HTML object>"
      ]
     },
     "metadata": {},
     "output_type": "display_data"
    }
   ],
   "source": [
    "import qiskit.tools.jupyter\n",
    "\n",
    "import sys\n",
    "print(sys.executable)\n",
    "\n",
    "%qiskit_version_table"
   ]
  },
  {
   "cell_type": "markdown",
   "id": "4e239440-a09f-4fb0-9ec7-c2f0383b9870",
   "metadata": {},
   "source": [
    "# 2. BasicAer"
   ]
  },
  {
   "cell_type": "code",
   "execution_count": 2,
   "id": "5a8f0c5b-3573-494f-a449-8acd6b1f5a21",
   "metadata": {},
   "outputs": [
    {
     "name": "stdout",
     "output_type": "stream",
     "text": [
      "[<QasmSimulatorPy('qasm_simulator')>, <StatevectorSimulatorPy('statevector_simulator')>, <UnitarySimulatorPy('unitary_simulator')>]\n"
     ]
    }
   ],
   "source": [
    "from qiskit import BasicAer\n",
    "\n",
    "print(BasicAer.backends())"
   ]
  },
  {
   "cell_type": "markdown",
   "id": "1c1a8983-6004-45ed-b6f9-631f2d512cc7",
   "metadata": {},
   "source": [
    "A reference to the desired backend may be obtained by calling the provider's ```get_backend()``` method as shown in the following subsection."
   ]
  },
  {
   "cell_type": "markdown",
   "id": "83afdc95-b3d6-467f-822d-be4d5af8f911",
   "metadata": {},
   "source": [
    "## 2.1. Using the BasicAer qasm_simulator backend\n",
    "\n",
    "Its main purpose is to run a circuit <u>and hold its measurement outcomes</u>"
   ]
  },
  {
   "cell_type": "code",
   "execution_count": 3,
   "id": "4c1ea66c-1be3-40fd-8380-090d80446516",
   "metadata": {
    "tags": []
   },
   "outputs": [
    {
     "name": "stderr",
     "output_type": "stream",
     "text": [
      "/home/jvazquez/miniconda3/envs/basic-quantum/lib/python3.9/site-packages/qiskit/visualization/circuit/matplotlib.py:266: FutureWarning: The default matplotlib drawer scheme will be changed to \"iqp\" in a following release. To silence this warning, specify the current default explicitly as style=\"clifford\", or the new default as style=\"iqp\".\n",
      "  self._style, def_font_ratio = load_style(self._style)\n"
     ]
    },
    {
     "data": {
      "image/png": "[encoded data removed]",
      "text/plain": [
       "<Figure size 580.387x284.278 with 1 Axes>"
      ]
     },
     "execution_count": 3,
     "metadata": {},
     "output_type": "execute_result"
    }
   ],
   "source": [
    "from qiskit import QuantumCircuit, BasicAer, transpile\n",
    "\n",
    "qc = QuantumCircuit(2)\n",
    "qc.h(0)\n",
    "qc.cx(0, 1)\n",
    "qc.measure_all() # 1\n",
    "qc.draw()\n",
    "qc.draw(\"mpl\") \n",
    "\n",
    "# qc.draw(\"mpl\") might get a warning with qiskit >= 0.45\n",
    "#display(qc.draw(\"mpl\", style=\"clifford\"))\n",
    "#display(qc.draw(\"mpl\", style=\"iqp\"))\n",
    "\n",
    "# Check use of \"settings.conf\" file, e.g. for default configuration options\n",
    "# https://qiskit.org/documentation/configuration.html"
   ]
  },
  {
   "cell_type": "code",
   "execution_count": 4,
   "id": "e39d0dfb-a1d8-4d9f-b534-02090e68272c",
   "metadata": {
    "tags": []
   },
   "outputs": [
    {
     "name": "stdout",
     "output_type": "stream",
     "text": [
      "Result(backend_name='qasm_simulator', backend_version='2.1.0', qobj_id='0981656d-47b5-47ab-b4e5-0f7be4943821', job_id='f7e5336a-6ebe-4ab0-894a-9f539753904e', success=True, results=[ExperimentResult(shots=1000, success=True, meas_level=2, data=ExperimentResultData(counts={'0x3': 523, '0x0': 477}), header=QobjExperimentHeader(qubit_labels=[['q', 0], ['q', 1]], n_qubits=2, qreg_sizes=[['q', 2]], clbit_labels=[['meas', 0], ['meas', 1]], memory_slots=2, creg_sizes=[['meas', 2]], name='circuit-152', global_phase=0.0, metadata={}), status=DONE, name='circuit-152', seed_simulator=311973342, time_taken=0.002648591995239258)], date=None, status=COMPLETED, header=QobjHeader(backend_name='qasm_simulator', backend_version='2.1.0'), time_taken=0.002661466598510742)\n"
     ]
    }
   ],
   "source": [
    "backend = BasicAer.get_backend(\"qasm_simulator\") # 2\n",
    "\n",
    "tqc = transpile(qc, backend) # 3\n",
    "job = backend.run(tqc, shots=1000) # 4\n",
    "\n",
    "#from qiskit import execute\n",
    "#job = execute(qc, backend, shots=1000)\n",
    "\n",
    "result = job.result() # 5\n",
    "\n",
    "print(result)\n",
    "\n",
    "counts = result.get_counts(tqc) # 6\n",
    "#counts = result.get_counts() # in this case, same thing"
   ]
  },
  {
   "cell_type": "markdown",
   "id": "c7343e69-490a-4404-aeaa-7d6c8562748e",
   "metadata": {},
   "source": [
    "<span style=\"color:red\">PRACTICE:</span>  Try to predict the result of this circuit before its execution"
   ]
  },
  {
   "cell_type": "code",
   "execution_count": 5,
   "id": "43d84d76-55df-4186-ab08-d068056f3564",
   "metadata": {},
   "outputs": [
    {
     "name": "stdout",
     "output_type": "stream",
     "text": [
      "{'11': 523, '00': 477}\n"
     ]
    }
   ],
   "source": [
    "# Uncomment when ready to check the output\n",
    "print(counts) # 7"
   ]
  },
  {
   "cell_type": "markdown",
   "id": "6e08fff0-6323-4091-aed1-361b62b1dd77",
   "metadata": {},
   "source": [
    "Let’s take a closer look at some relevant lines in the previous example:\n",
    "\n",
    "1. The BasicAer qasm_simulator backend is <u>useful for circuits that contain measurement instructions.</u> Notice we have not added any classical registers to our circuit, yet somehow they are included. <span style=\"color:red\">PRACTICE:</span> Check documentation of <a href=https://qiskit.org/documentation/stubs/qiskit.circuit.QuantumCircuit.html#qiskit.circuit.QuantumCircuit.measure_all>measure_all()</a> and experiment with the ```add_bits``` and ```inplace``` flags.\n",
    "\n",
    "<span style=\"color:green\">For example, if ```add_bits``` set to ```False``` I will get an execution error, because I have not explicitly added classical bits. I could solve it by setting ```QuantumCircuit(2,2)```. Also with ```in_place``` to ```False``` the circuit will draw without classical bits, but I could save the return of the measurement line (e.g. as ```qc2```) and plot it then, to show that this contains the added classical register</span>"
   ]
  },
  {
   "cell_type": "markdown",
   "id": "e78acbb6-fb28-4468-a66c-4675012954bf",
   "metadata": {},
   "source": [
    "2. A reference to the qasm_simulator backend (implemented by the <a href=\"https://qiskit.org/documentation/stubs/qiskit.providers.basicaer.QasmSimulatorPy.html\">QasmSimulatorPy class</a>) is obtained."
   ]
  },
  {
   "cell_type": "code",
   "execution_count": 6,
   "id": "aeb0d2ab-7263-482b-be67-f7c8da94f83e",
   "metadata": {},
   "outputs": [
    {
     "data": {
      "text/plain": [
       "qiskit.providers.basicaer.qasm_simulator.QasmSimulatorPy"
      ]
     },
     "execution_count": 6,
     "metadata": {},
     "output_type": "execute_result"
    }
   ],
   "source": [
    "type(backend)"
   ]
  },
  {
   "cell_type": "markdown",
   "id": "55718624-ba7f-44f1-adb2-336b27252b51",
   "metadata": {},
   "source": [
    "3. The circuit is transpiled with the ```transpile()``` function to use only gates available on the BasicAer qasm_simulator. <span style=\"color:red\">CHECKPOINT:</span> _what is the point of transpiling a simulator?_"
   ]
  },
  {
   "cell_type": "code",
   "execution_count": 7,
   "id": "e87c8104-a62e-4ae9-a036-e8d38634604d",
   "metadata": {},
   "outputs": [
    {
     "data": {
      "text/html": [
       "<pre style=\"word-wrap: normal;white-space: pre;background: #fff0;line-height: 1.1;font-family: &quot;Courier New&quot;,Courier,monospace\">        ┌───┐      ░ ┌─┐   \n",
       "   q_0: ┤ H ├──■───░─┤M├───\n",
       "        └───┘┌─┴─┐ ░ └╥┘┌─┐\n",
       "   q_1: ─────┤ X ├─░──╫─┤M├\n",
       "             └───┘ ░  ║ └╥┘\n",
       "meas: 2/══════════════╩══╩═\n",
       "                      0  1 </pre>"
      ],
      "text/plain": [
       "        ┌───┐      ░ ┌─┐   \n",
       "   q_0: ┤ H ├──■───░─┤M├───\n",
       "        └───┘┌─┴─┐ ░ └╥┘┌─┐\n",
       "   q_1: ─────┤ X ├─░──╫─┤M├\n",
       "             └───┘ ░  ║ └╥┘\n",
       "meas: 2/══════════════╩══╩═\n",
       "                      0  1 "
      ]
     },
     "metadata": {},
     "output_type": "display_data"
    },
    {
     "data": {
      "text/html": [
       "<pre style=\"word-wrap: normal;white-space: pre;background: #fff0;line-height: 1.1;font-family: &quot;Courier New&quot;,Courier,monospace\">        ┌───┐      ░ ┌─┐   \n",
       "   q_0: ┤ H ├──■───░─┤M├───\n",
       "        └───┘┌─┴─┐ ░ └╥┘┌─┐\n",
       "   q_1: ─────┤ X ├─░──╫─┤M├\n",
       "             └───┘ ░  ║ └╥┘\n",
       "meas: 2/══════════════╩══╩═\n",
       "                      0  1 </pre>"
      ],
      "text/plain": [
       "        ┌───┐      ░ ┌─┐   \n",
       "   q_0: ┤ H ├──■───░─┤M├───\n",
       "        └───┘┌─┴─┐ ░ └╥┘┌─┐\n",
       "   q_1: ─────┤ X ├─░──╫─┤M├\n",
       "             └───┘ ░  ║ └╥┘\n",
       "meas: 2/══════════════╩══╩═\n",
       "                      0  1 "
      ]
     },
     "metadata": {},
     "output_type": "display_data"
    }
   ],
   "source": [
    "# You might try the following\n",
    "backend = BasicAer.get_backend(\"qasm_simulator\")\n",
    "\n",
    "tqc = transpile(qc, backend) \n",
    "#job = backend.run(tqc, shots=1000)\n",
    "job = backend.run(qc, shots=1000) # Try to run without transpilation\n",
    "# You will get an error with BasicAer for qiskit < 0.45, because Hadamard gate not included in the set of basis gates\n",
    "\n",
    "# Check differences between original and transpiled circuits\n",
    "display(qc.draw())\n",
    "display(tqc.draw())"
   ]
  },
  {
   "cell_type": "markdown",
   "id": "ee98a58c-5375-4daa-80ff-65256ba3979f",
   "metadata": {},
   "source": [
    "4. The transpiled circuit and number of shots to perform is passed to the ```run()``` method of the BasicAer qasm_simulator backend. The ```run()``` method returns a <a href=https://qiskit.org/documentation/stubs/qiskit.providers.basicaer.BasicAerJob.html#qiskit.providers.basicaer.BasicAerJob>BasicAerJob</a> instance. <span style=\"color:red\">CHECKPOINT:</span> _[execute()](https://qiskit.org/documentation/apidoc/execute.html) vs [run()](https://qiskit.org/documentation/stubs/qiskit.providers.BackendV1.html#qiskit.providers.BackendV1.run)_"
   ]
  },
  {
   "cell_type": "code",
   "execution_count": 8,
   "id": "c8097e6d-3abe-4f99-949b-5fe43e2e1f8a",
   "metadata": {},
   "outputs": [
    {
     "data": {
      "text/plain": [
       "qiskit.providers.basicaer.basicaerjob.BasicAerJob"
      ]
     },
     "execution_count": 8,
     "metadata": {},
     "output_type": "execute_result"
    }
   ],
   "source": [
    "type(job)"
   ]
  },
  {
   "cell_type": "markdown",
   "id": "afabca7a-1770-43f9-b004-5273e239c421",
   "metadata": {
    "tags": []
   },
   "source": [
    "5. The result of running the circuit (held in a <a href=https://qiskit.org/documentation/stubs/qiskit.result.Result.html#qiskit.result.Result>qiskit.Result</a> instance) is obtained with the ```result()``` method of the BasicAerJob\n",
    "instance."
   ]
  },
  {
   "cell_type": "code",
   "execution_count": 9,
   "id": "950ae311-a6c9-49a0-91c6-bf1ca47ac9f3",
   "metadata": {},
   "outputs": [
    {
     "data": {
      "text/plain": [
       "qiskit.result.result.Result"
      ]
     },
     "execution_count": 9,
     "metadata": {},
     "output_type": "execute_result"
    }
   ],
   "source": [
    "type(result)"
   ]
  },
  {
   "cell_type": "markdown",
   "id": "0518d15b-6a81-4f66-95a9-c8d23157e418",
   "metadata": {},
   "source": [
    "6. A Python dictionary containing the measurement outcomes per basis state is obtained with the ```get_counts()``` method of the Result instance.\n",
    "\n",
    "7. The measurement outcomes are printed in the output"
   ]
  },
  {
   "cell_type": "markdown",
   "id": "85d8501b-9414-4e36-8b63-eda38ea9051b",
   "metadata": {},
   "source": [
    "## 2.2. Using the BasicAer statevector_simulator backend\n",
    "\n",
    "Its main purpose is to run a circuit <u>and hold its resultant statevector</u>"
   ]
  },
  {
   "cell_type": "code",
   "execution_count": 10,
   "id": "d800713f-a70f-4837-b1f0-e8bcccc1b743",
   "metadata": {
    "tags": []
   },
   "outputs": [
    {
     "data": {
      "image/png": "[encoded data removed]",
      "text/plain": [
       "<Figure size 287.294x200.667 with 1 Axes>"
      ]
     },
     "execution_count": 10,
     "metadata": {},
     "output_type": "execute_result"
    }
   ],
   "source": [
    "from qiskit import QuantumCircuit, BasicAer, transpile\n",
    "\n",
    "qc = QuantumCircuit(2)\n",
    "qc.h(0)\n",
    "qc.cx(0, 1)\n",
    "\n",
    "qc.draw(\"mpl\") # 1"
   ]
  },
  {
   "cell_type": "code",
   "execution_count": 11,
   "id": "183c66d8-05c0-45c8-a8e5-d724239fdd92",
   "metadata": {
    "tags": []
   },
   "outputs": [],
   "source": [
    "backend = BasicAer.get_backend(\"statevector_simulator\") # 2\n",
    "\n",
    "# Execute the circuit\n",
    "tqc = transpile(qc, backend)\n",
    "job = backend.run(tqc) # 1\n",
    "\n",
    "result = job.result() # 3\n",
    "statevector = result.get_statevector(tqc) # 4"
   ]
  },
  {
   "cell_type": "code",
   "execution_count": 12,
   "id": "ce76af5a-8376-4c06-a523-7c4089716214",
   "metadata": {
    "tags": []
   },
   "outputs": [
    {
     "name": "stdout",
     "output_type": "stream",
     "text": [
      "[0.70710678+0.j 0.        +0.j 0.        +0.j 0.70710678+0.j]\n"
     ]
    }
   ],
   "source": [
    "# We expect to get the statevector corresponding to the analytic solution obtained in previous exercise\n",
    "# Notice statevector follows the following ordering: |00>, |01>, |10>, |11>\n",
    "print(statevector) "
   ]
  },
  {
   "cell_type": "code",
   "execution_count": 13,
   "id": "1f5cf8ac-ae37-43e5-9d58-8c355cbb8823",
   "metadata": {
    "tags": []
   },
   "outputs": [
    {
     "data": {
      "text/latex": [
       "$$\n",
       "\n",
       "\\begin{bmatrix}\n",
       "\\frac{\\sqrt{2}}{2} & 0 & 0 & \\frac{\\sqrt{2}}{2}  \\\\\n",
       " \\end{bmatrix}\n",
       "$$"
      ],
      "text/plain": [
       "<IPython.core.display.Latex object>"
      ]
     },
     "execution_count": 13,
     "metadata": {},
     "output_type": "execute_result"
    }
   ],
   "source": [
    "from qiskit.visualization import array_to_latex\n",
    "array_to_latex(statevector)"
   ]
  },
  {
   "cell_type": "markdown",
   "id": "109c48e3-2a8c-4b32-b72d-3c6db6c336d1",
   "metadata": {},
   "source": [
    "Some remarks:\n",
    "\n",
    "1. Because measurement instructions collapse quantum states, the BasicAer ```statevector_simulator``` backend is <u>most useful for\n",
    "circuits without measurement instructions</u>. The ```statevector_simulator``` is \"one-shot\", meaning if there are measurements you could get a different statevector each time. <span style=\"color:red\">PRACTICE</span>: add measurements to preceding circuit and check this result\n"
   ]
  },
  {
   "cell_type": "code",
   "execution_count": 14,
   "id": "ca96e9f2-900b-4a57-9d59-1ab10143d622",
   "metadata": {
    "tags": []
   },
   "outputs": [
    {
     "name": "stdout",
     "output_type": "stream",
     "text": [
      "Result(backend_name='statevector_simulator', backend_version='1.1.0', qobj_id='0c7ecce1-71cc-4fe3-948e-f5987e7c98b0', job_id='cb1e1b0f-7dc2-4cee-b99a-7d39ced20529', success=True, results=[ExperimentResult(shots=1, success=True, meas_level=2, data=ExperimentResultData(statevector=[0.70710678+0.j 0.        +0.j 0.        +0.j 0.70710678+0.j]), header=QobjExperimentHeader(qubit_labels=[['q', 0], ['q', 1]], n_qubits=2, qreg_sizes=[['q', 2]], clbit_labels=[], memory_slots=0, creg_sizes=[], name='circuit-158', global_phase=0.0, metadata={}), status=DONE, name='circuit-158', seed_simulator=47458062, time_taken=0.0004723072052001953)], date=None, status=COMPLETED, header=QobjHeader(backend_name='statevector_simulator', backend_version='1.1.0'), time_taken=0.0004818439483642578)\n"
     ]
    },
    {
     "name": "stderr",
     "output_type": "stream",
     "text": [
      "/home/jvazquez/miniconda3/envs/basic-quantum/lib/python3.9/site-packages/qiskit/visualization/circuit/matplotlib.py:266: FutureWarning: The default matplotlib drawer scheme will be changed to \"iqp\" in a following release. To silence this warning, specify the current default explicitly as style=\"clifford\", or the new default as style=\"iqp\".\n",
      "  self._style, def_font_ratio = load_style(self._style)\n"
     ]
    },
    {
     "data": {
      "text/latex": [
       "$$\n",
       "\n",
       "\\begin{bmatrix}\n",
       "\\frac{\\sqrt{2}}{2} & 0 & 0 & \\frac{\\sqrt{2}}{2}  \\\\\n",
       " \\end{bmatrix}\n",
       "$$"
      ],
      "text/plain": [
       "<IPython.core.display.Latex object>"
      ]
     },
     "execution_count": 14,
     "metadata": {},
     "output_type": "execute_result"
    }
   ],
   "source": [
    "# Fill in here with your code\n",
    "from qiskit import QuantumCircuit, BasicAer, transpile\n",
    "\n",
    "qc = QuantumCircuit(2)\n",
    "qc.h(0)\n",
    "qc.cx(0, 1)\n",
    "#qc.measure_all()\n",
    "\n",
    "qc.draw(\"mpl\") # 1\n",
    "\n",
    "backend = BasicAer.get_backend(\"statevector_simulator\") # 2\n",
    "\n",
    "# Execute the circuit\n",
    "tqc = transpile(qc, backend)\n",
    "job = backend.run(tqc) # 1\n",
    "\n",
    "result = job.result() # 3\n",
    "\n",
    "print(result)\n",
    "\n",
    "statevector = result.get_statevector(tqc) # 4\n",
    "\n",
    "from qiskit.visualization import array_to_latex\n",
    "array_to_latex(statevector)"
   ]
  },
  {
   "cell_type": "markdown",
   "id": "d7ff3586-e8a8-46c1-83ed-bb3a673a6839",
   "metadata": {},
   "source": [
    "\n",
    "2. A reference to the ```statevector_simulator``` backend (implemented by the <a href=https://qiskit.org/documentation/stubs/qiskit.providers.basicaer.StatevectorSimulatorPy.html#qiskit.providers.basicaer.StatevectorSimulatorPy>StatevectorSimulatorPy class</a>) is obtained\n"
   ]
  },
  {
   "cell_type": "code",
   "execution_count": 15,
   "id": "8ba19592-b94d-4b22-8b0f-93def9ae04d9",
   "metadata": {
    "tags": []
   },
   "outputs": [
    {
     "data": {
      "text/plain": [
       "qiskit.providers.basicaer.statevector_simulator.StatevectorSimulatorPy"
      ]
     },
     "execution_count": 15,
     "metadata": {},
     "output_type": "execute_result"
    }
   ],
   "source": [
    "type(backend)"
   ]
  },
  {
   "cell_type": "markdown",
   "id": "4ac29dd3-0bc8-4192-abe7-2a5c7a56a4f6",
   "metadata": {},
   "source": [
    "\n",
    "3. As in previous example, the ```run()``` method gets the transpiled circuit and executes it in the ```BasicAer statevector_simulator``` backend returning a ```BasicAerJob``` instance. The result of the running circuit is obtained invoking the corresponding ```result()``` method returning a ```qiskit.Result``` object\n",
    "\n",
    "4. A list of complex probability amplitudes that express the statevector is obtained with the ```get_statevector()``` method (as a ```numpy array```)"
   ]
  },
  {
   "cell_type": "code",
   "execution_count": 16,
   "id": "6d81a7e1-2217-4a0a-ad9e-b3d9ee4b7049",
   "metadata": {
    "tags": []
   },
   "outputs": [
    {
     "data": {
      "text/plain": [
       "numpy.ndarray"
      ]
     },
     "execution_count": 16,
     "metadata": {},
     "output_type": "execute_result"
    }
   ],
   "source": [
    "type(statevector)"
   ]
  },
  {
   "cell_type": "markdown",
   "id": "9faf4086-90a5-478b-aad4-9370a123fc76",
   "metadata": {},
   "source": [
    "Another way to visualize/manipulate statevectors, without having to use ```statevector_simulator``` backend of BasicAer, is to rely on the [Statevector class](https://qiskit.org/documentation/stubs/qiskit.quantum_info.Statevector.html#qiskit.quantum_info.Statevector) included in the [Quantum Information module](https://qiskit.org/documentation/apidoc/quantum_info.html):"
   ]
  },
  {
   "cell_type": "code",
   "execution_count": 17,
   "id": "e7c4806f-f0e0-4984-be4d-fd8efbaeb729",
   "metadata": {},
   "outputs": [
    {
     "name": "stdout",
     "output_type": "stream",
     "text": [
      "Statevector([1.+0.j, 0.+0.j, 0.+0.j, 0.+0.j],\n",
      "            dims=(2, 2))\n"
     ]
    },
    {
     "data": {
      "text/latex": [
       "$$ |00\\rangle$$"
      ],
      "text/plain": [
       "<IPython.core.display.Latex object>"
      ]
     },
     "metadata": {},
     "output_type": "display_data"
    }
   ],
   "source": [
    "from qiskit.quantum_info import Statevector\n",
    "\n",
    "# Create a ket_00 state using array input\n",
    "ket_00 = Statevector([1,0,0,0])\n",
    "\n",
    "display(ket_00)\n",
    "display(ket_00.draw('latex'))"
   ]
  },
  {
   "cell_type": "code",
   "execution_count": 18,
   "id": "7404f08f-b103-475d-944b-d5d9c258456c",
   "metadata": {},
   "outputs": [
    {
     "data": {
      "text/latex": [
       "$$\\frac{\\sqrt{2}}{2} |00\\rangle+\\frac{\\sqrt{2}}{2} |11\\rangle$$"
      ],
      "text/plain": [
       "<IPython.core.display.Latex object>"
      ]
     },
     "metadata": {},
     "output_type": "display_data"
    }
   ],
   "source": [
    "# Now we \"evolve\" our state through our circuit\n",
    "output_sv = ket_00.evolve(qc)\n",
    "\n",
    "# And show the results\n",
    "display(output_sv.draw('latex'))"
   ]
  },
  {
   "cell_type": "code",
   "execution_count": 19,
   "id": "e3bd5e56-5ae5-41ad-8ef8-2755f6d833ef",
   "metadata": {},
   "outputs": [
    {
     "data": {
      "text/latex": [
       "$$\n",
       "\n",
       "\\begin{bmatrix}\n",
       "\\frac{\\sqrt{2}}{2} & 0 & 0 & \\frac{\\sqrt{2}}{2}  \\\\\n",
       " \\end{bmatrix}\n",
       "$$"
      ],
      "text/plain": [
       "<IPython.core.display.Latex object>"
      ]
     },
     "execution_count": 19,
     "metadata": {},
     "output_type": "execute_result"
    }
   ],
   "source": [
    "# Double check it is what we actually expected it to be\n",
    "from qiskit.visualization import array_to_latex\n",
    "array_to_latex(output_sv)"
   ]
  },
  {
   "cell_type": "markdown",
   "id": "5893611c-50b3-4be4-9630-e41d768c602a",
   "metadata": {},
   "source": [
    "<span style=\"color:red\">PRACTICE:</span>  Consider now the following single-qubit circuit. Try to predict the result of this circuit before its execution, then use Qiskit to check the result (use your favourite method to visualize the output statevector)"
   ]
  },
  {
   "cell_type": "code",
   "execution_count": 21,
   "id": "31524307-e6f0-4131-bc4b-7a390262c848",
   "metadata": {},
   "outputs": [
    {
     "data": {
      "image/png": "[encoded data removed]",
      "text/plain": [
       "<Figure size 269.064x117.056 with 1 Axes>"
      ]
     },
     "execution_count": 21,
     "metadata": {},
     "output_type": "execute_result"
    }
   ],
   "source": [
    "from qiskit import QuantumCircuit\n",
    "\n",
    "qc = QuantumCircuit(1)\n",
    "qc.x(0)\n",
    "qc.h(0)\n",
    "qc.draw(\"mpl\")"
   ]
  },
  {
   "cell_type": "code",
   "execution_count": 22,
   "id": "fa6d4d2e-d654-43cd-9f11-a152a28a539e",
   "metadata": {},
   "outputs": [
    {
     "data": {
      "text/latex": [
       "$$\n",
       "\n",
       "\\begin{bmatrix}\n",
       "\\frac{\\sqrt{2}}{2} & - \\frac{\\sqrt{2}}{2}  \\\\\n",
       " \\end{bmatrix}\n",
       "$$"
      ],
      "text/plain": [
       "<IPython.core.display.Latex object>"
      ]
     },
     "execution_count": 22,
     "metadata": {},
     "output_type": "execute_result"
    }
   ],
   "source": [
    "#--------------------- MY SOLUTION ---------------------#\n",
    "\n",
    "backend = BasicAer.get_backend(\"statevector_simulator\")\n",
    "\n",
    "tqc = transpile(qc, backend)\n",
    "job = backend.run(tqc)\n",
    "\n",
    "result = job.result() \n",
    "\n",
    "statevector = result.get_statevector(tqc)\n",
    "\n",
    "from qiskit.visualization import array_to_latex\n",
    "array_to_latex(statevector)"
   ]
  },
  {
   "cell_type": "markdown",
   "id": "10811904-bbf8-4cc8-a27b-6a43d3539470",
   "metadata": {},
   "source": [
    "<span style=\"color:red\">EXERCISE:</span>  Do the same, now considering the following 3-qubit circuit"
   ]
  },
  {
   "cell_type": "code",
   "execution_count": 23,
   "id": "bf2b6d87-b7ca-4145-9bb2-9ca901ea1552",
   "metadata": {},
   "outputs": [
    {
     "data": {
      "image/png": "[encoded data removed]",
      "text/plain": [
       "<Figure size 203.885x284.278 with 1 Axes>"
      ]
     },
     "execution_count": 23,
     "metadata": {},
     "output_type": "execute_result"
    }
   ],
   "source": [
    "from qiskit import QuantumCircuit\n",
    "\n",
    "qc = QuantumCircuit(3)\n",
    "qc.h([0,1,2])\n",
    "qc.draw(\"mpl\")"
   ]
  },
  {
   "cell_type": "code",
   "execution_count": 24,
   "id": "77538705-e531-4201-babb-f758a6ca3aea",
   "metadata": {},
   "outputs": [
    {
     "data": {
      "text/latex": [
       "$$\n",
       "\n",
       "\\begin{bmatrix}\n",
       "\\frac{\\sqrt{2}}{4} & \\frac{\\sqrt{2}}{4} & \\frac{\\sqrt{2}}{4} & \\frac{\\sqrt{2}}{4} & \\frac{\\sqrt{2}}{4} & \\frac{\\sqrt{2}}{4} & \\frac{\\sqrt{2}}{4} & \\frac{\\sqrt{2}}{4}  \\\\\n",
       " \\end{bmatrix}\n",
       "$$"
      ],
      "text/plain": [
       "<IPython.core.display.Latex object>"
      ]
     },
     "execution_count": 24,
     "metadata": {},
     "output_type": "execute_result"
    }
   ],
   "source": [
    "#--------------------- MY SOLUTION ---------------------#\n",
    "\n",
    "backend = BasicAer.get_backend(\"statevector_simulator\")\n",
    "\n",
    "tqc = transpile(qc, backend)\n",
    "job = backend.run(tqc)\n",
    "\n",
    "result = job.result() \n",
    "\n",
    "statevector = result.get_statevector(tqc)\n",
    "\n",
    "from qiskit.visualization import array_to_latex\n",
    "array_to_latex(statevector)"
   ]
  },
  {
   "cell_type": "markdown",
   "id": "c7a353f9-8a17-4e39-8711-309ae8c0bf86",
   "metadata": {},
   "source": [
    "## 2.3. Using the BasicAer unitary_simulator backend\n",
    "\n",
    "Its main purpose is to run a circuit <u>and hold a unitary matrix that represents the circuit</u>. That is, the unitary transformation that relates the input to the output produced by the circuit in question."
   ]
  },
  {
   "cell_type": "code",
   "execution_count": 38,
   "id": "1b38d720-edfb-45f7-a518-5d4325bc6e99",
   "metadata": {},
   "outputs": [
    {
     "data": {
      "image/png": "[encoded data removed]",
      "text/plain": [
       "<Figure size 287.294x200.667 with 1 Axes>"
      ]
     },
     "execution_count": 38,
     "metadata": {},
     "output_type": "execute_result"
    }
   ],
   "source": [
    "from qiskit import QuantumCircuit, BasicAer, transpile\n",
    "\n",
    "qc = QuantumCircuit(2)\n",
    "qc.h(0)\n",
    "qc.cx(0, 1)\n",
    "\n",
    "qc.draw(\"mpl\") # 1"
   ]
  },
  {
   "cell_type": "code",
   "execution_count": 40,
   "id": "5a8c6940-2a5e-4f7b-80b5-8c0b087c6b1b",
   "metadata": {},
   "outputs": [],
   "source": [
    "backend = BasicAer.get_backend(\"unitary_simulator\") # 2\n",
    "\n",
    "tqc = transpile(qc, backend)\n",
    "job = backend.run(tqc)\n",
    "\n",
    "result = job.result() # 3\n",
    "unitary = result.get_unitary(tqc)"
   ]
  },
  {
   "cell_type": "markdown",
   "id": "fa6c3740-fc16-4545-a7b0-cc06495d9e6f",
   "metadata": {},
   "source": [
    "<span style=\"color:red\">PRACTICE:</span>  Try to predict the result of this circuit before its execution"
   ]
  },
  {
   "cell_type": "code",
   "execution_count": 41,
   "id": "d4695d21-f2dc-4f11-8efc-1998272e4bb4",
   "metadata": {},
   "outputs": [
    {
     "name": "stdout",
     "output_type": "stream",
     "text": [
      "[[ 0.70710678+0.00000000e+00j  0.70710678-8.65956056e-17j\n",
      "   0.        +0.00000000e+00j  0.        +0.00000000e+00j]\n",
      " [ 0.        +0.00000000e+00j  0.        +0.00000000e+00j\n",
      "   0.70710678+0.00000000e+00j -0.70710678+8.65956056e-17j]\n",
      " [ 0.        +0.00000000e+00j  0.        +0.00000000e+00j\n",
      "   0.70710678+0.00000000e+00j  0.70710678-8.65956056e-17j]\n",
      " [ 0.70710678+0.00000000e+00j -0.70710678+8.65956056e-17j\n",
      "   0.        +0.00000000e+00j  0.        +0.00000000e+00j]]\n"
     ]
    }
   ],
   "source": [
    "# Uncomment when ready to check the output\n",
    "print(unitary)"
   ]
  },
  {
   "cell_type": "code",
   "execution_count": 42,
   "id": "c54f56fd-d7be-42da-95ce-0994fe6cb3a8",
   "metadata": {},
   "outputs": [
    {
     "data": {
      "text/latex": [
       "$$\n",
       "\n",
       "\\begin{bmatrix}\n",
       "\\frac{\\sqrt{2}}{2} & \\frac{\\sqrt{2}}{2} & 0 & 0  \\\\\n",
       " 0 & 0 & \\frac{\\sqrt{2}}{2} & - \\frac{\\sqrt{2}}{2}  \\\\\n",
       " 0 & 0 & \\frac{\\sqrt{2}}{2} & \\frac{\\sqrt{2}}{2}  \\\\\n",
       " \\frac{\\sqrt{2}}{2} & - \\frac{\\sqrt{2}}{2} & 0 & 0  \\\\\n",
       " \\end{bmatrix}\n",
       "$$"
      ],
      "text/plain": [
       "<IPython.core.display.Latex object>"
      ]
     },
     "execution_count": 42,
     "metadata": {},
     "output_type": "execute_result"
    }
   ],
   "source": [
    "# Improve visualization using latex format\n",
    "from qiskit.visualization import array_to_latex\n",
    "\n",
    "array_to_latex(unitary)"
   ]
  },
  {
   "cell_type": "markdown",
   "id": "bb417d2d-a94e-45bf-83d3-52ee6c871445",
   "metadata": {},
   "source": [
    "Remarks:\n",
    "\n",
    "1. The BasicAer ```unitary_simulator``` backend is <u>ONLY useful for circuits without measurement or reset instructions</u>, as they are not supported by the ```unitary_simulator```. <span style=\"color:red\">PRACTICE:</span> add measurements/resets to preceding circuit and check this statement"
   ]
  },
  {
   "cell_type": "code",
   "execution_count": null,
   "id": "2b91bfeb-a2af-43a1-b3f7-7a3440b574ff",
   "metadata": {},
   "outputs": [],
   "source": [
    "# Fill in here with your code"
   ]
  },
  {
   "cell_type": "markdown",
   "id": "2dd968ea-2011-4061-9404-0127b99208d6",
   "metadata": {},
   "source": [
    "\n",
    "\n",
    "2. A reference to the ```unitary_simulator``` backend (implemented by the <a href=https://qiskit.org/documentation/stubs/qiskit.providers.basicaer.UnitarySimulatorPy.html#qiskit.providers.basicaer.UnitarySimulatorPy>UnitarySimulatorPy class</a>) is obtained\n",
    "\n",
    "3. As in previous cases, the ```run()``` method gets the transpiled circuit and executes it in the corresponding backend returning a ```BasicAerJob``` object. The ```result()``` method is used to access the resulting ```qiskit.Result``` object\n",
    "\n",
    "4. A square matrix of complex numbers that express the circuit's unitary matrix is obtained with the ```get_unitary()``` method (as a ```numpy ndarray```)"
   ]
  },
  {
   "cell_type": "code",
   "execution_count": 43,
   "id": "a124e5a1-759e-46d4-80e4-748c9f38b2e3",
   "metadata": {},
   "outputs": [
    {
     "data": {
      "text/plain": [
       "qiskit.providers.basicaer.unitary_simulator.UnitarySimulatorPy"
      ]
     },
     "execution_count": 43,
     "metadata": {},
     "output_type": "execute_result"
    }
   ],
   "source": [
    "type(backend)"
   ]
  },
  {
   "cell_type": "code",
   "execution_count": 44,
   "id": "cfed822d-b149-4ef9-8ab3-41a2fd885d4b",
   "metadata": {},
   "outputs": [
    {
     "data": {
      "text/plain": [
       "numpy.ndarray"
      ]
     },
     "execution_count": 44,
     "metadata": {},
     "output_type": "execute_result"
    }
   ],
   "source": [
    "type(unitary)"
   ]
  },
  {
   "cell_type": "markdown",
   "id": "2dd500f1-ff7b-4e2f-b9e6-f9ad31ae4f8d",
   "metadata": {},
   "source": [
    "<span style=\"color:red\">EXERCISE:</span>  Consider now the following circuit. Obtain the analytical solution, and then use Qiskit to check the output unitary"
   ]
  },
  {
   "cell_type": "code",
   "execution_count": 35,
   "id": "e6789501-ee8e-4dcc-9258-d44d24c7db13",
   "metadata": {
    "tags": []
   },
   "outputs": [
    {
     "data": {
      "image/png": "[encoded data removed]",
      "text/plain": [
       "<Figure size 287.294x200.667 with 1 Axes>"
      ]
     },
     "execution_count": 35,
     "metadata": {},
     "output_type": "execute_result"
    }
   ],
   "source": [
    "from qiskit import QuantumCircuit\n",
    "\n",
    "qc = QuantumCircuit(2)\n",
    "qc.x([0,1])\n",
    "qc.z(0)\n",
    "qc.draw(\"mpl\")"
   ]
  },
  {
   "cell_type": "markdown",
   "id": "fe9cb10d",
   "metadata": {},
   "source": [
    "--------------------- MY SOLUTION ---------------------\n",
    "\n",
    "Analitically we have that the gates applied are:\n",
    "\n",
    "$$\n",
    "(\\mathbb{I} \\otimes Z)(X \\otimes \\mathbb{I})(\\mathbb{I} \\otimes X) = X \\otimes ZX\n",
    "$$\n",
    "\n",
    "And so:\n",
    "\n",
    "$$\n",
    "X \\otimes ZX = \n",
    "\n",
    "\\begin{pmatrix}\n",
    "0 & 1 \\\\\n",
    "1 & 0\n",
    "\\end{pmatrix} \\otimes\n",
    "\\begin{pmatrix}\n",
    "1 & 0 \\\\\n",
    "0 & -1\n",
    "\\end{pmatrix}\n",
    "\\begin{pmatrix}\n",
    "0 & 1 \\\\\n",
    "1 & 0\n",
    "\\end{pmatrix} =\n",
    "\n",
    "\\begin{pmatrix}\n",
    "0 & 1 \\\\\n",
    "1 & 0\n",
    "\\end{pmatrix} \\otimes\n",
    "\\begin{pmatrix}\n",
    "0 & 1 \\\\\n",
    "-1 & 0\n",
    "\\end{pmatrix} = \n",
    "\\begin{pmatrix}\n",
    "0 & 0 & 0 & 1 \\\\\n",
    "0 & 0 & -1& 0 \\\\\n",
    "0 & 1 & 0 & 0 \\\\\n",
    "-1 & 0 & 0 & 0 \\\\\n",
    "\\end{pmatrix}\n",
    "$$"
   ]
  },
  {
   "cell_type": "code",
   "execution_count": 36,
   "id": "2988d1d3-6198-4e53-b807-d46e802531ed",
   "metadata": {
    "tags": []
   },
   "outputs": [
    {
     "data": {
      "text/latex": [
       "$$\n",
       "\n",
       "\\begin{bmatrix}\n",
       "0 & 0 & 0 & 1  \\\\\n",
       " 0 & 0 & -1 & 0  \\\\\n",
       " 0 & 1 & 0 & 0  \\\\\n",
       " -1 & 0 & 0 & 0  \\\\\n",
       " \\end{bmatrix}\n",
       "$$"
      ],
      "text/plain": [
       "<IPython.core.display.Latex object>"
      ]
     },
     "execution_count": 36,
     "metadata": {},
     "output_type": "execute_result"
    }
   ],
   "source": [
    "backend = BasicAer.get_backend(\"unitary_simulator\") # 2\n",
    "\n",
    "tqc = transpile(qc, backend)\n",
    "job = backend.run(tqc)\n",
    "\n",
    "result = job.result() # 3\n",
    "unitary = result.get_unitary(tqc)\n",
    "\n",
    "from qiskit.visualization import array_to_latex\n",
    "\n",
    "array_to_latex(unitary)"
   ]
  }
 ],
 "metadata": {
  "kernelspec": {
   "display_name": "Python 3 (ipykernel)",
   "language": "python",
   "name": "python3"
  },
  "language_info": {
   "codemirror_mode": {
    "name": "ipython",
    "version": 3
   },
   "file_extension": ".py",
   "mimetype": "text/x-python",
   "name": "python",
   "nbconvert_exporter": "python",
   "pygments_lexer": "ipython3",
   "version": "3.9.0"
  }
 },
 "nbformat": 4,
 "nbformat_minor": 5
}
