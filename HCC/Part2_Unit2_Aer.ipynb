{
 "cells": [
  {
   "cell_type": "markdown",
   "id": "bc9ed76e-b691-4deb-91fd-7a9f4074ef13",
   "metadata": {},
   "source": [
    "<center>\n",
    "\n",
    "# __3. The Aer simulator__\n",
    "\n",
    "November 21, 2023\n",
    "\n",
    "<br>\n",
    "\n",
    "__Herramientas de la Computación Cuántica__\n",
    "\n",
    "__Máster en Ciencia y Tecnologías de Información Cuántica (MQIST)__\n",
    "\n",
    "<br>\n",
    "\n",
    "Diego Alvarez-Estevez, PhD.\n",
    "\n",
    "_Centro de Investigación en Tecnologías de la Información y las Comunicaciones (CITIC)_\n",
    "\n",
    "_Universidade da Coruña_\n",
    "\n",
    "</center>"
   ]
  },
  {
   "cell_type": "markdown",
   "id": "813606a3-6d2f-49df-a5fe-642ee689aa8b",
   "metadata": {},
   "source": [
    "## 3.0. Introduction to Aer simulators\n",
    "\n",
    "Until recently it was included as part of the qiskit metapackage. As of Qiskit version 0.44 its installation is optional, contained in the independent ```qiskit-aer``` package:\n",
    "\n",
    "**pip install qiskit-aer***\n",
    "\n",
    "_*For this notebook version 0.12.x is recommended: pip install --force-reinstall qiskit-aer==0.12.2_\n",
    "\n",
    "Aer provides local high-performance quantum computing simulators with realistic noise models.\n",
    "\n",
    "More information:\n",
    "\n",
    "<a href=https://qiskit.org/ecosystem/aer/>Qiskit Aer Documentation</a>\n",
    "\n",
    "<a href=https://github.com/Qiskit/qiskit-aer>GitHub</a>"
   ]
  },
  {
   "cell_type": "markdown",
   "id": "324cb6eb-8c77-4163-9bf6-4d865e49818a",
   "metadata": {},
   "source": [
    "As with any backend provider (check the <a href=https://qiskit.org/documentation/apidoc/providers.html>Providers Interface</a>), a list of available Aer backends may be obtained by calling the provider's ```backends()``` method:"
   ]
  },
  {
   "cell_type": "code",
   "execution_count": 14,
   "id": "43f35185-e827-4f71-9454-10223042ecde",
   "metadata": {},
   "outputs": [
    {
     "name": "stdout",
     "output_type": "stream",
     "text": [
      "[AerSimulator('aer_simulator'), AerSimulator('aer_simulator_statevector'), AerSimulator('aer_simulator_density_matrix'), AerSimulator('aer_simulator_stabilizer'), AerSimulator('aer_simulator_matrix_product_state'), AerSimulator('aer_simulator_extended_stabilizer'), AerSimulator('aer_simulator_unitary'), AerSimulator('aer_simulator_superop'), QasmSimulator('qasm_simulator'), StatevectorSimulator('statevector_simulator'), UnitarySimulator('unitary_simulator'), PulseSimulator('pulse_simulator')]\n"
     ]
    }
   ],
   "source": [
    "#from qiskit import Aer\n",
    "from qiskit_aer import Aer # 1\n",
    "\n",
    "backend_list = Aer.backends()\n",
    "\n",
    "print(backend_list)"
   ]
  },
  {
   "cell_type": "code",
   "execution_count": 15,
   "id": "e7ffe0ad-205d-414a-b24f-fa1b794f359a",
   "metadata": {},
   "outputs": [
    {
     "name": "stdout",
     "output_type": "stream",
     "text": [
      "AerSimulator('aer_simulator')\n",
      "AerSimulator('aer_simulator_statevector')\n",
      "AerSimulator('aer_simulator_density_matrix')\n",
      "AerSimulator('aer_simulator_stabilizer')\n",
      "AerSimulator('aer_simulator_matrix_product_state')\n",
      "AerSimulator('aer_simulator_extended_stabilizer')\n",
      "AerSimulator('aer_simulator_unitary')\n",
      "AerSimulator('aer_simulator_superop')\n",
      "QasmSimulator('qasm_simulator')\n",
      "StatevectorSimulator('statevector_simulator')\n",
      "UnitarySimulator('unitary_simulator')\n",
      "PulseSimulator('pulse_simulator')\n"
     ]
    }
   ],
   "source": [
    "# List them individually for better visualization\n",
    "for backend in backend_list:\n",
    "    print(type(backend).__name__ + \"('\" + str(backend) + \"')\")"
   ]
  },
  {
   "cell_type": "markdown",
   "id": "0a23afeb-527d-4475-93ed-647cfceb1602",
   "metadata": {},
   "source": [
    "1. As of Aer 0.11.0 version, the ```qiskit-aer``` Python package has moved to be a self-contained namespace, ```qiskit_aer```. Previously, it shared a namespace with qiskit-terra by being ```qiskit.providers.aer```. This <a href=https://github.com/Qiskit/qiskit-metapackage/issues/559>was problematic for several reasons</a>, and this release moves away from it. For the time being ```import qiskit.providers.aer``` will continue to work and redirect to ```qiskit_aer``` automatically. Imports from the legacy ```qiskit.provider.aer``` namespace will emit a DeprecationWarning in the future. To avoid any potential issues starting with this release, <u>updating all imports from ```qiskit.providers.aer``` to ```qiskit_aer``` and from ```qiskit.Aer``` to ```qiskit_aer.Aer``` is recommended</u>"
   ]
  },
  {
   "cell_type": "code",
   "execution_count": 16,
   "id": "1923af43-fb2a-4ccf-b4bd-2921d8230e67",
   "metadata": {},
   "outputs": [
    {
     "name": "stdout",
     "output_type": "stream",
     "text": [
      "/home/jvazquez/miniconda3/envs/basic-quantum/bin/python\n"
     ]
    },
    {
     "data": {
      "text/html": [
       "<h3>Version Information</h3><table><tr><th>Software</th><th>Version</th></tr><tr><td><code>qiskit</code></td><td>0.45.0</td></tr><tr><td><code>qiskit_aer</code></td><td>0.11.1</td></tr><tr><th colspan='2'>System information</th></tr><tr><td>Python version</td><td>3.9.0</td></tr><tr><td>Python compiler</td><td>GCC 7.3.0</td></tr><tr><td>Python build</td><td>default, Nov 15 2020 14:28:56</td></tr><tr><td>OS</td><td>Linux</td></tr><tr><td>CPUs</td><td>4</td></tr><tr><td>Memory (Gb)</td><td>12.432914733886719</td></tr><tr><td colspan='2'>Sun Dec 10 01:51:11 2023 CET</td></tr></table>"
      ],
      "text/plain": [
       "<IPython.core.display.HTML object>"
      ]
     },
     "metadata": {},
     "output_type": "display_data"
    }
   ],
   "source": [
    "# Version checking\n",
    "import qiskit.tools.jupyter\n",
    "\n",
    "import sys\n",
    "print(sys.executable)\n",
    "\n",
    "%qiskit_version_table"
   ]
  },
  {
   "cell_type": "markdown",
   "id": "006b4b14-8a85-4bd5-9ecf-ed0b3e0a51a9",
   "metadata": {},
   "source": [
    "Notes:\n",
    "\n",
    "1. Notice Aer provider does contain the same three BasicAer simulators: ```qasm_simulator```, ```statevector_simulator```, and ```unitary_simulator```. These backends are referred to as <a href=https://qiskit.org/ecosystem/aer/apidocs/aer_provider.html>```legacy```</a>. They can be used analagously as in BasicAer, however the Aer implementations are \"faster / more poweful\" counterparts.\n",
    "\n",
    "2. It also includes several other simulators through two additional classes, namely <a href=https://qiskit.org/ecosystem/aer/stubs/qiskit_aer.PulseSimulator.html#qiskit_aer.PulseSimulator>PulseSimulator</a> (though now deprecated and substitud by functionality in Qiskit Dynamics library) and <a href=https://qiskit.org/ecosystem/aer/stubs/qiskit_aer.AerSimulator.html#qiskit_aer.AerSimulator>AerSimulator</a> (will come back to examine the all the different subtypes later)"
   ]
  },
  {
   "cell_type": "markdown",
   "id": "ccf9cb46-c997-40d0-8ba9-eb9404250af4",
   "metadata": {},
   "source": [
    "Let us take the following circuit as reference, and show how to run the simulation using Aer:"
   ]
  },
  {
   "cell_type": "code",
   "execution_count": 17,
   "id": "66776914-e796-4b0b-9fff-2d47d54798db",
   "metadata": {},
   "outputs": [
    {
     "name": "stderr",
     "output_type": "stream",
     "text": [
      "/home/jvazquez/miniconda3/envs/basic-quantum/lib/python3.9/site-packages/qiskit/visualization/circuit/matplotlib.py:266: FutureWarning: The default matplotlib drawer scheme will be changed to \"iqp\" in a following release. To silence this warning, specify the current default explicitly as style=\"clifford\", or the new default as style=\"iqp\".\n",
      "  self._style, def_font_ratio = load_style(self._style)\n"
     ]
    },
    {
     "data": {
      "image/png": "[encoded data removed]",
      "text/plain": [
       "<Figure size 580.387x284.278 with 1 Axes>"
      ]
     },
     "execution_count": 17,
     "metadata": {},
     "output_type": "execute_result"
    }
   ],
   "source": [
    "from qiskit import QuantumCircuit\n",
    "\n",
    "qc = QuantumCircuit(2)\n",
    "qc.h(0)\n",
    "qc.cx(0, 1)\n",
    "qc.measure_all()\n",
    "\n",
    "qc.draw(\"mpl\")"
   ]
  },
  {
   "cell_type": "code",
   "execution_count": 18,
   "id": "15021b0e-5373-49c3-847d-45906acbe177",
   "metadata": {},
   "outputs": [
    {
     "name": "stdout",
     "output_type": "stream",
     "text": [
      "{'00': 520, '11': 480}\n"
     ]
    }
   ],
   "source": [
    "from qiskit import transpile \n",
    "from qiskit_aer import Aer\n",
    "\n",
    "backend = Aer.get_backend(\"qasm_simulator\") # Using Aer provider to get qasm_simulator backend\n",
    "\n",
    "tqc = transpile(qc, backend)\n",
    "job = backend.run(tqc, shots=1000)\n",
    "\n",
    "result = job.result()\n",
    "counts = result.get_counts(tqc)\n",
    "\n",
    "# Check results should be equivalent to those obtained with BasicAer\n",
    "print(counts)"
   ]
  },
  {
   "cell_type": "markdown",
   "id": "dd965df6-1419-4186-9003-ba0550827174",
   "metadata": {},
   "source": [
    "<span style=\"color:red\">PRACTICE:</span> Check the returned types for ```backend```, ```job```, and ```result```. Do they match the corresponding BasicAer interfaces?"
   ]
  },
  {
   "cell_type": "code",
   "execution_count": null,
   "id": "e083ad40-584c-43b7-897f-76073eb6f54d",
   "metadata": {},
   "outputs": [],
   "source": [
    "#print(type(backend))\n",
    "#print(type(job))\n",
    "#print(type(result))"
   ]
  },
  {
   "cell_type": "code",
   "execution_count": null,
   "id": "bfb9b70b-5d5f-48ca-b3ef-902c7fb2ae43",
   "metadata": {},
   "outputs": [],
   "source": [
    "# Some observations\n",
    "# We see that \"result\" is the same, but (logically) \"backend\" is not (before it was qiskit.providers.basicaer.qasm_simulator.QasmSimulatorPy) \n",
    "\n",
    "# Regarding \"job\" notice that the returned object is now AerJob and not BasicAerJob.\n",
    "# However they both inherit from common class JobV1 (\"job\" -> qiskit.providers.JobV1)\n",
    "\n",
    "# For \"backend\":\n",
    "# \"backend\" -> qiskit.providers.BackendV1 (for BasicAer) and AerBackend (for qiskit_aer.backends.qasm_simulator.QasmSimulator, check source code)\n",
    "#             AerBackend inherited from BackendV1 up to version 0.12.2, and from 0.13 from BackendV2:\n",
    "#             https://qiskit.org/ecosystem/aer/_modules/qiskit_aer/backends/aerbackend.html\n",
    "#             https://qiskit.org/ecosystem/aer/release_notes.html#release-notes-0-13-0\n",
    "# Notice as well, by observing \"init\" method of Aer QasmSimulator source code, that this backend has been marked as \"deprecated pending\"\n",
    "# and is superseed by AerSimulator: https://qiskit.org/ecosystem/aer/_modules/qiskit_aer/backends/qasm_simulator.html#QasmSimulator\n",
    "# We can check the same holds for other \"legacy\" Aer simulator backends:\n",
    "# https://qiskit.org/ecosystem/aer/apidocs/aer_provider.html"
   ]
  },
  {
   "cell_type": "markdown",
   "id": "7aa21c1d-8092-430f-82ae-91446bb2de7a",
   "metadata": {},
   "source": [
    "Similarly, we could obtain an unitary matrix simulation with Aer as follows:"
   ]
  },
  {
   "cell_type": "code",
   "execution_count": 19,
   "id": "27b02e67-6723-4ae4-acc6-70592d99d72c",
   "metadata": {},
   "outputs": [
    {
     "data": {
      "text/latex": [
       "$$\n",
       "\n",
       "\\begin{bmatrix}\n",
       "\\frac{\\sqrt{2}}{2} & \\frac{\\sqrt{2}}{2} & 0 & 0  \\\\\n",
       " 0 & 0 & \\frac{\\sqrt{2}}{2} & - \\frac{\\sqrt{2}}{2}  \\\\\n",
       " 0 & 0 & \\frac{\\sqrt{2}}{2} & \\frac{\\sqrt{2}}{2}  \\\\\n",
       " \\frac{\\sqrt{2}}{2} & - \\frac{\\sqrt{2}}{2} & 0 & 0  \\\\\n",
       " \\end{bmatrix}\n",
       "$$"
      ],
      "text/plain": [
       "<IPython.core.display.Latex object>"
      ]
     },
     "execution_count": 19,
     "metadata": {},
     "output_type": "execute_result"
    }
   ],
   "source": [
    "from qiskit import QuantumCircuit, transpile\n",
    "from qiskit_aer import Aer\n",
    "from qiskit.visualization import array_to_latex\n",
    "\n",
    "qc = QuantumCircuit(2)\n",
    "qc.h(0)\n",
    "qc.cx(0, 1)\n",
    "\n",
    "#qc.draw(\"mpl\")\n",
    "\n",
    "backend = Aer.get_backend(\"unitary_simulator\")\n",
    "\n",
    "tqc = transpile(qc, backend)\n",
    "job = backend.run(tqc)\n",
    "\n",
    "result = job.result()\n",
    "unitary = result.get_unitary(tqc)\n",
    "\n",
    "array_to_latex(unitary)"
   ]
  },
  {
   "cell_type": "markdown",
   "id": "b8bd04d8-e446-4101-b0ff-f328a89d2abd",
   "metadata": {},
   "source": [
    "## 3.1. Using the AerSimulator backend\n",
    "\n",
    "AerSimulator is currently the main simulator backend of the Aer provider.\n",
    "\n",
    "The AerSimulator backend is very versatile, offering many types of _simulation methods_. Each simulation method supports a different set of instructions, the default being \"```automatic```\". The complete list of simulation methods includes the following:\n",
    "\n",
    "| Method | Description |\n",
    "| --- | --- |\n",
    "| automatic | Default, selects the simulation method automatically based on the circuit and noise model |\n",
    "| density_matrix | Density matrix simulation that may sample measurement outcomes from noisy circuits with all measurements at the end of the circuit |\n",
    "| extended_stabilizer | An approximate simulated for Clifford + T circuits based on a state decomposition into ranked-stabilizer state |\n",
    "| matrix_product_state | A tensor-network statevector simulator that uses a Matrix Product State (MPS) representation for the state |\n",
    "| stabilizer | An efficient Clifford stabilizer state simulator that can simulate noisy Clifford circuits if all errors in the noise model are also Clifford errors |\n",
    "| statevector | Statevector simulation that can sample measurement outcomes from ideal circuits with all measurements at end of the circuit. For noisy simulations each shot samples a randomly sampled noisy circuit from the noise model |\n",
    "| superop | Superoperator matrix simulation of an ideal or noisy circuit. This simulates the superoperator matrix of the circuit itself rather than the evolution of an initial quantum state |\n",
    "| unitary | Unitary matrix simulation of an ideal circuit. This simulates the unitary matrix of the circuit itself rather than the evolution of an initial quantum state |"
   ]
  },
  {
   "cell_type": "markdown",
   "id": "828e0414-28d0-4d2a-94a3-5e9b11d538b2",
   "metadata": {},
   "source": [
    "### 3.1.1. Using the AerSimulation to hold measurement results (like in ```qasm_simulator```)\n",
    "\n",
    "In the following example we instantiate the default Aer simulator on a circuit containing measurement instructions:"
   ]
  },
  {
   "cell_type": "code",
   "execution_count": 20,
   "id": "e0c0116b-068d-46f4-a186-2e14cc608edc",
   "metadata": {
    "tags": []
   },
   "outputs": [
    {
     "data": {
      "image/png": "[encoded data removed]",
      "text/plain": [
       "<Figure size 580.387x284.278 with 1 Axes>"
      ]
     },
     "metadata": {},
     "output_type": "display_data"
    },
    {
     "name": "stdout",
     "output_type": "stream",
     "text": [
      "{'00': 533, '11': 467}\n"
     ]
    }
   ],
   "source": [
    "from qiskit import QuantumCircuit, transpile\n",
    "from qiskit_aer import Aer\n",
    "\n",
    "qc = QuantumCircuit(2)\n",
    "qc.h(0)\n",
    "qc.cx(0, 1)\n",
    "qc.measure_all() # 1\n",
    "\n",
    "display(qc.draw(\"mpl\"))\n",
    "\n",
    "backend = Aer.get_backend(\"aer_simulator\") # 2\n",
    "\n",
    "tqc = transpile(qc, backend)\n",
    "# Be careful, possible bugs introduced in Aer 0.13 related to change to BackendV2\n",
    "# They apparently affect transpilation, among others, influencing resulting simulation method\n",
    "# It is recommended to use Aer 0.12 for running this notebook\n",
    "#display(tqc.draw(\"mpl\"))\n",
    "job = backend.run(tqc, shots=1000)\n",
    "\n",
    "result = job.result()\n",
    "counts = result.get_counts(tqc)\n",
    "\n",
    "print(counts)"
   ]
  },
  {
   "cell_type": "markdown",
   "id": "cd06490e-edc7-49fe-858e-21e09d14511f",
   "metadata": {},
   "source": [
    "Notice that:\n",
    "\n",
    "1. The circuit will automatically hold measurement results due to the presence of measurement instructions in the circuit. If we comment this line the method ```get_counts()``` will raise an error. <span style=\"color:red\">PRACTICE: </span><span style=\"color:green\">This is basically analogous to behaviour in BasicAer</span>\n",
    "\n",
    "2. We instantiate the default Aer simulator, meaning the ```automatic``` simulation method will be preset. The actual simulation method will be chosen according to the characteristics of the circuit\n",
    "\n",
    "<span style=\"color:red\">PRACTICE:</span> Can we recover the actual simulation method that was used by the AerSimulator backend? Tip: examine the fields returned within the ```result``` object"
   ]
  },
  {
   "cell_type": "code",
   "execution_count": 21,
   "id": "a8062086-5ee5-45dc-9d15-e13a9501822f",
   "metadata": {
    "tags": []
   },
   "outputs": [
    {
     "name": "stdout",
     "output_type": "stream",
     "text": [
      "Result(backend_name='aer_simulator', backend_version='0.11.1', qobj_id='a2a38f4f-88d7-4326-aea6-2499afc98db1', job_id='b9c3a614-83ce-49dd-989b-52d5283e544f', success=True, results=[ExperimentResult(shots=1000, success=True, meas_level=2, data=ExperimentResultData(counts={'0x0': 533, '0x3': 467}), header=QobjExperimentHeader(clbit_labels=[['meas', 0], ['meas', 1]], creg_sizes=[['meas', 2]], global_phase=0.0, memory_slots=2, metadata={}, n_qubits=2, name='circuit-179', qreg_sizes=[['q', 2]], qubit_labels=[['q', 0], ['q', 1]]), status=DONE, seed_simulator=2186283288, metadata={'noise': 'ideal', 'batched_shots_optimization': False, 'measure_sampling': True, 'parallel_shots': 1, 'remapped_qubits': False, 'active_input_qubits': [0, 1], 'num_clbits': 2, 'parallel_state_update': 4, 'sample_measure_time': 0.0003087, 'num_qubits': 2, 'device': 'CPU', 'input_qubit_map': [[1, 1], [0, 0]], 'method': 'stabilizer', 'fusion': {'enabled': False}}, time_taken=0.0011351)], date=2023-12-10T01:53:11.030038, status=COMPLETED, header=QobjHeader(backend_name='aer_simulator', backend_version='0.11.1'), metadata={'time_taken': 0.0012611, 'time_taken_execute': 0.001154, 'mpi_rank': 0, 'num_mpi_processes': 1, 'max_gpu_memory_mb': 0, 'max_memory_mb': 12731, 'parallel_experiments': 1, 'time_taken_load_qobj': 0.0001002, 'num_processes_per_experiments': 1, 'omp_enabled': True}, time_taken=0.0013687610626220703)\n",
      "\n",
      "\n",
      "stabilizer\n"
     ]
    }
   ],
   "source": [
    "# Check which simulation method was actually used\n",
    "print(result)\n",
    "print(\"\\n\")\n",
    "print(result.results[0].metadata['method'])"
   ]
  },
  {
   "cell_type": "markdown",
   "id": "370c7748-0fa4-41c2-8b81-e6d8d70f13cf",
   "metadata": {},
   "source": [
    "### 3.1.2. A deeper dive into _simulation methods_ of the AerSimulation backend"
   ]
  },
  {
   "cell_type": "markdown",
   "id": "c3d0bf78-ad19-4618-ae99-94261d033e27",
   "metadata": {},
   "source": [
    "<span style=\"color:red\">PRACTICE:</span> Repeat execution of the previous circuit including a T-gate after the CNOT on qubit 1. Examine now the resulting simulation method. What happens? and why?"
   ]
  },
  {
   "cell_type": "code",
   "execution_count": 22,
   "id": "1210204f-1683-4fb4-87e7-8a46cc8220c7",
   "metadata": {
    "tags": []
   },
   "outputs": [
    {
     "name": "stdout",
     "output_type": "stream",
     "text": [
      "{'11': 505, '00': 495}\n",
      "statevector\n"
     ]
    }
   ],
   "source": [
    "# Check:\n",
    "# https://en.wikipedia.org/wiki/Clifford_gates\n",
    "# https://qiskit.org/documentation/stubs/qiskit.quantum_info.Clifford.html\n",
    "\n",
    "from qiskit import QuantumCircuit, transpile\n",
    "from qiskit_aer import Aer\n",
    "\n",
    "qc = QuantumCircuit(2)\n",
    "qc.h(0)\n",
    "qc.cx(0, 1)\n",
    "qc.t(1) # non-Cliffort gate\n",
    "qc.measure_all()\n",
    "\n",
    "backend = Aer.get_backend(\"aer_simulator\") # automatic simulation method selected\n",
    "\n",
    "tqc = transpile(qc, backend)\n",
    "job = backend.run(tqc, shots=1000)\n",
    "\n",
    "result = job.result()\n",
    "counts = result.get_counts(tqc)\n",
    "\n",
    "print(counts) # Notice difference in #shots with BasicAer \"statevector simulator\"\n",
    "\n",
    "# Check which simulation method was actually used\n",
    "print(result.results[0].metadata['method'])"
   ]
  },
  {
   "cell_type": "code",
   "execution_count": null,
   "id": "834c283d-3715-42d3-9a84-54781314c158",
   "metadata": {},
   "outputs": [],
   "source": [
    "# Write here your conclusions"
   ]
  },
  {
   "cell_type": "markdown",
   "id": "72371420-7640-46c9-b4d6-0ab407ceba2b",
   "metadata": {},
   "source": [
    "So, we noticed that the ```automatic``` simulation method resolved to one more specific according to the characteristics of the circuit.\n",
    "\n",
    "If wanted, a Aer simulator backend with a preconfigured simulation method can also be obtained using ```Aer.get_backend(name)```. \n",
    "\n",
    "You might notice, the correspondence between the list of ```Aer_simulator_*``` backends returned by Aer provider ```backends()``` method, and the available list of _simulation methods_."
   ]
  },
  {
   "cell_type": "markdown",
   "id": "f5db85df-3f94-4232-99c5-89f9ff3efc2f",
   "metadata": {},
   "source": [
    "We will repeat now the previous simulation but trying to force the use of \"stabilizer\". What do we expect from this execution? "
   ]
  },
  {
   "cell_type": "code",
   "execution_count": 23,
   "id": "82fd1604-c2fc-42b8-9a2d-cfb4bea6478a",
   "metadata": {
    "tags": []
   },
   "outputs": [
    {
     "ename": "TranspilerError",
     "evalue": "\"Unable to translate the operations in the circuit: ['h', 'measure', 't', 'cx', 'barrier'] to the backend's (or manually specified) target basis: ['id', 'pauli', 'roerror', 'measure', 'save_probabilities_dict', 'sxdg', 'barrier', 'sdg', 'save_expval', 'quantum_channel', 'h', 'save_amplitudes_sq', 'x', 'cy', 'z', 'qerror_loc', 'save_stabilizer', 'set_stabilizer', 'if_else', 'swap', 'cx', 'delay', 'y', 'cz', 's', 'reset', 'save_clifford', 'snapshot', 'sx', 'for_loop', 'save_probabilities', 'save_state', 'save_expval_var', 'while_loop']. This likely means the target basis is not universal or there are additional equivalence rules needed in the EquivalenceLibrary being used. For more details on this error see: https://qiskit.org/documentation/stubs/qiskit.transpiler.passes.BasisTranslator.html#translation_errors\"",
     "output_type": "error",
     "traceback": [
      "\u001b[0;31m---------------------------------------------------------------------------\u001b[0m",
      "\u001b[0;31mTranspilerError\u001b[0m                           Traceback (most recent call last)",
      "File \u001b[0;32m~/miniconda3/envs/basic-quantum/lib/python3.9/site-packages/qiskit/transpiler/runningpassmanager.py:161\u001b[0m, in \u001b[0;36m_replace_error.<locals>.wrapper\u001b[0;34m(*meth_args, **meth_kwargs)\u001b[0m\n\u001b[1;32m    160\u001b[0m \u001b[39mtry\u001b[39;00m:\n\u001b[0;32m--> 161\u001b[0m     \u001b[39mreturn\u001b[39;00m meth(\u001b[39m*\u001b[39;49mmeth_args, \u001b[39m*\u001b[39;49m\u001b[39m*\u001b[39;49mmeth_kwargs)\n\u001b[1;32m    162\u001b[0m \u001b[39mexcept\u001b[39;00m PassManagerError \u001b[39mas\u001b[39;00m ex:\n",
      "File \u001b[0;32m~/miniconda3/envs/basic-quantum/lib/python3.9/site-packages/qiskit/passmanager/base_tasks.py:218\u001b[0m, in \u001b[0;36mBaseController.execute\u001b[0;34m(self, passmanager_ir, state, callback)\u001b[0m\n\u001b[1;32m    217\u001b[0m \u001b[39mwhile\u001b[39;00m \u001b[39mTrue\u001b[39;00m:\n\u001b[0;32m--> 218\u001b[0m     passmanager_ir, state \u001b[39m=\u001b[39m next_task\u001b[39m.\u001b[39;49mexecute(\n\u001b[1;32m    219\u001b[0m         passmanager_ir\u001b[39m=\u001b[39;49mpassmanager_ir,\n\u001b[1;32m    220\u001b[0m         state\u001b[39m=\u001b[39;49mstate,\n\u001b[1;32m    221\u001b[0m         callback\u001b[39m=\u001b[39;49mcallback,\n\u001b[1;32m    222\u001b[0m     )\n\u001b[1;32m    223\u001b[0m     \u001b[39mtry\u001b[39;00m:\n\u001b[1;32m    224\u001b[0m         \u001b[39m# Sending the object through the generator implies the custom controllers\u001b[39;00m\n\u001b[1;32m    225\u001b[0m         \u001b[39m# can always rely on the latest data to choose the next task to run.\u001b[39;00m\n",
      "File \u001b[0;32m~/miniconda3/envs/basic-quantum/lib/python3.9/site-packages/qiskit/transpiler/basepasses.py:195\u001b[0m, in \u001b[0;36mTransformationPass.execute\u001b[0;34m(self, passmanager_ir, state, callback)\u001b[0m\n\u001b[1;32m    189\u001b[0m \u001b[39mdef\u001b[39;00m \u001b[39mexecute\u001b[39m(\n\u001b[1;32m    190\u001b[0m     \u001b[39mself\u001b[39m,\n\u001b[1;32m    191\u001b[0m     passmanager_ir: PassManagerIR,\n\u001b[1;32m    192\u001b[0m     state: PassManagerState,\n\u001b[1;32m    193\u001b[0m     callback: Callable \u001b[39m=\u001b[39m \u001b[39mNone\u001b[39;00m,\n\u001b[1;32m    194\u001b[0m ) \u001b[39m-\u001b[39m\u001b[39m>\u001b[39m \u001b[39mtuple\u001b[39m[PassManagerIR, PassManagerState]:\n\u001b[0;32m--> 195\u001b[0m     new_dag, state \u001b[39m=\u001b[39m \u001b[39msuper\u001b[39;49m()\u001b[39m.\u001b[39;49mexecute(\n\u001b[1;32m    196\u001b[0m         passmanager_ir\u001b[39m=\u001b[39;49mpassmanager_ir,\n\u001b[1;32m    197\u001b[0m         state\u001b[39m=\u001b[39;49mstate,\n\u001b[1;32m    198\u001b[0m         callback\u001b[39m=\u001b[39;49mcallback,\n\u001b[1;32m    199\u001b[0m     )\n\u001b[1;32m    201\u001b[0m     \u001b[39mif\u001b[39;00m state\u001b[39m.\u001b[39mworkflow_status\u001b[39m.\u001b[39mprevious_run \u001b[39m==\u001b[39m RunState\u001b[39m.\u001b[39mSUCCESS:\n",
      "File \u001b[0;32m~/miniconda3/envs/basic-quantum/lib/python3.9/site-packages/qiskit/passmanager/base_tasks.py:98\u001b[0m, in \u001b[0;36mGenericPass.execute\u001b[0;34m(self, passmanager_ir, state, callback)\u001b[0m\n\u001b[1;32m     97\u001b[0m \u001b[39mif\u001b[39;00m \u001b[39mself\u001b[39m \u001b[39mnot\u001b[39;00m \u001b[39min\u001b[39;00m state\u001b[39m.\u001b[39mworkflow_status\u001b[39m.\u001b[39mcompleted_passes:\n\u001b[0;32m---> 98\u001b[0m     ret \u001b[39m=\u001b[39m \u001b[39mself\u001b[39;49m\u001b[39m.\u001b[39;49mrun(passmanager_ir)\n\u001b[1;32m     99\u001b[0m     run_state \u001b[39m=\u001b[39m RunState\u001b[39m.\u001b[39mSUCCESS\n",
      "File \u001b[0;32m~/miniconda3/envs/basic-quantum/lib/python3.9/site-packages/qiskit/transpiler/passes/basis/basis_translator.py:217\u001b[0m, in \u001b[0;36mBasisTranslator.run\u001b[0;34m(self, dag)\u001b[0m\n\u001b[1;32m    216\u001b[0m \u001b[39mif\u001b[39;00m basis_transforms \u001b[39mis\u001b[39;00m \u001b[39mNone\u001b[39;00m:\n\u001b[0;32m--> 217\u001b[0m     \u001b[39mraise\u001b[39;00m TranspilerError(\n\u001b[1;32m    218\u001b[0m         \u001b[39m\"\u001b[39m\u001b[39mUnable to translate the operations in the circuit: \u001b[39m\u001b[39m\"\u001b[39m\n\u001b[1;32m    219\u001b[0m         \u001b[39mf\u001b[39m\u001b[39m\"\u001b[39m\u001b[39m{\u001b[39;00m[x[\u001b[39m0\u001b[39m] \u001b[39mfor\u001b[39;00m x \u001b[39min\u001b[39;00m source_basis]\u001b[39m}\u001b[39;00m\u001b[39m to the backend\u001b[39m\u001b[39m'\u001b[39m\u001b[39ms (or manually specified) target \u001b[39m\u001b[39m\"\u001b[39m\n\u001b[1;32m    220\u001b[0m         \u001b[39mf\u001b[39m\u001b[39m\"\u001b[39m\u001b[39mbasis: \u001b[39m\u001b[39m{\u001b[39;00m\u001b[39mlist\u001b[39m(target_basis)\u001b[39m}\u001b[39;00m\u001b[39m. This likely means the target basis is not universal \u001b[39m\u001b[39m\"\u001b[39m\n\u001b[1;32m    221\u001b[0m         \u001b[39m\"\u001b[39m\u001b[39mor there are additional equivalence rules needed in the EquivalenceLibrary being \u001b[39m\u001b[39m\"\u001b[39m\n\u001b[1;32m    222\u001b[0m         \u001b[39m\"\u001b[39m\u001b[39mused. For more details on this error see: \u001b[39m\u001b[39m\"\u001b[39m\n\u001b[1;32m    223\u001b[0m         \u001b[39m\"\u001b[39m\u001b[39mhttps://qiskit.org/documentation/stubs/qiskit.transpiler.passes.BasisTranslator.\u001b[39m\u001b[39m\"\u001b[39m\n\u001b[1;32m    224\u001b[0m         \u001b[39m\"\u001b[39m\u001b[39mhtml#translation_errors\u001b[39m\u001b[39m\"\u001b[39m\n\u001b[1;32m    225\u001b[0m     )\n\u001b[1;32m    227\u001b[0m \u001b[39m# Compose found path into a set of instruction substitution rules.\u001b[39;00m\n",
      "\u001b[0;31mTranspilerError\u001b[0m: \"Unable to translate the operations in the circuit: ['h', 'measure', 't', 'cx', 'barrier'] to the backend's (or manually specified) target basis: ['id', 'pauli', 'roerror', 'measure', 'save_probabilities_dict', 'sxdg', 'barrier', 'sdg', 'save_expval', 'quantum_channel', 'h', 'save_amplitudes_sq', 'x', 'cy', 'z', 'qerror_loc', 'save_stabilizer', 'set_stabilizer', 'if_else', 'swap', 'cx', 'delay', 'y', 'cz', 's', 'reset', 'save_clifford', 'snapshot', 'sx', 'for_loop', 'save_probabilities', 'save_state', 'save_expval_var', 'while_loop']. This likely means the target basis is not universal or there are additional equivalence rules needed in the EquivalenceLibrary being used. For more details on this error see: https://qiskit.org/documentation/stubs/qiskit.transpiler.passes.BasisTranslator.html#translation_errors\"",
      "\nThe above exception was the direct cause of the following exception:\n",
      "\u001b[0;31mTranspilerError\u001b[0m                           Traceback (most recent call last)",
      "File \u001b[0;32m~/miniconda3/envs/basic-quantum/lib/python3.9/site-packages/qiskit/transpiler/passmanager.py:551\u001b[0m, in \u001b[0;36m_replace_error.<locals>.wrapper\u001b[0;34m(*meth_args, **meth_kwargs)\u001b[0m\n\u001b[1;32m    550\u001b[0m \u001b[39mtry\u001b[39;00m:\n\u001b[0;32m--> 551\u001b[0m     \u001b[39mreturn\u001b[39;00m meth(\u001b[39m*\u001b[39;49mmeth_args, \u001b[39m*\u001b[39;49m\u001b[39m*\u001b[39;49mmeth_kwargs)\n\u001b[1;32m    552\u001b[0m \u001b[39mexcept\u001b[39;00m PassManagerError \u001b[39mas\u001b[39;00m ex:\n",
      "File \u001b[0;32m~/miniconda3/envs/basic-quantum/lib/python3.9/site-packages/qiskit/transpiler/passmanager.py:291\u001b[0m, in \u001b[0;36mPassManager.run\u001b[0;34m(self, circuits, output_name, callback)\u001b[0m\n\u001b[1;32m    289\u001b[0m     callback \u001b[39m=\u001b[39m _legacy_style_callback(callback)\n\u001b[0;32m--> 291\u001b[0m \u001b[39mreturn\u001b[39;00m \u001b[39msuper\u001b[39;49m()\u001b[39m.\u001b[39;49mrun(\n\u001b[1;32m    292\u001b[0m     in_programs\u001b[39m=\u001b[39;49mcircuits,\n\u001b[1;32m    293\u001b[0m     callback\u001b[39m=\u001b[39;49mcallback,\n\u001b[1;32m    294\u001b[0m     output_name\u001b[39m=\u001b[39;49moutput_name,\n\u001b[1;32m    295\u001b[0m )\n",
      "File \u001b[0;32m~/miniconda3/envs/basic-quantum/lib/python3.9/site-packages/qiskit/passmanager/passmanager.py:222\u001b[0m, in \u001b[0;36mBasePassManager.run\u001b[0;34m(self, in_programs, callback, **kwargs)\u001b[0m\n\u001b[1;32m    221\u001b[0m \u001b[39mif\u001b[39;00m \u001b[39mlen\u001b[39m(in_programs) \u001b[39m==\u001b[39m \u001b[39m1\u001b[39m:\n\u001b[0;32m--> 222\u001b[0m     out_program \u001b[39m=\u001b[39m _run_workflow(\n\u001b[1;32m    223\u001b[0m         program\u001b[39m=\u001b[39;49min_programs[\u001b[39m0\u001b[39;49m],\n\u001b[1;32m    224\u001b[0m         pass_manager\u001b[39m=\u001b[39;49m\u001b[39mself\u001b[39;49m,\n\u001b[1;32m    225\u001b[0m         callback\u001b[39m=\u001b[39;49mcallback,\n\u001b[1;32m    226\u001b[0m         \u001b[39m*\u001b[39;49m\u001b[39m*\u001b[39;49mkwargs,\n\u001b[1;32m    227\u001b[0m     )\n\u001b[1;32m    228\u001b[0m     \u001b[39mif\u001b[39;00m is_list:\n",
      "File \u001b[0;32m~/miniconda3/envs/basic-quantum/lib/python3.9/site-packages/qiskit/passmanager/passmanager.py:284\u001b[0m, in \u001b[0;36m_run_workflow\u001b[0;34m(program, pass_manager, **kwargs)\u001b[0m\n\u001b[1;32m    280\u001b[0m passmanager_ir \u001b[39m=\u001b[39m pass_manager\u001b[39m.\u001b[39m_passmanager_frontend(\n\u001b[1;32m    281\u001b[0m     input_program\u001b[39m=\u001b[39mprogram,\n\u001b[1;32m    282\u001b[0m     \u001b[39m*\u001b[39m\u001b[39m*\u001b[39mkwargs,\n\u001b[1;32m    283\u001b[0m )\n\u001b[0;32m--> 284\u001b[0m passmanager_ir, _ \u001b[39m=\u001b[39m flow_controller\u001b[39m.\u001b[39;49mexecute(\n\u001b[1;32m    285\u001b[0m     passmanager_ir\u001b[39m=\u001b[39;49mpassmanager_ir,\n\u001b[1;32m    286\u001b[0m     state\u001b[39m=\u001b[39;49mPassManagerState(\n\u001b[1;32m    287\u001b[0m         workflow_status\u001b[39m=\u001b[39;49minitial_status,\n\u001b[1;32m    288\u001b[0m         property_set\u001b[39m=\u001b[39;49mpass_manager\u001b[39m.\u001b[39;49mproperty_set,\n\u001b[1;32m    289\u001b[0m     ),\n\u001b[1;32m    290\u001b[0m     callback\u001b[39m=\u001b[39;49mkwargs\u001b[39m.\u001b[39;49mget(\u001b[39m\"\u001b[39;49m\u001b[39mcallback\u001b[39;49m\u001b[39m\"\u001b[39;49m, \u001b[39mNone\u001b[39;49;00m),\n\u001b[1;32m    291\u001b[0m )\n\u001b[1;32m    292\u001b[0m out_program \u001b[39m=\u001b[39m pass_manager\u001b[39m.\u001b[39m_passmanager_backend(\n\u001b[1;32m    293\u001b[0m     passmanager_ir\u001b[39m=\u001b[39mpassmanager_ir,\n\u001b[1;32m    294\u001b[0m     in_program\u001b[39m=\u001b[39mprogram,\n\u001b[1;32m    295\u001b[0m     \u001b[39m*\u001b[39m\u001b[39m*\u001b[39mkwargs,\n\u001b[1;32m    296\u001b[0m )\n",
      "File \u001b[0;32m~/miniconda3/envs/basic-quantum/lib/python3.9/site-packages/qiskit/transpiler/runningpassmanager.py:163\u001b[0m, in \u001b[0;36m_replace_error.<locals>.wrapper\u001b[0;34m(*meth_args, **meth_kwargs)\u001b[0m\n\u001b[1;32m    162\u001b[0m \u001b[39mexcept\u001b[39;00m PassManagerError \u001b[39mas\u001b[39;00m ex:\n\u001b[0;32m--> 163\u001b[0m     \u001b[39mraise\u001b[39;00m TranspilerError(ex\u001b[39m.\u001b[39mmessage) \u001b[39mfrom\u001b[39;00m \u001b[39mex\u001b[39;00m\n",
      "\u001b[0;31mTranspilerError\u001b[0m: \"Unable to translate the operations in the circuit: ['h', 'measure', 't', 'cx', 'barrier'] to the backend's (or manually specified) target basis: ['id', 'pauli', 'roerror', 'measure', 'save_probabilities_dict', 'sxdg', 'barrier', 'sdg', 'save_expval', 'quantum_channel', 'h', 'save_amplitudes_sq', 'x', 'cy', 'z', 'qerror_loc', 'save_stabilizer', 'set_stabilizer', 'if_else', 'swap', 'cx', 'delay', 'y', 'cz', 's', 'reset', 'save_clifford', 'snapshot', 'sx', 'for_loop', 'save_probabilities', 'save_state', 'save_expval_var', 'while_loop']. This likely means the target basis is not universal or there are additional equivalence rules needed in the EquivalenceLibrary being used. For more details on this error see: https://qiskit.org/documentation/stubs/qiskit.transpiler.passes.BasisTranslator.html#translation_errors\"",
      "\nThe above exception was the direct cause of the following exception:\n",
      "\u001b[0;31mTranspilerError\u001b[0m                           Traceback (most recent call last)",
      "\u001b[1;32m/home/jvazquez/Proyectos/MQIST/HCC/Part2_Unit2_Aer.ipynb Cell 28\u001b[0m line \u001b[0;36m1\n\u001b[1;32m     <a href='vscode-notebook-cell://wsl%2Bubuntu/home/jvazquez/Proyectos/MQIST/HCC/Part2_Unit2_Aer.ipynb#X36sdnNjb2RlLXJlbW90ZQ%3D%3D?line=10'>11</a>\u001b[0m backend \u001b[39m=\u001b[39m Aer\u001b[39m.\u001b[39mget_backend(\u001b[39m\"\u001b[39m\u001b[39maer_simulator_stabilizer\u001b[39m\u001b[39m\"\u001b[39m) \u001b[39m# select \"stabilizer\" simulation method\u001b[39;00m\n\u001b[1;32m     <a href='vscode-notebook-cell://wsl%2Bubuntu/home/jvazquez/Proyectos/MQIST/HCC/Part2_Unit2_Aer.ipynb#X36sdnNjb2RlLXJlbW90ZQ%3D%3D?line=11'>12</a>\u001b[0m \u001b[39m#backend = Aer.get_backend(\"aer_simulator_statevector\") # select \"statevector\" simulation method\u001b[39;00m\n\u001b[0;32m---> <a href='vscode-notebook-cell://wsl%2Bubuntu/home/jvazquez/Proyectos/MQIST/HCC/Part2_Unit2_Aer.ipynb#X36sdnNjb2RlLXJlbW90ZQ%3D%3D?line=13'>14</a>\u001b[0m tqc \u001b[39m=\u001b[39m transpile(qc, backend)\n\u001b[1;32m     <a href='vscode-notebook-cell://wsl%2Bubuntu/home/jvazquez/Proyectos/MQIST/HCC/Part2_Unit2_Aer.ipynb#X36sdnNjb2RlLXJlbW90ZQ%3D%3D?line=14'>15</a>\u001b[0m job \u001b[39m=\u001b[39m backend\u001b[39m.\u001b[39mrun(tqc, shots\u001b[39m=\u001b[39m\u001b[39m1000\u001b[39m)\n\u001b[1;32m     <a href='vscode-notebook-cell://wsl%2Bubuntu/home/jvazquez/Proyectos/MQIST/HCC/Part2_Unit2_Aer.ipynb#X36sdnNjb2RlLXJlbW90ZQ%3D%3D?line=16'>17</a>\u001b[0m result \u001b[39m=\u001b[39m job\u001b[39m.\u001b[39mresult()\n",
      "File \u001b[0;32m~/miniconda3/envs/basic-quantum/lib/python3.9/site-packages/qiskit/compiler/transpiler.py:428\u001b[0m, in \u001b[0;36mtranspile\u001b[0;34m(circuits, backend, basis_gates, inst_map, coupling_map, backend_properties, initial_layout, layout_method, routing_method, translation_method, scheduling_method, instruction_durations, dt, approximation_degree, timing_constraints, seed_transpiler, optimization_level, callback, output_name, unitary_synthesis_method, unitary_synthesis_plugin_config, target, hls_config, init_method, optimization_method, ignore_backend_supplied_default_methods)\u001b[0m\n\u001b[1;32m    400\u001b[0m         instruction_durations \u001b[39m=\u001b[39m _parse_instruction_durations(\n\u001b[1;32m    401\u001b[0m             backend, instruction_durations, dt, circuits[\u001b[39m0\u001b[39m]\n\u001b[1;32m    402\u001b[0m         )\n\u001b[1;32m    404\u001b[0m pm \u001b[39m=\u001b[39m generate_preset_pass_manager(\n\u001b[1;32m    405\u001b[0m     optimization_level,\n\u001b[1;32m    406\u001b[0m     backend\u001b[39m=\u001b[39mbackend,\n\u001b[0;32m   (...)\u001b[0m\n\u001b[1;32m    426\u001b[0m     _skip_target\u001b[39m=\u001b[39m_skip_target,\n\u001b[1;32m    427\u001b[0m )\n\u001b[0;32m--> 428\u001b[0m out_circuits \u001b[39m=\u001b[39m pm\u001b[39m.\u001b[39;49mrun(circuits, callback\u001b[39m=\u001b[39;49mcallback)\n\u001b[1;32m    429\u001b[0m \u001b[39mfor\u001b[39;00m name, circ \u001b[39min\u001b[39;00m \u001b[39mzip\u001b[39m(output_name, out_circuits):\n\u001b[1;32m    430\u001b[0m     circ\u001b[39m.\u001b[39mname \u001b[39m=\u001b[39m name\n",
      "File \u001b[0;32m~/miniconda3/envs/basic-quantum/lib/python3.9/site-packages/qiskit/transpiler/passmanager.py:532\u001b[0m, in \u001b[0;36mStagedPassManager.run\u001b[0;34m(self, circuits, output_name, callback)\u001b[0m\n\u001b[1;32m    525\u001b[0m \u001b[39mdef\u001b[39;00m \u001b[39mrun\u001b[39m(\n\u001b[1;32m    526\u001b[0m     \u001b[39mself\u001b[39m,\n\u001b[1;32m    527\u001b[0m     circuits: _CircuitsT,\n\u001b[1;32m    528\u001b[0m     output_name: \u001b[39mstr\u001b[39m \u001b[39m|\u001b[39m \u001b[39mNone\u001b[39;00m \u001b[39m=\u001b[39m \u001b[39mNone\u001b[39;00m,\n\u001b[1;32m    529\u001b[0m     callback: Callable \u001b[39m|\u001b[39m \u001b[39mNone\u001b[39;00m \u001b[39m=\u001b[39m \u001b[39mNone\u001b[39;00m,\n\u001b[1;32m    530\u001b[0m ) \u001b[39m-\u001b[39m\u001b[39m>\u001b[39m _CircuitsT:\n\u001b[1;32m    531\u001b[0m     \u001b[39mself\u001b[39m\u001b[39m.\u001b[39m_update_passmanager()\n\u001b[0;32m--> 532\u001b[0m     \u001b[39mreturn\u001b[39;00m \u001b[39msuper\u001b[39;49m()\u001b[39m.\u001b[39;49mrun(circuits, output_name, callback)\n",
      "File \u001b[0;32m~/miniconda3/envs/basic-quantum/lib/python3.9/site-packages/qiskit/transpiler/passmanager.py:553\u001b[0m, in \u001b[0;36m_replace_error.<locals>.wrapper\u001b[0;34m(*meth_args, **meth_kwargs)\u001b[0m\n\u001b[1;32m    551\u001b[0m     \u001b[39mreturn\u001b[39;00m meth(\u001b[39m*\u001b[39mmeth_args, \u001b[39m*\u001b[39m\u001b[39m*\u001b[39mmeth_kwargs)\n\u001b[1;32m    552\u001b[0m \u001b[39mexcept\u001b[39;00m PassManagerError \u001b[39mas\u001b[39;00m ex:\n\u001b[0;32m--> 553\u001b[0m     \u001b[39mraise\u001b[39;00m TranspilerError(ex\u001b[39m.\u001b[39mmessage) \u001b[39mfrom\u001b[39;00m \u001b[39mex\u001b[39;00m\n",
      "\u001b[0;31mTranspilerError\u001b[0m: \"Unable to translate the operations in the circuit: ['h', 'measure', 't', 'cx', 'barrier'] to the backend's (or manually specified) target basis: ['id', 'pauli', 'roerror', 'measure', 'save_probabilities_dict', 'sxdg', 'barrier', 'sdg', 'save_expval', 'quantum_channel', 'h', 'save_amplitudes_sq', 'x', 'cy', 'z', 'qerror_loc', 'save_stabilizer', 'set_stabilizer', 'if_else', 'swap', 'cx', 'delay', 'y', 'cz', 's', 'reset', 'save_clifford', 'snapshot', 'sx', 'for_loop', 'save_probabilities', 'save_state', 'save_expval_var', 'while_loop']. This likely means the target basis is not universal or there are additional equivalence rules needed in the EquivalenceLibrary being used. For more details on this error see: https://qiskit.org/documentation/stubs/qiskit.transpiler.passes.BasisTranslator.html#translation_errors\""
     ]
    }
   ],
   "source": [
    "from qiskit import QuantumCircuit, transpile\n",
    "from qiskit_aer import Aer\n",
    "\n",
    "qc = QuantumCircuit(2)\n",
    "qc.h(0)\n",
    "qc.cx(0, 1)\n",
    "qc.t(1) # non-Cliffort gate\n",
    "qc.measure_all()\n",
    "\n",
    "#backend = Aer.get_backend(\"aer_simulator\") # simulation method automatically selected\n",
    "backend = Aer.get_backend(\"aer_simulator_stabilizer\") # select \"stabilizer\" simulation method\n",
    "#backend = Aer.get_backend(\"aer_simulator_statevector\") # select \"statevector\" simulation method\n",
    "\n",
    "tqc = transpile(qc, backend)\n",
    "job = backend.run(tqc, shots=1000)\n",
    "\n",
    "result = job.result()\n",
    "counts = result.get_counts(tqc)\n",
    "\n",
    "print(counts)\n",
    "\n",
    "# Check which simulation method was actually used\n",
    "print(result.results[0].metadata['method'])"
   ]
  },
  {
   "cell_type": "code",
   "execution_count": null,
   "id": "fe8c1954-5d43-4494-9e3a-fd009db3ba15",
   "metadata": {},
   "outputs": [],
   "source": [
    "# Write here your conclusions"
   ]
  },
  {
   "cell_type": "markdown",
   "id": "e52c572a-3610-4100-9741-3d675153ff5c",
   "metadata": {},
   "source": [
    "Thus so far we have seen that by default (e.g. with ```Aer.get_backend(\"aer_simulator\")```) the ```automatic``` simulation method option is selected, and that we can change this behaviour by requesting a preconfigured method using the ```Aer.get_backend(\"aer_simulator_*\")``` instruction, matching the corresponding name. \n",
    "\n",
    "There are additional possibilities to <u>manually configurate</u> the simulation method. For example, the specific simulation method can also be set using the ```backend.set_options(method=value)``` option.\n",
    "\n",
    "In addition, the simulation method may be explicitly overridden <u>for a single execution</u> by passing it as keyword to the ```run()``` method.\n",
    "\n",
    "Let us explore that:"
   ]
  },
  {
   "cell_type": "code",
   "execution_count": 24,
   "id": "5416ea40-ffbc-4331-8f3d-e67b0f9ad8e0",
   "metadata": {
    "tags": []
   },
   "outputs": [
    {
     "name": "stdout",
     "output_type": "stream",
     "text": [
      "Simulation method: statevector\n",
      "{'00': 522, '11': 502}\n"
     ]
    }
   ],
   "source": [
    "# Method 1: Using backend \"set_options\"\n",
    "from qiskit import QuantumCircuit, transpile\n",
    "from qiskit_aer import Aer\n",
    "\n",
    "# Create a quantum circuit\n",
    "qc = QuantumCircuit(2, 2)\n",
    "qc.h(0)\n",
    "qc.cx(0, 1)\n",
    "qc.measure([0, 1], [0, 1]) # First argument refers to qubits [0,1] to be measured into classical [0,1] respectively (second argument)\n",
    "\n",
    "backend = Aer.get_backend('aer_simulator') # automatic method is selected\n",
    "\n",
    "backend.set_options(method='statevector') # Forcing \"statevector\", otherwise (comment this line) automatic will resolve to \"stabilizer\"\n",
    "\n",
    "# Transpile and run\n",
    "tqc = transpile(qc, backend)\n",
    "result = backend.run(tqc).result()\n",
    "\n",
    "# Check which simulation method was actually used\n",
    "print(\"Simulation method:\", result.results[0].metadata['method']) \n",
    "\n",
    "counts = result.get_counts(tqc)\n",
    "print(counts)"
   ]
  },
  {
   "cell_type": "code",
   "execution_count": 25,
   "id": "1ee781de-4490-4834-840f-cf3fe57b1ee1",
   "metadata": {},
   "outputs": [
    {
     "name": "stdout",
     "output_type": "stream",
     "text": [
      "Simulation method: statevector\n",
      "{'11': 477, '00': 547}\n"
     ]
    }
   ],
   "source": [
    "# Method 2: Obtained preconfigured backend (we have seen this already)\n",
    "from qiskit import QuantumCircuit, transpile\n",
    "from qiskit_aer import Aer\n",
    "\n",
    "# Create a quantum circuit\n",
    "qc = QuantumCircuit(2, 2)\n",
    "qc.h(0)\n",
    "qc.cx(0, 1)\n",
    "qc.measure([0, 1], [0, 1])\n",
    "\n",
    "#backend = Aer.get_backend('aer_simulator_stabilizer')\n",
    "backend = Aer.get_backend('aer_simulator_statevector')\n",
    "\n",
    "# Transpile and run\n",
    "tqc = transpile(qc, backend)\n",
    "result = backend.run(tqc).result()\n",
    "\n",
    "# Check which simulation method was actually used\n",
    "print(\"Simulation method:\", result.results[0].metadata['method']) \n",
    "\n",
    "counts = result.get_counts(tqc)\n",
    "print(counts)"
   ]
  },
  {
   "cell_type": "code",
   "execution_count": 26,
   "id": "5c2e96b3-7699-4493-a321-18c7bcbae164",
   "metadata": {
    "tags": []
   },
   "outputs": [
    {
     "name": "stdout",
     "output_type": "stream",
     "text": [
      "Simulation method: stabilizer\n",
      "{'00': 499, '11': 525}\n",
      "Simulation method: statevector\n",
      "{'11': 517, '00': 507}\n"
     ]
    }
   ],
   "source": [
    "# Method 3: Override for \"one\" execution\n",
    "from qiskit import QuantumCircuit, transpile\n",
    "from qiskit_aer import Aer\n",
    "\n",
    "# Create a quantum circuit\n",
    "qc = QuantumCircuit(2, 2)\n",
    "qc.h(0)\n",
    "qc.cx(0, 1)\n",
    "qc.measure([0, 1], [0, 1])\n",
    "\n",
    "backend = Aer.get_backend('aer_simulator_statevector') # Initiallized to \"statevector\"\n",
    "\n",
    "# Transpile and run\n",
    "tqc = transpile(qc, backend)\n",
    "result = backend.run(tqc, method=\"stabilizer\").result() # Temporally override to \"stabilizer\"\n",
    "\n",
    "# Check which simulation method was actually used\n",
    "print(\"Simulation method:\", result.results[0].metadata['method']) \n",
    "\n",
    "counts = result.get_counts(tqc)\n",
    "print(counts)\n",
    "\n",
    "# Repeat execution to check that initially configured method is used\n",
    "result = backend.run(tqc).result() # We do not specify any specific method here\n",
    "print(\"Simulation method:\", result.results[0].metadata['method']) \n",
    "counts = result.get_counts(tqc)\n",
    "print(counts)"
   ]
  },
  {
   "cell_type": "markdown",
   "id": "b33acc63-da9d-457e-87d9-e402c8e8c146",
   "metadata": {},
   "source": [
    "So, it seems that, at least for some circuits, they would run with different simulation methods. Which one should I then use?\n",
    "\n",
    "Well, it turns out, when simulating ideal circuits, that changing between the exact simulation methods ```stabilizer```, ```statevector```, ```density_matrix``` and ```matrix_product_state``` should not change the simulation result (other than usual variations from sampling probabilities for measurement outcomes)\n",
    "\n",
    "Each of these methods determines the internal representation of the quantum circuit and the algorithms used to process the quantum operations. They each have advantages and disadvantages, in terms of speed or scalability, and in this regard choosing the best method is a matter of investigation\n",
    "\n",
    "Takeaway: in general, unless we have a very good reason to choose a specific method, sticking to the default \"automatic\" option is usually a reasonable choice:"
   ]
  },
  {
   "cell_type": "code",
   "execution_count": 27,
   "id": "b9cd1d1a-5e8f-4e8b-ac11-1c533f829cc7",
   "metadata": {},
   "outputs": [
    {
     "data": {
      "image/png": "[encoded data removed]",
      "text/plain": [
       "<Figure size 700x500 with 1 Axes>"
      ]
     },
     "metadata": {},
     "output_type": "display_data"
    },
    {
     "name": "stdout",
     "output_type": "stream",
     "text": [
      "Simulation method: stabilizer\n"
     ]
    }
   ],
   "source": [
    "from qiskit import QuantumCircuit, transpile\n",
    "from qiskit_aer import Aer\n",
    "from qiskit.visualization import plot_histogram\n",
    "\n",
    "qc = QuantumCircuit(2)\n",
    "qc.h(0)\n",
    "qc.cx(0, 1)\n",
    "qc.measure_all()\n",
    "\n",
    "# Transpile for simulator\n",
    "simulator = Aer.get_backend('aer_simulator') # automatic simulation method\n",
    "tqc = transpile(qc, simulator)\n",
    "\n",
    "# Run and get counts\n",
    "result = simulator.run(tqc).result()\n",
    "counts = result.get_counts(tqc)\n",
    "display(plot_histogram(counts, title='Bell-State counts'))\n",
    "\n",
    "print(\"Simulation method:\", result.results[0].metadata['method']) "
   ]
  },
  {
   "cell_type": "code",
   "execution_count": 28,
   "id": "8d0524a2-d3d0-435c-896f-c596d91e79bf",
   "metadata": {
    "tags": []
   },
   "outputs": [
    {
     "data": {
      "image/png": "[encoded data removed]",
      "text/plain": [
       "<Figure size 700x500 with 1 Axes>"
      ]
     },
     "execution_count": 28,
     "metadata": {},
     "output_type": "execute_result"
    }
   ],
   "source": [
    "# Increase shots to reduce sampling variance\n",
    "shots = 10000\n",
    "\n",
    "# Stabilizer simulation method\n",
    "sim_stabilizer = Aer.get_backend('aer_simulator_stabilizer')\n",
    "job_stabilizer = sim_stabilizer.run(tqc, shots=shots)\n",
    "counts_stabilizer = job_stabilizer.result().get_counts(0)\n",
    "\n",
    "# Statevector simulation method\n",
    "sim_statevector = Aer.get_backend('aer_simulator_statevector')\n",
    "job_statevector = sim_statevector.run(tqc, shots=shots)\n",
    "counts_statevector = job_statevector.result().get_counts(0)\n",
    "\n",
    "# Density Matrix simulation method\n",
    "sim_density = Aer.get_backend('aer_simulator_density_matrix')\n",
    "job_density = sim_density.run(tqc, shots=shots)\n",
    "counts_density = job_density.result().get_counts(0)\n",
    "\n",
    "# Matrix Product State simulation method\n",
    "sim_mps = Aer.get_backend('aer_simulator_matrix_product_state')\n",
    "job_mps = sim_mps.run(tqc, shots=shots)\n",
    "counts_mps = job_mps.result().get_counts(0)\n",
    "\n",
    "plot_histogram([counts_stabilizer, counts_statevector, counts_density, counts_mps],\n",
    "               title='Counts for different simulation methods',\n",
    "               legend=['stabilizer', 'statevector',\n",
    "                       'density_matrix', 'matrix_product_state'])"
   ]
  },
  {
   "cell_type": "markdown",
   "id": "ade35f04-5871-448f-bf56-2b2fd342e428",
   "metadata": {},
   "source": [
    "### 3.1.3. Retrieving the output state"
   ]
  },
  {
   "cell_type": "markdown",
   "id": "42df71c4-2860-47e5-939b-b5b6540ce0df",
   "metadata": {},
   "source": [
    "<span style=\"color:red\">PRACTICE:</span> Let us consider again the following circuit and try to retrieve the statevector from the results. With BasicAer we were able to do this if using the ```statevector_simulator``` backend, and then calling the ```result.get_statevector(tqc)``` method. What happens in this case with Aer?"
   ]
  },
  {
   "cell_type": "code",
   "execution_count": 29,
   "id": "0fa53079-904f-4fa7-8c7d-ed3fcaf4e63b",
   "metadata": {
    "tags": []
   },
   "outputs": [
    {
     "name": "stdout",
     "output_type": "stream",
     "text": [
      "Simulation method: statevector\n"
     ]
    },
    {
     "ename": "QiskitError",
     "evalue": "'No statevector for experiment \"<qiskit.circuit.quantumcircuit.QuantumCircuit object at 0x7f309748fd90>\"'",
     "output_type": "error",
     "traceback": [
      "\u001b[0;31m---------------------------------------------------------------------------\u001b[0m",
      "\u001b[0;31mKeyError\u001b[0m                                  Traceback (most recent call last)",
      "File \u001b[0;32m~/miniconda3/envs/basic-quantum/lib/python3.9/site-packages/qiskit/result/result.py:314\u001b[0m, in \u001b[0;36mResult.get_statevector\u001b[0;34m(self, experiment, decimals)\u001b[0m\n\u001b[1;32m    312\u001b[0m \u001b[39mtry\u001b[39;00m:\n\u001b[1;32m    313\u001b[0m     \u001b[39mreturn\u001b[39;00m postprocess\u001b[39m.\u001b[39mformat_statevector(\n\u001b[0;32m--> 314\u001b[0m         \u001b[39mself\u001b[39;49m\u001b[39m.\u001b[39;49mdata(experiment)[\u001b[39m\"\u001b[39;49m\u001b[39mstatevector\u001b[39;49m\u001b[39m\"\u001b[39;49m], decimals\u001b[39m=\u001b[39mdecimals\n\u001b[1;32m    315\u001b[0m     )\n\u001b[1;32m    316\u001b[0m \u001b[39mexcept\u001b[39;00m \u001b[39mKeyError\u001b[39;00m \u001b[39mas\u001b[39;00m ex:\n",
      "\u001b[0;31mKeyError\u001b[0m: 'statevector'",
      "\nThe above exception was the direct cause of the following exception:\n",
      "\u001b[0;31mQiskitError\u001b[0m                               Traceback (most recent call last)",
      "\u001b[1;32m/home/jvazquez/Proyectos/MQIST/HCC/Part2_Unit2_Aer.ipynb Cell 39\u001b[0m line \u001b[0;36m2\n\u001b[1;32m     <a href='vscode-notebook-cell://wsl%2Bubuntu/home/jvazquez/Proyectos/MQIST/HCC/Part2_Unit2_Aer.ipynb#X53sdnNjb2RlLXJlbW90ZQ%3D%3D?line=19'>20</a>\u001b[0m \u001b[39m#print(result)\u001b[39;00m\n\u001b[1;32m     <a href='vscode-notebook-cell://wsl%2Bubuntu/home/jvazquez/Proyectos/MQIST/HCC/Part2_Unit2_Aer.ipynb#X53sdnNjb2RlLXJlbW90ZQ%3D%3D?line=20'>21</a>\u001b[0m \n\u001b[1;32m     <a href='vscode-notebook-cell://wsl%2Bubuntu/home/jvazquez/Proyectos/MQIST/HCC/Part2_Unit2_Aer.ipynb#X53sdnNjb2RlLXJlbW90ZQ%3D%3D?line=21'>22</a>\u001b[0m \u001b[39m# Check which simulation method was actually used\u001b[39;00m\n\u001b[1;32m     <a href='vscode-notebook-cell://wsl%2Bubuntu/home/jvazquez/Proyectos/MQIST/HCC/Part2_Unit2_Aer.ipynb#X53sdnNjb2RlLXJlbW90ZQ%3D%3D?line=22'>23</a>\u001b[0m \u001b[39mprint\u001b[39m(\u001b[39m\"\u001b[39m\u001b[39mSimulation method:\u001b[39m\u001b[39m\"\u001b[39m, result\u001b[39m.\u001b[39mresults[\u001b[39m0\u001b[39m]\u001b[39m.\u001b[39mmetadata[\u001b[39m'\u001b[39m\u001b[39mmethod\u001b[39m\u001b[39m'\u001b[39m]) \n\u001b[0;32m---> <a href='vscode-notebook-cell://wsl%2Bubuntu/home/jvazquez/Proyectos/MQIST/HCC/Part2_Unit2_Aer.ipynb#X53sdnNjb2RlLXJlbW90ZQ%3D%3D?line=24'>25</a>\u001b[0m statevector \u001b[39m=\u001b[39m result\u001b[39m.\u001b[39;49mget_statevector(tqc)\n\u001b[1;32m     <a href='vscode-notebook-cell://wsl%2Bubuntu/home/jvazquez/Proyectos/MQIST/HCC/Part2_Unit2_Aer.ipynb#X53sdnNjb2RlLXJlbW90ZQ%3D%3D?line=25'>26</a>\u001b[0m array_to_latex(statevector)\n",
      "File \u001b[0;32m~/miniconda3/envs/basic-quantum/lib/python3.9/site-packages/qiskit/result/result.py:317\u001b[0m, in \u001b[0;36mResult.get_statevector\u001b[0;34m(self, experiment, decimals)\u001b[0m\n\u001b[1;32m    313\u001b[0m     \u001b[39mreturn\u001b[39;00m postprocess\u001b[39m.\u001b[39mformat_statevector(\n\u001b[1;32m    314\u001b[0m         \u001b[39mself\u001b[39m\u001b[39m.\u001b[39mdata(experiment)[\u001b[39m\"\u001b[39m\u001b[39mstatevector\u001b[39m\u001b[39m\"\u001b[39m], decimals\u001b[39m=\u001b[39mdecimals\n\u001b[1;32m    315\u001b[0m     )\n\u001b[1;32m    316\u001b[0m \u001b[39mexcept\u001b[39;00m \u001b[39mKeyError\u001b[39;00m \u001b[39mas\u001b[39;00m ex:\n\u001b[0;32m--> 317\u001b[0m     \u001b[39mraise\u001b[39;00m QiskitError(\u001b[39mf\u001b[39m\u001b[39m'\u001b[39m\u001b[39mNo statevector for experiment \u001b[39m\u001b[39m\"\u001b[39m\u001b[39m{\u001b[39;00m\u001b[39mrepr\u001b[39m(experiment)\u001b[39m}\u001b[39;00m\u001b[39m\"\u001b[39m\u001b[39m'\u001b[39m) \u001b[39mfrom\u001b[39;00m \u001b[39mex\u001b[39;00m\n",
      "\u001b[0;31mQiskitError\u001b[0m: 'No statevector for experiment \"<qiskit.circuit.quantumcircuit.QuantumCircuit object at 0x7f309748fd90>\"'"
     ]
    }
   ],
   "source": [
    "from qiskit import QuantumCircuit, transpile\n",
    "from qiskit_aer import Aer\n",
    "from qiskit.visualization import array_to_latex\n",
    "\n",
    "qc = QuantumCircuit(2)\n",
    "qc.h(0)\n",
    "qc.cx(0, 1)\n",
    "qc.t(1) # non-Cliffort gate\n",
    "qc.measure_all()\n",
    "\n",
    "#backend = Aer.get_backend(\"aer_simulator\") # \"automatic\" should resolve to \"statevector\"\n",
    "#backend = Aer.get_backend(\"aer_simulator_stabilizer\") # select \"stabilizer\" simulation method\n",
    "backend = Aer.get_backend(\"aer_simulator_statevector\") # select \"statevector\" simulation method\n",
    "\n",
    "tqc = transpile(qc, backend)\n",
    "job = backend.run(tqc)\n",
    "\n",
    "result = job.result()\n",
    "\n",
    "#print(result)\n",
    "\n",
    "# Check which simulation method was actually used\n",
    "print(\"Simulation method:\", result.results[0].metadata['method']) \n",
    "\n",
    "statevector = result.get_statevector(tqc)\n",
    "array_to_latex(statevector)"
   ]
  },
  {
   "cell_type": "code",
   "execution_count": null,
   "id": "27a31ccf-2416-48b0-bbac-522e2af038c9",
   "metadata": {
    "tags": []
   },
   "outputs": [],
   "source": [
    "# Write here your conclusions"
   ]
  },
  {
   "cell_type": "markdown",
   "id": "95910962-7530-4721-84c1-a9282381262c",
   "metadata": {},
   "source": [
    "Let us see how to command the Aer Simulator to calculate <u>and hold</u> a statevector. \n",
    "\n",
    "Run firts the following code, check first that it works. Then we will explore different options:"
   ]
  },
  {
   "cell_type": "code",
   "execution_count": 30,
   "id": "8ef654bd-5cba-44f2-9c1c-5c218a73f9b3",
   "metadata": {
    "tags": []
   },
   "outputs": [
    {
     "name": "stdout",
     "output_type": "stream",
     "text": [
      "Simulation method: statevector\n"
     ]
    },
    {
     "data": {
      "text/latex": [
       "$$\n",
       "\n",
       "\\begin{bmatrix}\n",
       "\\frac{\\sqrt{2}}{2} & 0 & 0 & \\frac{1}{2} + \\frac{i}{2}  \\\\\n",
       " \\end{bmatrix}\n",
       "$$"
      ],
      "text/plain": [
       "<IPython.core.display.Latex object>"
      ]
     },
     "execution_count": 30,
     "metadata": {},
     "output_type": "execute_result"
    }
   ],
   "source": [
    "from qiskit import QuantumCircuit, transpile\n",
    "from qiskit_aer import Aer\n",
    "from qiskit.visualization import array_to_latex\n",
    "\n",
    "qc = QuantumCircuit(2)\n",
    "qc.h(0)\n",
    "qc.cx(0, 1)\n",
    "qc.t(1) # 1\n",
    "qc.save_statevector() # Need to explicitly specify this\n",
    "#qc.save_state() # 2\n",
    "qc.measure_all()\n",
    "\n",
    "backend = Aer.get_backend(\"aer_simulator\")\n",
    "#backend = Aer.get_backend(\"aer_simulator_statevector\") # 3\n",
    "\n",
    "tqc = transpile(qc, backend)\n",
    "job = backend.run(tqc)\n",
    "\n",
    "result = job.result()\n",
    "\n",
    "#print(result)\n",
    "\n",
    "# Check which simulation method was actually used\n",
    "print(\"Simulation method:\", result.results[0].metadata['method']) \n",
    "\n",
    "statevector = result.get_statevector(tqc)\n",
    "array_to_latex(statevector)"
   ]
  },
  {
   "cell_type": "markdown",
   "id": "94d33408-8868-4400-a483-25780ce53ad2",
   "metadata": {
    "tags": []
   },
   "source": [
    "<span style=\"color:red\">PRACTICE:</span>\n",
    "1. Try commenting the line with the non-Clifford T-gate. Which simulation method \"automatic\" should resolve to? Are we still able to recover the state vector?\n",
    "2. What does it happen if using the method \"save_state()\" instead of \"save_statevector()\"? Try both with and without the T-gate\n",
    "3. Lastly, repeat again 2, but now manually setting the simulation method to be \"statevector\". Does it change the result?\n",
    "\n",
    "It might be usefult to take a look the following related [documentation](https://qiskit.org/ecosystem/aer/apidocs/aer_library.html#saving-simulator-data)"
   ]
  },
  {
   "cell_type": "code",
   "execution_count": null,
   "id": "3a308435-728c-49fc-a7fc-1591e04355b5",
   "metadata": {
    "tags": []
   },
   "outputs": [],
   "source": [
    "# Write here your conclusions"
   ]
  },
  {
   "cell_type": "markdown",
   "id": "d4e396c9-fa5c-423e-83b6-335a223dd784",
   "metadata": {},
   "source": [
    "Let us now focus on the \"counts\" results:"
   ]
  },
  {
   "cell_type": "code",
   "execution_count": 33,
   "id": "7079e899-a115-4129-8207-f78c80d669cc",
   "metadata": {
    "tags": []
   },
   "outputs": [
    {
     "name": "stdout",
     "output_type": "stream",
     "text": [
      "{'00': 487, '11': 537}\n",
      "Simulation method: statevector\n"
     ]
    },
    {
     "data": {
      "text/latex": [
       "$$\n",
       "\n",
       "\\begin{bmatrix}\n",
       "\\frac{\\sqrt{2}}{2} & 0 & 0 & \\frac{\\sqrt{2}}{2}  \\\\\n",
       " \\end{bmatrix}\n",
       "$$"
      ],
      "text/plain": [
       "<IPython.core.display.Latex object>"
      ]
     },
     "execution_count": 33,
     "metadata": {},
     "output_type": "execute_result"
    }
   ],
   "source": [
    "from qiskit import QuantumCircuit, transpile\n",
    "from qiskit_aer import Aer\n",
    "from qiskit.visualization import array_to_latex\n",
    "\n",
    "qc = QuantumCircuit(2)\n",
    "qc.h(0)\n",
    "qc.cx(0, 1)\n",
    "#qc.measure_all()\n",
    "qc.save_statevector()\n",
    "qc.measure_all()\n",
    "\n",
    "backend = Aer.get_backend(\"aer_simulator\")\n",
    "#backend = Aer.get_backend(\"aer_simulator_statevector\")\n",
    "\n",
    "tqc = transpile(qc, backend)\n",
    "job = backend.run(tqc)\n",
    "\n",
    "result = job.result()\n",
    "\n",
    "#print(result)\n",
    "\n",
    "# Check counts\n",
    "counts = result.get_counts()\n",
    "print(counts)\n",
    "\n",
    "# Check which simulation method was actually used\n",
    "print(\"Simulation method:\", result.results[0].metadata['method']) \n",
    "\n",
    "statevector = result.get_statevector(tqc)\n",
    "array_to_latex(statevector)"
   ]
  },
  {
   "cell_type": "markdown",
   "id": "1dd8b415-4264-459e-a4cb-d213ec271f7c",
   "metadata": {},
   "source": [
    "We noticed already that even if the simulation method becomes \"statevector\", we are still able to get #shots (default 1024), which was <u>a difference with behaviour in BasicAer</u>, where with \"statevector\" simulation became one-shot\n",
    "\n",
    "On the other hand, if we do not include measurement instruction, (and using \"statevector\") we are still able to get counts, but then we get a \"one-shot\" result. This was also the behaviour with BasicAer\n",
    "\n",
    "And if we keep using \"save state\" instructions, we will be able to access to the \"state vector\". However, notice the returned \"state vector\" will be different if the \"save_statevector()\" instruction is added before or after measurements: \n",
    "\n",
    "If added later, the simulation will output a \"collapsed state\", otherwise it will save the state \"before the collapse\". Check it by commenting/uncommenting the proper lines in the code above.\n",
    "\n",
    "Notice this does not affect to the number of shots obtained if adding measurements (regarless of before/after the \"save_statevector()\" instruction). For as long as we add measurement instructions we still get \"shots-based\" simulation (default 1024) "
   ]
  },
  {
   "cell_type": "code",
   "execution_count": 34,
   "id": "78037f7a-ed74-460a-91d0-118207bd51ed",
   "metadata": {
    "tags": []
   },
   "outputs": [
    {
     "name": "stdout",
     "output_type": "stream",
     "text": [
      "Simulation method: stabilizer\n"
     ]
    },
    {
     "ename": "QiskitError",
     "evalue": "'No counts for experiment \"0\"'",
     "output_type": "error",
     "traceback": [
      "\u001b[0;31m---------------------------------------------------------------------------\u001b[0m",
      "\u001b[0;31mQiskitError\u001b[0m                               Traceback (most recent call last)",
      "\u001b[1;32m/home/jvazquez/Proyectos/MQIST/HCC/Part2_Unit2_Aer.ipynb Cell 48\u001b[0m line \u001b[0;36m2\n\u001b[1;32m     <a href='vscode-notebook-cell://wsl%2Bubuntu/home/jvazquez/Proyectos/MQIST/HCC/Part2_Unit2_Aer.ipynb#X65sdnNjb2RlLXJlbW90ZQ%3D%3D?line=17'>18</a>\u001b[0m \u001b[39m# Check which simulation method was actually used\u001b[39;00m\n\u001b[1;32m     <a href='vscode-notebook-cell://wsl%2Bubuntu/home/jvazquez/Proyectos/MQIST/HCC/Part2_Unit2_Aer.ipynb#X65sdnNjb2RlLXJlbW90ZQ%3D%3D?line=18'>19</a>\u001b[0m \u001b[39mprint\u001b[39m(\u001b[39m\"\u001b[39m\u001b[39mSimulation method:\u001b[39m\u001b[39m\"\u001b[39m, result\u001b[39m.\u001b[39mresults[\u001b[39m0\u001b[39m]\u001b[39m.\u001b[39mmetadata[\u001b[39m'\u001b[39m\u001b[39mmethod\u001b[39m\u001b[39m'\u001b[39m]) \n\u001b[0;32m---> <a href='vscode-notebook-cell://wsl%2Bubuntu/home/jvazquez/Proyectos/MQIST/HCC/Part2_Unit2_Aer.ipynb#X65sdnNjb2RlLXJlbW90ZQ%3D%3D?line=20'>21</a>\u001b[0m counts \u001b[39m=\u001b[39m result\u001b[39m.\u001b[39;49mget_counts()\n\u001b[1;32m     <a href='vscode-notebook-cell://wsl%2Bubuntu/home/jvazquez/Proyectos/MQIST/HCC/Part2_Unit2_Aer.ipynb#X65sdnNjb2RlLXJlbW90ZQ%3D%3D?line=21'>22</a>\u001b[0m \u001b[39mprint\u001b[39m(counts)\n",
      "File \u001b[0;32m~/miniconda3/envs/basic-quantum/lib/python3.9/site-packages/qiskit/result/result.py:289\u001b[0m, in \u001b[0;36mResult.get_counts\u001b[0;34m(self, experiment)\u001b[0m\n\u001b[1;32m    287\u001b[0m         dict_list\u001b[39m.\u001b[39mappend(statevector\u001b[39m.\u001b[39mStatevector(vec)\u001b[39m.\u001b[39mprobabilities_dict(decimals\u001b[39m=\u001b[39m\u001b[39m15\u001b[39m))\n\u001b[1;32m    288\u001b[0m     \u001b[39melse\u001b[39;00m:\n\u001b[0;32m--> 289\u001b[0m         \u001b[39mraise\u001b[39;00m QiskitError(\u001b[39mf\u001b[39m\u001b[39m'\u001b[39m\u001b[39mNo counts for experiment \u001b[39m\u001b[39m\"\u001b[39m\u001b[39m{\u001b[39;00m\u001b[39mrepr\u001b[39m(key)\u001b[39m}\u001b[39;00m\u001b[39m\"\u001b[39m\u001b[39m'\u001b[39m)\n\u001b[1;32m    291\u001b[0m \u001b[39m# Return first item of dict_list if size is 1\u001b[39;00m\n\u001b[1;32m    292\u001b[0m \u001b[39mif\u001b[39;00m \u001b[39mlen\u001b[39m(dict_list) \u001b[39m==\u001b[39m \u001b[39m1\u001b[39m:\n",
      "\u001b[0;31mQiskitError\u001b[0m: 'No counts for experiment \"0\"'"
     ]
    }
   ],
   "source": [
    "# Just as a recall, if no \"save_statevector\" NOR measurements are included, get_counts will raise an error:\n",
    "from qiskit import QuantumCircuit, transpile\n",
    "from qiskit_aer import Aer\n",
    "\n",
    "qc = QuantumCircuit(2)\n",
    "qc.h(0)\n",
    "qc.cx(0, 1)\n",
    "#qc.save_statevector() # Uncomment will solve the error\n",
    "#qc.measure_all() # Unconmment will solve the error\n",
    "\n",
    "backend = Aer.get_backend(\"aer_simulator\")\n",
    "\n",
    "tqc = transpile(qc, backend)\n",
    "job = backend.run(tqc)\n",
    "\n",
    "result = job.result()\n",
    "\n",
    "# Check which simulation method was actually used\n",
    "print(\"Simulation method:\", result.results[0].metadata['method']) \n",
    "\n",
    "counts = result.get_counts()\n",
    "print(counts)"
   ]
  },
  {
   "cell_type": "markdown",
   "id": "ef6a3bd0-b997-46cd-89c6-19168a614cf5",
   "metadata": {},
   "source": [
    "<span style=\"color:red\">EXERCISE:</span> Run the following code several times. \n",
    "\n",
    "-Do we always get the same \"collapsed\" output state? Why?\n",
    "\n",
    "-Execute then, also multiple times, the second code block. Do we find a correspondence between the \"memorized\" execution results and the output \"collapsed\" state vector?"
   ]
  },
  {
   "cell_type": "code",
   "execution_count": 45,
   "id": "74f24d16-80ab-43af-a0ae-cdfa45e27aae",
   "metadata": {
    "tags": []
   },
   "outputs": [
    {
     "name": "stdout",
     "output_type": "stream",
     "text": [
      "Simulation method: statevector\n",
      "{'11': 4, '00': 6}\n"
     ]
    },
    {
     "data": {
      "text/latex": [
       "$$\n",
       "\n",
       "\\begin{bmatrix}\n",
       "1 & 0 & 0 & 0  \\\\\n",
       " \\end{bmatrix}\n",
       "$$"
      ],
      "text/plain": [
       "<IPython.core.display.Latex object>"
      ]
     },
     "execution_count": 45,
     "metadata": {},
     "output_type": "execute_result"
    }
   ],
   "source": [
    "from qiskit import QuantumCircuit, transpile\n",
    "from qiskit_aer import Aer\n",
    "from qiskit.visualization import array_to_latex\n",
    "\n",
    "qc = QuantumCircuit(2)\n",
    "qc.h(0)\n",
    "qc.cx(0, 1)\n",
    "qc.measure_all()\n",
    "\n",
    "qc.save_statevector()\n",
    "#qc.measure_all()\n",
    "\n",
    "backend = Aer.get_backend(\"aer_simulator\")\n",
    "\n",
    "tqc = transpile(qc, backend)\n",
    "job = backend.run(tqc, shots=10)\n",
    "\n",
    "result = job.result()\n",
    "counts = result.get_counts()\n",
    "statevector = result.get_statevector(tqc)\n",
    "\n",
    "# Check which simulation method was actually used\n",
    "print(\"Simulation method:\", result.results[0].metadata['method']) \n",
    "print(counts)\n",
    "array_to_latex(statevector)"
   ]
  },
  {
   "cell_type": "code",
   "execution_count": 40,
   "id": "b3e7840e-6a62-45a8-9326-2f30e8d27393",
   "metadata": {
    "tags": []
   },
   "outputs": [
    {
     "name": "stdout",
     "output_type": "stream",
     "text": [
      "Simulation method: statevector\n",
      "['11', '11', '00', '11', '11', '00', '11', '00', '00', '11']\n"
     ]
    },
    {
     "data": {
      "text/latex": [
       "$$\n",
       "\n",
       "\\begin{bmatrix}\n",
       "0 & 0 & 0 & 1  \\\\\n",
       " \\end{bmatrix}\n",
       "$$"
      ],
      "text/plain": [
       "<IPython.core.display.Latex object>"
      ]
     },
     "execution_count": 40,
     "metadata": {},
     "output_type": "execute_result"
    }
   ],
   "source": [
    "# Now try this, we can recover all the individual results\n",
    "result = backend.run(tqc, shots=10, memory=True).result()\n",
    "memory = result.get_memory(tqc)\n",
    "print(\"Simulation method:\", result.results[0].metadata['method']) \n",
    "print(memory)\n",
    "#print(result.data())\n",
    "array_to_latex(result.get_statevector())"
   ]
  },
  {
   "cell_type": "markdown",
   "id": "652e03c2",
   "metadata": {},
   "source": [
    "--------------------- MY SOLUTION ---------------------\n",
    "\n",
    "In the first code block the statevector that we get oscilates between $|00\\rangle$ and $|11\\rangle$. This is due to the fact that each time we execute, only the result of the last shot of the circuit is saved into the state vector. Sometimes the result is $|00\\rangle$ and sometimes is $|11\\rangle$, with $0.5$ probability.\n",
    "\n",
    "In the second block we see this perfectly. The last measured obtain in the simulation always corresponds with the statevector that we get, precisely because the statevector stored if the method `save_statevector` is used after the measurementes always corresponds with the collapsed state of the last shot, as we said before."
   ]
  },
  {
   "cell_type": "markdown",
   "id": "3de58ab8-4bf0-4639-93d5-7c63d6ae6090",
   "metadata": {},
   "source": [
    "### 3.1.4. Other Aer simulation options"
   ]
  },
  {
   "cell_type": "markdown",
   "id": "020147e4-bd0a-4a60-a715-cdb14c779f28",
   "metadata": {},
   "source": [
    "The AerSimulator backend supports a variety of configurable options which can be updated using the ```set_options``` method. \n",
    "\n",
    "One of the available simulator options allows setting the float precision for the ```statevector```, ```density_matrix```, ```unitary``` and ```superop``` methods. This is done using the ```set_precision=\"single\"``` or ```precision=\"double\"``` (default) option:"
   ]
  },
  {
   "cell_type": "code",
   "execution_count": null,
   "id": "d89174f3-660c-4472-8fa7-79631bfb6ef5",
   "metadata": {},
   "outputs": [],
   "source": [
    "from qiskit import QuantumCircuit, transpile\n",
    "from qiskit_aer import Aer\n",
    "\n",
    "qc = QuantumCircuit(2)\n",
    "qc.h(0)\n",
    "qc.cx(0, 1)\n",
    "qc.save_statevector()\n",
    "\n",
    "# Configure statevector simulator backend\n",
    "simulator = Aer.get_backend('aer_simulator_statevector')\n",
    "tqc = transpile(qc, simulator)\n",
    "\n",
    "# Run and get counts\n",
    "result = simulator.run(tqc, precision=\"single\").result() # Singlel precision\n",
    "print(result.get_statevector())\n",
    "\n",
    "# Run and get counts\n",
    "result = simulator.run(tqc, precision=\"double\").result() # Default double precision\n",
    "print(result.get_statevector())"
   ]
  },
  {
   "cell_type": "markdown",
   "id": "19695f89-2997-470f-8257-2f55b8b7808b",
   "metadata": {},
   "source": [
    "Single precision will halve the required memory and may provide performance improvements on certain systems. \n",
    "\n",
    "Check the AerSimulator <a href=https://qiskit.org/ecosystem/aer/stubs/qiskit_aer.AerSimulator.html>API documentation</a> for additional details and configuration options"
   ]
  },
  {
   "cell_type": "markdown",
   "id": "238dd42c-8d84-45fc-a95d-29792357d825",
   "metadata": {},
   "source": [
    "It is also worth taking a look to other options, like running in GPU, saving multiple states, or setting the simulator to custom states, available in the following [Aer tutorial](https://qiskit.org/ecosystem/aer/tutorials/1_aer_provider.html#Setting-the-simulator-to-a-custom-state)"
   ]
  },
  {
   "cell_type": "markdown",
   "id": "adadd5a8-6ea9-4c8a-b6ff-6ba10308e7f5",
   "metadata": {
    "tags": []
   },
   "source": [
    "<span style=\"color:red\">EXERCISE:</span> Explore the following two additional tutorials about the [Extended Stabilizer](https://qiskit.org/ecosystem/aer/tutorials/6_extended_stabilizer_tutorial.html) and [Matrix Product State](https://qiskit.org/ecosystem/aer/tutorials/7_matrix_product_state_method.html) simulation methods."
   ]
  },
  {
   "cell_type": "markdown",
   "id": "a5c2c726",
   "metadata": {},
   "source": [
    "--------------------- MY SOLUTION ---------------------\n",
    "\n",
    "#### Extended Stabilizer\n",
    "\n",
    "The great thing about this method is that can simulate large circuits (up to 63 qubits). "
   ]
  },
  {
   "cell_type": "code",
   "execution_count": 47,
   "id": "5e175071-4557-45ce-b6c3-440ec9a2d667",
   "metadata": {},
   "outputs": [
    {
     "name": "stdout",
     "output_type": "stream",
     "text": [
      "This succeeded?: True\n"
     ]
    }
   ],
   "source": [
    "from qiskit import QuantumCircuit, transpile\n",
    "from qiskit_aer import AerSimulator\n",
    "from qiskit.tools.visualization import plot_histogram\n",
    "\n",
    "import random\n",
    "\n",
    "circ = QuantumCircuit(40, 40)\n",
    "\n",
    "# Initialize with a Hadamard layer\n",
    "circ.h(range(40))\n",
    "# Apply some random CNOT and T gates\n",
    "qubit_indices = [i for i in range(40)]\n",
    "for i in range(10):\n",
    "    control, target, t = random.sample(qubit_indices, 3)\n",
    "    circ.cx(control, target)\n",
    "    circ.t(t)\n",
    "circ.measure(range(40), range(40))\n",
    "\n",
    "# Create extended stabilizer method simulator\n",
    "extended_stabilizer_simulator = AerSimulator(method='extended_stabilizer')\n",
    "\n",
    "# Transpile circuit for backend\n",
    "tcirc = transpile(circ, extended_stabilizer_simulator)\n",
    "\n",
    "extended_stabilizer_result = extended_stabilizer_simulator.run(tcirc, shots=1).result()\n",
    "print('This succeeded?: {}'.format(extended_stabilizer_result.success))"
   ]
  },
  {
   "cell_type": "markdown",
   "id": "206d9daa",
   "metadata": {},
   "source": [
    "But, the decompositions that it uses are approximate. For example, if we used statevector simulator we would get slightly different results, but we can control the error with the `extended_stabilizer_approximation_error` option (default is 0.05). It takes more time. There are also other options like `extended_stabilizer_mixing_time`, which can be used if you expect your circuit output to be concentrated on just a few output states, or `extended_stabilizer_measure_sampling` , if your circuit has some non-zero probability on all amplitudes (e.g. if it’s a random circuit).\n",
    "\n",
    "So, to sum up, if you have smaller circuits with lots of non-Clifford gates, then the statevector method will likely perform better than the extended stabilizer. If however you want to look at circuits on many qubits, without needing access to high performance computation, then this simulator may be the way to go."
   ]
  },
  {
   "cell_type": "code",
   "execution_count": 49,
   "id": "5a71a057",
   "metadata": {},
   "outputs": [
    {
     "name": "stdout",
     "output_type": "stream",
     "text": [
      "100 shots in 2.658268928527832s\n"
     ]
    },
    {
     "data": {
      "image/png": "[encoded data removed]",
      "text/plain": [
       "<Figure size 700x500 with 1 Axes>"
      ]
     },
     "execution_count": 49,
     "metadata": {},
     "output_type": "execute_result"
    }
   ],
   "source": [
    "small_circ = QuantumCircuit(2, 2)\n",
    "small_circ.h(0)\n",
    "small_circ.cx(0, 1)\n",
    "small_circ.t(0)\n",
    "small_circ.measure([0, 1], [0, 1])\n",
    "# This circuit should give 00 or 11 with equal probability...\n",
    "expected_results ={'00': 50, '11': 50}\n",
    "\n",
    "tsmall_circ = transpile(small_circ, extended_stabilizer_simulator)\n",
    "opts = {'extended_stabilizer_approximation_error': 0.03}\n",
    "\n",
    "result = extended_stabilizer_simulator.run(\n",
    "    tsmall_circ, shots=100, **opts).result()\n",
    "counts = result.get_counts(0)\n",
    "print('100 shots in {}s'.format(result.time_taken))\n",
    "\n",
    "plot_histogram([expected_results, counts],\n",
    "               legend=['Expected', 'Extended Stabilizer'])"
   ]
  },
  {
   "cell_type": "markdown",
   "id": "1a62a191",
   "metadata": {},
   "source": [
    "#### Matrix Product State (MPS)\n",
    "\n",
    "MPS offers a local representation of a quantum state, allowing for more efficient operations in quantum circuits with fewer two-qubit gates. The MPS representation can simplify the exponential complexity involved in state vector representations of quantum systems, particularly when dealing with quantum gates that operate on consecutive qubits.\n",
    "\n",
    "In the worst case, the tensors may grow exponentially. However, the size of the overall structure remains ‘small’ for circuits that do not have ‘many’ two-qubit gates. This allows much more efficient operations in circuits with relatively ‘low’ entanglement."
   ]
  },
  {
   "cell_type": "code",
   "execution_count": 50,
   "id": "9c763ba1",
   "metadata": {},
   "outputs": [
    {
     "data": {
      "text/plain": [
       "{'11': 514, '00': 510}"
      ]
     },
     "execution_count": 50,
     "metadata": {},
     "output_type": "execute_result"
    }
   ],
   "source": [
    "import numpy as np\n",
    "\n",
    "# Import Qiskit\n",
    "from qiskit import QuantumCircuit, transpile\n",
    "from qiskit_aer import AerSimulator\n",
    "\n",
    "# Construct quantum circuit\n",
    "circ = QuantumCircuit(2, 2)\n",
    "circ.h(0)\n",
    "circ.cx(0, 1)\n",
    "circ.measure([0,1], [0,1])\n",
    "\n",
    "# Select the AerSimulator from the Aer provider\n",
    "simulator = AerSimulator(method='matrix_product_state')\n",
    "\n",
    "# Run and get counts, using the matrix_product_state method\n",
    "tcirc = transpile(circ, simulator)\n",
    "result = simulator.run(tcirc).result()\n",
    "counts = result.get_counts(0)\n",
    "counts"
   ]
  },
  {
   "cell_type": "markdown",
   "id": "79cc80bd",
   "metadata": {},
   "source": [
    "To return the full internal MPS structure we can also use the `save_matrix_product_state` instruction and also the statevector can be saved with the usual `save_statevector` method (although this has an exponential time cost)."
   ]
  },
  {
   "cell_type": "code",
   "execution_count": 52,
   "id": "17b59f8a",
   "metadata": {},
   "outputs": [
    {
     "data": {
      "text/plain": [
       "{'counts': {'0x3': 508, '0x0': 516},\n",
       " 'my_sv': Statevector([0.70710678+0.j, 0.        +0.j, 0.        +0.j,\n",
       "              0.70710678+0.j],\n",
       "             dims=(2, 2)),\n",
       " 'my_mps': ([(array([[1.-0.j, 0.-0.j]]), array([[0.-0.j, 1.-0.j]])),\n",
       "   (array([[1.-0.j],\n",
       "           [0.-0.j]]),\n",
       "    array([[0.-0.j],\n",
       "           [1.-0.j]]))],\n",
       "  [array([0.70710678, 0.70710678])])}"
      ]
     },
     "execution_count": 52,
     "metadata": {},
     "output_type": "execute_result"
    }
   ],
   "source": [
    "circ = QuantumCircuit(2, 2)\n",
    "circ.h(0)\n",
    "circ.cx(0, 1)\n",
    "\n",
    "# Define a snapshot that shows the current state vector\n",
    "circ.save_statevector(label='my_sv')\n",
    "circ.save_matrix_product_state(label='my_mps')\n",
    "circ.measure([0,1], [0,1])\n",
    "\n",
    "# Execute and get saved data\n",
    "tcirc = transpile(circ, simulator)\n",
    "result = simulator.run(tcirc).result()\n",
    "data = result.data(0)\n",
    "\n",
    "#print the result data\n",
    "data"
   ]
  },
  {
   "cell_type": "markdown",
   "id": "8a315305",
   "metadata": {},
   "source": [
    "We can benefit if we only do operations that don’t require printing the full state vector. For example, if we run a circuit and then take measurement. The circuit below has 200 qubits. We create an EPR state involving all these qubits. Although this state is highly entangled, it is handled well by the matrix product state method, because there are effectively only two states."
   ]
  },
  {
   "cell_type": "code",
   "execution_count": 53,
   "id": "177527f2",
   "metadata": {},
   "outputs": [
    {
     "name": "stdout",
     "output_type": "stream",
     "text": [
      "Time taken: 0.07596516609191895 sec\n"
     ]
    },
    {
     "data": {
      "text/plain": [
       "{'00000000000000000000000000000000000000000000000000': 542,\n",
       " '11111111111111111111111111111111111111111111111111': 482}"
      ]
     },
     "execution_count": 53,
     "metadata": {},
     "output_type": "execute_result"
    }
   ],
   "source": [
    "num_qubits = 50\n",
    "circ = QuantumCircuit(num_qubits, num_qubits)\n",
    "\n",
    "# Create EPR state\n",
    "circ.h(0)\n",
    "for i in range (0, num_qubits-1):\n",
    "    circ.cx(i, i+1)\n",
    "\n",
    "# Measure\n",
    "circ.measure(range(num_qubits), range(num_qubits))\n",
    "\n",
    "tcirc = transpile(circ, simulator)\n",
    "result = simulator.run(tcirc).result()\n",
    "print(\"Time taken: {} sec\".format(result.time_taken))\n",
    "result.get_counts()"
   ]
  }
 ],
 "metadata": {
  "kernelspec": {
   "display_name": "basic-quantum",
   "language": "python",
   "name": "python3"
  },
  "language_info": {
   "codemirror_mode": {
    "name": "ipython",
    "version": 3
   },
   "file_extension": ".py",
   "mimetype": "text/x-python",
   "name": "python",
   "nbconvert_exporter": "python",
   "pygments_lexer": "ipython3",
   "version": "3.9.0"
  }
 },
 "nbformat": 4,
 "nbformat_minor": 5
}
