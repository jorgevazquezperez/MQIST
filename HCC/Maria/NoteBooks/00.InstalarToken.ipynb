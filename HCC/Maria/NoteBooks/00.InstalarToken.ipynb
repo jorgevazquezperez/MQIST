{
 "cells": [
  {
   "cell_type": "markdown",
   "metadata": {},
   "source": [
    "# Instalando tu \"API token\"\n",
    "\n",
    "Para poder ejecutar circuitos en un computador cuántico de IBM desde tu ordenador personal necesitas guardar tu \"API token\" en tu disco. Esto solo hace falta hacerlo una vez, después solo vas a necesitas cargar tu cuenta utilizando \"provider=IBMprovider()\". \n",
    "\n",
    "<font color='red'> NOTA: Previamente se necesita haber instalado el paquete qiskit_ibm_provider (\"pip install qiskit-ibm-provider\")"
   ]
  },
  {
   "cell_type": "code",
   "execution_count": null,
   "metadata": {},
   "outputs": [],
   "source": [
    "from qiskit_ibm_provider import IBMProvider #importamos la clase IBMProvider\n",
    "\n",
    "#Instala tu API token localmente \n",
    "IBMProvider.save_account('MY_API_TOKEN') #sustituye MY_API_TOKEN por el API_TOKEN que has copiado de tu cuenta\n",
    "\n",
    "#Especifica que vas a usar los recursos de IBMQ\n",
    "provider=IBMProvider()"
   ]
  }
 ],
 "metadata": {
  "kernelspec": {
   "display_name": "Python 3 (ipykernel)",
   "language": "python",
   "name": "python3"
  },
  "language_info": {
   "codemirror_mode": {
    "name": "ipython",
    "version": 3
   },
   "file_extension": ".py",
   "mimetype": "text/x-python",
   "name": "python",
   "nbconvert_exporter": "python",
   "pygments_lexer": "ipython3",
   "version": "3.11.4"
  }
 },
 "nbformat": 4,
 "nbformat_minor": 4
}
