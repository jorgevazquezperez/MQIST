{
 "cells": [
  {
   "cell_type": "markdown",
   "id": "feac998a",
   "metadata": {},
   "source": [
    "# Practice 1\n",
    "### Autor: Jorge Vázquez Pérez\n",
    "\n",
    "In this practice the distributed version of the Quantum Phase Estimation algorithm is going to be carried out along with an explanation of its difficulties and details. First of all, before any circuit and algorithm implementation all the necessary imports will be carried out."
   ]
  },
  {
   "cell_type": "code",
   "execution_count": 2,
   "id": "11da0503-2719-41ac-a12a-65a65e56659e",
   "metadata": {},
   "outputs": [],
   "source": [
    "# Importing Qiskit\n",
    "from qiskit import IBMQ, Aer, transpile\n",
    "from qiskit import QuantumCircuit, ClassicalRegister, QuantumRegister\n",
    "from qiskit.circuit.library import QFT\n",
    "from qiskit.circuit.library import PhaseGate\n",
    "from qiskit.circuit import Gate"
   ]
  },
  {
   "cell_type": "code",
   "execution_count": 3,
   "id": "64d6e387-0cc0-4fc2-8864-2f0be85578e6",
   "metadata": {},
   "outputs": [],
   "source": [
    "def _process_answer(counts: dict) -> dict:\n",
    "    \"\"\"Auxiliar funtion to process the counts and erase the intermediate measures from the result.\n",
    "    Args:\n",
    "        counts: Result from the measurements of the quantum circuit.\n",
    "    Returns:\n",
    "        dict: Dictionary with the significant measures.\n",
    "    \"\"\"\n",
    "    new_dict = {}\n",
    "    for key, count in counts.items():\n",
    "        keys = key.split()\n",
    "        if len(keys) < 2:\n",
    "            return\n",
    "        new_key = keys[1]\n",
    "        if new_key in new_dict:\n",
    "            new_dict[new_key] = new_dict[new_key] + count\n",
    "        else:\n",
    "            new_dict[new_key] = count\n",
    "    return new_dict\n"
   ]
  },
  {
   "cell_type": "code",
   "execution_count": null,
   "id": "5dd087e9-e872-402d-9999-a7442228b0c4",
   "metadata": {},
   "outputs": [],
   "source": [
    "def qpe(gate: Gate, n_eval: )"
   ]
  },
  {
   "cell_type": "markdown",
   "id": "edf04b07",
   "metadata": {},
   "source": [
    "## 1. Develop a quantum algorithm based on gates and circuits"
   ]
  },
  {
   "cell_type": "markdown",
   "id": "4eb985e3",
   "metadata": {},
   "source": [
    "Before starting the IPE algorithm, we will give a brief tutorial about the Qiskit conditional method, `c_if`, as it goes into building the IPE circuit.\n",
    "\n",
    "`c_if` is a function (actually a method of the gate class) to perform conditioned operations based on the value stored previously in a classical register. With this feature you can apply gates after a measurement in the same circuit conditioned by the measurement outcome.\n",
    "\n",
    "For example, the following code will execute the $X$ gate if the value of the classical register is $0$."
   ]
  },
  {
   "cell_type": "code",
   "execution_count": null,
   "id": "8d3ed2e3",
   "metadata": {},
   "outputs": [],
   "source": [
    "from qiskit import QuantumCircuit\n",
    "\n",
    "qc = QuantumCircuit(1, 1)\n",
    "qc.h(0)\n",
    "qc.measure(0,0)\n",
    "qc.x(0).c_if(0, 0)\n",
    "qc.draw(output='mpl')"
   ]
  },
  {
   "cell_type": "markdown",
   "id": "7bb05bbd",
   "metadata": {},
   "source": [
    "We highlight that the method ``c_if`` expects as the first argument a whole classical register, not a single classical bit (or a list of classical bits), and as the second argument a value in decimal representation (a non-negative integer), not the value of a single bit, 0, or 1 (or a list/string of binary digits).\n",
    "\n",
    "Let's make another example. Consider that we want to perform a bit flip on the third qubit after the measurements in the following circuit, when the results of the measurement of $q_0$ and $q_1$ are both $1$."
   ]
  },
  {
   "cell_type": "code",
   "execution_count": null,
   "id": "00b7d3a1",
   "metadata": {},
   "outputs": [],
   "source": [
    "from qiskit import QuantumRegister, ClassicalRegister\n",
    "\n",
    "q = QuantumRegister(3, 'q')\n",
    "c = ClassicalRegister(3, 'c')\n",
    "qc = QuantumCircuit(q, c)\n",
    "\n",
    "qc.h([0, 1, 2])\n",
    "qc.barrier()\n",
    "qc.measure(q, c)\n",
    "\n",
    "qc.draw('mpl')"
   ]
  },
  {
   "cell_type": "markdown",
   "id": "ae92e111",
   "metadata": {},
   "source": [
    "We want to apply the $X$ gate, only if both the results of the measurement of $q_0$ and $q_1$ are $1$. We can do this using the ``c_if`` method, conditioning the application of $X$ depending on the value passed as argument to ``c_if``.\n",
    "\n",
    "We will have to encode the value to pass to the ``c_if`` method such that it will check the values 011 and 111 (in binary representation), since it does not matter what $q_2$ is measured as.\n",
    "\n",
    "The 2 integer values in decimal representation:\n",
    "\n",
    "$$\\begin{alignedat}{2}\n",
    "\\left.\\begin{array}{ccc}2^2 & 2^1 & 2^0\\\\\\hline 0 & 1 & 1\\end{array}\\ \\right\\vert&\\ (0\\times2^2) + (1\\times2^1) + (1\\times2^0) = &&2 + 1 = 3 \\\\[10px]\n",
    "\\left.\\begin{array}{ccc}2^2 & 2^1 & 2^0\\\\\\hline 1 & 1 & 1\\end{array}\\ \\right\\vert&\\ (1\\times2^2) + (1\\times2^1) + (1\\times2^0) = 4 + {}&&2 + 1 = 7\n",
    "\\end{alignedat}$$"
   ]
  },
  {
   "cell_type": "markdown",
   "id": "25fa9853",
   "metadata": {},
   "source": [
    "We can check the solutions using the ``bin()`` method in python (the prefix `0b` indicates the binary format)."
   ]
  },
  {
   "cell_type": "code",
   "execution_count": null,
   "id": "19b565e1",
   "metadata": {},
   "outputs": [],
   "source": [
    "print(bin(3))\n",
    "print(bin(7))"
   ]
  },
  {
   "cell_type": "markdown",
   "id": "c4c65c39",
   "metadata": {},
   "source": [
    "So we have to apply $X$ to $q_2$ using ``c_if`` two times, one for each value corresponding to 011 and 111."
   ]
  },
  {
   "cell_type": "code",
   "execution_count": null,
   "id": "1bbd6b37",
   "metadata": {},
   "outputs": [],
   "source": [
    "qc.x(2).c_if(c, 3) # for the 011 case\n",
    "qc.x(2).c_if(c, 7) # for the 111 case\n",
    "\n",
    "qc.draw(output='mpl')"
   ]
  },
  {
   "cell_type": "markdown",
   "id": "9a50c886",
   "metadata": {},
   "source": [
    "# IPE\n",
    "\n",
    "The motivation for using the IPE algorithm is that QPE algorithm works fine for short depth circuits but when the circuit starts to grow, it doesn't work properly due to gate noise and decoherence times.\n",
    "\n",
    "The detailed explanation of how the algorithm works can be found in [Iterative Phase Estimation (IPE) Algorithm](https://learn.qiskit.org/course/ch-labs/lab-6-iterative-phase-estimation-algorithm). To understand QPE in depth, you can see also [Ch.3.6 Quantum Phase Estimation](https://learn.qiskit.org/course/ch-algorithms/quantum-phase-estimation).\n",
    "\n",
    "## IPE example with a 1-qubit gate for $U$\n",
    "\n",
    "We want to apply the IPE algorithm to estimate the phase for a 1-qubit operator $U$.  For example, here we use the $S$-gate.\n",
    "\n",
    "Let's apply the IPE algorithm to estimate the phase for $S$-gate.\n",
    "Its matrix is \n",
    "$$ S = \n",
    "\\begin{bmatrix}\n",
    "1 & 0\\\\\n",
    "0 & e^\\frac{i\\pi}{2}\\\\ \n",
    "\\end{bmatrix}$$\n",
    "\n",
    "That is, the $S$-gate adds a phase $\\pi/2$ to the state $|1\\rangle$, leaving unchanged the phase of the state $|0\\rangle$\n",
    "\n",
    "$$ S|1\\rangle = e^\\frac{i\\pi}{2}|1\\rangle $$\n",
    "\n",
    "In the following, we will use the notation and terms used in [Section 2 of lab 6](https://learn.qiskit.org/course/ch-labs/lab-6-iterative-phase-estimation-algorithm#lab-15-0).\n",
    "\n",
    "Let's consider to estimate the phase $\\phi=\\frac{\\pi}{2}$ for the eigenstate $|1\\rangle$, we should find $\\varphi=\\frac{1}{4}$ (where $\\phi = 2 \\pi \\varphi$). Therefore to estimate the phase we need exactly 2 phase bits, i.e. $m=2$, since $1/2^2=1/4$. So $\\varphi=0.\\varphi_1\\varphi_2$.\n",
    "\n",
    "Remember from the theory that for the IPE algorithm, $m$ is also the number of iterations, so we need only $2$ iterations or steps.\n",
    "\n",
    "First, we initialize the circuit. IPE works with only 1 auxiliary qubit, instead of $m$ counting qubits of the QPE algorithm. Therefore, we need 2 qubits, 1 auxiliary qubit and 1 for the eigenstate of $U$-gate, and a classical register of 2 bits, for the phase bits $\\varphi_1$, $\\varphi_2$."
   ]
  },
  {
   "cell_type": "code",
   "execution_count": null,
   "id": "c82b1da1",
   "metadata": {},
   "outputs": [],
   "source": [
    "nq = 2\n",
    "m = 2\n",
    "q = QuantumRegister(nq, 'q')\n",
    "c = ClassicalRegister(m, 'c')\n",
    "\n",
    "qc_S = QuantumCircuit(q,c)"
   ]
  },
  {
   "cell_type": "markdown",
   "id": "fead17a6",
   "metadata": {},
   "source": [
    "### First step\n",
    "\n",
    "Now we build the quantum circuit for the first step, that is, the first iteration of the algorithm, to estimate the least significant phase bit $\\varphi_m$, in this case $\\varphi_2$. For the first step we have 3 sub-steps:\n",
    "- initialization\n",
    "- application of the Controlled-$U$ gates\n",
    "- measure of the auxiliary qubit in X-basis\n",
    "\n",
    "#### Initialization\n",
    "\n",
    "The initialization consists of application the Hadamard gate to the auxiliary qubit and the preparation of the eigenstate $|1\\rangle$."
   ]
  },
  {
   "cell_type": "code",
   "execution_count": null,
   "id": "b0eb6f14",
   "metadata": {},
   "outputs": [],
   "source": [
    "qc_S.h(0)\n",
    "qc_S.x(1)\n",
    "qc_S.draw('mpl')"
   ]
  },
  {
   "cell_type": "markdown",
   "id": "30757254",
   "metadata": {},
   "source": [
    "#### Application of the Controlled-$U$ gates\n",
    "\n",
    "Then we have to apply $2^t$ times the Controlled-$U$ operators (see also in the docs [Two qubit gates](https://qiskit.org/documentation/tutorials/circuits/3_summary_of_quantum_operations.html#Two-qubit-gates)), that, in this example, is the Controlled-$S$ gate ($CS$ for short).\n",
    "\n",
    "To implement $CS$ in the circuit, since $S$ is a phase gate, we can use the controlled phase gate $\\text{CP}(\\theta)$, with $\\theta=\\pi/2$."
   ]
  },
  {
   "cell_type": "code",
   "execution_count": null,
   "id": "4629d696",
   "metadata": {},
   "outputs": [],
   "source": [
    "from math import pi\n",
    "\n",
    "cu_circ = QuantumCircuit(2)\n",
    "cu_circ.cp(pi/2, 0, 1)\n",
    "cu_circ.draw('mpl')"
   ]
  },
  {
   "cell_type": "markdown",
   "id": "9a09a586",
   "metadata": {},
   "source": [
    "Let's apply $2^t$ times $\\text{CP}(\\pi/2)$. Since for the first step $t=m-1$, and $m=2$, we have $2^t=2$."
   ]
  },
  {
   "cell_type": "code",
   "execution_count": null,
   "id": "3e94b96d",
   "metadata": {},
   "outputs": [],
   "source": [
    "for _ in range(2 ** (m - 1)):\n",
    "    qc_S.cp(pi/2, 0, 1)\n",
    "qc_S.draw('mpl')"
   ]
  },
  {
   "cell_type": "markdown",
   "id": "db469592",
   "metadata": {},
   "source": [
    "#### Measure in X-basis\n",
    "\n",
    "Finally, we perform the measurement of the auxiliary qubit in X-basis. So we will define a function to perform the ``x_measurement`` and then apply it."
   ]
  },
  {
   "cell_type": "code",
   "execution_count": null,
   "id": "aa1cd4fb",
   "metadata": {},
   "outputs": [],
   "source": [
    "def x_measurement(qc, qubit, cbit):\n",
    "    \"\"\"Measure 'qubit' in the X-basis, and store the result in 'cbit'\"\"\"\n",
    "    qc.h(qubit)\n",
    "    qc.measure(qubit, cbit)"
   ]
  },
  {
   "cell_type": "markdown",
   "id": "8e4417ce",
   "metadata": {},
   "source": [
    "In this way we obtain the phase bit $\\varphi_2$ and store it in the classical bit $c_0$."
   ]
  },
  {
   "cell_type": "code",
   "execution_count": null,
   "id": "9d767f96",
   "metadata": {},
   "outputs": [],
   "source": [
    "x_measurement(qc_S, q[0], c[0])\n",
    "qc_S.draw('mpl')"
   ]
  },
  {
   "cell_type": "markdown",
   "id": "99727bfd",
   "metadata": {},
   "source": [
    "### Subsequent steps (2nd step)\n",
    "\n",
    "Now we build the quantum circuit for the other remaining steps, in this example, only the second one.\n",
    "In these steps we have 4 sub-steps: the 3 sub-steps as in the first step and, in the middle, the additional step of the phase correction\n",
    "- initialization with reset\n",
    "- phase correction\n",
    "- application of the Control-$U$ gates\n",
    "- measure of the auxiliary qubit in X-basis\n",
    "\n",
    "#### Initialization with reset\n",
    "\n",
    "As we want to perform an iterative algorithm in the same circuit, we need to reset the auxiliary qubit $q_0$ after the measument gate and initialize it again as before to recycle the qubit. "
   ]
  },
  {
   "cell_type": "code",
   "execution_count": null,
   "id": "c69ed53a",
   "metadata": {},
   "outputs": [],
   "source": [
    "qc_S.reset(0)\n",
    "qc_S.h(0)\n",
    "qc_S.draw('mpl')"
   ]
  },
  {
   "cell_type": "markdown",
   "id": "60060d00",
   "metadata": {},
   "source": [
    "#### Phase correction (for step 2)\n",
    "As seen in the theory, in order to extract the phase bit $\\varphi_{1}$, we perform a phase correction of $-\\pi\\varphi_2/2$.\n",
    "Of course, we need to apply the phase correction in the circuit only if the phase bit $\\varphi_2=1$, i.e. we have to apply the phase correction of $-\\pi/2$ only if the classical bit $c_0$ is 1.\n",
    "\n",
    "So, after the reset we apply the phase gate $P(\\theta)$ with phase $\\theta=-\\pi/2$ conditioned by the classical bit $c_0$ ($=\\varphi_2$) using the `c_if` method.\n",
    "So as we saw in the first part of this tutorial, we have to use the `c_if` method with a value of 1, as $1_{10} = 001_{2}$ (the subscripts $_{10}$ and $_2$ indicate the decimal and binary representations)."
   ]
  },
  {
   "cell_type": "code",
   "execution_count": null,
   "id": "4d7b8a7b",
   "metadata": {},
   "outputs": [],
   "source": [
    "qc_S.p(-pi/2, 0).c_if(c, 1)\n",
    "qc_S.draw('mpl')"
   ]
  },
  {
   "cell_type": "markdown",
   "id": "9b096b64",
   "metadata": {},
   "source": [
    "#### Application of the Control-$U$ gates and x-measurement (for step 2)\n",
    "\n",
    "We apply the $CU$ operations as we did in the first step. For the second step we have $t=m-2$, hence $2^t=1$. So we apply $\\text{CP}(\\pi/2)$ once. And then we perform the X-measurement of the qubit $q_0$, storing the result, the phase bit $\\varphi_1$, in the bit $c_1$ of classical register."
   ]
  },
  {
   "cell_type": "code",
   "execution_count": null,
   "id": "8d0b95ef",
   "metadata": {},
   "outputs": [],
   "source": [
    "## 2^t c-U operations (with t=m-2)\n",
    "for _ in range(2 ** (m - 2)):\n",
    "    qc_S.cp(pi/2, 0, 1)\n",
    "\n",
    "x_measurement(qc_S, q[0], c[1]) "
   ]
  },
  {
   "cell_type": "markdown",
   "id": "02d9b94c",
   "metadata": {},
   "source": [
    "Et voilà, we have our final circuit"
   ]
  },
  {
   "cell_type": "code",
   "execution_count": null,
   "id": "31d410f2",
   "metadata": {},
   "outputs": [],
   "source": [
    "qc_S.draw('mpl')"
   ]
  },
  {
   "cell_type": "markdown",
   "id": "d5b1356c",
   "metadata": {},
   "source": [
    "Let's sample the circuit with Qiskit Aer's `Sampler` primitive, a local simulator without noise that runs locally."
   ]
  },
  {
   "cell_type": "code",
   "execution_count": null,
   "id": "1c984758",
   "metadata": {},
   "outputs": [],
   "source": [
    "import matplotlib.pyplot as plt\n",
    "\n",
    "from qiskit.tools.visualization import plot_histogram\n",
    "from qiskit_aer.primitives import Sampler\n",
    "\n",
    "sampler = Sampler()\n",
    "\n",
    "job = sampler.run(qc_S)\n",
    "result = job.result()\n",
    "\n",
    "dist0 = result.quasi_dists[0]\n",
    "\n",
    "key_new = [str(key/2**m) for key in list(dist0.keys())]\n",
    "dist1 = dict(zip(key_new, dist0.values()))\n",
    "\n",
    "fig, ax = plt.subplots(1,2)\n",
    "plot_histogram(dist0, ax=ax[0])\n",
    "plot_histogram(dist1, ax=ax[1])\n",
    "plt.tight_layout()"
   ]
  },
  {
   "cell_type": "markdown",
   "id": "2d830d23",
   "metadata": {},
   "source": [
    "In the picture we have the same histograms but on the left we have on the x-axis the string with phase bits $\\varphi_1$, $\\varphi_2$ and on the right the actual phase $\\varphi$ in decimal representation.\n",
    "\n",
    "As we expected we have found $\\varphi=\\frac{1}{4}=0.25$ with a $100\\%$ probability."
   ]
  },
  {
   "cell_type": "markdown",
   "id": "2314dbb2",
   "metadata": {},
   "source": [
    "## IPE example with a 2-qubit gate\n",
    "\n",
    "Now, we want to apply the IPE algorithm to estimate the phase for a 2-qubit gate $U$. For this example, let's consider the controlled version of the $T$ gate, i.e. the gate $U=\\textrm{Controlled-}T$ (that from now we will express more compactly with $CT$). Its matrix is\n",
    "$$ CT = \n",
    "\\begin{bmatrix}\n",
    "1 & 0 & 0 & 0\\\\\n",
    "0 & 1 & 0 & 0\\\\\n",
    "0 & 0 & 1 & 0\\\\\n",
    "0 & 0 & 0 & e^\\frac{i\\pi}{4}\\\\ \n",
    "\\end{bmatrix} $$\n",
    "That is, the $CT$ gate adds a phase $\\pi/4$ to the state $|11\\rangle$, leaving unchanged the phase of the other computational basis states $|00\\rangle$, $|01\\rangle$, $|10\\rangle$.\n",
    "\n",
    "Let's consider to estimate the phase $\\phi=\\pi/4$ for the eigenstate $|11\\rangle$, we should find $\\varphi=1/8$, since $\\phi = 2 \\pi \\varphi$. Therefore to estimate the phase we need exactly 3 classical bits, i.e. $m=3$, since $1/2^3=1/8$. So $\\varphi=0.\\varphi_1\\varphi_2\\varphi_3$.\n",
    "\n",
    "As done with the example for the 1-qubit $U$ operator we will go through the same steps but this time we will have $3$ steps since $m=3$, and we will not repeat all the explanations. So for details see the above example for 1-qubit $U$ gate.\n",
    "\n",
    "First, we initialize the circuit with 3 qubits, 1 for the auxiliary qubit and 2 for the 2-qubit gate, and 3 classical bits to store the phase bits $\\varphi_1$, $\\varphi_2$, $\\varphi_3$."
   ]
  },
  {
   "cell_type": "code",
   "execution_count": null,
   "id": "c13208f6",
   "metadata": {},
   "outputs": [],
   "source": [
    "nq = 3    # number of qubits\n",
    "m = 3    # number of classical bits\n",
    "q = QuantumRegister(nq,'q')\n",
    "c = ClassicalRegister(m,'c')\n",
    "\n",
    "qc = QuantumCircuit(q,c)"
   ]
  },
  {
   "cell_type": "markdown",
   "id": "8107bb94",
   "metadata": {},
   "source": [
    "### First step\n",
    "\n",
    "Now we build the quantum circuit for the first step, to estimate the least significant phase bit $\\varphi_m=\\varphi_3$.\n",
    "\n",
    "#### Initialization\n",
    "\n",
    "We initialize the auxiliary qubit and the other qubits with the eigenstate $|11\\rangle$."
   ]
  },
  {
   "cell_type": "code",
   "execution_count": null,
   "id": "982d416d",
   "metadata": {
    "tags": []
   },
   "outputs": [],
   "source": [
    "qc.h(0)\n",
    "qc.x([1, 2])\n",
    "qc.draw('mpl')"
   ]
  },
  {
   "cell_type": "markdown",
   "id": "739dbd79",
   "metadata": {
    "tags": []
   },
   "source": [
    "#### Application of the Controlled-$U$ gates\n",
    "\n",
    "Then we have to apply multiple times the $CU$ operator, that, in this example, is the Controlled-$CT$ gate ($CCT$ for short).\n",
    "\n",
    "To implement $CCT$ in the circuit, since $T$ is a phase gate, we can use the multi-controlled phase gate $\\text{MCP}(\\theta)$, with $\\theta=\\pi/4$."
   ]
  },
  {
   "cell_type": "code",
   "execution_count": null,
   "id": "280518a7",
   "metadata": {},
   "outputs": [],
   "source": [
    "cu_circ = QuantumCircuit(nq)\n",
    "cu_circ.mcp(pi/4, [0, 1], 2)\n",
    "cu_circ.draw('mpl')"
   ]
  },
  {
   "cell_type": "markdown",
   "id": "cd174450",
   "metadata": {},
   "source": [
    "Let's apply $2^t$ times $\\text{MCP}(\\pi/4)$. Since for the first step $t=m-1$ and $m=3$, we have $2^t=4$."
   ]
  },
  {
   "cell_type": "code",
   "execution_count": null,
   "id": "24c8f9b9",
   "metadata": {},
   "outputs": [],
   "source": [
    "for _ in range(2 ** (m - 1)):\n",
    "    qc.mcp(pi/4, [0, 1], 2)\n",
    "qc.draw('mpl')"
   ]
  },
  {
   "cell_type": "markdown",
   "id": "09e40686",
   "metadata": {},
   "source": [
    "#### Measure in X-basis\n",
    "\n",
    "Finally, we perform the measurement of the auxiliary qubit in X-basis.\n",
    "We can use the `x_measurement` function defined above in the example for 1-qubit gate. In this way we have obtained the phase bit $\\varphi_3$ and stored it in the classical bit $c_0$."
   ]
  },
  {
   "cell_type": "code",
   "execution_count": null,
   "id": "6fa62739",
   "metadata": {},
   "outputs": [],
   "source": [
    "x_measurement(qc, q[0], c[0])\n",
    "qc.draw('mpl')"
   ]
  },
  {
   "cell_type": "markdown",
   "id": "3ac0df28",
   "metadata": {},
   "source": [
    "### Subsequent steps (2nd, 3rd)\n",
    "\n",
    "Now we build the quantum circuit for the other remaining steps, the second and the third ones.\n",
    "As said in the first example, in these steps we have the additional sub-step of the phase correction.\n",
    "\n",
    "#### Initialization with reset\n"
   ]
  },
  {
   "cell_type": "code",
   "execution_count": null,
   "id": "1520c0da",
   "metadata": {},
   "outputs": [],
   "source": [
    "qc.reset(0)\n",
    "qc.h(0)\n",
    "qc.draw('mpl')"
   ]
  },
  {
   "cell_type": "markdown",
   "id": "f7da1b6a",
   "metadata": {},
   "source": [
    "#### Phase correction (for step 2)\n",
    "In order to extract the phase bit $\\varphi_{2}$, we perform a phase correction of $-\\pi\\varphi_3/2$.\n",
    "\n",
    "So, after the reset we apply the phase gate $P(\\theta)$ with phase $\\theta=-\\pi/2$ conditioned by the classical bit $c_0$ ($=\\varphi_3$)."
   ]
  },
  {
   "cell_type": "code",
   "execution_count": null,
   "id": "99a64b7b",
   "metadata": {},
   "outputs": [],
   "source": [
    "qc.p(-pi/2, 0).c_if(c, 1)\n",
    "qc.draw('mpl')"
   ]
  },
  {
   "cell_type": "markdown",
   "id": "68be63a1",
   "metadata": {},
   "source": [
    "#### Application of the Control-$U$ gates and x-measurement (for step 2)\n",
    "We apply the $CU$ operations as we did in the first step. For the second step we have $t=m-2$, hence $2^t=2$. So we apply $\\text{MCP}(\\pi/4)$ $2$ times. And then we perform the X-measurement of the qubit $q_0$, storing the phase bit $\\varphi_2$ in the bit $c_1$."
   ]
  },
  {
   "cell_type": "code",
   "execution_count": null,
   "id": "fa0d6cef",
   "metadata": {},
   "outputs": [],
   "source": [
    "for _ in range(2 ** (m - 2)):\n",
    "    qc.mcp(pi/4, [0, 1], 2)\n",
    "x_measurement(qc, q[0], c[1])\n",
    "qc.draw('mpl')"
   ]
  },
  {
   "cell_type": "markdown",
   "id": "25949dc2",
   "metadata": {},
   "source": [
    "#### All substeps of the 3rd step\n",
    "For the 3rd and last step, we perform the reset and initialization of the auxiliary qubit as done in the second step.\n",
    "\n",
    "Then at the 3rd step we have to perform the phase correction of $-2\\pi 0.0\\varphi_{2}\\varphi_{3}= -2\\pi \\left(\\frac{\\varphi_2}{4}+\\frac{\\varphi_3}{8}\\right)=-\\frac{\\varphi_2\\pi}{2}-\\frac{ \\varphi_3\\pi}{4}$, thus we have to apply 2 conditioned  phase corrections, one conditioned by $\\varphi_3$ ($=c_0$) and the other by $\\varphi_2$($=c_1$). To do this we have to apply the following:\n",
    "- gate $P(-\\pi/4)$ conditioned by $c_0=1$, that is, by $c=001$ (``c_if`` with value $1$)\n",
    "- gate $P(-\\pi/2)$ conditioned by $c_1=1$, that is, the gate is applied when $c=010$ (``c_if`` with values $2$)\n",
    "- gate $P(-3\\pi/4)$ conditioned by $c_1=1$ and $c_0=1$ that is, the gate is applied when $c=011$ (``c_if`` with values $3$)\n",
    "\n",
    "Next, the $CU$ operations: we apply $2^t$ times the $\\text{MCP}(\\pi/4)$ gate and since at the 3rd step $t=m-3=0$, we apply the gate only once."
   ]
  },
  {
   "cell_type": "code",
   "execution_count": null,
   "id": "fee5769f",
   "metadata": {},
   "outputs": [],
   "source": [
    "# initialization of qubit q0\n",
    "qc.reset(0)\n",
    "qc.h(0)\n",
    "\n",
    "# phase correction\n",
    "qc.p(-pi/4, 0).c_if(c, 1)\n",
    "\n",
    "qc.p(-pi/2, 0).c_if(c, 2)\n",
    "qc.p(-3*pi/2, 0).c_if(c, 3)\n",
    "\n",
    "# c-U operations\n",
    "for _ in range(2 ** (m - 3)):\n",
    "    qc.mcp(pi/4, [0, 1], 2)\n",
    "\n",
    "# X measurement  \n",
    "qc.h(0)\n",
    "qc.measure(0, 2)\n",
    "\n",
    "qc.draw('mpl')"
   ]
  },
  {
   "cell_type": "markdown",
   "id": "f32900a5",
   "metadata": {},
   "source": [
    "Now, we execute the circuit with the simulator without noise."
   ]
  },
  {
   "cell_type": "code",
   "execution_count": null,
   "id": "c6e0a06f",
   "metadata": {},
   "outputs": [],
   "source": [
    "result = sampler.run(qc).result()\n",
    "dist0 = result.quasi_dists[0]\n",
    "\n",
    "key_new = [str(key/2**m) for key in list(dist0.keys())]\n",
    "dist1 = dict(zip(key_new, dist0.values()))\n",
    "\n",
    "fig, ax = plt.subplots(1,2)\n",
    "plot_histogram(dist0, ax=ax[0])\n",
    "plot_histogram(dist1, ax=ax[1])\n",
    "plt.tight_layout()"
   ]
  },
  {
   "cell_type": "markdown",
   "id": "a992b916",
   "metadata": {},
   "source": [
    "We have obtained $100\\%$ probability to find $\\varphi=0.125$, that is, $1/8$, as expected."
   ]
  },
  {
   "cell_type": "code",
   "execution_count": null,
   "id": "7280b7b7",
   "metadata": {},
   "outputs": [],
   "source": [
    "import qiskit.tools.jupyter\n",
    "%qiskit_version_table\n",
    "%qiskit_copyright"
   ]
  }
 ],
 "metadata": {
  "kernelspec": {
   "display_name": "Basic quantum",
   "language": "python",
   "name": "basic-quantum"
  },
  "language_info": {
   "codemirror_mode": {
    "name": "ipython",
    "version": 3
   },
   "file_extension": ".py",
   "mimetype": "text/x-python",
   "name": "python",
   "nbconvert_exporter": "python",
   "pygments_lexer": "ipython3",
   "version": "3.9.0"
  }
 },
 "nbformat": 4,
 "nbformat_minor": 5
}
