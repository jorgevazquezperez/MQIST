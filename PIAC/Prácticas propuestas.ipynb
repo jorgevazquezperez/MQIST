{
 "cells": [
  {
   "cell_type": "markdown",
   "id": "997c8bca",
   "metadata": {},
   "source": [
    "# Práctica 1: paralelismo cuántico\n",
    "\n",
    "Utiliza el paralelismo cuántico para evaluar una función $f(x) = f(\\{x_{n-1},x_{n-2},\\ldots,x_0\\}) \\rightarrow \\{0,1\\}$, con $x_i \\in \\{0,1\\}$, que verifique:\n",
    "\n",
    "$$\n",
    "f(x) = \n",
    "\\begin{cases}\n",
    "1, \\text{si } x \\text{ es par}\\\\\n",
    "0, \\text{si } x \\text{ es impar}\\\\\n",
    "\\end{cases}\n",
    "$$\n",
    "\n",
    "Crea un circuito en Qiskit para $n=2$."
   ]
  },
  {
   "cell_type": "code",
   "execution_count": null,
   "id": "da3ba798",
   "metadata": {},
   "outputs": [],
   "source": []
  },
  {
   "cell_type": "markdown",
   "id": "90c72173",
   "metadata": {},
   "source": [
    "------------------------------\n",
    "------------------------------\n",
    "------------------------------"
   ]
  },
  {
   "cell_type": "markdown",
   "id": "04fa1236",
   "metadata": {},
   "source": [
    "# Práctica 2: algoritmo de  Deutsch-Jozsa \n",
    "\n",
    "Implementa en Qiskit el algoritmo de Deutsch-Jozsa para un $n$ arbitrario.\n",
    "\n",
    "Pasos:\n",
    "\n",
    "1. Crea una función que devuelva un oráculo para $f$ constante."
   ]
  },
  {
   "cell_type": "code",
   "execution_count": null,
   "id": "059e23ac",
   "metadata": {},
   "outputs": [],
   "source": [
    "def cte_oraculo(n):\n",
    "    \"\"\"\n",
    "    Define un oraculo para una función constante de n bits\n",
    "        return: circuito de n+1 cúbits en forma de puerta\n",
    "    \"\"\"\n",
    "    qc = QuantumCircuit(n+1)\n",
    "    \n",
    "    # TODO: Define el oráculo\n",
    "    ............................\n",
    "    \n",
    "    # Salida\n",
    "    return qc"
   ]
  },
  {
   "cell_type": "markdown",
   "id": "2d7075e6",
   "metadata": {},
   "source": [
    "2. Crea una función que devuelva un oráculo para $f$ balanceada."
   ]
  },
  {
   "cell_type": "code",
   "execution_count": null,
   "id": "52704cf8",
   "metadata": {},
   "outputs": [],
   "source": [
    "def bal_oraculo(n):\n",
    "    \"\"\"\n",
    "    Define un oraculo para una función balanceada de n bits\n",
    "        return: circuito de n+1 cúbits en forma de puerta\n",
    "    \"\"\"\n",
    "    qc = QuantumCircuit(n+1)\n",
    "    \n",
    "    # TODO: Define el oráculo\n",
    "    # El más simple se puede implementar con CNOTS, \n",
    "    # de forma que f(x) = 0 si x tiene paridad par (nº de bits 1 par) o 1 en otro caso.\n",
    "    .............................\n",
    "    \n",
    "    # Salida\n",
    "    return qc"
   ]
  },
  {
   "cell_type": "markdown",
   "id": "758650b7",
   "metadata": {},
   "source": [
    "3. Crea una función que devuelva una puerta oráculo cte. o balanceado según un parámetro de entrada"
   ]
  },
  {
   "cell_type": "code",
   "execution_count": null,
   "id": "739ecc53",
   "metadata": {},
   "outputs": [],
   "source": [
    "def dj_oraculo(n, tipo):\n",
    "    \"\"\"\n",
    "    Devuelve un oraculo para el algoritmo de Deutsch-Jozsa\n",
    "    \n",
    "        n: Número de cúbits de entrada\n",
    "        tipo: tipo de oráculo, 0 cte., 1 balanceado\n",
    "        return: circuito de n+1 cúbit en forma de puerta\n",
    "    \"\"\"\n",
    "    x = QuantumRegister(n, name=\"|x\\\\rangle\")\n",
    "    y = QuantumRegister(1, name=\"|y\\\\rangle\")\n",
    "    qc = QuantumCircuit(x,y)\n",
    "    \n",
    "    ...................................\n",
    "    \n",
    "    # Salida\n",
    "    oraculo = qc.to_gate()\n",
    "    oraculo.name = \"$U_{f}$\"\n",
    "    return oraculo"
   ]
  },
  {
   "cell_type": "markdown",
   "id": "a1211926",
   "metadata": {},
   "source": [
    "4. Implementa paso a paso el circuito completo del algoritmo de Deutsch-Jozsa:"
   ]
  },
  {
   "cell_type": "markdown",
   "id": "7ebe035f",
   "metadata": {},
   "source": [
    "Paso 0: Obtén el estado inicial:\n",
    "        \n",
    "$$\\vert \\psi_0 \\rangle = \\vert 1\\rangle\\vert0\\rangle^{\\otimes n} $$"
   ]
  },
  {
   "cell_type": "code",
   "execution_count": null,
   "id": "df4abad1",
   "metadata": {},
   "outputs": [],
   "source": [
    "def paso_0(n):\n",
    "    qc = QuantumCircuit(n+1,n)\n",
    "    \n",
    "    #\n",
    "    # TODO: Añade las puertas necesarias para obtener el estado 𝜓0\n",
    "    #\n",
    "    ............\n",
    "    \n",
    "    return qc\n",
    "\n",
    "# Mostramos el circuito\n",
    "paso_0(n).draw('mpl')"
   ]
  },
  {
   "cell_type": "markdown",
   "id": "79d1352c",
   "metadata": {},
   "source": [
    "Paso 1: Obtén el estado \n",
    "$$\\vert \\psi_1 \\rangle = \\frac{1}{\\sqrt{2^{n+1}}}\\sum_{x=0}^{2^n-1} \\left(|0\\rangle - |1 \\rangle \\right)\\vert x\\rangle $$"
   ]
  },
  {
   "cell_type": "code",
   "execution_count": null,
   "id": "a433425a",
   "metadata": {},
   "outputs": [],
   "source": [
    "def paso_1(n):\n",
    "    qc = paso_0(n)\n",
    "    \n",
    "    #\n",
    "    # TODO: Añade las puertas necesarias para obtener el estado 𝜓1\n",
    "    #\n",
    "    .........\n",
    "    \n",
    "    return qc\n",
    "\n",
    "# Mostramos el circuito\n",
    "paso_1(n).draw('mpl')"
   ]
  },
  {
   "cell_type": "markdown",
   "id": "13010467",
   "metadata": {},
   "source": [
    "Paso 2: Añadimos el oráculo para obtener:\n",
    "$$\n",
    "            \\lvert \\psi_2 \\rangle  \n",
    "                 = \\frac{|0\\rangle - |1\\rangle}{\\sqrt{2^{n+1}}}\\sum_{x=0}^{2^n-1}(-1)^{f(x)}|x\\rangle  \n",
    "        $$"
   ]
  },
  {
   "cell_type": "code",
   "execution_count": null,
   "id": "9d3ca6a1",
   "metadata": {},
   "outputs": [],
   "source": [
    "def paso_2(n, tipo_oraculo):\n",
    "    qc = paso_1(n)\n",
    "    \n",
    "    # Añadimos barreras para una mejor visualización\n",
    "    qc.barrier()\n",
    "    \n",
    "    # TODO: añade el oráculo\n",
    "    .........\n",
    "    qc.barrier()\n",
    "    \n",
    "    return qc\n",
    "\n",
    "# Mostramos el circuito\n",
    "paso_2(n, 1).draw('mpl')"
   ]
  },
  {
   "cell_type": "markdown",
   "id": "c5482b56",
   "metadata": {},
   "source": [
    "Paso 3: Añade las últimas puertas H y la medida de los $n$ primeros cúbits."
   ]
  },
  {
   "cell_type": "code",
   "execution_count": null,
   "id": "307f006c",
   "metadata": {},
   "outputs": [],
   "source": [
    "def paso_3(n, tipo_oraculo):\n",
    "    qc = paso_2(n, tipo_oraculo)\n",
    "    #\n",
    "    # TODO: Añade las puertas H y la medida\n",
    "    #\n",
    "    .........\n",
    "    \n",
    "    return qc\n",
    "\n",
    "# Selecciona un oráculo aleatorio\n",
    "tipo_oraculo = np.random.randint(2)\n",
    "dj_circuito = paso_3(4, tipo_oraculo)\n",
    "dj_circuito.draw('mpl')"
   ]
  },
  {
   "cell_type": "markdown",
   "id": "07e48e84",
   "metadata": {},
   "source": [
    "Simulamos el circuito y obtenemos un histograma de la salida:"
   ]
  },
  {
   "cell_type": "code",
   "execution_count": null,
   "id": "d9b7a04c",
   "metadata": {},
   "outputs": [],
   "source": [
    "# Usamos un simulador local\n",
    "result = execute(dj_circuito, sim, shots = 8).result()\n",
    "salida = result.get_counts()\n",
    "plot_histogram(salida)"
   ]
  },
  {
   "cell_type": "markdown",
   "id": "aab3985c",
   "metadata": {},
   "source": [
    "Verifica que si el oráculo es constante, la salida es 0, y si es balanceado es $\\ne 0$."
   ]
  },
  {
   "cell_type": "markdown",
   "id": "bce70685",
   "metadata": {},
   "source": [
    "-----------------------------\n",
    "-----------------------------\n",
    "-----------------------------"
   ]
  },
  {
   "cell_type": "markdown",
   "id": "d623ac7c",
   "metadata": {},
   "source": [
    "# Práctica 3: algoritmo de Bernstein-Vazirani \n",
    "\n",
    "Implementa en Qiskit el algoritmo de Bernstein-Vazirani para un $n$ y un $s$ con el oráculo implementado en el ejercicio 5.\n",
    "\n",
    "Obtén la salida y comprueba que puede encontrar el valor de $s$."
   ]
  },
  {
   "cell_type": "code",
   "execution_count": null,
   "id": "40f8569f",
   "metadata": {},
   "outputs": [],
   "source": []
  },
  {
   "cell_type": "markdown",
   "id": "cb4de7eb",
   "metadata": {},
   "source": [
    "-----------------------------\n",
    "-----------------------------\n",
    "-----------------------------"
   ]
  },
  {
   "cell_type": "markdown",
   "id": "8765bb7b",
   "metadata": {},
   "source": [
    "# Práctica 4: algoritmo de Simon\n",
    "\n",
    "Implementa en Qiskit el algoritmo de Simon para un $n$ y un $c$ arbitrario y el oráculo simple que hemos visto.\n",
    "\n",
    "Empieza implementando el oráculo como una puerta. \n",
    "\n",
    "Para probarlo, supón $n=3$ y $c$ un valor aleatorio en el intervalo $[0,7]$. Obtén el valor de $c$ a partir de la salida del algoritmo. "
   ]
  },
  {
   "cell_type": "code",
   "execution_count": null,
   "id": "dd08cc5b",
   "metadata": {},
   "outputs": [],
   "source": []
  },
  {
   "cell_type": "markdown",
   "id": "a5e530b8",
   "metadata": {},
   "source": [
    "--------------------\n",
    "-------------------\n",
    "------------------"
   ]
  },
  {
   "cell_type": "markdown",
   "id": "1d515781",
   "metadata": {},
   "source": [
    "# Práctica 5: algoritmo de Grover\n",
    "\n",
    "Implementa en Qiskit el algoritmo de Grover para para un número arbitrario de cúbits."
   ]
  },
  {
   "cell_type": "code",
   "execution_count": null,
   "id": "dc94dc16",
   "metadata": {},
   "outputs": [],
   "source": []
  }
 ],
 "metadata": {
  "kernelspec": {
   "display_name": "Python 3 (ipykernel)",
   "language": "python",
   "name": "python3"
  },
  "language_info": {
   "codemirror_mode": {
    "name": "ipython",
    "version": 3
   },
   "file_extension": ".py",
   "mimetype": "text/x-python",
   "name": "python",
   "nbconvert_exporter": "python",
   "pygments_lexer": "ipython3",
   "version": "3.11.4"
  }
 },
 "nbformat": 4,
 "nbformat_minor": 5
}
