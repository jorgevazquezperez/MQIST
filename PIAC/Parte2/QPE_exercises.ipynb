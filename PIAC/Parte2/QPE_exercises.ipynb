{
 "cells": [
  {
   "cell_type": "code",
   "execution_count": 1,
   "id": "ae3b27b3",
   "metadata": {},
   "outputs": [],
   "source": [
    "import warnings\n",
    "warnings.filterwarnings(\"ignore\", category=UserWarning)\n",
    "import numpy as np\n",
    "\n",
    "# importing Qiskit\n",
    "from qiskit import QuantumCircuit, QuantumRegister, ClassicalRegister, execute\n",
    "from qiskit.providers.aer import AerSimulator\n",
    "\n",
    "# import basic plot tools\n",
    "from qiskit.visualization import plot_histogram\n",
    "\n",
    "# Herramientas del Qiskit textbook\n",
    "from qiskit_textbook.tools import random_state, array_to_latex\n",
    "\n",
    "# Simuladores\n",
    "sim = AerSimulator()\n",
    "sim_u = AerSimulator(method='unitary')"
   ]
  },
  {
   "cell_type": "markdown",
   "id": "cdfe8bf2",
   "metadata": {},
   "source": [
    "The QPE algorithm is one of the most important in QC, and is central to more complex algorithms.\n",
    "\n",
    "Given a unitary matrix $U$ and one of its eigenvectors (or eigenstates) $|\\psi\\rangle$, QFT determines the eigenvalue $e^{\\boldsymbol{2\\pi i}\\theta}$ associated.\n",
    "\n",
    "$$\n",
    "U|\\psi\\rangle = e^{\\boldsymbol{2\\pi i}\\theta}|\\psi\\rangle\n",
    "$$\n",
    "Being $U$ unitary, all its eigenvalues are complex numbers of norm 1, so they can be written as $e^{\\boldsymbol{2\\pi i}\\theta}$.\n",
    "<details>\n",
    "    <summary><p style=\"color:blue\">Click here for the proof</p></summary>\n",
    "    \n",
    "If $U$ is unitary, it verifies $U^\\dagger U = UU^\\dagger = I$. Let $|v\\rangle$ be an eigenvector of $U$ and $\\lambda\\in \\mathbb{C}$ the associated eigenvalue. We have:\n",
    "\n",
    "$$\n",
    "U|v\\rangle = \\lambda|v\\rangle \\Rightarrow \\langle v|v\\rangle = \\langle v|U^\\dagger U|v\\rangle = \\langle v|\\lambda^*\\lambda|v\\rangle \\Rightarrow \\langle v|v\\rangle = |\\lambda|^2 \\langle v|v\\rangle \n",
    "$$\n",
    "    \n",
    "Assuming $\\lambda \\ne 0$, for the equality to hold it is necessary that $|\\lambda|^2 = 1 \\Rightarrow \\lambda = e^{i\\phi}$ with $\\phi\\in\\mathbb{R}$.\n",
    "</details>\n"
   ]
  },
  {
   "cell_type": "markdown",
   "id": "7574986b",
   "metadata": {},
   "source": [
    "The circuit for QPE is the following:\n",
    "\n",
    "![QPE](images/qpe_tex_qz.png)\n",
    "\n",
    "The upper register contains $t$ ancilla qubits and the lower one is in the eigenstate $|\\psi\\rangle$ of $U$. At the output, the state $|2^t\\theta\\rangle$ is obtained in the ancilla bits.\n",
    "\n",
    "The idea of the algorithm is to use _phase-kickback_ to transfer rotations proportional to the phase $e^{\\boldsymbol{2\\pi i}\\theta}$ in the Fourier basis, and then apply an inverse QFT to switch to the computational basis. \n",
    "<details>\n",
    "    Phase kickback is a phenomenon that occurs when a controlled operation is applied to two qubits, one of which is in a superposition of states. The relative phase of the superposition is transferred to the control qubit, causing it to become entangled with the target qubit.\n",
    "</details>\n",
    "\n",
    "The number $t$ of ancilla bits will determine the precision of the result."
   ]
  },
  {
   "cell_type": "markdown",
   "id": "61b322b9",
   "metadata": {},
   "source": [
    "Steps:\n",
    "\n",
    "i. Initial state: $$ |\\psi_0\\rangle = \\lvert 0 \\rangle^{\\otimes t} \\lvert \\psi \\rangle$$\n",
    "ii. After the $H$ gates are applied to the ancilla qubits\n",
    "\n",
    "$$ \n",
    "\\begin{aligned}\n",
    "|\\psi_1\\rangle &= \\frac{1}{\\sqrt{2^t}}\\left(|0\\rangle +|1\\rangle \\right)^{\\otimes t} \\lvert \\psi \\rangle\\\\[5pt]\n",
    "&=\\frac{1}{\\sqrt{2^t}}\\left[\\left(|0\\rangle +|1\\rangle\\right)\\otimes\\left(|0\\rangle +|1\\rangle\\right)\\otimes\\cdots\\otimes\\left(|0\\rangle +|1\\rangle\\right)\\right]\\otimes|\\psi\\rangle\n",
    "\\end{aligned}\n",
    "$$\n",
    "\n",
    "iii. We apply the first controlled gate $U^{2^{t-1}}$. First, we can see that, as $U|\\psi\\rangle = e^{\\boldsymbol{2\\pi i}\\theta}|\\psi\\rangle$ we will have:\n",
    "\n",
    "$$\n",
    "U^{2^{j}}|\\psi\\rangle = U^{2^{j}-1}U|\\psi\\rangle = U^{2^{j}-1}e^{\\boldsymbol{2\\pi i}\\theta}|\\psi\\rangle =\\cdots =e^{\\boldsymbol{2\\pi} i2^{j}\\theta}|\\psi \\rangle\n",
    "$$\n",
    "\n",
    "Therefore, the state after applying the controlled $U^{2^{t-1}}$ the phase-kickback transfers the phase to the first qubit:\n",
    "\n",
    "$$\n",
    "\\begin{aligned}\n",
    "|\\psi_2\\rangle &= \n",
    "\\frac{1}{\\sqrt{2^t}}\\left[\\left(|0\\rangle +e^{\\boldsymbol{2\\pi} i2^{t-1}\\theta}|1\\rangle\\right)\\otimes\\left(|0\\rangle +|1\\rangle\\right)\\otimes\\cdots\\otimes\\left(|0\\rangle +|1\\rangle\\right)\\right]\\otimes|\\psi\\rangle\n",
    "\\end{aligned}\n",
    "$$\n",
    "\n",
    "iv. Doing the same with the rest of the controlled $U$, we will have that the state before the inverse QFT will be:\n",
    "\n",
    "$$\n",
    "|\\psi_3\\rangle =\n",
    "\\frac{1}{\\sqrt{2^t}}\\left[\\left(|0\\rangle +e^{\\boldsymbol{2\\pi} i2^{t-1}\\theta}|1\\rangle\\right)\\otimes\\left(|0\\rangle +e^{\\boldsymbol{2\\pi} i2^{t-2}\\theta}|1\\rangle\\right)\\otimes\\cdots\\\\\n",
    "\\otimes\n",
    "\\left(|0\\rangle +e^{\\boldsymbol{2\\pi} i2^{1}\\theta}|1\\rangle\\right)\\otimes\n",
    "\\left(|0\\rangle +e^{\\boldsymbol{2\\pi} i2^{0}\\theta}|1\\rangle\\right)\\right]|\\psi\\rangle\n",
    "$$\n",
    "\n",
    "v. Application of the inverse QFT. We saw that:\n",
    "\n",
    "$$\n",
    "U_{QFT}|z\\rangle\n",
    "=\\frac{1}{\\sqrt{2^n}}\\left[\n",
    "\\left(\\vert0\\rangle + e^{{\\frac{2\\pi i}{2}z}} \\vert1\\rangle\\right) \n",
    "\\otimes\n",
    "\\left(\\vert0\\rangle + e^{\\frac{2\\pi i}{2^2}z} \\vert1\\rangle\\right) \n",
    "\\otimes  \n",
    "\\cdots\\\\\n",
    "\\otimes\n",
    "\\left(\\vert0\\rangle + e^{\\frac{2\\pi i}{2^{n-1}}z} \\vert1\\rangle\\right) \n",
    "\\otimes\n",
    "\\left(\\vert0\\rangle + e^{\\frac{2\\pi i}{2^n}z} \\vert1\\rangle\\right)\n",
    "\\right]\n",
    "$$\n",
    "\n",
    "Replacing $n$ by $t$ and making $z = 2^t\\theta$ in this expression, it is easy to see that the state of the ancilla bits is:\n",
    "\n",
    "$$\n",
    "|\\psi_3^\\text{ancilla}\\rangle = U_{QFT}|2^t\\theta\\rangle\n",
    "$$\n",
    "\n",
    "So the state of the ancilla qubits after applying the inverse QFT will be $|\\tilde{\\theta}\\rangle_{t}$, being $\\tilde{\\theta} =2^t\\theta\\Rightarrow\\theta=\\tilde{\\theta}/{2^t}$.\n",
    "\n",
    "By measuring the ancilla bits we obtain the value  $2^t\\theta$.\n"
   ]
  },
  {
   "cell_type": "markdown",
   "id": "1d4cce09",
   "metadata": {},
   "source": [
    "#### Generalization\n",
    "\n",
    "Let $\\{|u_j\\rangle\\}$ be the basis formed by the eigenvectors of $U$, being the eigenvalues $\\lambda_j=e^{2\\pi i\\theta_j}$. We can express any state $|\\psi\\rangle$ in that basis:\n",
    "\n",
    "$$|\\psi\\rangle = \\sum_{j=0}^{N-1} a_j|u_j\\rangle$$\n",
    "\n",
    "Therefore:\n",
    "\n",
    "$$\n",
    "U|\\psi\\rangle = \\sum_{j=0}^{N-1} a_j U|u_j\\rangle = \\sum_{j=0}^{N-1} a_j \\lambda_j|u_j\\rangle =\n",
    "\\sum_{j=0}^{N-1} a_j e^{2\\pi i\\theta_j}|u_j\\rangle\n",
    "$$\n",
    "\n",
    "If we use $|\\psi\\rangle$ as input in QPE, at the output we will obtain a superposition of the eigenvalues of $U$:\n",
    "\n",
    "$$\\text{QPE}(U, |0\\rangle_t|\\psi\\rangle) = \\sum_{j=0}^{N-1} a_j|\\tilde{\\theta}_j\\rangle|u_j\\rangle$$\n",
    "\n",
    "Any measurement of the ancilla bits, returns an eigenvalue of $U$.\n"
   ]
  },
  {
   "cell_type": "markdown",
   "id": "bcfaf845",
   "metadata": {},
   "source": [
    "#### Example\n",
    "\n",
    "Calculate the eigenvalue associated with the eigenvector $|1\\rangle$ of the T gate\n",
    "\n",
    "<details>\n",
    "The T quantum gate is a single-qubit operation that applies a 45-degree ($\\frac{\\pi}{4}$) phase shift to the |1⟩ state.The eigenvalue of the T gate is a complex number of the form $e^{\\boldsymbol{2\\pi i}\\theta}$, where $\\theta$ is the phase associated with the eigenvector. For the T gate, the eigenvectors are $\\{|0\\rangle,|1\\rangle\\}$, and the eigenvalues are $\\lambda_0 = 1$ and $\\lambda_1=e^{\\boldsymbol{i\\frac{\\pi}{4}}}$, so $\\theta_0=0$ and $\\theta_1=1/8$.  \n",
    "</details>\n",
    "\n",
    "$$\n",
    "T = \n",
    "\\begin{bmatrix}\n",
    "1 & 0\\\\\n",
    "0 & e^\\frac{i\\pi}{4}\\\\ \n",
    "\\end{bmatrix}\n",
    "$$\n",
    "\n",
    "Therefore:\n",
    "$$ T|1\\rangle = \n",
    "\\begin{bmatrix}\n",
    "1 & 0\\\\\n",
    "0 & e^\\frac{i\\pi}{4}\\\\ \n",
    "\\end{bmatrix}\n",
    "\\begin{bmatrix}\n",
    "0\\\\\n",
    "1\\\\ \n",
    "\\end{bmatrix}\n",
    "= e^\\frac{i\\pi}{4}|1\\rangle = e^{2i\\pi\\theta}|1\\rangle$$\n",
    "\n",
    "with $$\\theta = \\frac{1}{8}$$\n",
    "\n",
    "QPE returns $\\tilde{\\theta} = 2^t\\theta$, so:\n",
    "$$\n",
    "\\theta = \\frac{\\tilde{\\theta}}{2^t}\n",
    "$$\n",
    "\n",
    "\n",
    "We will use 3 ancilla qubits and 1 qubit for the initial state $|\\psi\\rangle=|1\\rangle$.\n"
   ]
  },
  {
   "cell_type": "code",
   "execution_count": 2,
   "id": "02036852",
   "metadata": {},
   "outputs": [
    {
     "name": "stderr",
     "output_type": "stream",
     "text": [
      "/opt/conda/lib/python3.11/site-packages/qiskit/visualization/circuit/matplotlib.py:266: FutureWarning: The default matplotlib drawer scheme will be changed to \"iqp\" in a following release. To silence this warning, specify the current default explicitly as style=\"clifford\", or the new default as style=\"iqp\".\n",
      "  self._style, def_font_ratio = load_style(self._style)\n"
     ]
    },
    {
     "data": {
      "image/png": "[encoded data removed]",
      "text/plain": [
       "<Figure size 287.496x451.5 with 1 Axes>"
      ]
     },
     "execution_count": 2,
     "metadata": {},
     "output_type": "execute_result"
    }
   ],
   "source": [
    "t = 3\n",
    "# 4 qubits and 3 classical bits to measure the ancillas\n",
    "qpe = QuantumCircuit(t+1, t)  \n",
    "qpe.x(t)    # Initial state |1>\n",
    "qpe.barrier()\n",
    "qpe.draw('mpl')"
   ]
  },
  {
   "cell_type": "markdown",
   "id": "d529fa43",
   "metadata": {},
   "source": [
    "Apply the Hadamard gate to the ancillas"
   ]
  },
  {
   "cell_type": "code",
   "execution_count": 3,
   "id": "65b39596",
   "metadata": {},
   "outputs": [
    {
     "data": {
      "image/png": "[encoded data removed]",
      "text/plain": [
       "<Figure size 371.107x451.5 with 1 Axes>"
      ]
     },
     "execution_count": 3,
     "metadata": {},
     "output_type": "execute_result"
    }
   ],
   "source": [
    "for qubit in range(t):\n",
    "    qpe.h(qubit)\n",
    "qpe.draw('mpl')"
   ]
  },
  {
   "cell_type": "markdown",
   "id": "59b24a8a",
   "metadata": {},
   "source": [
    "We apply the controlled rotations $\\pi/4$ to the ancillas, remembering that the qubits in Qiskit are ordered in reverse order, so the $U^{2^2}$ will be controlled by $q_2$ and the $U^{2^0}$ by $q_0$. In addition, for simplicity the rotations are applied backwards.\n"
   ]
  },
  {
   "cell_type": "code",
   "execution_count": 4,
   "id": "ad71ef31",
   "metadata": {},
   "outputs": [
    {
     "data": {
      "image/png": "[encoded data removed]",
      "text/plain": [
       "<Figure size 1541.66x451.5 with 1 Axes>"
      ]
     },
     "execution_count": 4,
     "metadata": {},
     "output_type": "execute_result"
    }
   ],
   "source": [
    "repetitions = 1\n",
    "for counting_qubit in range(t):\n",
    "    for i in range(repetitions):\n",
    "        qpe.cp(np.pi/4, counting_qubit, t); # Puerta C-T\n",
    "    repetitions *= 2\n",
    "qpe.draw('mpl')"
   ]
  },
  {
   "cell_type": "markdown",
   "id": "5dba9d08",
   "metadata": {},
   "source": [
    "We can define a function for the inverse of the QFT"
   ]
  },
  {
   "cell_type": "code",
   "execution_count": 5,
   "id": "cd6d2297",
   "metadata": {},
   "outputs": [],
   "source": [
    "def qft_dagger(qc, n):\n",
    "    \"\"\"QFTdagger of n-qubits for the qubits from 0 to n-1\"\"\"\n",
    "    # The circuit is the inverse of a QFT of 3 qubits\n",
    "    # In this case, the swaps are at the beginning\n",
    "    for qubit in range(n//2):\n",
    "        qc.swap(qubit, n-qubit-1)\n",
    "    for j in range(n):\n",
    "        for m in range(j):\n",
    "            qc.cp(-np.pi/float(2**(j-m)), m, j)\n",
    "        qc.h(j)"
   ]
  },
  {
   "cell_type": "markdown",
   "id": "0b5db19f",
   "metadata": {},
   "source": [
    "We add the $\\text{QFT}^\\dagger$ to the circuit and the measurements"
   ]
  },
  {
   "cell_type": "code",
   "execution_count": 6,
   "id": "c2a6b2c2",
   "metadata": {},
   "outputs": [],
   "source": [
    "qpe.barrier()\n",
    "# Apply the inverse QFT\n",
    "qft_dagger(qpe, t)\n",
    "# Apply the measurements\n",
    "qpe.barrier()\n",
    "for n in range(t):\n",
    "    qpe.measure(n,n)"
   ]
  },
  {
   "cell_type": "code",
   "execution_count": 7,
   "id": "35aba82e",
   "metadata": {},
   "outputs": [
    {
     "data": {
      "image/png": "[encoded data removed]",
      "text/plain": [
       "<Figure size 2210.55x953.167 with 1 Axes>"
      ]
     },
     "execution_count": 7,
     "metadata": {},
     "output_type": "execute_result"
    }
   ],
   "source": [
    "qpe.draw('mpl')"
   ]
  },
  {
   "cell_type": "markdown",
   "id": "4bf0ce5f",
   "metadata": {},
   "source": [
    "Execute the simulator and measure the results"
   ]
  },
  {
   "cell_type": "code",
   "execution_count": 8,
   "id": "1e1565d2",
   "metadata": {},
   "outputs": [
    {
     "data": {
      "image/png": "[encoded data removed]",
      "text/plain": [
       "<Figure size 1100x500 with 1 Axes>"
      ]
     },
     "metadata": {},
     "output_type": "display_data"
    }
   ],
   "source": [
    "def measure_qpe(qc):\n",
    "    sim = AerSimulator()\n",
    "    shots = 2000\n",
    "    results = execute(qc, sim, shots=shots).result()\n",
    "    answer = results.get_counts()\n",
    "    display(plot_histogram(answer, figsize=(11,5)))\n",
    "\n",
    "measure_qpe(qpe)"
   ]
  },
  {
   "cell_type": "markdown",
   "id": "2750cdff",
   "metadata": {},
   "source": [
    "The result is $\\tilde{\\theta}=1$. Remember that the output of the QPE algorithm is $2^t\\theta$. In this case $t=3$, so $\\theta = \\frac{\\tilde{\\theta}}{2^t} = \\frac{1}{8}$ \n",
    "\n",
    "We can obtain the two eigenvalues of $T$ with a circuit. The eigenvectors of $T$ are $\\{|0\\rangle,|1\\rangle\\}$, and their eigenvalues are $\\lambda_0 = 1$ and $\\lambda_1=e^{i\\frac{\\pi}{4}}$, so $\\theta_0=0$ and $\\theta_1=1/8$.\n",
    "\n"
   ]
  },
  {
   "cell_type": "markdown",
   "id": "b4483bf4",
   "metadata": {},
   "source": [
    "# Task QPE-1\n",
    "\n",
    "We take as input of the algorithm the superposition of the eigenvectors of $T$: $|\\psi\\rangle = \\frac{1}{\\sqrt{2}}(|0\\rangle+|1\\rangle)$. The expected output will be:\n",
    "\n",
    "$$\n",
    "\\frac{1}{\\sqrt{2}}(\\lambda_0|0\\rangle+\\lambda_1|1\\rangle) = \\frac{1}{\\sqrt{2}}(|0\\rangle+e^{i\\frac{\\pi}{4}}|1\\rangle)\n",
    "$$\n",
    "\n",
    "Write a function *qpe_circ* that receives two parameters: *phase* and *t*, where $phase$ \n",
    "    is the phase of the controlled rotation, and *t* is the number of ancilla qubits."
   ]
  },
  {
   "cell_type": "code",
   "execution_count": null,
   "id": "d823cdef",
   "metadata": {},
   "outputs": [],
   "source": []
  },
  {
   "cell_type": "markdown",
   "id": "360b43c6",
   "metadata": {},
   "source": [
    "The next code uses your *qpe_circ* implementation"
   ]
  },
  {
   "cell_type": "code",
   "execution_count": 9,
   "id": "60aeec40",
   "metadata": {},
   "outputs": [
    {
     "ename": "NameError",
     "evalue": "name 'qpe_circ' is not defined",
     "output_type": "error",
     "traceback": [
      "\u001b[0;31m---------------------------------------------------------------------------\u001b[0m",
      "\u001b[0;31mNameError\u001b[0m                                 Traceback (most recent call last)",
      "Cell \u001b[0;32mIn[9], line 5\u001b[0m\n\u001b[1;32m      3\u001b[0m qpe\u001b[38;5;241m.\u001b[39mh(t)    \u001b[38;5;66;03m# Initial state 1/\\sqrt(2)(|0>+|1>)\u001b[39;00m\n\u001b[1;32m      4\u001b[0m qpe\u001b[38;5;241m.\u001b[39mbarrier()\n\u001b[0;32m----> 5\u001b[0m qpe \u001b[38;5;241m=\u001b[39m qpe\u001b[38;5;241m.\u001b[39mcompose(qpe_circ(np\u001b[38;5;241m.\u001b[39mpi\u001b[38;5;241m/\u001b[39m\u001b[38;5;241m4\u001b[39m, t))\n\u001b[1;32m      6\u001b[0m qpe\u001b[38;5;241m.\u001b[39mdraw(\u001b[38;5;124m'\u001b[39m\u001b[38;5;124mmpl\u001b[39m\u001b[38;5;124m'\u001b[39m)\n",
      "\u001b[0;31mNameError\u001b[0m: name 'qpe_circ' is not defined"
     ]
    }
   ],
   "source": [
    "t = 3\n",
    "qpe = QuantumCircuit(t+1, t)  # 4 qubits and 3 classical bits to measure the ancillas\n",
    "qpe.h(t)    # Initial state 1/\\sqrt(2)(|0>+|1>)\n",
    "qpe.barrier()\n",
    "qpe = qpe.compose(qpe_circ(np.pi/4, t))\n",
    "qpe.draw('mpl')"
   ]
  },
  {
   "cell_type": "code",
   "execution_count": null,
   "id": "147d54c5",
   "metadata": {},
   "outputs": [],
   "source": [
    "measure_qpe(qpe)"
   ]
  },
  {
   "cell_type": "markdown",
   "id": "181b7a5d",
   "metadata": {},
   "source": [
    "Both values should be eigenvalues of  T (000 and 001)."
   ]
  },
  {
   "cell_type": "markdown",
   "id": "dae78753",
   "metadata": {},
   "source": [
    "Repeat the circuit with a phase gate of $2\\pi/3$:\n",
    "\n",
    "$$ U|1\\rangle = \n",
    "\\begin{bmatrix}\n",
    "1 & 0\\\\\n",
    "0 & e^\\frac{2i\\pi}{3}\\\\ \n",
    "\\end{bmatrix}\n",
    "\\begin{bmatrix}\n",
    "0\\\\\n",
    "1\\\\ \n",
    "\\end{bmatrix}\n",
    "= e^\\frac{2i\\pi}{3}|1\\rangle = e^{2i\\pi\\theta}|1\\rangle$$\n",
    "\n",
    "so in this case $\\theta = 1/3$\n"
   ]
  },
  {
   "cell_type": "code",
   "execution_count": null,
   "id": "bb058b2f",
   "metadata": {},
   "outputs": [],
   "source": [
    "t = 5\n",
    "qpe = QuantumCircuit(t+1, t)  # 6 qubits and 5 classical qubits to measure the ancillas\n",
    "qpe.x(t)    # Initial state |1>\n",
    "qpe.barrier()\n",
    "qpe = qpe.compose(qpe_circ(2*np.pi/3, t))\n",
    "display(qpe.draw('mpl'))\n",
    "measure_qpe(qpe)"
   ]
  },
  {
   "cell_type": "code",
   "execution_count": null,
   "id": "995b2bbe",
   "metadata": {},
   "outputs": [],
   "source": [
    "measure_qpe(qpe)"
   ]
  },
  {
   "cell_type": "markdown",
   "id": "9167a58a",
   "metadata": {},
   "source": [
    "The expected output would be $\\tilde{\\theta} = 2^t\\theta = 8/3=2.6666$ \n",
    "\n",
    "We see that, with higher probability, the circuit will return a 2 or a 3.\n",
    "\n",
    "A 2 corresponds to $2^3\\theta_2=2 \\Rightarrow \\theta_2 = 2/8 = 0.25$ and a 3 to $\\theta_3 = 3/8 = 0.375$. The circuit is telling us that the correct value of $\\theta$ is between those two.\n",
    "\n",
    "We can increase the precision by putting more ancilla bits:\n"
   ]
  },
  {
   "cell_type": "code",
   "execution_count": null,
   "id": "721401d0",
   "metadata": {},
   "outputs": [],
   "source": [
    "t = 5\n",
    "qpe = QuantumCircuit(t+1, t)  # 6 qubits and 5 classical qubits to measure the ancillas\n",
    "qpe.x(t)    # Initial state |1>\n",
    "qpe.barrier()\n",
    "qpe = qpe.compose(qpe_circ(2*np.pi/3, t))\n",
    "display(qpe.draw('mpl'))\n",
    "measure_qpe(qpe)"
   ]
  },
  {
   "cell_type": "markdown",
   "id": "003d8875",
   "metadata": {},
   "source": [
    "The two most likely measurements are $01010=10$ and $01011 = 11$, which correspond to values of $\\theta$:\n",
    "\n",
    "$$\n",
    "\\theta_{10} = \\frac{10}{2^5} = 0.3125\\\\\n",
    "\\theta_{11} = \\frac{11}{2^5} = 0.34375\n",
    "$$\n",
    "\n",
    "These values are very close to the true value of $\\theta = 1/3 \\approx 0.3333$. We can see that increasing the number of ancilla qubits improves the precision of the QPE algorithm. However, there is a trade-off between the precision and the number of controlled operations required, which increases exponentially with the number of ancilla qubits. \n"
   ]
  },
  {
   "cell_type": "markdown",
   "id": "98639012",
   "metadata": {},
   "source": [
    "If we test a negative eigenvalue"
   ]
  },
  {
   "cell_type": "code",
   "execution_count": null,
   "id": "e19d61c9",
   "metadata": {},
   "outputs": [],
   "source": [
    "t = 5\n",
    "qpe = QuantumCircuit(t+1, t)  # 6 qubits and 5 classical bits to measure the ancillas\n",
    "qpe.x(t)    # Initial state |1>\n",
    "qpe.barrier()\n",
    "qpe = qpe.compose(qpe_circ(-2*np.pi/3, t))\n",
    "measure_qpe(qpe)"
   ]
  },
  {
   "cell_type": "markdown",
   "id": "4ea554bf",
   "metadata": {},
   "source": [
    "the two most probable measurements are $10101 = -11$ and $10110 = -10$."
   ]
  },
  {
   "cell_type": "markdown",
   "id": "1e2ebb65",
   "metadata": {},
   "source": [
    "# Task QPE-2\n",
    "\n",
    "In this exercise, you will implement the Quantum Phase Estimation (QPE) algorithm using Qiskit implementation *PhaseEstimation*. \n",
    "\n",
    "You are given a unitary operator U and an eigenstate $|\\phi\\rangle$ of U. The eigenvalue of  $|\\phi\\rangle$ is $e^{2\\pi i\\theta}$, where $\\theta$ is unknown. Your task is to estimate the value of $\\theta$ using the QPE algorithm.\n",
    "\n",
    "You can use the following parameters:\n",
    "- U = Z gate (Pauli-Z)\n",
    "- $|\\phi\\rangle$ = $|1\\rangle$ state\n",
    "- Number of ancilla qubits = 4\n",
    "\n"
   ]
  },
  {
   "cell_type": "markdown",
   "id": "034855a9",
   "metadata": {},
   "source": [
    "## Expected Output\n",
    "\n",
    "The Pauli-Z gate has eigenvalues ±1, so in our case, $\\theta$ can be 0 or 0.5. Since $|\\phi\\rangle$ is an eigenstate of Z with eigenvalue -1, we expect $\\theta = 0.5$.\n",
    "\n",
    "After running the quantum circuit, you should measure the state |1000⟩ most of the time. This binary number corresponds to the decimal number 8. Since we have used 4 ancilla qubits, the estimated $\\theta$ is $8/2^4 = 0.5$, which matches our expectation.\n",
    "\n",
    "Implement using the [qiskit.circuit.library.PhaseEstimation](https://qiskit.org/documentation/stable/0.24/stubs/qiskit.circuit.library.PhaseEstimation.html) qiskit helper to implement the QPE\n"
   ]
  },
  {
   "cell_type": "code",
   "execution_count": null,
   "id": "d449e52c",
   "metadata": {},
   "outputs": [],
   "source": []
  },
  {
   "cell_type": "code",
   "execution_count": null,
   "id": "9b731e95",
   "metadata": {},
   "outputs": [],
   "source": []
  },
  {
   "cell_type": "markdown",
   "id": "c73f2f31",
   "metadata": {},
   "source": [
    "# Lab\n",
    "\n",
    "Create a small notebook where you:\n",
    "1. Implement a QPE for an U operator you design yourself. It is better if it is not a trivial one.\n",
    "2. Use the QPE implementation of Qiskit to calculate its eigenvalues.\n",
    "3. Check and discuss why the output you get is the right one. You can verify the outputs doing the calculations by hand or using numpy code."
   ]
  },
  {
   "cell_type": "code",
   "execution_count": null,
   "id": "c362e54b",
   "metadata": {},
   "outputs": [],
   "source": []
  },
  {
   "cell_type": "markdown",
   "id": "2c54a3a3",
   "metadata": {},
   "source": []
  }
 ],
 "metadata": {
  "kernelspec": {
   "display_name": "Python 3 (ipykernel)",
   "language": "python",
   "name": "python3"
  },
  "language_info": {
   "codemirror_mode": {
    "name": "ipython",
    "version": 3
   },
   "file_extension": ".py",
   "mimetype": "text/x-python",
   "name": "python",
   "nbconvert_exporter": "python",
   "pygments_lexer": "ipython3",
   "version": "3.11.4"
  }
 },
 "nbformat": 4,
 "nbformat_minor": 5
}
