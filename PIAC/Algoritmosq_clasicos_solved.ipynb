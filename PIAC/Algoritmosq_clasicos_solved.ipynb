{
 "cells": [
  {
   "cell_type": "code",
   "execution_count": 1,
   "id": "formal-celebration",
   "metadata": {},
   "outputs": [],
   "source": [
    "import warnings\n",
    "warnings.filterwarnings(\"ignore\", category=UserWarning)\n",
    "import numpy as np\n",
    "\n",
    "# importing Qiskit\n",
    "from qiskit import QuantumCircuit, QuantumRegister, ClassicalRegister, execute\n",
    "from qiskit.providers.aer import AerSimulator\n",
    "\n",
    "from qiskit.quantum_info import Statevector\n",
    "from math import sqrt\n",
    "\n",
    "# import basic plot tools\n",
    "from qiskit.visualization import plot_histogram\n",
    "\n",
    "# Herramientas del Qiskit textbook\n",
    "from qiskit_textbook.tools import random_state, array_to_latex\n",
    "\n",
    "# Simuladores\n",
    "sim = AerSimulator()\n",
    "sim_u = AerSimulator(method='unitary')"
   ]
  },
  {
   "cell_type": "markdown",
   "id": "unlikely-secretariat",
   "metadata": {},
   "source": [
    "# Algoritmos cuánticos \"clásicos\"\n",
    "\n",
    "Algoritmos que presentan una ventaja real sobre sus homólogos cuánticos\n",
    "\n",
    " - Introducidos en los años 90 del siglo XX\n",
    " - Suponen que tenemos computadores cuánticos ideales\n",
    " - Algunos de ellos carecen de utilidad práctica, mientras que otros suelen formar parte de algoritmos más complejos."
   ]
  },
  {
   "cell_type": "markdown",
   "id": "substantial-medline",
   "metadata": {},
   "source": [
    "### Contenidos\n",
    "\n",
    "1. [Paralelismo cuántico](#paralelismo)\n",
    "1. [Oráculos cuánticos](#oraculo)\n",
    "2. [Algoritmo de Deutsch](#deutsch)\n",
    "3. [Algoritmo de Deutsch-Jozsa](#dj)\n",
    "4. [Algoritmo de Bernstein-Vazirani](#bv)\n",
    "4. [Algoritmo de periodicidad de Simon](#simon)\n",
    "5. [Algoritmo de búsqueda de Grover: amplificación de amplitud](#grover)"
   ]
  },
  {
   "cell_type": "markdown",
   "id": "parental-continent",
   "metadata": {},
   "source": [
    "# Paralelismo cuántico <a id=\"paralelismo\"></a>\n",
    "\n",
    "Permite evaluar una función $f(x)$ para múltiples valores de $x$ simultáneamente."
   ]
  },
  {
   "cell_type": "markdown",
   "id": "failing-jason",
   "metadata": {},
   "source": [
    "Sea $f(x): \\{0,1\\}\\rightarrow\\{0,1\\}$. Para poder usar esa función en un sistema cuántico tenemos que obtener una unitaria $U_f$ que la implemente. Una forma simple es:\n",
    "\n",
    "<img src=\"images/Ufsimple.svg\" alt=\"Uf\" style=\"width: 300px;\"/>\n",
    "\n",
    "Es fácil ver que $U_f$ es su propia inversa:\n",
    "\n",
    "<img src=\"images/Ufrever.svg\" alt=\"Uf\" style=\"width: 700px;\"/>\n"
   ]
  },
  {
   "cell_type": "markdown",
   "id": "sharp-woman",
   "metadata": {},
   "source": [
    "Para un sistema de dos cúbits $|yx\\rangle=|y\\rangle\\otimes|x\\rangle$ (siguiendo el orden de Qiskit) tenemos:\n",
    "\n",
    "$$\n",
    "U_f|yx\\rangle = |y\\oplus f(x)\\rangle\\otimes|x\\rangle\n",
    "$$\n",
    "\n",
    "Si hacemos $|x\\rangle = \\tfrac{1}{\\sqrt{2}}(|0\\rangle+|1\\rangle)$ e $|y\\rangle=|0\\rangle$:\n",
    "\n",
    "$$\n",
    "\\begin{aligned}\n",
    "U_f\\left(|0\\rangle\\otimes|\\tfrac{1}{\\sqrt{2}}(|0\\rangle+|1\\rangle)\\rangle\\right) & \n",
    "= U_f\\left(|\\tfrac{1}{\\sqrt{2}}(|00\\rangle+|01\\rangle)\\right) \n",
    "= \\tfrac{1}{\\sqrt{2}}\\left(U_f|00\\rangle+U_f|01\\rangle\\right) \\\\\n",
    "& = \\tfrac{1}{\\sqrt{2}}\\left(|0\\oplus f(0)\\rangle\\otimes|0\\rangle+|0\\oplus f(1)\\rangle\\otimes|1\\rangle\\right) \n",
    "= \\tfrac{1}{\\sqrt{2}}\\left(|f(0)\\rangle\\otimes|0\\rangle+|f(1)\\rangle\\otimes|1\\rangle\\right)\n",
    "\\end{aligned}\n",
    "$$\n",
    "\n",
    "Una única aplicación de $U_f$ obtiene a la vez $f(0)$ y $f(1)$.\n",
    "\n",
    "Este resultado se puede generalizar a un estado de $n$ cubits $|\\psi\\rangle = \\tfrac{1}{\\sqrt{2^n}}\\sum_{i=0}^{2^n-1} |i\\rangle$:\n",
    "\n",
    "$$\n",
    "U_f\\left(|0\\rangle\\otimes|\\psi\\rangle\\right) = \\frac{1}{\\sqrt{2^n}}\\sum_{i=0}^{2^n-1} |f(i)\\rangle\\otimes|i\\rangle\n",
    "$$\n",
    "\n",
    "Se evalúan simultáneamente todos los $f(x), \\forall x=0\\ldots 2^{n-1}$!\n",
    "\n",
    "&nbsp;\n",
    "\n",
    "<details>\n",
    "    <summary><p style=\"color:blue\">¿Sirve esto para algo?</p></summary>\n",
    "\n",
    "Realmente, este paralelismo no sirve de mucho, ya que al medir solo vamos a obtener un valor de  $|i,f(i)\\rangle$ (y, además, no sabemos cuál va a ser!).\n",
    "</details>"
   ]
  },
  {
   "cell_type": "markdown",
   "id": "5a86052a",
   "metadata": {},
   "source": [
    "# Oráculos cuánticos <a id=\"oraculo\"></a>"
   ]
  },
  {
   "cell_type": "markdown",
   "id": "4971c046",
   "metadata": {},
   "source": [
    "Función de \"caja negra\" de la que solo podemos conocer su salida dada una entrada.\n",
    "\n",
    "Los primeros algoritmos que veremos permiten extraer propiedades de un oráculo.\n",
    "\n",
    "#### Ejemplo: \n",
    "\n",
    "Sea una función $f(x): \\{0,1\\}\\rightarrow\\{0,1\\}$. Solo hay 4 versiones de esta función:\n",
    "\n",
    "![Oraculo](images/oraculo_basico-recorte.svg)\n",
    "\n",
    "Estas funciones pueden expresarse como matrices:\n",
    "\n",
    "$$\n",
    "f_0 = \\begin{bmatrix}1 & 0\\\\0 & 1\\end{bmatrix}\\qquad\n",
    "f_1 = \\begin{bmatrix}0 & 1\\\\1 & 0\\end{bmatrix}\\qquad\n",
    "f_2 = \\begin{bmatrix}1 & 1\\\\0 & 0\\end{bmatrix}\\qquad\n",
    "f_3 = \\begin{bmatrix}0 & 0\\\\1 & 1\\end{bmatrix}\n",
    "$$\n",
    "\n",
    "Podemos convertir esas matrices en unitarias $U_{f_i}$ para usar en el circuito anterior.\n",
    "\n",
    "Por ejemplo, para $f_0$, podemos obtener la matriz correspondiente a $U_f$ a partir de la siguiente tabla:\n",
    "\n",
    "<img src=\"images/matriz-f0.svg\" alt=\"Tabla f0\" style=\"width: 400px;\"/>\n",
    "\n",
    "Por tanto la matriz $U_{f_0}$ es:\n",
    "\n",
    "$$\n",
    "U_{f_0} = \n",
    "\\begin{bmatrix}\n",
    "1 & 0 & 0 & 0\\\\\n",
    "0 & 0 & 0 & 1\\\\\n",
    "0 & 0 & 1 & 0\\\\\n",
    "0 & 1 & 0 & 0\\end{bmatrix}\n",
    "$$"
   ]
  },
  {
   "cell_type": "markdown",
   "id": "98f376b0",
   "metadata": {},
   "source": [
    "### Ejercicio 1\n",
    "\n",
    "Obtén las matrices para las otras tres funciones."
   ]
  },
  {
   "cell_type": "markdown",
   "id": "39645a71",
   "metadata": {},
   "source": [
    "<img src=\"images/matrices-f123.svg\" alt=\"Tabla f0\" style=\"width: 800px;\"/>"
   ]
  },
  {
   "cell_type": "markdown",
   "id": "e8181ed8",
   "metadata": {},
   "source": [
    "La matriz $U_{f_0}$ corresponde a una puerta CNOT:"
   ]
  },
  {
   "cell_type": "code",
   "execution_count": 2,
   "id": "8d2ba80f",
   "metadata": {},
   "outputs": [
    {
     "name": "stderr",
     "output_type": "stream",
     "text": [
      "/home/jorge.vazquez.perez/miniconda3/envs/basic-quantum/lib/python3.10/site-packages/qiskit/visualization/circuit/matplotlib.py:266: FutureWarning: The default matplotlib drawer scheme will be changed to \"iqp\" in a following release. To silence this warning, specify the current default explicitly as style=\"clifford\", or the new default as style=\"iqp\".\n",
      "  self._style, def_font_ratio = load_style(self._style)\n"
     ]
    },
    {
     "data": {
      "image/png": "[encoded data removed]",
      "text/plain": [
       "<Figure size 209.693x200.667 with 1 Axes>"
      ]
     },
     "execution_count": 2,
     "metadata": {},
     "output_type": "execute_result"
    }
   ],
   "source": [
    "x = QuantumRegister(1, name=\"|x\\\\rangle\")\n",
    "y = QuantumRegister(1, name=\"|y\\\\rangle\")\n",
    "qc = QuantumCircuit(x,y)\n",
    "# Aplica CNOT, primer parámetro target, segundo control\n",
    "qc.cx(x,y)\n",
    "qc.draw('mpl')"
   ]
  },
  {
   "cell_type": "code",
   "execution_count": 3,
   "id": "fc13f0ca",
   "metadata": {},
   "outputs": [],
   "source": [
    "# Creo una funcion para obtener y \n",
    "# mostrar la matriz unitaria \n",
    "def obten_unitaria(qcirc, etiqueta):\n",
    "    sim_u = AerSimulator(method='unitary')\n",
    "    #Necesito indicar que se salve la matriz unitaria\n",
    "    qcirc.save_unitary()\n",
    "\n",
    "    result = execute(qcirc, sim_u).result()\n",
    "    unitary = result.get_unitary(qcirc)\n",
    "    array_to_latex(unitary, pretext=etiqueta)"
   ]
  },
  {
   "cell_type": "code",
   "execution_count": 4,
   "id": "b309d2dd",
   "metadata": {},
   "outputs": [
    {
     "data": {
      "text/latex": [
       "$\\displaystyle \n",
       "U_{f_0} = \\begin{bmatrix}\n",
       "1 & 0 & 0 & 0  \\\\\n",
       "0 & 0 & 0 & 1  \\\\\n",
       "0 & 0 & 1 & 0  \\\\\n",
       "0 & 1 & 0 & 0  \\\\\n",
       "\\end{bmatrix}\n",
       "$$\n",
       "$"
      ],
      "text/plain": [
       "<IPython.core.display.Math object>"
      ]
     },
     "metadata": {},
     "output_type": "display_data"
    }
   ],
   "source": [
    "obten_unitaria(qc, \"U_{f_0} = \")"
   ]
  },
  {
   "cell_type": "markdown",
   "id": "b4b9f667",
   "metadata": {},
   "source": [
    "Qiskit permite definir este circuito como una puerta:"
   ]
  },
  {
   "cell_type": "code",
   "execution_count": 5,
   "id": "6d0ba47a",
   "metadata": {},
   "outputs": [],
   "source": [
    "def f0_oraculo():\n",
    "    \"\"\"\n",
    "    Define un oraculo para la funcion f0\n",
    "        return: circuito de 2 cúbit en forma de puerta\n",
    "    \"\"\"\n",
    "    qc = QuantumCircuit(2)\n",
    "    # Aplica CNOT, primer parámetro target, segundo control\n",
    "    qc.cx(0,1)\n",
    "        \n",
    "    # Convierte el circuito en una puerta\n",
    "    oraculo = qc.to_gate()\n",
    "    oraculo.name = \"$U_{f_0}$\"\n",
    "    return oraculo"
   ]
  },
  {
   "cell_type": "markdown",
   "id": "02bca9e1",
   "metadata": {},
   "source": [
    "### Demostración del paralelismo cuántico\n",
    "\n",
    "Podemos ver como funciona el paralelismo cuántico haciendo un circuito en Qiskit con el oraculo asociado a $f_0$."
   ]
  },
  {
   "cell_type": "code",
   "execution_count": 6,
   "id": "0d8c581c",
   "metadata": {},
   "outputs": [
    {
     "data": {
      "image/png": "[encoded data removed]",
      "text/plain": [
       "<Figure size 627.748x200.667 with 1 Axes>"
      ]
     },
     "execution_count": 6,
     "metadata": {},
     "output_type": "execute_result"
    }
   ],
   "source": [
    "x = QuantumRegister(1, name=\"|x\\\\rangle\")\n",
    "y = QuantumRegister(1, name=\"|y\\\\rangle\")\n",
    "qc = QuantumCircuit(x,y)\n",
    "estado_mas = Statevector([1/sqrt(2), 1/sqrt(2)])\n",
    "qc.initialize(estado_mas,0)\n",
    "\n",
    "# Añadimos el oráculo\n",
    "qc = qc.compose(f0_oraculo())\n",
    "\n",
    "#Indicamos que queremos ver el vector de estado en este punto\n",
    "qc.save_statevector()\n",
    "qc.draw('mpl')"
   ]
  },
  {
   "cell_type": "code",
   "execution_count": 7,
   "id": "e49eb547",
   "metadata": {},
   "outputs": [
    {
     "data": {
      "text/latex": [
       "$\\displaystyle \n",
       "|\\psi\\rangle = \\begin{bmatrix}\n",
       "\\tfrac{1}{\\sqrt{2}} \\\\\n",
       "0 \\\\\n",
       "0 \\\\\n",
       "\\tfrac{1}{\\sqrt{2}}\n",
       "\\end{bmatrix}\n",
       "$"
      ],
      "text/plain": [
       "<IPython.core.display.Math object>"
      ]
     },
     "metadata": {},
     "output_type": "display_data"
    }
   ],
   "source": [
    "# Ejecutamos una simulación \n",
    "job_sim = execute(qc, sim, shots=1)\n",
    "\n",
    "# Obtenemos los resultados\n",
    "result = job_sim.result()\n",
    "\n",
    "# Obtenemos el vector de estado del circuito\n",
    "estado = result.get_statevector()\n",
    "# Muestra estado\n",
    "array_to_latex(estado, pretext=\"|\\psi\\\\rangle = \")"
   ]
  },
  {
   "cell_type": "markdown",
   "id": "03c439c2",
   "metadata": {},
   "source": [
    "Se trata del estado:\n",
    "$$\n",
    "|\\psi\\rangle = \\tfrac{1}{\\sqrt{2}}(|00\\rangle+|11\\rangle) = \\tfrac{1}{\\sqrt{2}}(|f_0(0),0\\rangle+|f_0(1),1\\rangle)\n",
    "$$"
   ]
  },
  {
   "cell_type": "markdown",
   "id": "d8227cd6",
   "metadata": {},
   "source": [
    "### Ejercicio 2\n",
    "\n",
    "Crea funciones oráculo en Qiskit para las otras 3 matrices y prueba el paralelismo cuantico en los 3 casos."
   ]
  },
  {
   "cell_type": "markdown",
   "id": "11775aed",
   "metadata": {},
   "source": [
    "**Matriz $f_1$**\n",
    "\n",
    "Primero creamos el circuito para ver la matriz unitaria"
   ]
  },
  {
   "cell_type": "code",
   "execution_count": 8,
   "id": "15073822",
   "metadata": {},
   "outputs": [
    {
     "data": {
      "image/png": "[encoded data removed]",
      "text/plain": [
       "<Figure size 376.915x200.667 with 1 Axes>"
      ]
     },
     "metadata": {},
     "output_type": "display_data"
    },
    {
     "data": {
      "text/latex": [
       "$\\displaystyle \n",
       "U_{f_0} = \\begin{bmatrix}\n",
       "0 & 0 & 1 & 0  \\\\\n",
       "0 & 1 & 0 & 0  \\\\\n",
       "1 & 0 & 0 & 0  \\\\\n",
       "0 & 0 & 0 & 1  \\\\\n",
       "\\end{bmatrix}\n",
       "$$\n",
       "$"
      ],
      "text/plain": [
       "<IPython.core.display.Math object>"
      ]
     },
     "metadata": {},
     "output_type": "display_data"
    }
   ],
   "source": [
    "# Matriz f1\n",
    "x = QuantumRegister(1, name=\"|x\\\\rangle\")\n",
    "y = QuantumRegister(1, name=\"|y\\\\rangle\")\n",
    "qc = QuantumCircuit(x,y)\n",
    "# Aplica una NOT a x\n",
    "qc.x(x)\n",
    "# Aplica CNOT, primer parámetro target, segundo control\n",
    "qc.cx(x,y)\n",
    "# Recupera x\n",
    "qc.x(x)\n",
    "display(qc.draw('mpl'))\n",
    "obten_unitaria(qc, \"U_{f_0} = \")"
   ]
  },
  {
   "cell_type": "markdown",
   "id": "958c8186",
   "metadata": {},
   "source": [
    "Escribimos el circuito en forma de función oráculo"
   ]
  },
  {
   "cell_type": "code",
   "execution_count": 9,
   "id": "cf0e3b38",
   "metadata": {},
   "outputs": [],
   "source": [
    "# Oraculo para f1\n",
    "def f1_oraculo():\n",
    "    \"\"\"\n",
    "    Define un oraculo para la funcion f1\n",
    "        return: circuito de 2 cúbit en forma de puerta\n",
    "    \"\"\"\n",
    "    qc = QuantumCircuit(2)\n",
    "    # Aplica CNOT, primer parámetro target, segundo control\n",
    "    qc.x(0)\n",
    "    qc.cx(0,1)\n",
    "    qc.x(0)\n",
    "        \n",
    "    # Convierte el circuito en una puerta\n",
    "    oraculo = qc.to_gate()\n",
    "    oraculo.name = \"$U_{f_1}$\"\n",
    "    return oraculo"
   ]
  },
  {
   "cell_type": "markdown",
   "id": "420d3283",
   "metadata": {},
   "source": [
    "Probamos el paralelismo cuántico con $|x\\rangle$ en superposición."
   ]
  },
  {
   "cell_type": "code",
   "execution_count": 10,
   "id": "ade3477b",
   "metadata": {},
   "outputs": [
    {
     "data": {
      "image/png": "[encoded data removed]",
      "text/plain": [
       "<Figure size 627.748x200.667 with 1 Axes>"
      ]
     },
     "execution_count": 10,
     "metadata": {},
     "output_type": "execute_result"
    }
   ],
   "source": [
    "x = QuantumRegister(1, name=\"|x\\\\rangle\")\n",
    "y = QuantumRegister(1, name=\"|y\\\\rangle\")\n",
    "qc = QuantumCircuit(x,y)\n",
    "estado_mas = Statevector([1/sqrt(2), 1/sqrt(2)])\n",
    "qc.initialize(estado_mas,0)\n",
    "\n",
    "# Añadimos el oráculo\n",
    "qc = qc.compose(f1_oraculo())\n",
    "\n",
    "#Indicamos que queremos ver el vector de estado en este punto\n",
    "qc.save_statevector()\n",
    "qc.draw('mpl')"
   ]
  },
  {
   "cell_type": "code",
   "execution_count": 11,
   "id": "269fde80",
   "metadata": {},
   "outputs": [
    {
     "data": {
      "text/latex": [
       "$\\displaystyle \n",
       "|\\psi\\rangle = \\begin{bmatrix}\n",
       "0 \\\\\n",
       "\\tfrac{1}{\\sqrt{2}} \\\\\n",
       "\\tfrac{1}{\\sqrt{2}} \\\\\n",
       "0\n",
       "\\end{bmatrix}\n",
       "$"
      ],
      "text/plain": [
       "<IPython.core.display.Math object>"
      ]
     },
     "metadata": {},
     "output_type": "display_data"
    }
   ],
   "source": [
    "# Ejecutamos una simulación \n",
    "job_sim = execute(qc, sim, shots=1)\n",
    "\n",
    "# Obtenemos los resultados\n",
    "result = job_sim.result()\n",
    "\n",
    "# Obtenemos el vector de estado del circuito\n",
    "estado = result.get_statevector()\n",
    "# Muestra estado\n",
    "array_to_latex(estado, pretext=\"|\\psi\\\\rangle = \")"
   ]
  },
  {
   "cell_type": "markdown",
   "id": "2ac9cd23",
   "metadata": {},
   "source": [
    "Se trata del estado:\n",
    "$$\n",
    "|\\psi\\rangle = \\tfrac{1}{\\sqrt{2}}(|01\\rangle+|10\\rangle) = \\tfrac{1}{\\sqrt{2}}(|f_1(1),1\\rangle+|f_1(0),0\\rangle)\n",
    "$$"
   ]
  },
  {
   "cell_type": "markdown",
   "id": "ca47e313",
   "metadata": {},
   "source": [
    "**Matriz $f_2$**\n",
    "\n",
    "En este caso la matriz es la identidad, que corresponde a un circuito sin puertas.\n",
    "\n",
    "Lo expresamos en forma de oráculo."
   ]
  },
  {
   "cell_type": "code",
   "execution_count": 12,
   "id": "0e924266",
   "metadata": {},
   "outputs": [],
   "source": [
    "# Oraculo para f2 (Identidad)\n",
    "def f2_oraculo():\n",
    "    \"\"\"\n",
    "    Define un oraculo para la funcion f1\n",
    "        return: circuito de 2 cúbit en forma de puerta\n",
    "    \"\"\"\n",
    "    qc = QuantumCircuit(2)\n",
    "        \n",
    "    # Convierte el circuito en una puerta\n",
    "    oraculo = qc.to_gate()\n",
    "    oraculo.name = \"$U_{f_2}$\"\n",
    "    return oraculo"
   ]
  },
  {
   "cell_type": "code",
   "execution_count": 13,
   "id": "cf385a16",
   "metadata": {},
   "outputs": [
    {
     "data": {
      "image/png": "[encoded data removed]",
      "text/plain": [
       "<Figure size 627.748x200.667 with 1 Axes>"
      ]
     },
     "execution_count": 13,
     "metadata": {},
     "output_type": "execute_result"
    }
   ],
   "source": [
    "x = QuantumRegister(1, name=\"|x\\\\rangle\")\n",
    "y = QuantumRegister(1, name=\"|y\\\\rangle\")\n",
    "qc = QuantumCircuit(x,y)\n",
    "estado_mas = Statevector([1/sqrt(2), 1/sqrt(2)])\n",
    "qc.initialize(estado_mas,0)\n",
    "\n",
    "# Añadimos el oraculo\n",
    "qc = qc.compose(f2_oraculo())\n",
    "\n",
    "#Indicamos que queremos ver el vector de estado en este punto\n",
    "qc.save_statevector()\n",
    "qc.draw('mpl')"
   ]
  },
  {
   "cell_type": "code",
   "execution_count": 14,
   "id": "a007c556",
   "metadata": {},
   "outputs": [
    {
     "data": {
      "text/latex": [
       "$\\displaystyle \n",
       "|\\psi\\rangle = \\begin{bmatrix}\n",
       "\\tfrac{1}{\\sqrt{2}} \\\\\n",
       "\\tfrac{1}{\\sqrt{2}} \\\\\n",
       "0 \\\\\n",
       "0\n",
       "\\end{bmatrix}\n",
       "$"
      ],
      "text/plain": [
       "<IPython.core.display.Math object>"
      ]
     },
     "metadata": {},
     "output_type": "display_data"
    }
   ],
   "source": [
    "# Ejecutamos una simulación \n",
    "job_sim = execute(qc, sim, shots=1)\n",
    "\n",
    "# Obtenemos los resultados\n",
    "result = job_sim.result()\n",
    "\n",
    "# Obtenemos el vector de estado del circuito\n",
    "estado = result.get_statevector()\n",
    "# Muestra estado\n",
    "array_to_latex(estado, pretext=\"|\\psi\\\\rangle = \")"
   ]
  },
  {
   "cell_type": "markdown",
   "id": "92ab365c",
   "metadata": {},
   "source": [
    "Se trata del estado:\n",
    "$$\n",
    "|\\psi\\rangle = \\tfrac{1}{\\sqrt{2}}(|00\\rangle+|01\\rangle) = \\tfrac{1}{\\sqrt{2}}(|f_2(0),0\\rangle+|f_2(1),1\\rangle)\n",
    "$$"
   ]
  },
  {
   "cell_type": "markdown",
   "id": "0f34968c",
   "metadata": {},
   "source": [
    "**Matriz $f_3$**\n",
    "\n",
    "Primero creamos el circuito para ver la matriz unitaria."
   ]
  },
  {
   "cell_type": "code",
   "execution_count": 15,
   "id": "213b2ec6",
   "metadata": {},
   "outputs": [
    {
     "data": {
      "image/png": "[encoded data removed]",
      "text/plain": [
       "<Figure size 209.693x200.667 with 1 Axes>"
      ]
     },
     "metadata": {},
     "output_type": "display_data"
    },
    {
     "data": {
      "text/latex": [
       "$\\displaystyle \n",
       "U_{f_0} = \\begin{bmatrix}\n",
       "0 & 0 & 1 & 0  \\\\\n",
       "0 & 0 & 0 & 1  \\\\\n",
       "1 & 0 & 0 & 0  \\\\\n",
       "0 & 1 & 0 & 0  \\\\\n",
       "\\end{bmatrix}\n",
       "$$\n",
       "$"
      ],
      "text/plain": [
       "<IPython.core.display.Math object>"
      ]
     },
     "metadata": {},
     "output_type": "display_data"
    }
   ],
   "source": [
    "# Matriz f3\n",
    "x = QuantumRegister(1, name=\"|x\\\\rangle\")\n",
    "y = QuantumRegister(1, name=\"|y\\\\rangle\")\n",
    "qc = QuantumCircuit(x,y)\n",
    "\n",
    "qc.x(y)\n",
    "\n",
    "display(qc.draw('mpl'))\n",
    "obten_unitaria(qc, \"U_{f_0} = \")"
   ]
  },
  {
   "cell_type": "markdown",
   "id": "cb719960",
   "metadata": {},
   "source": [
    "Lo expresamos en forma de oráculo"
   ]
  },
  {
   "cell_type": "code",
   "execution_count": 16,
   "id": "87c0e6bb",
   "metadata": {},
   "outputs": [],
   "source": [
    "# Oraculo para f3\n",
    "def f3_oraculo():\n",
    "    \"\"\"\n",
    "    Define un oraculo para la funcion f3\n",
    "        return: circuito de 2 cúbit en forma de puerta\n",
    "    \"\"\"\n",
    "    qc = QuantumCircuit(2)\n",
    "    # Aplica CNOT, primer parámetro target, segundo control\n",
    "    qc.x(1)\n",
    "        \n",
    "    # Convierte el circuito en una puerta\n",
    "    oraculo = qc.to_gate()\n",
    "    oraculo.name = \"$U_{f_3}$\"\n",
    "    return oraculo"
   ]
  },
  {
   "cell_type": "code",
   "execution_count": 17,
   "id": "db1db1a1",
   "metadata": {},
   "outputs": [
    {
     "data": {
      "image/png": "[encoded data removed]",
      "text/plain": [
       "<Figure size 627.748x200.667 with 1 Axes>"
      ]
     },
     "execution_count": 17,
     "metadata": {},
     "output_type": "execute_result"
    }
   ],
   "source": [
    "x = QuantumRegister(1, name=\"|x\\\\rangle\")\n",
    "y = QuantumRegister(1, name=\"|y\\\\rangle\")\n",
    "qc = QuantumCircuit(x,y)\n",
    "estado_mas = Statevector([1/sqrt(2), 1/sqrt(2)])\n",
    "qc.initialize(estado_mas,0)\n",
    "\n",
    "# Añadimos el oráculo\n",
    "qc = qc.compose(f3_oraculo())\n",
    "\n",
    "#Indicamos que queremos ver el vector de estado en este punto\n",
    "qc.save_statevector()\n",
    "qc.draw('mpl')"
   ]
  },
  {
   "cell_type": "code",
   "execution_count": 18,
   "id": "7e571071",
   "metadata": {},
   "outputs": [
    {
     "data": {
      "text/latex": [
       "$\\displaystyle \n",
       "|\\psi\\rangle = \\begin{bmatrix}\n",
       "0 \\\\\n",
       "0 \\\\\n",
       "\\tfrac{1}{\\sqrt{2}} \\\\\n",
       "\\tfrac{1}{\\sqrt{2}}\n",
       "\\end{bmatrix}\n",
       "$"
      ],
      "text/plain": [
       "<IPython.core.display.Math object>"
      ]
     },
     "metadata": {},
     "output_type": "display_data"
    }
   ],
   "source": [
    "# Ejecutamos una simulación \n",
    "job_sim = execute(qc, sim, shots=1)\n",
    "\n",
    "# Obtenemos los resultados\n",
    "result = job_sim.result()\n",
    "\n",
    "# Obtenemos el vector de estado del circuito\n",
    "estado = result.get_statevector()\n",
    "# Muestra estado\n",
    "array_to_latex(estado, pretext=\"|\\psi\\\\rangle = \")"
   ]
  },
  {
   "cell_type": "markdown",
   "id": "9866c6f9",
   "metadata": {},
   "source": [
    "Se trata del estado:\n",
    "$$\n",
    "|\\psi\\rangle = \\tfrac{1}{\\sqrt{2}}(|10\\rangle+|11\\rangle) = \\tfrac{1}{\\sqrt{2}}(|f_3(0),0\\rangle+|f_3(1),1\\rangle)\n",
    "$$"
   ]
  },
  {
   "cell_type": "markdown",
   "id": "09a6828d",
   "metadata": {},
   "source": [
    "## Complejidad de consultas\n",
    "\n",
    "En un algoritmo que hace uso de un oráculo, se denomina complejidad de consultas (*query complexity*) al número medio de *consultas* al oráculo que se necesitan para resolver el problema.\n",
    "\n",
    "La complejidad se expresa a través de la *notación asintótica*, principalmente la notación *Big-O*.\n",
    "\n",
    "Así, si el número $n$ de accesos al oráculo crece exponencialmente, la complejidad será $\\mathcal{O}\\left(2^n\\right)$ y si lo hace linealmente $\\mathcal{O}\\left(n\\right)$.\n",
    "\n",
    "Los algoritmos cuánticos que veremos a continuación tienen una menor complejidad de consultas que sus equivalentes clásicos."
   ]
  },
  {
   "cell_type": "markdown",
   "id": "87fcb3d9",
   "metadata": {},
   "source": [
    "-------------------------------\n",
    "-------------------------------\n",
    "-------------------------------"
   ]
  },
  {
   "cell_type": "markdown",
   "id": "built-provision",
   "metadata": {},
   "source": [
    "# Algoritmo de Deutsch <a id=\"deutsch\"></a>\n",
    "\n",
    "Las funciones $f(x): \\{0,1\\}\\rightarrow\\{0,1\\}$ se denominan:\n",
    "\n",
    "- Constantes: si $f(0)=f(1)$\n",
    "- Balanceadas: si $f(0)\\ne f(1)$\n",
    "\n",
    "De las 4 funciones anteriores, $f_0$ y $f_1$ son balanceadas mientras que $f_2$ y $f_3$ son constantes.\n",
    "\n",
    "Dada una función $f(x): \\{0,1\\}\\rightarrow\\{0,1\\}$ desconocida, un algoritmo clásico necesita 2 llamadas a $f$ para determinar si es constante o balanceada.\n",
    "\n",
    "El **algoritmo cuántico de Deutsch** puede determinarlo con una sola llamada a $f$.\n",
    "\n",
    "Partimos del circuito siguiente:\n",
    "\n",
    "<img src=\"images/Deutsch.svg\" alt=\"Tabla f0\" style=\"width: 800px;\"/>"
   ]
  },
  {
   "cell_type": "markdown",
   "id": "thirty-madrid",
   "metadata": {},
   "source": [
    "Estado después de la puerta X:\n",
    "$$\n",
    "|\\psi_0\\rangle = |10\\rangle \n",
    "$$\n",
    "\n",
    "Estado despues de las H:\n",
    "$$\n",
    "|\\psi_1\\rangle = |-+\\rangle = \\frac{|0\\rangle - |1\\rangle}{\\sqrt{2}}\\otimes \\frac{|0\\rangle + |1\\rangle}{\\sqrt{2}} = |y\\rangle \\otimes|x\\rangle \n",
    "$$\n",
    "\n",
    "Y se tiene que:\n",
    "\n",
    "$$\n",
    "y\\oplus f(x) = \\frac{|0\\rangle - |1\\rangle}{\\sqrt{2}}\\oplus f(x) = \\frac{|0\\oplus f(x)\\rangle - |1\\oplus f(x)\\rangle}{\\sqrt{2}} = \n",
    "\\begin{cases}\n",
    "\\frac{|0\\rangle - |1\\rangle}{\\sqrt{2}}, & \\text{si } f(x) = 0\\\\\n",
    "\\frac{|1\\rangle - |0\\rangle}{\\sqrt{2}}, & \\text{si } f(x) = 1\n",
    "\\end{cases}\n",
    "$$\n",
    "\n",
    "por lo que podemos escribir: \n",
    "$$\n",
    "y\\oplus f(x) = (-1)^{f(x)}\\frac{|0\\rangle - |1\\rangle}{\\sqrt{2}}\n",
    "$$\n",
    "\n",
    "De aquí se tiene que:\n",
    "\n",
    "$$\n",
    "|\\psi_2\\rangle = \\frac{1}{\\sqrt{2}}(-1)^{f(x)} (|0\\rangle - |1\\rangle)\\otimes |x\\rangle = \n",
    "\\frac{1}{\\sqrt{2}} (|0\\rangle - |1\\rangle)\\otimes (-1)^{f(x)}|x\\rangle\n",
    "$$\n",
    "Y podemos escribir:\n",
    "$$\n",
    "(-1)^{f(x)}|x\\rangle = |(-1)^{f(x)}x\\rangle = \n",
    "\\frac{(-1)^{f(0)}|0\\rangle + (-1)^{f(1)}|1\\rangle}{\\sqrt{2}}\n",
    "$$\n",
    "\n",
    "Por lo tanto, el estado $|\\psi_2\\rangle$ queda:\n",
    "$$\n",
    "|\\psi_2\\rangle = \n",
    "\\frac{|0\\rangle - |1\\rangle}{\\sqrt{2}}\\otimes \n",
    "\\frac{(-1)^{f(0)}|0\\rangle + (-1)^{f(1)}|1\\rangle}{\\sqrt{2}} =\n",
    "\\begin{cases}\n",
    "\\pm\\left[\\frac{|0\\rangle - |1\\rangle}{\\sqrt{2}}\\right] \\otimes \\left[\\frac{|0\\rangle + |1\\rangle}{\\sqrt{2}}\\right], & \\text{si } f(0) = f(1)\\\\\\mbox{}\\\\\n",
    "\\pm\\left[\\frac{|0\\rangle - |1\\rangle}{\\sqrt{2}}\\right] \\otimes  \\left[\\frac{|0\\rangle - |1\\rangle}{\\sqrt{2}}\\right], & \\text{si } f(0) \\neq f(1)\n",
    "\\end{cases}\n",
    "$$\n",
    "\n",
    "Al aplicar la última `H`:\n",
    "\n",
    "$$\n",
    "|\\psi_3\\rangle = \n",
    "\\begin{cases}\n",
    "\\pm\\frac{|0\\rangle - |1\\rangle}{\\sqrt{2}} \\otimes |0\\rangle, & \\text{si } f(0) = f(1)\\\\\\mbox{}\\\\\n",
    "\\pm\\frac{|0\\rangle - |1\\rangle}{\\sqrt{2}} \\otimes |1\\rangle, & \\text{si } f(0) \\neq f(1)\n",
    "\\end{cases}\n",
    "$$\n",
    "\n",
    "Midiendo el cúbit de arriba vamos a obtener, con total certeza, un $0$ si $f$ es constante o un $1$ si $f$ es balanceada, con una sola evaluacion de $f(x)$."
   ]
  },
  {
   "cell_type": "markdown",
   "id": "dd186aba",
   "metadata": {},
   "source": [
    "### Ejercicio 3\n",
    "\n",
    "Implementa un circuito en Qiskit para probar el algoritmo de Deutsch con los oráculos definidos para las funciones $f_{0-3}$. Comprueba que es capaz de determinar si la función es constante o balanceada."
   ]
  },
  {
   "cell_type": "code",
   "execution_count": 51,
   "id": "f208efa4",
   "metadata": {},
   "outputs": [],
   "source": [
    "# Empieza creando un circuito a partir de un oráculo\n",
    "def deutsch_qc(oraculo):\n",
    "    x = QuantumRegister(1, name=\"|x\\\\rangle\")\n",
    "    y = QuantumRegister(1, name=\"|y\\\\rangle\")\n",
    "    meas = ClassicalRegister(1, name=\"Medida\")\n",
    "    qc = QuantumCircuit(x,y,meas)\n",
    "    \n",
    "    # Añade las puertas iniciales\n",
    "    #qc.x(y)\n",
    "    qc.h(x)\n",
    "    qc.h(y)\n",
    "    \n",
    "    # Añade el oraculo\n",
    "    qc = qc.compose(oraculo())\n",
    "    \n",
    "    # Añade la última puerta H\n",
    "    #qc.h(x)\n",
    "    \n",
    "    # Añade la medida\n",
    "    #qc.measure(x,meas)\n",
    "\n",
    "    return qc"
   ]
  },
  {
   "cell_type": "code",
   "execution_count": 52,
   "id": "d1722707",
   "metadata": {},
   "outputs": [
    {
     "data": {
      "image/png": "[encoded data removed]",
      "text/plain": [
       "<Figure size 606.829x284.278 with 1 Axes>"
      ]
     },
     "metadata": {},
     "output_type": "display_data"
    },
    {
     "data": {
      "text/latex": [
       "$\\displaystyle \n",
       "|\\psi\\rangle = \\begin{bmatrix}\n",
       "\\tfrac{1}{2} \\\\\n",
       "\\tfrac{1}{2} \\\\\n",
       "\\tfrac{1}{2} \\\\\n",
       "\\tfrac{1}{2}\n",
       "\\end{bmatrix}\n",
       "$"
      ],
      "text/plain": [
       "<IPython.core.display.Math object>"
      ]
     },
     "metadata": {},
     "output_type": "display_data"
    }
   ],
   "source": [
    "# Probamos con f0\n",
    "qc = deutsch_qc(f0_oraculo)\n",
    "qc.save_statevector()\n",
    "display(qc.draw('mpl'))\n",
    "\n",
    "# Ejecutamos una simulación \n",
    "job_sim = execute(qc, sim, shots=1)\n",
    "\n",
    "# Obtenemos los resultados\n",
    "result = job_sim.result()\n",
    "\n",
    "# Obtenemos el vector de estado del circuito\n",
    "estado = result.get_statevector()\n",
    "# Muestra estado\n",
    "array_to_latex(estado, pretext=\"|\\psi\\\\rangle = \")"
   ]
  },
  {
   "cell_type": "code",
   "execution_count": 21,
   "id": "4b5b2361",
   "metadata": {},
   "outputs": [
    {
     "data": {
      "image/png": "[encoded data removed]",
      "text/plain": [
       "<Figure size 700x500 with 1 Axes>"
      ]
     },
     "execution_count": 21,
     "metadata": {},
     "output_type": "execute_result"
    }
   ],
   "source": [
    "# Hacemos la simulacion\n",
    "result = execute(qc, sim, shots = 1000).result()\n",
    "salida = result.get_counts()\n",
    "plot_histogram(salida)"
   ]
  },
  {
   "cell_type": "code",
   "execution_count": 22,
   "id": "eb987c25",
   "metadata": {},
   "outputs": [
    {
     "data": {
      "image/png": "[encoded data removed]",
      "text/plain": [
       "<Figure size 700x500 with 1 Axes>"
      ]
     },
     "metadata": {},
     "output_type": "display_data"
    },
    {
     "data": {
      "image/png": "[encoded data removed]",
      "text/plain": [
       "<Figure size 700x500 with 1 Axes>"
      ]
     },
     "metadata": {},
     "output_type": "display_data"
    },
    {
     "data": {
      "image/png": "[encoded data removed]",
      "text/plain": [
       "<Figure size 700x500 with 1 Axes>"
      ]
     },
     "metadata": {},
     "output_type": "display_data"
    }
   ],
   "source": [
    "# Probamos con las otras 3\n",
    "for f in [f1_oraculo, f2_oraculo, f3_oraculo]:\n",
    "    qc = deutsch_qc(f)\n",
    "    # hacemos la simulacion\n",
    "    result = execute(qc, sim, shots = 1000).result()\n",
    "    salida = result.get_counts()\n",
    "    display(plot_histogram(salida))"
   ]
  },
  {
   "cell_type": "markdown",
   "id": "marine-mechanism",
   "metadata": {},
   "source": [
    "# Algoritmo de Deutsch-Jozsa <a id=\"dj\"></a>\n",
    "\n",
    "Es una generalización a $n$ bits del anterior. Dada una función (oráculo) $f(\\{x_{n-1},x_{n-2},\\ldots,x_1,x_{0}\\}) \\rightarrow \\{0,1\\}$, que es, o bien, _balanceada_, o bien, _constante_, determinar el tipo:\n",
    "\n",
    "- Función constante: la salida de $f(x)$ es, o bien, 0, o bien, 1 $\\forall x$ \n",
    "- Función balanceada: devuelve 0 para la mitad de las entradas y 1 para la otra mitad\n",
    "\n",
    "**Solución clásica**\n",
    "\n",
    "Un algoritmo clásico necesita efectuar en el mejor caso $2$ y en el peor $2^{n-1}+1$ evaluaciones de $f(x)$, por lo que su complejidad es exponencial $\\mathcal{O}(2^n)$.\n",
    "\n",
    "**Solución cuántica**\n",
    "\n",
    "El algoritmo cuántico ([D. Deutsch and R. Jozsa, 1992](https://doi.org/10.1098%2Frspa.1992.0167)) solo necesita una evaluación del oráculo $f(x)$ (ganancia exponencial).\n",
    "\n",
    "El circuito usado es:\n",
    "\n",
    "<img src=\"images/Deutsch-Jozsa.svg\" alt=\"Deutsch-Jozsa\" style=\"width: 800px;\"/>\n",
    "\n",
    "\n",
    "Pasos:\n",
    "\n",
    "<ol>\n",
    "   <li>\n",
    "        Estado inicial:\n",
    "        \n",
    "\n",
    "$$\\vert \\psi_0 \\rangle = \\vert 1\\rangle \\vert0\\rangle^{\\otimes n} $$\n",
    "\n",
    "\n",
    "   </li>\n",
    "    \n",
    "   <li>\n",
    "        Después de aplicar las primeras puertas H:\n",
    "$$\\vert \\psi_1 \\rangle = \\frac{1}{\\sqrt{2^{n+1}}}\\sum_{x=0}^{2^n-1} \\left(|0\\rangle - |1 \\rangle \\right)\\vert x\\rangle $$\n",
    "   </li>\n",
    "   <p>\n",
    "   <li>\n",
    "        Aplicamos $U_f$ a $\\vert y\\rangle \\vert x\\rangle$ para obtener $\\vert y \\oplus f(x)\\rangle\\vert x\\rangle$, recordando que $y\\oplus f(x) = \\tfrac{1}{\\sqrt{2}} (-1)^{f(x)}(|0\\rangle - |1\\rangle)$:\n",
    " \n",
    "$$\\vert\\psi_2\\rangle  = \\frac{1}{\\sqrt{2^{n+1}}}\\sum_{x=0}^{2^n-1}(-1)^{f(x)}(|0\\rangle - |1\\rangle)|x\\rangle=\\frac{(|0\\rangle - |1\\rangle)}{\\sqrt{2^{n+1}}}\\sum_{x=0}^{2^n-1}(-1)^{f(x)}|x\\rangle$$\n",
    "          </li>\n",
    "<p>\n",
    "   <li>Ahora aplicamos una H a cada cúbit en  $|x\\rangle$ (recordemos que $H^{\\otimes n}|x\\rangle = \\tfrac{1}{\\sqrt{2^n}} \\sum_{i=0}^{2^n-1} (-1)^{x\\cdot i}|i\\rangle)$. Si ya no consideramos el cúbit de abajo, el estado es:<p>\n",
    "        $$\n",
    "        \\begin{aligned}\n",
    "            \\lvert \\psi_3 \\rangle \n",
    "                & = \\frac{1}{2^n}\\sum_{x=0}^{2^n-1}(-1)^{f(x)}\n",
    "                    \\left[ \\sum_{i=0}^{2^n-1}(-1)^{x \\cdot i} \n",
    "                    \\vert i \\rangle \\right] \\\\\n",
    "                & = \\frac{1}{2^n}\\sum_{i=0}^{2^n-1}\n",
    "                    \\left[ \\sum_{x=0}^{2^n-1}(-1)^{f(x)}(-1)^{x \\cdot i} \\right]\n",
    "                    \\vert i \\rangle\n",
    "        \\end{aligned}\n",
    "        $$\n",
    "       \n",
    "con $x \\cdot i = x_{n-1}i_{n-1}\\oplus x_{n-2}i_{n-2}\\oplus \\ldots \\oplus x_1i_1 \\oplus x_0i_0$.\n",
    "   </li>\n",
    "\n",
    "   <li>\n",
    "       Se realiza la medida. La probabilidad de obtener todo 0 ($\\vert i \\rangle=  \\vert 0 \\rangle ^{\\otimes n}$) es:\n",
    "       $$\n",
    "       \\left| \\frac{1}{2^n}\\sum_{x=0}^{2^n-1}(-1)^{f(x)} \\right|^2 = \n",
    "       \\begin{cases}\n",
    "       1, \\text{si } f \\text{ es constante}\\\\\n",
    "       0, \\text{si } f \\text{ es balanceada}\n",
    "       \\end{cases}\n",
    "       $$\n",
    "   </li>\n",
    "<p>\n",
    "</ol>\n",
    "En conclusión, si a la salida obtenemos todo 0, $f$ es constante. Si obtenemos cualquier otro valor $f$ es balanceada. \n",
    "\n",
    "<p></p>\n",
    "\n",
    "<details>\n",
    "    <summary><p style=\"color:blue\">Demostración de que $H^{\\otimes n}|x\\rangle = \\tfrac{1}{\\sqrt{2^n}} \\sum_{i=0}^{2^n-1} (-1)^{x\\cdot i}|i\\rangle$</p></summary>\n",
    "\n",
    "El uso de puertas `H` permite poner los n-cúbits en un estado de superposición.\n",
    "\n",
    "El estado de _superposición completa_ es:\n",
    "\n",
    "$$\n",
    "|+\\rangle^{\\otimes n} = H^{\\otimes n}|0\\rangle^{\\otimes n}\n",
    "$$\n",
    "\n",
    "$H^{\\otimes n}$ se conoce como puerta _Walsh-Hadamard_.\n",
    "\n",
    "Ejemplo para 4 cúbits:\n",
    "\n",
    "$$\n",
    "H^{\\otimes 4}|1010\\rangle = H|1\\rangle\\otimes H|0\\rangle\\otimes H|1\\rangle\\otimes H|0\\rangle = \\\\\n",
    "\\frac{1}{4}\\left[(|0\\rangle - |1\\rangle)\\otimes (|0\\rangle + |1\\rangle) \\otimes (|0\\rangle - |1\\rangle) \\otimes (|0\\rangle + |1\\rangle)\\right] = \\frac{1}{4}\\left[\\\\\n",
    "|0000\\rangle+|0001\\rangle-|0010\\rangle-|0011\\rangle+\\\\\n",
    "|0100\\rangle+|0101\\rangle-|0110\\rangle-|0111\\rangle-\\\\\n",
    "|1000\\rangle-|1001\\rangle+|1010\\rangle+|1011\\rangle-\\\\\n",
    "|1100\\rangle-|1101\\rangle+|1110\\rangle+|1111\\rangle\\phantom{-}\\right]\n",
    "$$\n",
    "\n",
    "En este ejemplo, el signo negativo aparece en los estados $|x_3x_2x_1x_0\\rangle$ para los que se verifica que:\n",
    "    \n",
    "$$\n",
    "(x_3x_2x_1x_0)\\cdot(1010) = x_3\\cdot 1\\oplus x_2\\cdot 0 \\oplus x_1\\cdot 1 \\oplus x_0\\cdot 0 = x_3\\cdot x_1 = 1\n",
    "$$\n",
    "\n",
    "que son los estados para los que $x_3 \\ne x_1$.\n",
    "    \n",
    "En general, para un estado $|x\\rangle = |x_{n-1}x_{n-2}\\ldots x_0\\rangle$ de n-cúbits, se puede escribir:\n",
    "\n",
    "$$\n",
    "H^{\\otimes n}|x\\rangle = \\frac{1}{\\sqrt{2^n}} \\sum_{i=0}^{2^n-1} (-1)^{x\\cdot i}|i\\rangle\n",
    "$$\n",
    "\n",
    "siendo $x\\cdot i = x_{n-1}i_{n-1}\\oplus x_{n-2}i_{n-2}\\oplus \\ldots \\oplus x_0i_0$\n",
    "\n",
    "</details>\n"
   ]
  },
  {
   "cell_type": "markdown",
   "id": "increasing-store",
   "metadata": {},
   "source": [
    "**Ejemplo**\n",
    "Supongamos $n=2$. Las probabilidades asociadas a cada salida son:\n",
    "\n",
    "$$\n",
    "p(0) = \\left|\\frac{1}{4} \\sum_{x=0}^{3}(-1)^{f(x)}(-1)^{x \\cdot 0} \\right|^2 = \\left|\\frac{1}{4} \\left[ (-1)^{f(0)}(-1)^{0} + (-1)^{f(1)}(-1)^{0} + (-1)^{f(2)}(-1)^{0} + (-1)^{f(3)}(-1)^{0}\\right]  \\right|^2\n",
    "$$\n",
    "$$\n",
    "p(1) = \\left|\\frac{1}{4} \\sum_{x=0}^{3}(-1)^{f(x)}(-1)^{x \\cdot 1} \\right|^2 = \\left|\\frac{1}{4} \\left[ (-1)^{f(0)}(-1)^{0} + (-1)^{f(1)}(-1)^{1} + (-1)^{f(2)}(-1)^{0} + (-1)^{f(3)}(-1)^{1}\\right]  \\right|^2\n",
    "$$\n",
    "$$\n",
    "p(2) = \\left|\\frac{1}{4} \\sum_{x=0}^{3}(-1)^{f(x)}(-1)^{x \\cdot 2} \\right|^2 = \\left|\\frac{1}{4} \\left[ (-1)^{f(0)}(-1)^{0} + (-1)^{f(1)}(-1)^{0} + (-1)^{f(2)}(-1)^{1} + (-1)^{f(3)}(-1)^{1}\\right]  \\right|^2\n",
    "$$\n",
    "$$\n",
    "p(3) = \\left|\\frac{1}{4} \\sum_{x=0}^{3}(-1)^{f(x)}(-1)^{x \\cdot 3} \\right|^2 = \\left|\\frac{1}{4} \\left[ (-1)^{f(0)}(-1)^{0} + (-1)^{f(1)}(-1)^{1} + (-1)^{f(2)}(-1)^{1} + (-1)^{f(3)}(-1)^{0}\\right]  \\right|^2\n",
    "$$\n",
    "\n",
    "Es fácil ver que si $f$ es constante, $p(0)=1$ y $p(1)=p(2)=p(3)=0$, ya que se anulan los términos. Por contra, si $f$ es balanceada $p(0)=0$."
   ]
  },
  {
   "cell_type": "markdown",
   "id": "c1446987",
   "metadata": {},
   "source": [
    "### Ejercicio 4\n",
    "\n",
    "Determina qué valor se va a medir si $f(0) = f(1) = 0$ y $f(2) = f(3) = 1$."
   ]
  },
  {
   "cell_type": "markdown",
   "id": "812c69df",
   "metadata": {},
   "source": [
    "Tenemos:\n",
    "\n",
    "$$\n",
    "\\begin{align}\n",
    "p(0) &= \\left|\\frac{1}{4} \\left[ (-1)^{f(0)}(-1)^{0} + (-1)^{f(1)}(-1)^{0} + (-1)^{f(2)}(-1)^{0} + (-1)^{f(3)}(-1)^{0}\\right]  \\right|^2\\\\\n",
    "&= \\left|\\frac{1}{4} \\left[ (-1)^{f(0)} + (-1)^{f(1)} + (-1)^{f(2)} + (-1)^{f(3)}\\right]  \\right|^2\\\\\n",
    "&= \\left|\\frac{1}{4} \\left[ (-1)^{0} + (-1)^{0} + (-1)^{1} + (-1)^{1}\\right]  \\right|^2\\\\\n",
    "&= \\left|\\frac{1}{4} \\left[ 1 + 1 -1 -1\\right]  \\right|^2 = 0\n",
    "\\end{align}\n",
    "$$\n",
    "\n",
    "$$\n",
    "\\begin{align}\n",
    "p(1) &= \\left|\\frac{1}{4} \\left[ (-1)^{f(0)}(-1)^{0} + (-1)^{f(1)}(-1)^{1} + (-1)^{f(2)}(-1)^{0} + (-1)^{f(3)}(-1)^{1}\\right]  \\right|^2 \\\\\n",
    "&= \\left|\\frac{1}{4} \\left[ (-1)^{f(0)} - (-1)^{f(1)} + (-1)^{f(2)} - (-1)^{f(3)}\\right]  \\right|^2 \\\\\n",
    "&= \\left|\\frac{1}{4} \\left[ (-1)^{0} - (-1)^{0} + (-1)^{1} - (-1)^{1}\\right]  \\right|^2 \\\\\n",
    "&= \\left|\\frac{1}{4} \\left[ 1 - 1 -1 +1\\right]  \\right|^2 = 0\n",
    "\\end{align}\n",
    "$$\n",
    "\n",
    "$$\n",
    "\\begin{align}\n",
    "p(2) &= \\left|\\frac{1}{4} \\left[ (-1)^{f(0)}(-1)^{0} + (-1)^{f(1)}(-1)^{0} + (-1)^{f(2)}(-1)^{1} + (-1)^{f(3)}(-1)^{1}\\right]  \\right|^2\\\\\n",
    "&= \\left|\\frac{1}{4} \\left[ (-1)^{f(0)} + (-1)^{f(1)} - (-1)^{f(2)} - (-1)^{f(3)}\\right]  \\right|^2\\\\\n",
    "&= \\left|\\frac{1}{4} \\left[ (-1)^{0} + (-1)^{0} - (-1)^{1} - (-1)^{1}\\right]  \\right|^2\\\\\n",
    "&= \\left|\\frac{1}{4} \\left[ 1 + 1 +1 +1 \\right]  \\right|^2 = 1\n",
    "\\end{align}\n",
    "$$\n",
    "\n",
    "$$\n",
    "\\begin{align}\n",
    "p(3) &= \\left|\\frac{1}{4} \\left[ (-1)^{f(0)}(-1)^{0} + (-1)^{f(1)}(-1)^{1} + (-1)^{f(2)}(-1)^{1} + (-1)^{f(3)}(-1)^{0}\\right]  \\right|^2\\\\\n",
    "&= \\left|\\frac{1}{4} \\left[ (-1)^{f(0)} - (-1)^{f(1)} - (-1)^{f(2)} + (-1)^{f(3)}\\right]  \\right|^2\\\\\n",
    "&= \\left|\\frac{1}{4} \\left[ (-1)^{0} - (-1)^{0} - (-1)^{1} + (-1)^{1}\\right]  \\right|^2\\\\\n",
    "&= \\left|\\frac{1}{4} \\left[ 1 - 1 + 1 - 1\\right]  \\right|^2 = 0\n",
    "\\end{align}\n",
    "$$\n",
    "\n",
    "Se obtiene un 2 con 100% de probabilidad.\n",
    "\n",
    "Ejemplo: ¿Qué pasa si f(0)=1 y f(1)=f(2)=f(3)=0?\n",
    "\n",
    "$$\n",
    "\\begin{align}\n",
    "p(0) \n",
    "&= \\left|\\frac{1}{4} \\left[ (-1)^{f(0)} + (-1)^{f(1)} + (-1)^{f(2)} + (-1)^{f(3)}\\right]  \\right|^2\\\\\n",
    "&= \\left|\\frac{1}{4} \\left[ (-1)^{1} + (-1)^{0} + (-1)^{0} + (-1)^{0}\\right]  \\right|^2\\\\\n",
    "&= \\left|\\frac{1}{4} \\left[ -1 + 1 +1 +1\\right]  \\right|^2 = \\frac{1}{4}\n",
    "\\end{align}\n",
    "$$\n",
    "\n",
    "$$\n",
    "\\begin{align}\n",
    "p(1) \n",
    "&= \\left|\\frac{1}{4} \\left[ (-1)^{f(0)} - (-1)^{f(1)} + (-1)^{f(2)} - (-1)^{f(3)}\\right]  \\right|^2 \\\\\n",
    "&= \\left|\\frac{1}{4} \\left[ (-1)^{1} - (-1)^{0} + (-1)^{0} - (-1)^{0}\\right]  \\right|^2 \\\\\n",
    "&= \\left|\\frac{1}{4} \\left[ -1 - 1 + 1 -1\\right]  \\right|^2 = \\frac{1}{4}\n",
    "\\end{align}\n",
    "$$\n",
    "\n",
    "$$\n",
    "\\begin{align}\n",
    "p(2) \n",
    "&= \\left|\\frac{1}{4} \\left[ (-1)^{f(0)} + (-1)^{f(1)} - (-1)^{f(2)} - (-1)^{f(3)}\\right]  \\right|^2\\\\\n",
    "&= \\left|\\frac{1}{4} \\left[ (-1)^{1} + (-1)^{0} - (-1)^{0} - (-1)^{0}\\right]  \\right|^2\\\\\n",
    "&= \\left|\\frac{1}{4} \\left[ -1 + 1 -1 -1 \\right]  \\right|^2 = \\frac{1}{4}\n",
    "\\end{align}\n",
    "$$\n",
    "\n",
    "$$\n",
    "\\begin{align}\n",
    "p(3) \n",
    "&= \\left|\\frac{1}{4} \\left[ (-1)^{f(0)} - (-1)^{f(1)} - (-1)^{f(2)} + (-1)^{f(3)}\\right]  \\right|^2\\\\\n",
    "&= \\left|\\frac{1}{4} \\left[ (-1)^{1} - (-1)^{0} - (-1)^{0} + (-1)^{0}\\right]  \\right|^2\\\\\n",
    "&= \\left|\\frac{1}{4} \\left[ -1 - 1 - 1 + 1\\right]  \\right|^2 = \\frac{1}{4}\n",
    "\\end{align}\n",
    "$$"
   ]
  },
  {
   "cell_type": "code",
   "execution_count": 23,
   "id": "2ec71ff8",
   "metadata": {},
   "outputs": [],
   "source": [
    "def prod(a,b):\n",
    "    # Devuelve el producto a_n-1⊕b𝑛−1⊕...⊕a_0b0\n",
    "    return(((a&b).bit_count())&1)"
   ]
  },
  {
   "cell_type": "code",
   "execution_count": 24,
   "id": "1b05989d",
   "metadata": {},
   "outputs": [],
   "source": [
    "def prob(i, f, nbits):\n",
    "    # Devuelve la probabilidad para un |i> \n",
    "    powmenos1 = [1,-1]\n",
    "    #N = pow(2,n)\n",
    "    N = 1<<nbits\n",
    "    p = 0\n",
    "    for x in range(N):\n",
    "        xi = prod(x,i)\n",
    "        #p += pow(-1,f[x])*pow(-1,xi)\n",
    "        p += powmenos1[f[x]]*powmenos1[xi]\n",
    "    # Divido p entre 2^n\n",
    "    p = p / N\n",
    "    return(p*p)    "
   ]
  },
  {
   "cell_type": "code",
   "execution_count": 25,
   "id": "d5b54cb1",
   "metadata": {},
   "outputs": [
    {
     "name": "stdout",
     "output_type": "stream",
     "text": [
      "[1.0, 0.0, 0.0, 0.0]\n"
     ]
    }
   ],
   "source": [
    "nbits = 2\n",
    "funcs = [1,1,1,1]\n",
    "\n",
    "probs = [prob(i,funcs,nbits) for i in range(1<<nbits)]\n",
    "\n",
    "print(probs)\n",
    "    "
   ]
  },
  {
   "cell_type": "code",
   "execution_count": 26,
   "id": "750eb170",
   "metadata": {},
   "outputs": [
    {
     "name": "stdout",
     "output_type": "stream",
     "text": [
      "[0.98443603515625, 1.52587890625e-05, 0.0, 1.52587890625e-05, 6.103515625e-05, 1.52587890625e-05, 0.0, 1.52587890625e-05, 1.52587890625e-05, 0.0, 1.52587890625e-05, 0.0, 1.52587890625e-05, 0.0, 1.52587890625e-05, 0.0, 6.103515625e-05, 1.52587890625e-05, 0.0, 1.52587890625e-05, 6.103515625e-05, 1.52587890625e-05, 0.0, 1.52587890625e-05, 1.52587890625e-05, 0.0, 1.52587890625e-05, 0.0, 1.52587890625e-05, 0.0, 1.52587890625e-05, 0.0, 1.52587890625e-05, 0.0, 1.52587890625e-05, 6.103515625e-05, 1.52587890625e-05, 0.0, 1.52587890625e-05, 6.103515625e-05, 0.0, 1.52587890625e-05, 0.0, 1.52587890625e-05, 0.0, 1.52587890625e-05, 0.0, 1.52587890625e-05, 1.52587890625e-05, 0.0, 1.52587890625e-05, 6.103515625e-05, 1.52587890625e-05, 0.0, 1.52587890625e-05, 6.103515625e-05, 0.0, 1.52587890625e-05, 0.0, 1.52587890625e-05, 0.0, 1.52587890625e-05, 0.0, 1.52587890625e-05, 0.0, 1.52587890625e-05, 6.103515625e-05, 1.52587890625e-05, 0.0, 1.52587890625e-05, 6.103515625e-05, 1.52587890625e-05, 1.52587890625e-05, 0.0, 1.52587890625e-05, 0.0, 1.52587890625e-05, 0.0, 1.52587890625e-05, 0.0, 0.0, 1.52587890625e-05, 6.103515625e-05, 1.52587890625e-05, 0.0, 1.52587890625e-05, 6.103515625e-05, 1.52587890625e-05, 1.52587890625e-05, 0.0, 1.52587890625e-05, 0.0, 1.52587890625e-05, 0.0, 1.52587890625e-05, 0.0, 1.52587890625e-05, 6.103515625e-05, 1.52587890625e-05, 0.0, 1.52587890625e-05, 6.103515625e-05, 1.52587890625e-05, 0.0, 0.0, 1.52587890625e-05, 0.0, 1.52587890625e-05, 0.0, 1.52587890625e-05, 0.0, 1.52587890625e-05, 1.52587890625e-05, 6.103515625e-05, 1.52587890625e-05, 0.0, 1.52587890625e-05, 6.103515625e-05, 1.52587890625e-05, 0.0, 0.0, 1.52587890625e-05, 0.0, 1.52587890625e-05, 0.0, 1.52587890625e-05, 0.0, 1.52587890625e-05, 1.52587890625e-05, 0.0, 1.52587890625e-05, 0.0, 1.52587890625e-05, 0.0, 1.52587890625e-05, 0.0, 6.103515625e-05, 1.52587890625e-05, 0.0, 1.52587890625e-05, 6.103515625e-05, 1.52587890625e-05, 0.0, 1.52587890625e-05, 1.52587890625e-05, 0.0, 1.52587890625e-05, 0.0, 1.52587890625e-05, 0.0, 1.52587890625e-05, 0.0, 6.103515625e-05, 1.52587890625e-05, 0.0, 1.52587890625e-05, 6.103515625e-05, 1.52587890625e-05, 0.0, 1.52587890625e-05, 0.0, 1.52587890625e-05, 0.0, 1.52587890625e-05, 0.0, 1.52587890625e-05, 0.0, 1.52587890625e-05, 1.52587890625e-05, 0.0, 1.52587890625e-05, 6.103515625e-05, 1.52587890625e-05, 0.0, 1.52587890625e-05, 6.103515625e-05, 0.0, 1.52587890625e-05, 0.0, 1.52587890625e-05, 0.0, 1.52587890625e-05, 0.0, 1.52587890625e-05, 1.52587890625e-05, 0.0, 1.52587890625e-05, 6.103515625e-05, 1.52587890625e-05, 0.0, 1.52587890625e-05, 6.103515625e-05, 1.52587890625e-05, 0.0, 1.52587890625e-05, 0.0, 1.52587890625e-05, 0.0, 1.52587890625e-05, 0.0, 0.0, 1.52587890625e-05, 6.103515625e-05, 1.52587890625e-05, 0.0, 1.52587890625e-05, 6.103515625e-05, 1.52587890625e-05, 1.52587890625e-05, 0.0, 1.52587890625e-05, 0.0, 1.52587890625e-05, 0.0, 1.52587890625e-05, 0.0, 0.0, 1.52587890625e-05, 6.103515625e-05, 1.52587890625e-05, 0.0, 1.52587890625e-05, 6.103515625e-05, 1.52587890625e-05, 0.0, 1.52587890625e-05, 0.0, 1.52587890625e-05, 0.0, 1.52587890625e-05, 0.0, 1.52587890625e-05, 1.52587890625e-05, 6.103515625e-05, 1.52587890625e-05, 0.0, 1.52587890625e-05, 6.103515625e-05, 1.52587890625e-05, 0.0, 0.0, 1.52587890625e-05, 0.0, 1.52587890625e-05, 0.0, 1.52587890625e-05, 0.0, 1.52587890625e-05, 1.52587890625e-05, 6.103515625e-05, 1.52587890625e-05, 0.0, 1.52587890625e-05, 6.103515625e-05, 1.52587890625e-05, 0.0, 0.0, 1.52587890625e-05, 6.103515625e-05, 1.52587890625e-05, 0.0, 1.52587890625e-05, 6.103515625e-05, 1.52587890625e-05, 1.52587890625e-05, 0.0, 1.52587890625e-05, 0.0, 1.52587890625e-05, 0.0, 1.52587890625e-05, 0.0, 0.0, 1.52587890625e-05, 6.103515625e-05, 1.52587890625e-05, 0.0, 1.52587890625e-05, 6.103515625e-05, 1.52587890625e-05, 1.52587890625e-05, 0.0, 1.52587890625e-05, 0.0, 1.52587890625e-05, 0.0, 1.52587890625e-05, 0.0, 1.52587890625e-05, 6.103515625e-05, 1.52587890625e-05, 0.0, 1.52587890625e-05, 6.103515625e-05, 1.52587890625e-05, 0.0, 0.0, 1.52587890625e-05, 0.0, 1.52587890625e-05, 0.0, 1.52587890625e-05, 0.0, 1.52587890625e-05, 1.52587890625e-05, 6.103515625e-05, 1.52587890625e-05, 0.0, 1.52587890625e-05, 6.103515625e-05, 1.52587890625e-05, 0.0, 0.0, 1.52587890625e-05, 0.0, 1.52587890625e-05, 0.0, 1.52587890625e-05, 0.0, 1.52587890625e-05, 6.103515625e-05, 1.52587890625e-05, 0.0, 1.52587890625e-05, 6.103515625e-05, 1.52587890625e-05, 0.0, 1.52587890625e-05, 1.52587890625e-05, 0.0, 1.52587890625e-05, 0.0, 1.52587890625e-05, 0.0, 1.52587890625e-05, 0.0, 6.103515625e-05, 1.52587890625e-05, 0.0, 1.52587890625e-05, 6.103515625e-05, 1.52587890625e-05, 0.0, 1.52587890625e-05, 1.52587890625e-05, 0.0, 1.52587890625e-05, 0.0, 1.52587890625e-05, 0.0, 1.52587890625e-05, 0.0, 1.52587890625e-05, 0.0, 1.52587890625e-05, 6.103515625e-05, 1.52587890625e-05, 0.0, 1.52587890625e-05, 6.103515625e-05, 0.0, 1.52587890625e-05, 0.0, 1.52587890625e-05, 0.0, 1.52587890625e-05, 0.0, 1.52587890625e-05, 1.52587890625e-05, 0.0, 1.52587890625e-05, 6.103515625e-05, 1.52587890625e-05, 0.0, 1.52587890625e-05, 6.103515625e-05, 0.0, 1.52587890625e-05, 0.0, 1.52587890625e-05, 0.0, 1.52587890625e-05, 0.0, 1.52587890625e-05, 1.52587890625e-05, 0.0, 1.52587890625e-05, 0.0, 1.52587890625e-05, 0.0, 1.52587890625e-05, 0.0, 0.0, 1.52587890625e-05, 6.103515625e-05, 1.52587890625e-05, 0.0, 1.52587890625e-05, 6.103515625e-05, 1.52587890625e-05, 1.52587890625e-05, 0.0, 1.52587890625e-05, 0.0, 1.52587890625e-05, 0.0, 1.52587890625e-05, 0.0, 0.0, 1.52587890625e-05, 6.103515625e-05, 1.52587890625e-05, 0.0, 1.52587890625e-05, 6.103515625e-05, 1.52587890625e-05, 0.0, 1.52587890625e-05, 0.0, 1.52587890625e-05, 0.0, 1.52587890625e-05, 0.0, 1.52587890625e-05, 1.52587890625e-05, 6.103515625e-05, 1.52587890625e-05, 0.0, 1.52587890625e-05, 6.103515625e-05, 1.52587890625e-05, 0.0, 0.0, 1.52587890625e-05, 0.0, 1.52587890625e-05, 0.0, 1.52587890625e-05, 0.0, 1.52587890625e-05, 1.52587890625e-05, 6.103515625e-05, 1.52587890625e-05, 0.0, 1.52587890625e-05, 6.103515625e-05, 1.52587890625e-05, 0.0, 1.52587890625e-05, 0.0, 1.52587890625e-05, 0.0, 1.52587890625e-05, 0.0, 1.52587890625e-05, 0.0, 6.103515625e-05, 1.52587890625e-05, 0.0, 1.52587890625e-05, 6.103515625e-05, 1.52587890625e-05, 0.0, 1.52587890625e-05, 1.52587890625e-05, 0.0, 1.52587890625e-05, 0.0, 1.52587890625e-05, 0.0, 1.52587890625e-05, 0.0, 6.103515625e-05, 1.52587890625e-05, 0.0, 1.52587890625e-05, 6.103515625e-05, 1.52587890625e-05, 0.0, 1.52587890625e-05, 0.0, 1.52587890625e-05, 0.0, 1.52587890625e-05, 0.0, 1.52587890625e-05, 0.0, 1.52587890625e-05, 1.52587890625e-05, 0.0, 1.52587890625e-05, 6.103515625e-05, 1.52587890625e-05, 0.0, 1.52587890625e-05, 6.103515625e-05, 0.0, 1.52587890625e-05, 0.0, 1.52587890625e-05, 0.0, 1.52587890625e-05, 0.0, 1.52587890625e-05, 1.52587890625e-05, 0.0, 1.52587890625e-05, 6.103515625e-05, 1.52587890625e-05, 0.0, 1.52587890625e-05, 6.103515625e-05, 1.52587890625e-05, 0.0, 1.52587890625e-05, 0.0, 1.52587890625e-05, 0.0, 1.52587890625e-05, 0.0, 6.103515625e-05, 1.52587890625e-05, 0.0, 1.52587890625e-05, 6.103515625e-05, 1.52587890625e-05, 0.0, 1.52587890625e-05, 1.52587890625e-05, 0.0, 1.52587890625e-05, 0.0, 1.52587890625e-05, 0.0, 1.52587890625e-05, 0.0, 6.103515625e-05, 1.52587890625e-05, 0.0, 1.52587890625e-05, 6.103515625e-05, 1.52587890625e-05, 0.0, 1.52587890625e-05, 0.0, 1.52587890625e-05, 0.0, 1.52587890625e-05, 0.0, 1.52587890625e-05, 0.0, 1.52587890625e-05, 1.52587890625e-05, 0.0, 1.52587890625e-05, 6.103515625e-05, 1.52587890625e-05, 0.0, 1.52587890625e-05, 6.103515625e-05, 0.0, 1.52587890625e-05, 0.0, 1.52587890625e-05, 0.0, 1.52587890625e-05, 0.0, 1.52587890625e-05, 1.52587890625e-05, 0.0, 1.52587890625e-05, 6.103515625e-05, 1.52587890625e-05, 0.0, 1.52587890625e-05, 6.103515625e-05, 1.52587890625e-05, 0.0, 1.52587890625e-05, 0.0, 1.52587890625e-05, 0.0, 1.52587890625e-05, 0.0, 0.0, 1.52587890625e-05, 6.103515625e-05, 1.52587890625e-05, 0.0, 1.52587890625e-05, 6.103515625e-05, 1.52587890625e-05, 1.52587890625e-05, 0.0, 1.52587890625e-05, 0.0, 1.52587890625e-05, 0.0, 1.52587890625e-05, 0.0, 0.0, 1.52587890625e-05, 6.103515625e-05, 1.52587890625e-05, 0.0, 1.52587890625e-05, 6.103515625e-05, 1.52587890625e-05, 0.0, 1.52587890625e-05, 0.0, 1.52587890625e-05, 0.0, 1.52587890625e-05, 0.0, 1.52587890625e-05, 1.52587890625e-05, 6.103515625e-05, 1.52587890625e-05, 0.0, 1.52587890625e-05, 6.103515625e-05, 1.52587890625e-05, 0.0, 0.0, 1.52587890625e-05, 0.0, 1.52587890625e-05, 0.0, 1.52587890625e-05, 0.0, 1.52587890625e-05, 1.52587890625e-05, 6.103515625e-05, 1.52587890625e-05, 0.0, 1.52587890625e-05, 6.103515625e-05, 1.52587890625e-05, 0.0, 6.103515625e-05, 1.52587890625e-05, 0.0, 1.52587890625e-05, 6.103515625e-05, 1.52587890625e-05, 0.0, 1.52587890625e-05, 1.52587890625e-05, 0.0, 1.52587890625e-05, 0.0, 1.52587890625e-05, 0.0, 1.52587890625e-05, 0.0, 6.103515625e-05, 1.52587890625e-05, 0.0, 1.52587890625e-05, 6.103515625e-05, 1.52587890625e-05, 0.0, 1.52587890625e-05, 1.52587890625e-05, 0.0, 1.52587890625e-05, 0.0, 1.52587890625e-05, 0.0, 1.52587890625e-05, 0.0, 1.52587890625e-05, 0.0, 1.52587890625e-05, 6.103515625e-05, 1.52587890625e-05, 0.0, 1.52587890625e-05, 6.103515625e-05, 0.0, 1.52587890625e-05, 0.0, 1.52587890625e-05, 0.0, 1.52587890625e-05, 0.0, 1.52587890625e-05, 1.52587890625e-05, 0.0, 1.52587890625e-05, 6.103515625e-05, 1.52587890625e-05, 0.0, 1.52587890625e-05, 6.103515625e-05, 0.0, 1.52587890625e-05, 0.0, 1.52587890625e-05, 0.0, 1.52587890625e-05, 0.0, 1.52587890625e-05, 0.0, 1.52587890625e-05, 6.103515625e-05, 1.52587890625e-05, 0.0, 1.52587890625e-05, 6.103515625e-05, 1.52587890625e-05, 1.52587890625e-05, 0.0, 1.52587890625e-05, 0.0, 1.52587890625e-05, 0.0, 1.52587890625e-05, 0.0, 0.0, 1.52587890625e-05, 6.103515625e-05, 1.52587890625e-05, 0.0, 1.52587890625e-05, 6.103515625e-05, 1.52587890625e-05, 1.52587890625e-05, 0.0, 1.52587890625e-05, 0.0, 1.52587890625e-05, 0.0, 1.52587890625e-05, 0.0, 1.52587890625e-05, 6.103515625e-05, 1.52587890625e-05, 0.0, 1.52587890625e-05, 6.103515625e-05, 1.52587890625e-05, 0.0, 0.0, 1.52587890625e-05, 0.0, 1.52587890625e-05, 0.0, 1.52587890625e-05, 0.0, 1.52587890625e-05, 1.52587890625e-05, 6.103515625e-05, 1.52587890625e-05, 0.0, 1.52587890625e-05, 6.103515625e-05, 1.52587890625e-05, 0.0, 0.0, 1.52587890625e-05, 0.0, 1.52587890625e-05, 0.0, 1.52587890625e-05, 0.0, 1.52587890625e-05, 1.52587890625e-05, 0.0, 1.52587890625e-05, 0.0, 1.52587890625e-05, 0.0, 1.52587890625e-05, 0.0, 0.0, 1.52587890625e-05, 6.103515625e-05, 1.52587890625e-05, 0.0, 1.52587890625e-05, 6.103515625e-05, 1.52587890625e-05, 1.52587890625e-05, 0.0, 1.52587890625e-05, 0.0, 1.52587890625e-05, 0.0, 1.52587890625e-05, 0.0, 0.0, 1.52587890625e-05, 6.103515625e-05, 1.52587890625e-05, 0.0, 1.52587890625e-05, 6.103515625e-05, 1.52587890625e-05, 0.0, 1.52587890625e-05, 0.0, 1.52587890625e-05, 0.0, 1.52587890625e-05, 0.0, 1.52587890625e-05, 1.52587890625e-05, 6.103515625e-05, 1.52587890625e-05, 0.0, 1.52587890625e-05, 6.103515625e-05, 1.52587890625e-05, 0.0, 0.0, 1.52587890625e-05, 0.0, 1.52587890625e-05, 0.0, 1.52587890625e-05, 0.0, 1.52587890625e-05, 1.52587890625e-05, 6.103515625e-05, 1.52587890625e-05, 0.0, 1.52587890625e-05, 6.103515625e-05, 1.52587890625e-05, 0.0, 1.52587890625e-05, 0.0, 1.52587890625e-05, 0.0, 1.52587890625e-05, 0.0, 1.52587890625e-05, 0.0, 6.103515625e-05, 1.52587890625e-05, 0.0, 1.52587890625e-05, 6.103515625e-05, 1.52587890625e-05, 0.0, 1.52587890625e-05, 1.52587890625e-05, 0.0, 1.52587890625e-05, 0.0, 1.52587890625e-05, 0.0, 1.52587890625e-05, 0.0, 6.103515625e-05, 1.52587890625e-05, 0.0, 1.52587890625e-05, 6.103515625e-05, 1.52587890625e-05, 0.0, 1.52587890625e-05, 0.0, 1.52587890625e-05, 0.0, 1.52587890625e-05, 0.0, 1.52587890625e-05, 0.0, 1.52587890625e-05, 1.52587890625e-05, 0.0, 1.52587890625e-05, 6.103515625e-05, 1.52587890625e-05, 0.0, 1.52587890625e-05, 6.103515625e-05, 0.0, 1.52587890625e-05, 0.0, 1.52587890625e-05, 0.0, 1.52587890625e-05, 0.0, 1.52587890625e-05, 1.52587890625e-05, 0.0, 1.52587890625e-05, 6.103515625e-05, 1.52587890625e-05, 0.0, 1.52587890625e-05, 6.103515625e-05, 0.0, 1.52587890625e-05, 6.103515625e-05, 1.52587890625e-05, 0.0, 1.52587890625e-05, 6.103515625e-05, 1.52587890625e-05, 1.52587890625e-05, 0.0, 1.52587890625e-05, 0.0, 1.52587890625e-05, 0.0, 1.52587890625e-05, 0.0, 0.0, 1.52587890625e-05, 6.103515625e-05, 1.52587890625e-05, 0.0, 1.52587890625e-05, 6.103515625e-05, 1.52587890625e-05, 1.52587890625e-05, 0.0, 1.52587890625e-05, 0.0, 1.52587890625e-05, 0.0, 1.52587890625e-05, 0.0, 1.52587890625e-05, 6.103515625e-05, 1.52587890625e-05, 0.0, 1.52587890625e-05, 6.103515625e-05, 1.52587890625e-05, 0.0, 0.0, 1.52587890625e-05, 0.0, 1.52587890625e-05, 0.0, 1.52587890625e-05, 0.0, 1.52587890625e-05, 1.52587890625e-05, 6.103515625e-05, 1.52587890625e-05, 0.0, 1.52587890625e-05, 6.103515625e-05, 1.52587890625e-05, 0.0, 0.0, 1.52587890625e-05, 0.0, 1.52587890625e-05, 0.0, 1.52587890625e-05, 0.0, 1.52587890625e-05, 6.103515625e-05, 1.52587890625e-05, 0.0, 1.52587890625e-05, 6.103515625e-05, 1.52587890625e-05, 0.0, 1.52587890625e-05, 1.52587890625e-05, 0.0, 1.52587890625e-05, 0.0, 1.52587890625e-05, 0.0, 1.52587890625e-05, 0.0, 6.103515625e-05, 1.52587890625e-05, 0.0, 1.52587890625e-05, 6.103515625e-05, 1.52587890625e-05, 0.0, 1.52587890625e-05, 1.52587890625e-05, 0.0, 1.52587890625e-05, 0.0, 1.52587890625e-05, 0.0, 1.52587890625e-05, 0.0, 1.52587890625e-05, 0.0, 1.52587890625e-05, 6.103515625e-05, 1.52587890625e-05, 0.0, 1.52587890625e-05, 6.103515625e-05, 0.0, 1.52587890625e-05, 0.0, 1.52587890625e-05, 0.0, 1.52587890625e-05, 0.0, 1.52587890625e-05, 1.52587890625e-05, 0.0, 1.52587890625e-05, 6.103515625e-05, 1.52587890625e-05, 0.0, 1.52587890625e-05, 6.103515625e-05, 0.0, 1.52587890625e-05, 0.0, 1.52587890625e-05, 0.0, 1.52587890625e-05, 0.0, 1.52587890625e-05]\n"
     ]
    }
   ],
   "source": [
    "nbits = 10\n",
    "funcs = [0 for i in range(1<<nbits)]\n",
    "funcs[352] = 1\n",
    "funcs[35] = 1\n",
    "funcs[2] = 1\n",
    "funcs[1000] = 1\n",
    "\n",
    "probs = [prob(i,funcs,nbits) for i in range(1<<nbits)]\n",
    "\n",
    "print(probs)"
   ]
  },
  {
   "cell_type": "markdown",
   "id": "4be0c663",
   "metadata": {},
   "source": [
    "-----------------------\n",
    "--------------------\n",
    "--------------------------"
   ]
  },
  {
   "cell_type": "markdown",
   "id": "wound-racing",
   "metadata": {},
   "source": [
    "# Algoritmo de Bernstein-Vazirani <a id=\"bv\"></a>\n",
    "\n",
    "Es una versión del anterior en la que el oráculo $f(\\{x_{n-1},x_{n-2},\\ldots,x_{0}\\}) \\rightarrow \\{0,1\\}$ es de la forma $f_s(x) = s\\cdot x = s_{n-1}x_{n-1} \\oplus s_{n-2}x_{n-2} \\oplus \\ldots \\oplus s_{0}x_{0}$, con $s_i\\in\\{0,1\\}$, donde $s$ es desconocido. El objetivo es encontrar el valor de $s$.\n",
    "\n",
    "**Solución clásica**\n",
    "\n",
    "Para obtener $s$, un algoritmo clásico tiene que hacer $n$ invocaciones de $f_s(x)$ con los valores $x=2^i$ con $i \\in \\{0,\\ldots,n-1\\}$.\n",
    "\n",
    "$$\n",
    "s_0 = f_s(000\\ldots 01)\\\\\n",
    "s_1 = f_s(000\\ldots 10)\\\\\n",
    "\\cdots\\\\\n",
    "s_{n-1} = f_s(100\\ldots 00)\n",
    "$$\n",
    "\n",
    "**Solución cuántica**\n",
    "\n",
    "El algoritmo cuántico ([E. Bernstein y U. Vazirani, 1997](https://doi.org/10.1137/S0097539796300921)) necesita 1 sola invocación del oráculo.\n",
    "\n",
    "El circuito es idéntico al de Deutsch-Jozsa, solo cambia la función oráculo. \n",
    "\n",
    "Al igual que antes tenemos:\n",
    "\n",
    "$$            \n",
    "\\lvert \\psi_3 \\rangle  = \\frac{1}{2^n}\\sum_{i=0}^{2^n-1}\n",
    "                    \\left[ \\sum_{x=0}^{2^n-1}(-1)^{f_s(x)}(-1)^{x \\cdot i} \\right]\n",
    "                    \\vert i \\rangle = \n",
    "                    \\frac{1}{2^n}\\sum_{i=0}^{2^n-1}\n",
    "                    \\left[ \\sum_{x=0}^{2^n-1}(-1)^{s\\cdot x}(-1)^{x \\cdot i} \\right]\n",
    "                    \\vert i \\rangle = \n",
    "                    \\sum_{i=0}^{2^n-1}\n",
    "                    \\left[ \\frac{1}{2^n}\\sum_{x=0}^{2^n-1}(-1)^{s\\cdot x}(-1)^{x \\cdot i} \\right]\n",
    "$$\n",
    "\n",
    "El sumatorio sobre $x$ se puede escribir:\n",
    "\n",
    "$$\n",
    "\\frac{1}{2^n} \\sum_{x=0}^{2^n-1}(-1)^{s\\cdot x}(-1)^{x \\cdot i} = \\frac{1}{2^n} \\sum_{x=0}^{2^n-1}(-1)^{(s\\cdot x) \\oplus (x \\cdot i)} = \\frac{1}{2^n} \\sum_{x=0}^{2^n-1}(-1)^{(s \\oplus i)\\cdot x}\n",
    "=\n",
    "       \\begin{cases}\n",
    "       1, \\text{si } s \\oplus i = 0\\\\\n",
    "       0, \\text{si } s \\oplus i = 1\n",
    "       \\end{cases}\n",
    "$$                    \n",
    "\n",
    "Y $s \\oplus i = 0 \\Rightarrow s = i$, es decir, que la amplitud no nula es, precisamente, $|s\\rangle$.\n",
    "\n",
    "**Ejemplo**: supongamos $n=2$. Aplicando el algoritmo tenemos en el paso 2:\n",
    "\n",
    "$$\n",
    "\\lvert \\psi_2 \\rangle  \n",
    "    = \\frac{|0\\rangle - |1\\rangle}{\\sqrt{2^{n+1}}}\\sum_{x=0}^{2^n-1}(-1)^{f(x)}|x\\rangle\n",
    "    = \\frac{|0\\rangle - |1\\rangle}{2\\sqrt{2}}\n",
    "                 \\left[ \n",
    "                 (-1)^{s\\cdot 00}|00\\rangle + \n",
    "                 (-1)^{s\\cdot 01}|01\\rangle + \n",
    "                 (-1)^{s\\cdot 10}|10\\rangle + \n",
    "                 (-1)^{s\\cdot 11}|11\\rangle\\right]\n",
    "$$\n",
    "\n",
    "Si suponemos $s=11$, el estado será:\n",
    "\n",
    "$$\n",
    "\\lvert \\psi_2 \\rangle =   \\frac{|0\\rangle - |1\\rangle}{2\\sqrt{2}}\n",
    "                 \\left[ \n",
    "                 (-1)^{11\\cdot 00}|00\\rangle + \n",
    "                 (-1)^{11\\cdot 01}|01\\rangle + \n",
    "                 (-1)^{11\\cdot 10}|10\\rangle + \n",
    "                 (-1)^{11\\cdot 11}|11\\rangle\\right] = \n",
    "                 \\frac{1}{2}(|00\\rangle - |01\\rangle - |10\\rangle + |11\\rangle)\n",
    "$$\n",
    "\n",
    "Y al aplicar las `H`:\n",
    "\n",
    "$$\n",
    "\\lvert \\psi_3 \\rangle =   \\frac{1}{4}\\left[\n",
    "(|0\\rangle+|1\\rangle)\\otimes(|0\\rangle+|1\\rangle) -\n",
    "(|0\\rangle+|1\\rangle)\\otimes(|0\\rangle-|1\\rangle) -\n",
    "(|0\\rangle-|1\\rangle)\\otimes(|0\\rangle+|1\\rangle) +\n",
    "(|0\\rangle-|1\\rangle)\\otimes(|0\\rangle-|1\\rangle)\n",
    "\\right] = \\\\\n",
    "= \\frac{1}{4}\\left[\n",
    "|00\\rangle + |01\\rangle + |10\\rangle + |11\\rangle - |00\\rangle + |01\\rangle - |10\\rangle + |11\\rangle  \n",
    "- |00\\rangle - |01\\rangle + |10\\rangle + |11\\rangle + |00\\rangle - |01\\rangle - |10\\rangle + |11\\rangle\n",
    "\\right] = \\\\\n",
    "= |11\\rangle = |s\\rangle\n",
    "$$"
   ]
  },
  {
   "cell_type": "markdown",
   "id": "connected-postage",
   "metadata": {},
   "source": [
    "### Ejercicio 5\n",
    "\n",
    "Implementa un oráculo para el algoritmo de Bernstein-Vazirani con $n$ bits y $s$ aleatoria."
   ]
  },
  {
   "cell_type": "code",
   "execution_count": 27,
   "id": "external-construction",
   "metadata": {},
   "outputs": [],
   "source": [
    "# Obtenemos s como una lista de valores binarios aleatoria\n",
    "def get_s(n):\n",
    "    s = list()\n",
    "    for q in range(n):\n",
    "        if np.random.randint(2) == 1:\n",
    "            s.append(1)\n",
    "        else:\n",
    "            s.append(0)\n",
    "    return(s)"
   ]
  },
  {
   "cell_type": "code",
   "execution_count": 28,
   "id": "50b987ec",
   "metadata": {},
   "outputs": [],
   "source": [
    "def bv_oraculo(n):\n",
    "    \"\"\"\n",
    "    Devuelve un oraculo para el algoritmo de Bernstein-Vazirani \n",
    "    \n",
    "        n: Número de cúbits de entrada\n",
    "        return: circuito de n+1 cúbit en forma de puerta\n",
    "    \"\"\"\n",
    "    x = QuantumRegister(n, name=\"|x\\\\rangle\")\n",
    "    y = QuantumRegister(1, name=\"|y\\\\rangle\")\n",
    "    qc = QuantumCircuit(x,y)\n",
    "    s = get_s(n)\n",
    "    \n",
    "    # El oráculo puede implementarse con puertas CNOT controladas\n",
    "    # por los cúbits para los que el bit en s vale 1\n",
    "    \n",
    "    sinv = s[::-1] # Invertimos s para recorrerlo del bit menos al más significativo\n",
    "    \n",
    "    for q in range(n):\n",
    "        if sinv[q] == 1:\n",
    "            bv_oraculo.cx(q,n)\n",
    "            \n",
    "    # Salida\n",
    "    oraculo = qc.to_gate()\n",
    "    oraculo.name = \"$U_{f}$\"\n",
    "    return oraculo"
   ]
  },
  {
   "cell_type": "markdown",
   "id": "54a9e2b8",
   "metadata": {},
   "source": [
    "------------------------------\n",
    "--------------------------\n",
    "----------------------------"
   ]
  },
  {
   "cell_type": "markdown",
   "id": "iraqi-decimal",
   "metadata": {},
   "source": [
    "# Algoritmo de periodicidad de Simon <a id=\"simon\"></a>\n",
    "\n",
    "En este caso, el oráculo es una función $f_c:\\{0,1\\}^n \\rightarrow \\{0,1\\}^n$ que depende de un número binario desconocido $c=c_{n-1}c_{n-2}\\ldots c_0 \\ne 0$, con $c_i \\in \\{0,1\\}$, tal que, para todos los valores $x,y \\in \\{0,1\\}^n$ se tiene que:\n",
    "$$\n",
    "f_c(x) = f_c(y) \\Leftrightarrow y=x\\oplus c \\text{   (o que }x\\oplus y =c\\text{)}\n",
    "$$\n",
    "\n",
    "Es decir, los valores de $f_c$ se repiten con un cierto patrón dado por $c$, que se denomina período. Por ejemplo, supongamos $n=3$ y $c=5\\equiv 101$:\n",
    "\n",
    "$$\n",
    "\\hphantom{00} x\\hphantom{0 \\oplus 1} c \\hphantom{01 = 1} y\\hphantom{01 \\Rightarrow f_c(0) = f_c(5)}\\\\\n",
    "000 \\oplus 101 = 101 \\Rightarrow f_c(0) = f_c(5)\\\\\n",
    "001 \\oplus 101 = 100 \\Rightarrow f_c(1) = f_c(4)\\\\\n",
    "010 \\oplus 101 = 111 \\Rightarrow f_c(2) = f_c(7)\\\\\n",
    "011 \\oplus 101 = 110 \\Rightarrow f_c(3) = f_c(6)\\\\\n",
    "100 \\oplus 101 = 001 \\Rightarrow f_c(4) = f_c(1)\\\\\n",
    "101 \\oplus 101 = 000 \\Rightarrow f_c(5) = f_c(0)\\\\\n",
    "110 \\oplus 101 = 011 \\Rightarrow f_c(6) = f_c(3)\\\\\n",
    "111 \\oplus 101 = 010 \\Rightarrow f_c(7) = f_c(2)\n",
    "$$\n",
    "\n",
    "**Solución clásica**\n",
    "\n",
    "Un algoritmo clásico necesita evaluar la función hasta encontrar dos valores $x$ e $y$ tales que $f_c(x) = f_c(y)$. Dados esos valores, se tiene que $c=x\\oplus y$.\n",
    "\n",
    "En el peor de los casos tenemos que buscar en la mitad de los valores, efectuando $2^{n-1}+1$ evaluaciones de $f(x)$.\n",
    "\n",
    "**Solución cuántica**\n",
    "\n",
    "El algoritmo cuántico ([D. R. Simon, 1997](https://doi.org/10.1137/S0097539796298637)) solo necesita $n$ evaluaciones.\n",
    "\n",
    "El circuito que se utiliza es similar al que venimos usando pero con $n$ bits de ancilla:\n",
    "\n",
    "<img src=\"images/Simon.svg\" alt=\"Simon\" style=\"width: 800px;\"/>\n",
    "\n",
    "\n",
    "Pasos:\n",
    "\n",
    "<ol>\n",
    "   <li>\n",
    "        Estado inicial:\n",
    "        \n",
    "\n",
    "$$\\vert \\psi_0 \\rangle = \\vert0\\rangle^{\\otimes n} \\vert 0\\rangle^{\\otimes n}$$\n",
    "\n",
    "\n",
    "   </li>\n",
    "    \n",
    "   <li>\n",
    "        Después de aplicar las primeras puertas H:\n",
    "$$\\vert \\psi_1 \\rangle = \\frac{1}{\\sqrt{2^n}}\\sum_{x=0}^{2^n-1}|0\\rangle \\vert x\\rangle$$\n",
    "   </li>\n",
    "   <p>\n",
    "   <li>\n",
    "        Aplicamos $U_f$ a $\\vert y\\rangle\\vert x\\rangle$ para obtener $\\vert y \\oplus f(x)\\rangle\\vert x\\rangle$:\n",
    "        $$\n",
    "            \\lvert \\psi_2 \\rangle  \n",
    "                 = \\frac{1}{\\sqrt{2^n}}\\sum_{x=0}^{2^n-1}|0\\oplus f(x)\\rangle|x\\rangle =  \n",
    "                 \\frac{1}{\\sqrt{2^n}}\\sum_{x=0}^{2^n-1}|f(x)\\rangle|x\\rangle\n",
    "        $$\n",
    "          </li>\n",
    "<p>\n",
    "   <li>Ahora aplicamos una H a cada cúbit en  $|x\\rangle$ (recordemos que $H^{\\otimes n}|x\\rangle = \\frac{1}{\\sqrt{2^n}} \\sum_{i=0}^{2^n-1} (-1)^{x\\cdot i}|i\\rangle)$<p>\n",
    "        $$\n",
    "        \\begin{aligned}\n",
    "            \\lvert \\psi_3 \\rangle \n",
    "                 = \\frac{1}{2^n} \\sum_{x=0}^{2^n-1}|f(x)\\rangle \\sum_{i=0}^{2^n-1}(-1)^{x \\cdot i} \\vert i \\rangle\n",
    "                 = \\frac{1}{2^n}\\sum_{x=0}^{2^n-1}\n",
    "                    \\left[ \\sum_{i=0}^{2^n-1}(-1)^{x \\cdot i} \n",
    "                    \\vert f(x) \\rangle \\vert i \\rangle \\right]\n",
    "        \\end{aligned}\n",
    "        $$\n",
    "          </li><br>\n",
    "</ol>\n",
    "\n",
    "Sabemos que para cada $\\vert x \\rangle$ y para cada $\\vert i \\rangle$ se verifica que $\\vert f(x) \\rangle\\vert i \\rangle = \\vert f(x\\oplus c) \\rangle\\vert i \\rangle$. Para un par de este tipo, los sumandos son:\n",
    "\n",
    "$$\n",
    "\\frac{(-1)^{x \\cdot i} + (-1)^{(x\\oplus c) \\cdot i}}{2^n}\\vert f(x) \\rangle\\vert i \\rangle = \n",
    "\\frac{(-1)^{x \\cdot i} + (-1)^{(x\\cdot i)\\oplus (c\\cdot i)}}{2^n}\\vert f(x)\\rangle\\vert i\\rangle =\n",
    "\\frac{(-1)^{x \\cdot i}[1+(-1)^{c \\cdot i}]}{2^n}\\vert f(x)\\rangle\\vert i\\rangle\n",
    "$$\n",
    "\n",
    "Así, si $c \\cdot i = 1$ el termino correspondiente a $\\vert f(x)\\rangle\\vert i\\rangle$ se anula, y solo quedan los terminos para los que $c \\cdot i = 0$.\n",
    "\n",
    "Repitiendo varias veces la medida, podemos encontrar diferentes valores de $|i\\rangle$ y, a partir de esas ecuaciones, obtener $c$.\n",
    "\n",
    "**Ejemplo**\n",
    "\n",
    "Supongamos $f:\\{0,1\\}^3 \\rightarrow \\{0,1\\}^3$ tal que:\n",
    "$$\n",
    "f(0) = f(5) = 4\\\\\n",
    "f(1) = f(4) = 1\\\\\n",
    "f(2) = f(7) = 5\\\\\n",
    "f(3) = f(6) = 7\n",
    "$$\n",
    "\n",
    "Es fácil comprobar que $f$ cumple los requisitos para aplicar el algoritmo de Simon.\n",
    "\n",
    "Aplicando los pasos anteriores, en el paso 3 tenemos:\n",
    "\n",
    "   \n",
    "       \n",
    "$$\n",
    "\\lvert \\psi_3 \\rangle \n",
    "                 = \\frac{1}{8}\\sum_{x=0}^{7}\n",
    "                    \\sum_{i=0}^{7}(-1)^{x \\cdot i} \n",
    "                    \\vert f(x)\\rangle\\vert i\\rangle = \n",
    "                    \\frac{1}{8}[\\\\\n",
    "|f(0)\\rangle|0\\rangle +  |f(0)\\rangle|1\\rangle +  |f(0)\\rangle|2\\rangle +  |f(0)\\rangle|3\\rangle + \\\\ \n",
    "|f(0)\\rangle|4\\rangle +  |f(0)\\rangle|5\\rangle +  |f(0)\\rangle|6\\rangle +  |f(0)\\rangle|7\\rangle +\\\\[5pt]\n",
    "|f(1)\\rangle|0\\rangle -  |f(1)\\rangle|1\\rangle +  |f(1)\\rangle|2\\rangle -  |f(1)\\rangle|3\\rangle + \\\\ \n",
    "|f(1)\\rangle|4\\rangle -  |f(1)\\rangle|5\\rangle +  |f(1)\\rangle|6\\rangle -  |f(1)\\rangle|7\\rangle +\\\\[5pt]\n",
    "|f(2)\\rangle|0\\rangle +  |f(2)\\rangle|1\\rangle -  |f(2)\\rangle|2\\rangle -  |f(2)\\rangle|3\\rangle + \\\\ \n",
    "|f(2)\\rangle|4\\rangle +  |f(2)\\rangle|5\\rangle -  |f(2)\\rangle|6\\rangle -  |f(2)\\rangle|7\\rangle +\\\\[5pt]\n",
    "|f(3)\\rangle|0\\rangle -  |f(3)\\rangle|1\\rangle -  |f(3)\\rangle|2\\rangle +  |f(3)\\rangle|3\\rangle + \\\\ \n",
    "|f(3)\\rangle|4\\rangle -  |f(3)\\rangle|5\\rangle -  |f(3)\\rangle|6\\rangle +  |f(3)\\rangle|7\\rangle +\\\\[5pt]\n",
    "|f(4)\\rangle|0\\rangle +  |f(4)\\rangle|1\\rangle +  |f(4)\\rangle|2\\rangle +  |f(4)\\rangle|3\\rangle - \\\\ \n",
    "|f(4)\\rangle|4\\rangle -  |f(4)\\rangle|5\\rangle -  |f(4)\\rangle|6\\rangle -  |f(4)\\rangle|7\\rangle +\\\\[5pt]\n",
    "|f(5)\\rangle|0\\rangle -  |f(5)\\rangle|1\\rangle +  |f(5)\\rangle|2\\rangle -  |f(5)\\rangle|3\\rangle - \\\\ \n",
    "|f(5)\\rangle|4\\rangle +  |f(5)\\rangle|5\\rangle -  |f(5)\\rangle|6\\rangle +  |f(5)\\rangle|7\\rangle +\\\\[5pt]\n",
    "|f(6)\\rangle|0\\rangle +  |f(6)\\rangle|1\\rangle -  |f(6)\\rangle|2\\rangle -  |f(6)\\rangle|3\\rangle - \\\\ \n",
    "|f(6)\\rangle|4\\rangle -  |f(6)\\rangle|5\\rangle +  |f(6)\\rangle|6\\rangle +  |f(6)\\rangle|7\\rangle +\\\\[5pt]\n",
    "|f(7)\\rangle|0\\rangle -  |f(7)\\rangle|1\\rangle -  |f(7)\\rangle|2\\rangle +  |f(7)\\rangle|3\\rangle - \\\\ \n",
    "|f(7)\\rangle|4\\rangle +  |f(7)\\rangle|5\\rangle +  |f(7)\\rangle|6\\rangle -  |f(7)\\rangle|7\\rangle\\ ]\n",
    "$$\n",
    "\n",
    "Substituyendo los valores de $f$:\n",
    "\n",
    "$$\n",
    "\\lvert \\psi_3 \\rangle = \\frac{1}{8}[\\\\\n",
    "|4\\rangle|0\\rangle +  |4\\rangle|1\\rangle +  |4\\rangle|2\\rangle +  |4\\rangle|3\\rangle +  \n",
    "|4\\rangle|4\\rangle +  |4\\rangle|5\\rangle +  |4\\rangle|6\\rangle +  |4\\rangle|7\\rangle +\\\\[5pt]\n",
    "|1\\rangle|0\\rangle -  |1\\rangle|1\\rangle +  |1\\rangle|2\\rangle -  |1\\rangle|3\\rangle +  \n",
    "|1\\rangle|4\\rangle -  |1\\rangle|5\\rangle +  |1\\rangle|6\\rangle -  |1\\rangle|7\\rangle +\\\\[5pt]\n",
    "|5\\rangle|0\\rangle +  |5\\rangle|1\\rangle -  |5\\rangle|2\\rangle -  |5\\rangle|3\\rangle +  \n",
    "|5\\rangle|4\\rangle +  |5\\rangle|5\\rangle -  |5\\rangle|6\\rangle -  |5\\rangle|7\\rangle +\\\\[5pt]\n",
    "|7\\rangle|0\\rangle -  |7\\rangle|1\\rangle -  |7\\rangle|2\\rangle +  |7\\rangle|3\\rangle +  \n",
    "|7\\rangle|4\\rangle -  |7\\rangle|5\\rangle -  |7\\rangle|6\\rangle +  |7\\rangle|7\\rangle +\\\\[5pt]\n",
    "|1\\rangle|0\\rangle +  |1\\rangle|1\\rangle +  |1\\rangle|2\\rangle +  |1\\rangle|3\\rangle -  \n",
    "|1\\rangle|4\\rangle -  |1\\rangle|5\\rangle -  |1\\rangle|6\\rangle -  |1\\rangle|7\\rangle +\\\\[5pt]\n",
    "|4\\rangle|0\\rangle -  |4\\rangle|1\\rangle +  |4\\rangle|2\\rangle -  |4\\rangle|3\\rangle -  \n",
    "|4\\rangle|4\\rangle +  |4\\rangle|5\\rangle -  |4\\rangle|6\\rangle +  |4\\rangle|7\\rangle +\\\\[5pt]\n",
    "|7\\rangle|0\\rangle +  |7\\rangle|1\\rangle -  |7\\rangle|2\\rangle -  |7\\rangle|3\\rangle -  \n",
    "|7\\rangle|4\\rangle -  |7\\rangle|5\\rangle +  |7\\rangle|6\\rangle +  |7\\rangle|7\\rangle +\\\\[5pt]\n",
    "|5\\rangle|0\\rangle -  |5\\rangle|1\\rangle -  |5\\rangle|2\\rangle +  |5\\rangle|3\\rangle -  \n",
    "|5\\rangle|4\\rangle +  |5\\rangle|5\\rangle +  |5\\rangle|6\\rangle -  |5\\rangle|7\\rangle\\ ]\n",
    "$$\n",
    "\n",
    "Simplificando:\n",
    "$$\n",
    "\\lvert \\psi_3 \\rangle = \\frac{1}{4}\\left[\\\\\n",
    "|4\\rangle|0\\rangle+|1\\rangle|0\\rangle+|5\\rangle|0\\rangle+|7\\rangle|0\\rangle+\\\\\n",
    "|4\\rangle|2\\rangle+|1\\rangle|2\\rangle-|5\\rangle|2\\rangle-|7\\rangle|2\\rangle+\\\\\n",
    "|4\\rangle|5\\rangle-|1\\rangle|5\\rangle+|5\\rangle|5\\rangle-|7\\rangle|5\\rangle+\\\\\n",
    "|4\\rangle|7\\rangle-|1\\rangle|7\\rangle-|5\\rangle|7\\rangle+|7\\rangle|7\\rangle\\ \\right]\n",
    "$$\n",
    "\n",
    "Que podemos escribir como:\n",
    "$$\n",
    "\\lvert \\psi_3 \\rangle = \\frac{1}{4}\\left[\\\\\n",
    "(|4\\rangle+|1\\rangle+|5\\rangle+|7\\rangle) \\otimes|0\\rangle+\\\\\n",
    "(|4\\rangle+|1\\rangle-|5\\rangle-|7\\rangle)\\otimes|2\\rangle+\\\\\n",
    "(|4\\rangle-|1\\rangle+|5\\rangle-|7\\rangle)\\otimes|5\\rangle+\\\\\n",
    "(|4\\rangle-|1\\rangle-|5\\rangle+|7\\rangle)\\otimes|7\\rangle\\ \\right]\n",
    "$$\n",
    "\n",
    "Al medir los 3 bits $|x\\rangle$ obtenemos, con igual probabilidad, $|000\\rangle$, $|010\\rangle$, $|101\\rangle$ o $|111\\rangle$. Para esos valores, su producto bit a bit por $c$ (módulo 2) da 0, por lo que tenemos, si $c=c_2c_1c_0$, con $c_i\\in \\{0,1\\}$, las siguientes ecuaciones:\n",
    "\n",
    "i. $|000\\rangle\\cdot c = 0\\cdot c_2\\oplus 0\\cdot c_1 \\oplus 0\\cdot c_0 = 0$\n",
    "\n",
    "ii. $|010\\rangle\\cdot c = 0\\cdot c_2\\oplus 1\\cdot c_1 \\oplus 0\\cdot c_0 = 0$\n",
    "\n",
    "iii. $|101\\rangle\\cdot c = 1\\cdot c_2\\oplus 0\\cdot c_1 \\oplus 1\\cdot c_0 = 0$\n",
    "\n",
    "iv. $|111\\rangle\\cdot c = 1\\cdot c_2\\oplus 1\\cdot c_1 \\oplus 1\\cdot c_0 = 0$\n",
    "\n",
    "la ecuación (ii) indica que $c_1 = 0$, la (iii) que $c_2\\oplus c_0 =0$ y la (iv) que $c_2\\oplus c_1 \\oplus c_0 =0$. Las únicas opciones para $c$ son $000$ o $101$, y como $c\\neq 0$, tenemos que $c=5$."
   ]
  },
  {
   "cell_type": "markdown",
   "id": "d0ab8467",
   "metadata": {},
   "source": [
    "### Ejercicio 6\n",
    "\n",
    "Usamos el algoritmo de Simon para $n=3$ y obtenemos a la salida los siguientes estados: $|000\\rangle$, $|001\\rangle$, $|110\\rangle$ y $|111\\rangle$. ¿Cuánto vale $c$?"
   ]
  },
  {
   "cell_type": "markdown",
   "id": "035d3b67",
   "metadata": {},
   "source": [
    "i. $|000\\rangle\\cdot c = 0\\cdot c_2\\oplus 0\\cdot c_1 \\oplus 0\\cdot c_0 = 0$\n",
    "\n",
    "ii. $|001\\rangle\\cdot c = 0\\cdot c_2\\oplus 0\\cdot c_1 \\oplus 1\\cdot c_0 = 0$\n",
    "\n",
    "iii. $|110\\rangle\\cdot c = 1\\cdot c_2\\oplus 1\\cdot c_1 \\oplus 0\\cdot c_0 = 0$\n",
    "\n",
    "iv. $|111\\rangle\\cdot c = 1\\cdot c_2\\oplus 1\\cdot c_1 \\oplus 1\\cdot c_0 = 0$\n",
    "\n",
    "la ecuación (ii) indica que $c_0 = 0$ y la (iii) y la (iv) que $c_2\\oplus c_1 =0$. Las únicas opciones para $c$ son $000$ o $110$, y como $c\\neq 0$, tenemos que $c=6$."
   ]
  },
  {
   "cell_type": "markdown",
   "id": "cce79f3d",
   "metadata": {},
   "source": [
    "### Oráculo para el algoritmo de Simon\n",
    "\n",
    "Supongamos $n=3$ y $c=110$. Una posible función es la siguiente:\n",
    "\n",
    "$$\n",
    "f(000) = f(110) = 000\\\\\n",
    "f(001) = f(111) = 001\\\\\n",
    "f(010) = f(100) = 100\\\\\n",
    "f(011) = f(101) = 101\n",
    "$$\n",
    "\n",
    "Esta función se define como sigue. Sea $i$ la posición del bit a 1 menos significativo de $c$ (en el ejemplo, $i=1$). Definimos f como:\n",
    "\n",
    "$$\n",
    "f(x) = \n",
    "\\begin{cases}\n",
    "x \\text{, si } x_i = 0\\\\\n",
    "x\\oplus c \\text{, si } x_i = 1\n",
    "\\end{cases}\n",
    "$$\n",
    "\n",
    "Para implementar esa función podemos hacer lo siguiente:\n",
    "\n",
    "1. Copiamos el valor de $|x\\rangle$ en los cúbits de ancilla para tener $|x\\rangle|x\\rangle$.\n",
    "2. Sea $i$ la posición del bit a 1 menos significativo de $c$. Usamos puertas CNOT con:\n",
    "   - Cúbit de control: $x_i$\n",
    "   - Cúbits target: todas las ancillas con $j\\ge i$ para las $j$ que verifiquen que $c_j = 1$.\n",
    "3. Adicionalmente, se pueden permutar e invertir las ancillas para introducir variabilidad."
   ]
  },
  {
   "cell_type": "code",
   "execution_count": 29,
   "id": "999fda5b",
   "metadata": {},
   "outputs": [],
   "source": [
    "# Ejemplo de oráculo para n=3 y c=110\n",
    "# init es el valor inicial del registro x\n",
    "def simon_oraculo_simple(init):\n",
    "    x = QuantumRegister(3, name=\"|x\\\\rangle\")\n",
    "    ancilla = QuantumRegister(3, name=\"|ancilla\\\\rangle\")\n",
    "    meas = ClassicalRegister(3, name=\"Medida\")\n",
    "    qc = QuantumCircuit(x, ancilla, meas)\n",
    "    qc.initialize(init)\n",
    "\n",
    "    # Hacemos la copia de la x a las ancillas\n",
    "    qc.cnot(x,ancilla)\n",
    "\n",
    "    qc.barrier()\n",
    "\n",
    "    qc.cnot(x[1],ancilla[1])\n",
    "    qc.cnot(x[1],ancilla[2])\n",
    "\n",
    "    qc.barrier()\n",
    "\n",
    "    qc.measure(ancilla, meas)\n",
    "    return(qc)"
   ]
  },
  {
   "cell_type": "code",
   "execution_count": 30,
   "id": "f18014f7",
   "metadata": {},
   "outputs": [
    {
     "name": "stderr",
     "output_type": "stream",
     "text": [
      "/tmp/ipykernel_27243/602884574.py:11: DeprecationWarning: The method ``qiskit.circuit.quantumcircuit.QuantumCircuit.cnot()`` is deprecated as of qiskit 0.45.0. It will be removed no earlier than 3 months after the release date. Use QuantumCircuit.cx as direct replacement.\n",
      "  qc.cnot(x,ancilla)\n",
      "/tmp/ipykernel_27243/602884574.py:15: DeprecationWarning: The method ``qiskit.circuit.quantumcircuit.QuantumCircuit.cnot()`` is deprecated as of qiskit 0.45.0. It will be removed no earlier than 3 months after the release date. Use QuantumCircuit.cx as direct replacement.\n",
      "  qc.cnot(x[1],ancilla[1])\n",
      "/tmp/ipykernel_27243/602884574.py:16: DeprecationWarning: The method ``qiskit.circuit.quantumcircuit.QuantumCircuit.cnot()`` is deprecated as of qiskit 0.45.0. It will be removed no earlier than 3 months after the release date. Use QuantumCircuit.cx as direct replacement.\n",
      "  qc.cnot(x[1],ancilla[2])\n",
      "/home/jorge.vazquez.perez/miniconda3/envs/basic-quantum/lib/python3.10/site-packages/qiskit/visualization/circuit/matplotlib.py:266: FutureWarning: The default matplotlib drawer scheme will be changed to \"iqp\" in a following release. To silence this warning, specify the current default explicitly as style=\"clifford\", or the new default as style=\"iqp\".\n",
      "  self._style, def_font_ratio = load_style(self._style)\n"
     ]
    },
    {
     "data": {
      "image/png": "[encoded data removed]",
      "text/plain": [
       "<Figure size 1141.55x618.722 with 1 Axes>"
      ]
     },
     "execution_count": 30,
     "metadata": {},
     "output_type": "execute_result"
    }
   ],
   "source": [
    "qc = simon_oraculo_simple(0)\n",
    "qc.draw('mpl')"
   ]
  },
  {
   "cell_type": "code",
   "execution_count": 31,
   "id": "fcea919b",
   "metadata": {},
   "outputs": [
    {
     "name": "stdout",
     "output_type": "stream",
     "text": [
      "f(000) = 000\n",
      "f(001) = 001\n",
      "f(010) = 100\n",
      "f(011) = 101\n",
      "f(100) = 100\n",
      "f(101) = 101\n",
      "f(110) = 000\n",
      "f(111) = 001\n"
     ]
    },
    {
     "name": "stderr",
     "output_type": "stream",
     "text": [
      "/tmp/ipykernel_27243/602884574.py:11: DeprecationWarning: The method ``qiskit.circuit.quantumcircuit.QuantumCircuit.cnot()`` is deprecated as of qiskit 0.45.0. It will be removed no earlier than 3 months after the release date. Use QuantumCircuit.cx as direct replacement.\n",
      "  qc.cnot(x,ancilla)\n",
      "/tmp/ipykernel_27243/602884574.py:15: DeprecationWarning: The method ``qiskit.circuit.quantumcircuit.QuantumCircuit.cnot()`` is deprecated as of qiskit 0.45.0. It will be removed no earlier than 3 months after the release date. Use QuantumCircuit.cx as direct replacement.\n",
      "  qc.cnot(x[1],ancilla[1])\n",
      "/tmp/ipykernel_27243/602884574.py:16: DeprecationWarning: The method ``qiskit.circuit.quantumcircuit.QuantumCircuit.cnot()`` is deprecated as of qiskit 0.45.0. It will be removed no earlier than 3 months after the release date. Use QuantumCircuit.cx as direct replacement.\n",
      "  qc.cnot(x[1],ancilla[2])\n"
     ]
    }
   ],
   "source": [
    "# Probamos para diferentes valores\n",
    "for x in range(8):\n",
    "    qc = simon_oraculo_simple(x)\n",
    "    # Ejecutamos una simulación para obtener el vector de estado\n",
    "    job_sim = execute(qc, sim, shots=1)\n",
    "\n",
    "    # Obtenemos los resultados\n",
    "    salida = job_sim.result().get_counts()\n",
    "\n",
    "    print('f({0:03b}) = {1}'.format(x,list(salida.keys())[0]))"
   ]
  },
  {
   "cell_type": "markdown",
   "id": "ecb3cf97",
   "metadata": {},
   "source": [
    "### Ejercicio 7\n",
    "\n",
    "Programa en Qiskit un oráculo para el algoritmo de Simon que implemente la función:$f:\\{0,1\\}^3 \\rightarrow \\{0,1\\}^3$ tal que:\n",
    "\n",
    "$$\n",
    "f(0) = f(5) = 4\\\\\n",
    "f(1) = f(4) = 5\\\\\n",
    "f(2) = f(7) = 6\\\\\n",
    "f(3) = f(6) = 7\n",
    "$$"
   ]
  },
  {
   "cell_type": "code",
   "execution_count": 32,
   "id": "8c2a99b5",
   "metadata": {},
   "outputs": [],
   "source": [
    "# Esa función corresponde a un c=101, por lo que el circuito inicial quedaría\n",
    "def simon_oraculo_simple(init):\n",
    "    x = QuantumRegister(3, name=\"|x\\\\rangle\")\n",
    "    ancilla = QuantumRegister(3, name=\"|ancilla\\\\rangle\")\n",
    "    meas = ClassicalRegister(3, name=\"Medida\")\n",
    "    qc = QuantumCircuit(x, ancilla, meas)\n",
    "    qc.initialize(init)\n",
    "\n",
    "    # Hacemos la copia de la x a las ancillas\n",
    "    qc.cnot(x,ancilla)\n",
    "\n",
    "    qc.barrier()\n",
    "\n",
    "    qc.cnot(x[0],ancilla[0])\n",
    "    qc.cnot(x[0],ancilla[2])\n",
    "\n",
    "    qc.barrier()\n",
    "    \n",
    "    # Añadimos estos cambios para obtener los resultados que piden\n",
    "    qc.swap(ancilla[0], ancilla[2])\n",
    "    qc.x(ancilla[2])\n",
    "    \n",
    "    qc.measure(ancilla, meas)\n",
    "    return(qc)"
   ]
  },
  {
   "cell_type": "code",
   "execution_count": 33,
   "id": "4d11a225",
   "metadata": {},
   "outputs": [
    {
     "name": "stderr",
     "output_type": "stream",
     "text": [
      "/tmp/ipykernel_27243/1164108710.py:10: DeprecationWarning: The method ``qiskit.circuit.quantumcircuit.QuantumCircuit.cnot()`` is deprecated as of qiskit 0.45.0. It will be removed no earlier than 3 months after the release date. Use QuantumCircuit.cx as direct replacement.\n",
      "  qc.cnot(x,ancilla)\n",
      "/tmp/ipykernel_27243/1164108710.py:14: DeprecationWarning: The method ``qiskit.circuit.quantumcircuit.QuantumCircuit.cnot()`` is deprecated as of qiskit 0.45.0. It will be removed no earlier than 3 months after the release date. Use QuantumCircuit.cx as direct replacement.\n",
      "  qc.cnot(x[0],ancilla[0])\n",
      "/tmp/ipykernel_27243/1164108710.py:15: DeprecationWarning: The method ``qiskit.circuit.quantumcircuit.QuantumCircuit.cnot()`` is deprecated as of qiskit 0.45.0. It will be removed no earlier than 3 months after the release date. Use QuantumCircuit.cx as direct replacement.\n",
      "  qc.cnot(x[0],ancilla[2])\n"
     ]
    },
    {
     "data": {
      "image/png": "[encoded data removed]",
      "text/plain": [
       "<Figure size 1308.78x618.722 with 1 Axes>"
      ]
     },
     "execution_count": 33,
     "metadata": {},
     "output_type": "execute_result"
    }
   ],
   "source": [
    "qc = simon_oraculo_simple(0)\n",
    "qc.draw('mpl')"
   ]
  },
  {
   "cell_type": "code",
   "execution_count": 34,
   "id": "906efb1c",
   "metadata": {},
   "outputs": [
    {
     "name": "stdout",
     "output_type": "stream",
     "text": [
      "f(0) = 100\n",
      "f(1) = 101\n",
      "f(2) = 110\n",
      "f(3) = 111\n",
      "f(4) = 101\n",
      "f(5) = 100\n",
      "f(6) = 111\n",
      "f(7) = 110\n"
     ]
    },
    {
     "name": "stderr",
     "output_type": "stream",
     "text": [
      "/tmp/ipykernel_27243/1164108710.py:10: DeprecationWarning: The method ``qiskit.circuit.quantumcircuit.QuantumCircuit.cnot()`` is deprecated as of qiskit 0.45.0. It will be removed no earlier than 3 months after the release date. Use QuantumCircuit.cx as direct replacement.\n",
      "  qc.cnot(x,ancilla)\n",
      "/tmp/ipykernel_27243/1164108710.py:14: DeprecationWarning: The method ``qiskit.circuit.quantumcircuit.QuantumCircuit.cnot()`` is deprecated as of qiskit 0.45.0. It will be removed no earlier than 3 months after the release date. Use QuantumCircuit.cx as direct replacement.\n",
      "  qc.cnot(x[0],ancilla[0])\n",
      "/tmp/ipykernel_27243/1164108710.py:15: DeprecationWarning: The method ``qiskit.circuit.quantumcircuit.QuantumCircuit.cnot()`` is deprecated as of qiskit 0.45.0. It will be removed no earlier than 3 months after the release date. Use QuantumCircuit.cx as direct replacement.\n",
      "  qc.cnot(x[0],ancilla[2])\n"
     ]
    }
   ],
   "source": [
    "# Probamos para diferentes valores\n",
    "for x in range(8):\n",
    "    qc = simon_oraculo_simple(x)\n",
    "    # Ejecutamos una simulación para obtener el vector de estado\n",
    "    job_sim = execute(qc, sim, shots=1)\n",
    "\n",
    "    # Obtenemos los resultados\n",
    "    salida = job_sim.result().get_counts()\n",
    "\n",
    "    print('f({0}) = {1}'.format(x,list(salida.keys())[0]))"
   ]
  },
  {
   "cell_type": "markdown",
   "id": "e7ed6b0f",
   "metadata": {},
   "source": [
    "-------------------------\n",
    "--------------------\n",
    "-------------------"
   ]
  },
  {
   "cell_type": "markdown",
   "id": "monetary-aerospace",
   "metadata": {},
   "source": [
    "# Algoritmo de búsqueda de Grover: amplificación de amplitud <a id=\"grover\"></a>"
   ]
  },
  {
   "cell_type": "markdown",
   "id": "outstanding-paper",
   "metadata": {},
   "source": [
    "Este algoritmo busca un dato en una lista no estructurada.\n",
    "\n",
    "El oráculo $f:\\{0,1\\}^n \\rightarrow \\{0,1\\}$ es tal que existe un único $x_i$ tal que:\n",
    "$$\n",
    "f(x) = \n",
    "\\begin{cases}\n",
    "1, \\text{si } x=x_i\\\\\n",
    "0, \\text{si } x\\ne x_i\n",
    "\\end{cases}\n",
    "$$\n",
    "\n",
    "Buscamos $x_i$.\n",
    "\n",
    "**Nota**: Es posible generalizar el algoritmo para cuando existe más de un dato $x_i$\n",
    "\n",
    "**Solución clásica**\n",
    "\n",
    "Si $N=2^n$ es el número de datos en la lista, un algoritmo clásico necesita efectuar, en el peor de los casos $N$ evaluaciones de $f(x)$, y de media $N/2$, por lo que la complejidad es $\\mathcal{O}(2^n)$\n",
    "\n",
    "**Solución cuántica**\n",
    "\n",
    "El algoritmo cuántico ([L. K. Grover, 1996](http://doi.acm.org/10.1145/237814.237866)) solo necesita $\\mathcal{O}\\left(\\sqrt{2^n}\\right)$ evaluaciones.\n",
    "\n",
    "El algoritmo tiene dos partes:\n",
    "\n",
    "### Inversión de fase\n",
    "\n",
    "Mediante el siguiente circuito invertimos la fase de $|x_i\\rangle$:\n",
    "\n",
    "<img src=\"images/Grover1.svg\" alt=\"Grover inversion de fase\" style=\"width: 600px;\"/>\n",
    "\n",
    "\n",
    "Pasos:\n",
    "\n",
    "<ol>\n",
    "   <li>\n",
    "        Estado inicial:\n",
    "        \n",
    "\n",
    "$$\\vert \\psi_0 \\rangle =  \\vert1\\rangle\\vert0\\rangle^{\\otimes n}$$\n",
    "\n",
    "\n",
    "   </li>\n",
    "    \n",
    "   <li>\n",
    "        Después de aplicar las primeras puertas H:\n",
    "$$\\vert \\psi_1 \\rangle = \\frac{1}{\\sqrt{2^{n+1}}}\\sum_{x=0}^{2^n-1} (|0\\rangle-|1\\rangle)\\vert x\\rangle $$\n",
    "   </li>\n",
    "   <p>\n",
    "   <li>\n",
    "        Aplicamos $U_f$ a $\\vert y\\rangle\\vert x\\rangle$ para obtener $\\vert y \\oplus f(x)\\rangle\\vert x\\rangle$:\n",
    "        $$\n",
    "            \\lvert \\psi_2 \\rangle  \n",
    "                 = \\frac{1}{\\sqrt{2^{n+1}}}\\sum_{x=0}^{2^n-1}(|0\\oplus f(x)\\rangle - |1\\oplus f(x)\\rangle)|x\\rangle\n",
    "        $$\n",
    "          </li>\n",
    "<p>\n",
    "   <li>Como $f(x) = 1$ si $x = x_i$ y $f(x)=0$ en otro caso podemos escribir:\n",
    "$$\n",
    "\\begin{aligned}\n",
    "\\lvert \\psi_2 \\rangle  \n",
    "&= \\frac{1}{\\sqrt{2^{n+1}}}\\left[\\left(|0\\oplus f(x_i)\\rangle - |1\\oplus f(x_i)\\rangle\\right)|x_i\\rangle + \\sum_{x\\ne x_i}\\left(|0\\oplus f(x)\\rangle - |1\\oplus f(x)\\rangle\\right)|x\\rangle\\right] \\\\\n",
    "&= \\frac{1}{\\sqrt{2^{n+1}}}\\left[(|1\\rangle - |0\\rangle)|x_i\\rangle + \\sum_{x\\ne x_i}\\left(|0\\rangle - |1\\rangle\\right)|x\\rangle\\right] \\\\\n",
    "&= \\frac{1}{\\sqrt{2^{n+1}}}\\left[\\left(\\sum_{x\\ne x_i}\\left(|0\\rangle - |1\\rangle\\right)|x\\rangle\\right) - (|0\\rangle - |1\\rangle)|x_i\\rangle\\right] \\\\\n",
    "&= \\frac{|0\\rangle - |1\\rangle}{\\sqrt{2}}\\frac{\\sum_{x\\ne x_i}|x\\rangle- |x_i\\rangle}{\\sqrt{2^{n}}}\n",
    "\\end{aligned}\n",
    "$$  \n",
    "          </li><br>\n",
    "</ol>\n",
    "\n",
    "El estado que medimos es, por lo tanto:\n",
    "\n",
    "$$\n",
    "\\frac{\\sum_{x\\ne x_i}|x\\rangle- |x_i\\rangle}{\\sqrt{2^{n}}}\n",
    "$$\n",
    "\n",
    "Vemos que el estado $|x_i\\rangle$ aparece con signo negativo.\n",
    "\n",
    "Implementar esta inversión de fase es simple.  Con 2 cúbits queremos invertir el estado $s = |10\\rangle$:\n",
    "\n",
    "1. Partimos de un estado en superposición \n",
    "$$\n",
    "\\frac{|00\\rangle + |01\\rangle + |10\\rangle + |11\\rangle}{2}\n",
    "$$\n",
    "2. Invertimos los cúbits para los cuales hay un 0 en $s$ y obtenemos:\n",
    "$$\n",
    "\\frac{|01\\rangle + |00\\rangle + |11\\rangle + |10\\rangle}{2}\n",
    "$$\n",
    "3. Aplicamos una puerta CZ entre los cúbits, que cambia el signo al estado $|11\\rangle$\n",
    "$$\n",
    "\\frac{|01\\rangle + |00\\rangle - |11\\rangle + |10\\rangle}{2}\n",
    "$$\n",
    "4. Volvemos a invertir los cúbits para los cuales hay un 0 en $s$:\n",
    "$$\n",
    "\\frac{|00\\rangle + |01\\rangle - |10\\rangle + |11\\rangle}{2}\n",
    "$$"
   ]
  },
  {
   "cell_type": "markdown",
   "id": "715395e3",
   "metadata": {},
   "source": [
    "El problema es que, al medir, obtenemos con igual probabilidad cualquier valor de $|x\\rangle$ ya que lo único que diferencia a $|x_i\\rangle$ es la fase. Necesitamos convertir diferencias de fase en diferencias de amplitud."
   ]
  },
  {
   "cell_type": "markdown",
   "id": "63791a1e",
   "metadata": {},
   "source": [
    "### Ejercicio 8\n",
    "\n",
    "Programa en Qiskit un circuito de 3 cúbits que implemente la inversión de fase para un estado determinado, usando una puerta CCZ. Obten el vector de estado para ver el cambio de fase. Obtén también el histograma de las salidas para ver que no se distingue el estado marcado. \n",
    "\n",
    "¿Es posible hacerlo para $n$ cúbits? Busca como implementar en Qiskit una puerta controlada por múltiples cúbits."
   ]
  },
  {
   "cell_type": "code",
   "execution_count": 35,
   "id": "b4a44b59",
   "metadata": {},
   "outputs": [
    {
     "data": {
      "image/png": "[encoded data removed]",
      "text/plain": [
       "<Figure size 705.552x284.278 with 1 Axes>"
      ]
     },
     "execution_count": 35,
     "metadata": {},
     "output_type": "execute_result"
    }
   ],
   "source": [
    "# Queremos invertir el estado |10>\n",
    "n = 3\n",
    "s = 6 # 110 en binario\n",
    "\n",
    "# Creamos el circuito\n",
    "qc_pinv = QuantumCircuit(n)\n",
    "\n",
    "# Ponemos los qbits en superposición\n",
    "for q in range(n):\n",
    "    qc_pinv.h(q)\n",
    "\n",
    "# Invertimos los cubits para los que s tenga un bit a 0\n",
    "temp = s\n",
    "for b in range(n):\n",
    "    if(temp&1 == 0):\n",
    "        qc_pinv.x(b)\n",
    "    temp >>= 1\n",
    "        \n",
    "qc_pinv.ccz(0,1,2)  # El cambio de fase afecta a |s>\n",
    "\n",
    "# Volvemos a invertir los cubits para los que s tenga un bit a 0\n",
    "temp = s\n",
    "for b in range(n):\n",
    "    if(temp&1 == 0):\n",
    "        qc_pinv.x(b)\n",
    "    temp >>= 1\n",
    "        \n",
    "qc_pinv.save_statevector()        \n",
    "qc_pinv.draw('mpl')"
   ]
  },
  {
   "cell_type": "code",
   "execution_count": 36,
   "id": "b8bd1e7f",
   "metadata": {},
   "outputs": [
    {
     "data": {
      "text/latex": [
       "$$\\frac{\\sqrt{2}}{4} |000\\rangle+\\frac{\\sqrt{2}}{4} |001\\rangle+\\frac{\\sqrt{2}}{4} |010\\rangle+\\frac{\\sqrt{2}}{4} |011\\rangle+\\frac{\\sqrt{2}}{4} |100\\rangle+\\frac{\\sqrt{2}}{4} |101\\rangle- \\frac{\\sqrt{2}}{4} |110\\rangle+\\frac{\\sqrt{2}}{4} |111\\rangle$$"
      ],
      "text/plain": [
       "<IPython.core.display.Latex object>"
      ]
     },
     "execution_count": 36,
     "metadata": {},
     "output_type": "execute_result"
    }
   ],
   "source": [
    "job_sim = execute(qc_pinv, sim)         # Hacemos la simulación \n",
    "result = job_sim.result()           # Obtenemos los resultados\n",
    "estado_final = result.get_statevector()\n",
    "estado_final.draw(\"latex\")"
   ]
  },
  {
   "cell_type": "code",
   "execution_count": 37,
   "id": "e22689f8",
   "metadata": {},
   "outputs": [
    {
     "data": {
      "image/png": "[encoded data removed]",
      "text/plain": [
       "<Figure size 700x500 with 1 Axes>"
      ]
     },
     "execution_count": 37,
     "metadata": {},
     "output_type": "execute_result"
    }
   ],
   "source": [
    "salida = result.get_counts()\n",
    "plot_histogram(salida)"
   ]
  },
  {
   "cell_type": "markdown",
   "id": "b2c2d11c",
   "metadata": {},
   "source": [
    "Si queremos hacerlo para un numero arbitrario de cúbits se puede usar una puerta [MCMT](https://qiskit.org/documentation/stubs/qiskit.circuit.library.MCMT.html)"
   ]
  },
  {
   "cell_type": "code",
   "execution_count": 38,
   "id": "ff93ea6d",
   "metadata": {},
   "outputs": [
    {
     "name": "stderr",
     "output_type": "stream",
     "text": [
      "/home/jorge.vazquez.perez/miniconda3/envs/basic-quantum/lib/python3.10/site-packages/qiskit/visualization/circuit/matplotlib.py:266: FutureWarning: The default matplotlib drawer scheme will be changed to \"iqp\" in a following release. To silence this warning, specify the current default explicitly as style=\"clifford\", or the new default as style=\"iqp\".\n",
      "  self._style, def_font_ratio = load_style(self._style)\n"
     ]
    },
    {
     "data": {
      "image/png": "[encoded data removed]",
      "text/plain": [
       "<Figure size 705.552x284.278 with 1 Axes>"
      ]
     },
     "execution_count": 38,
     "metadata": {},
     "output_type": "execute_result"
    }
   ],
   "source": [
    "from qiskit.circuit.library import MCMT\n",
    "\n",
    "def inversor(n,s):\n",
    "    # Creamos el circuito\n",
    "    qc = QuantumCircuit(n)\n",
    "\n",
    "    # Invertimos los cubits para los que s tenga un bit a 0\n",
    "    temp = s\n",
    "    for b in range(n):\n",
    "        if(temp&1 == 0):\n",
    "            qc.x(b)\n",
    "        temp >>= 1\n",
    "\n",
    "    qc = qc.compose(MCMT('z',n-1,1)) # Puerta Z con n-1 control y 1 target\n",
    "\n",
    "    # Volvemos a invertir los cubits para los que s tenga un bit a 0\n",
    "    temp = s\n",
    "    for b in range(n):\n",
    "        if(temp&1 == 0):\n",
    "            qc.x(b)\n",
    "        temp >>= 1\n",
    "    return qc\n",
    "\n",
    "n=3\n",
    "s=5\n",
    "qc_pinv = QuantumCircuit(n)\n",
    "# Ponemos los qbits en superposición\n",
    "for q in range(n):\n",
    "    qc_pinv.h(q)\n",
    "\n",
    "# Añadimos el inversor\n",
    "qc_pinv = qc_pinv.compose(inversor(n,s))\n",
    "qc_pinv.save_statevector()        \n",
    "qc_pinv.draw('mpl')"
   ]
  },
  {
   "cell_type": "code",
   "execution_count": 39,
   "id": "1612beb2",
   "metadata": {},
   "outputs": [
    {
     "data": {
      "text/latex": [
       "$$\\frac{\\sqrt{2}}{4} |000\\rangle+\\frac{\\sqrt{2}}{4} |001\\rangle+\\frac{\\sqrt{2}}{4} |010\\rangle+\\frac{\\sqrt{2}}{4} |011\\rangle+\\frac{\\sqrt{2}}{4} |100\\rangle- \\frac{\\sqrt{2}}{4} |101\\rangle+\\frac{\\sqrt{2}}{4} |110\\rangle+\\frac{\\sqrt{2}}{4} |111\\rangle$$"
      ],
      "text/plain": [
       "<IPython.core.display.Latex object>"
      ]
     },
     "execution_count": 39,
     "metadata": {},
     "output_type": "execute_result"
    }
   ],
   "source": [
    "job_sim = execute(qc_pinv, sim)         # Hacemos la simulación \n",
    "result = job_sim.result()           # Obtenemos los resultados\n",
    "estado_final = result.get_statevector()\n",
    "estado_final.draw(\"latex\")"
   ]
  },
  {
   "cell_type": "markdown",
   "id": "0a3250bc",
   "metadata": {},
   "source": [
    "Podemos ver la matriz unitaria equivalente del inversor"
   ]
  },
  {
   "cell_type": "code",
   "execution_count": 40,
   "id": "b1d721a8",
   "metadata": {},
   "outputs": [
    {
     "data": {
      "image/png": "[encoded data removed]",
      "text/plain": [
       "<Figure size 538.33x284.278 with 1 Axes>"
      ]
     },
     "metadata": {},
     "output_type": "display_data"
    },
    {
     "data": {
      "text/latex": [
       "$\\displaystyle \n",
       "U = \\begin{bmatrix}\n",
       "1 & 0 & 0 & 0 & 0 & 0 & 0 & 0  \\\\\n",
       "0 & 1 & 0 & 0 & 0 & 0 & 0 & 0  \\\\\n",
       "0 & 0 & 1 & 0 & 0 & 0 & 0 & 0  \\\\\n",
       "0 & 0 & 0 & 1 & 0 & 0 & 0 & 0  \\\\\n",
       "0 & 0 & 0 & 0 & 1 & 0 & 0 & 0  \\\\\n",
       "0 & 0 & 0 & 0 & 0 & -1 & 0 & 0  \\\\\n",
       "0 & 0 & 0 & 0 & 0 & 0 & 1 & 0  \\\\\n",
       "0 & 0 & 0 & 0 & 0 & 0 & 0 & 1  \\\\\n",
       "\\end{bmatrix}\n",
       "$$\n",
       "$"
      ],
      "text/plain": [
       "<IPython.core.display.Math object>"
      ]
     },
     "metadata": {},
     "output_type": "display_data"
    }
   ],
   "source": [
    "qc_inv = inversor(n,s)\n",
    "qc_inv.save_unitary()\n",
    "display(qc_inv.draw('mpl'))\n",
    "\n",
    "# Ejecuta y obtén la unitaria\n",
    "result = execute(qc_inv, sim_u).result()\n",
    "unitary = result.get_unitary(qc_inv)\n",
    "array_to_latex(unitary, pretext=\"U = \")"
   ]
  },
  {
   "cell_type": "markdown",
   "id": "5cf29207",
   "metadata": {},
   "source": [
    "Podemos generalizar el inversor para que invierta varios de los estados. Para ello, usamos s como una lista con los estados que queremos invertir."
   ]
  },
  {
   "cell_type": "code",
   "execution_count": 54,
   "id": "5758f11f",
   "metadata": {},
   "outputs": [
    {
     "data": {
      "image/png": "[encoded data removed]",
      "text/plain": [
       "<Figure size 872.572x200.667 with 1 Axes>"
      ]
     },
     "execution_count": 54,
     "metadata": {},
     "output_type": "execute_result"
    }
   ],
   "source": [
    "from qiskit.circuit.library import MCMT\n",
    "\n",
    "# Ahora s es una lista con los estados que queremos invertir\n",
    "def inversor(n,slist):\n",
    "    # Creamos el circuito\n",
    "    qc = QuantumCircuit(n)\n",
    "\n",
    "    # Invertimos los cubits para los que s tenga un bit a 0\n",
    "    for s in slist:\n",
    "        temp = s\n",
    "        for b in range(n):\n",
    "            if(temp&1 == 0):\n",
    "                qc.x(b)\n",
    "            temp >>= 1\n",
    "\n",
    "        qc = qc.compose(MCMT('z',n-1,1)) # Puerta Z con n-1 control y 1 target\n",
    "\n",
    "        # Volvemos a invertir los cubits para los que s tenga un bit a 0\n",
    "        temp = s\n",
    "        for b in range(n):\n",
    "            if(temp&1 == 0):\n",
    "                qc.x(b)\n",
    "            temp >>= 1\n",
    "    return qc\n",
    "\n",
    "n=2\n",
    "s=[1,2]\n",
    "qc_pinv = QuantumCircuit(n)\n",
    "# Ponemos los qbits en superposición\n",
    "for q in range(n):\n",
    "    qc_pinv.h(q)\n",
    "\n",
    "# Añadimos el inversor\n",
    "qc_pinv = qc_pinv.compose(inversor(n,s))\n",
    "qc_pinv.save_statevector()        \n",
    "qc_pinv.draw('mpl')"
   ]
  },
  {
   "cell_type": "code",
   "execution_count": 55,
   "id": "a108ac75",
   "metadata": {},
   "outputs": [
    {
     "data": {
      "text/latex": [
       "$$\\frac{1}{2} |00\\rangle- \\frac{1}{2} |01\\rangle- \\frac{1}{2} |10\\rangle+\\frac{1}{2} |11\\rangle$$"
      ],
      "text/plain": [
       "<IPython.core.display.Latex object>"
      ]
     },
     "execution_count": 55,
     "metadata": {},
     "output_type": "execute_result"
    }
   ],
   "source": [
    "job_sim = execute(qc_pinv, sim)         # Hacemos la simulación \n",
    "result = job_sim.result()           # Obtenemos los resultados\n",
    "estado_final = result.get_statevector()\n",
    "estado_final.draw(\"latex\")"
   ]
  },
  {
   "cell_type": "markdown",
   "id": "8d15a80b",
   "metadata": {},
   "source": [
    "### Oraculo para Grover\n",
    "\n",
    "En este inversor no tenemos en cuenta la ancilla. Si queremos hacer el circuito que hemos presentado, basta con incluir la ancilla y reemplazar el CZ por un CNOT siendo la ancilla el target."
   ]
  },
  {
   "cell_type": "code",
   "execution_count": 43,
   "id": "15c1f0ff",
   "metadata": {},
   "outputs": [],
   "source": [
    "from qiskit.circuit.library import MCMT\n",
    "\n",
    "def grover_oraculo(n,s):\n",
    "    x = QuantumRegister(n, name=\"|x\\\\rangle\")\n",
    "    ancilla = QuantumRegister(1, name=\"|ancilla\\\\rangle\")\n",
    "\n",
    "    oracle = QuantumCircuit(x, ancilla)\n",
    "    \n",
    "    # Invertimos los cubits para los que s tenga un bit a 0\n",
    "    temp = s\n",
    "    for b in range(n):\n",
    "        if(temp&1 == 0):\n",
    "            oracle.x(b)\n",
    "        temp >>= 1\n",
    "    # Aplicamos una CCNOT \n",
    "    oracle = oracle.compose(MCMT('x',n,1))\n",
    "    # Invertimos los cubits para los que s tenga un bit a 0\n",
    "    temp = s\n",
    "    for b in range(n):\n",
    "        if(temp&1 == 0):\n",
    "            oracle.x(b)\n",
    "        temp >>= 1\n",
    "        \n",
    "    return oracle"
   ]
  },
  {
   "cell_type": "code",
   "execution_count": 44,
   "id": "54a17018",
   "metadata": {},
   "outputs": [
    {
     "data": {
      "image/png": "[encoded data removed]",
      "text/plain": [
       "<Figure size 1206.73x451.5 with 1 Axes>"
      ]
     },
     "execution_count": 44,
     "metadata": {},
     "output_type": "execute_result"
    }
   ],
   "source": [
    "n = 4\n",
    "s = 5 # 010 en binario\n",
    "\n",
    "x = QuantumRegister(n, name=\"|x\\\\rangle\")\n",
    "ancilla = QuantumRegister(1, name=\"|ancilla\\\\rangle\")\n",
    "\n",
    "qc_pinv = QuantumCircuit(x, ancilla)\n",
    "\n",
    "# Invertimos la ancilla\n",
    "qc_pinv.x(ancilla)\n",
    "\n",
    "# Ponemos los cúbits en superposición\n",
    "qc_pinv.h(range(n+1))\n",
    "\n",
    "qc_pinv.barrier()\n",
    "\n",
    "# Añadimos el oraculo\n",
    "qc_pinv = qc_pinv.compose(grover_oraculo(n,s))\n",
    "\n",
    "qc_pinv.barrier()\n",
    "\n",
    "# Ponemos la ancilla a 0 para ver mejor el vector de estado\n",
    "qc_pinv.h(ancilla)\n",
    "qc_pinv.x(ancilla)\n",
    "\n",
    "qc_pinv.save_statevector()        \n",
    "qc_pinv.draw('mpl')"
   ]
  },
  {
   "cell_type": "code",
   "execution_count": 45,
   "id": "honest-sunrise",
   "metadata": {},
   "outputs": [
    {
     "data": {
      "text/latex": [
       "$$\\frac{1}{4} |00000\\rangle+\\frac{1}{4} |00001\\rangle+\\frac{1}{4} |00010\\rangle+\\frac{1}{4} |00011\\rangle+\\frac{1}{4} |00100\\rangle- \\frac{1}{4} |00101\\rangle + \\ldots +\\frac{1}{4} |01011\\rangle+\\frac{1}{4} |01100\\rangle+\\frac{1}{4} |01101\\rangle+\\frac{1}{4} |01110\\rangle+\\frac{1}{4} |01111\\rangle$$"
      ],
      "text/plain": [
       "<IPython.core.display.Latex object>"
      ]
     },
     "execution_count": 45,
     "metadata": {},
     "output_type": "execute_result"
    }
   ],
   "source": [
    "job_sim = execute(qc_pinv, sim)         # Hacemos la simulación \n",
    "result = job_sim.result()           # Obtenemos los resultados\n",
    "estado_final = result.get_statevector()\n",
    "estado_final.draw(\"latex\")"
   ]
  },
  {
   "cell_type": "code",
   "execution_count": 46,
   "id": "buried-bruce",
   "metadata": {},
   "outputs": [
    {
     "data": {
      "image/png": "[encoded data removed]",
      "text/plain": [
       "<Figure size 700x500 with 1 Axes>"
      ]
     },
     "execution_count": 46,
     "metadata": {},
     "output_type": "execute_result"
    }
   ],
   "source": [
    "salida = result.get_counts()\n",
    "plot_histogram(salida)"
   ]
  },
  {
   "cell_type": "markdown",
   "id": "rough-queen",
   "metadata": {},
   "source": [
    "El problema es que, al medir, obtenemos con igual probabilidad cualquier valor de $|x\\rangle$ ya que lo único que diferencia a $|x_i\\rangle$ es la fase. Necesitamos convertir diferencias de fase en diferencias de amplitud."
   ]
  },
  {
   "cell_type": "markdown",
   "id": "waiting-onion",
   "metadata": {},
   "source": [
    "## Amplificación de amplitud"
   ]
  },
  {
   "cell_type": "markdown",
   "id": "static-rider",
   "metadata": {},
   "source": [
    "La AA se basa en aumentar la amplitud de los estados que tengan una fase negativa. La idea básica es la *inversión sobre la media*.\n",
    "\n",
    "Supongamos el vector (decimal) $v=[10,10,10,-10,10]^T$. La media de esos valores es $\\overline{v}=6$. \n",
    "\n",
    "Invertir sobre la media consiste en repetir esta operación:\n",
    "\n",
    "$$\n",
    "v^\\prime = \\overline{v} + (\\overline{v}-v) = 2\\overline{v} -v,\\quad i = 0,1,2\\ldots\n",
    "$$\n",
    "\n",
    "cambiando en cada iteración el signo del elemento negativo de $v$.\n",
    "\n",
    "Aplicando esta operación al vector anterior obtenemos $v^\\prime=[2,2,2,22,2]^T$. La media sigue siendo la misma pero el tercer valor, antes negativo, se separa del resto.\n",
    "\n",
    "Si negamos el tercer elemento tenemos $v=[2,2,2,-22,2]^T$ de media $\\overline{v}=-2.8$.\n",
    "\n",
    "Repitiendo el procedimiento, obtenemos $v^\\prime=[-7.6,-7.6,-7.6,16.4,-7.6]^T$. La diferencia entre $v[3]$ y el resto de valores pasa a ser de 24.\n",
    "\n",
    "A medida que aplicamos la inversión sobre la media esta diferencia se agranda, pero llega un punto en que empieza a disminuir (cuando al invertir el elemento se igualan los signos). Se puede demostrar que para un vector de $N$ elementos, el número de inversiones que obtienen la máxima separación es $\\mathcal{O}(\\sqrt{N})$.\n",
    "\n",
    "Podemos expresar este mecanismo usando matrices. Sea, de nuevo, $v=[10,10,10,-10,10]^T$ y la matriz:\n",
    "\n",
    "$$\n",
    "A=\\frac{1}{5}\n",
    "\\begin{bmatrix}\n",
    "1 & 1 & 1 & 1 & 1\\\\\n",
    "1 & 1 & 1 & 1 & 1\\\\\n",
    "1 & 1 & 1 & 1 & 1\\\\\n",
    "1 & 1 & 1 & 1 & 1\\\\\n",
    "1 & 1 & 1 & 1 & 1\n",
    "\\end{bmatrix}\n",
    "$$\n",
    "\n",
    "Está claro que $Av = [6,6,6,6,6]^T = [\\overline{v}, \\overline{v}, \\overline{v}, \\overline{v}, \\overline{v}]^T$. La operación de inversión la podemos expresar como una operación matricial:\n",
    "\n",
    "$$v^\\prime=2Av-v=(2A-I)v$$\n",
    "\n",
    "Para un vector de $2^n$ elementos, la matriz $2A-1$ será de $2^n\\times 2^n$:\n",
    "$$\n",
    "2A-I=\\frac{2}{2^n}\n",
    "  \\begin{bmatrix}\n",
    "    1 & 1 & \\dots & 1 \\\\\n",
    "    1 & 1 & \\dots & 1 \\\\\n",
    "    \\vdots & \\vdots & \\ddots & \\vdots \\\\\n",
    "    1 & 1 & \\dots & 1\n",
    "  \\end{bmatrix}-\n",
    "  \\begin{bmatrix}\n",
    "    1 & 0 & \\dots & 0 \\\\\n",
    "    0 & 1 & \\dots & 0 \\\\\n",
    "    \\vdots & \\vdots & \\ddots & \\vdots \\\\\n",
    "    0 & 0 & \\dots & 1\n",
    "  \\end{bmatrix} =\\frac{1}{2^{n-1}}\n",
    "  \\begin{bmatrix}\n",
    "    1-2^{n-1} & 1 & \\dots & 1 \\\\\n",
    "    1 & 1-2^{n-1} & \\dots & 1 \\\\\n",
    "    \\vdots & \\vdots & \\ddots & \\vdots \\\\\n",
    "    1 & 1 & \\dots & 1-2^{n-1}\n",
    "  \\end{bmatrix}\n",
    "$$\n",
    "\n",
    "Se puede demostrar que $U = 2A-I$ es una matriz unitaria, por lo que se puede contruir en un circuito cuántico. \n",
    " \n",
    "\n",
    "Para el caso de 2 cúbits, la matriz $2A-I$ queda:\n",
    "$$\n",
    "2A-I=\\frac{1}{2}\n",
    "  \\begin{bmatrix}\n",
    "    -1 & 1 & 1 & 1 \\\\\n",
    "    1 & -1 & 1 & 1 \\\\\n",
    "    1 & 1 & -1 & 1 \\\\\n",
    "    1 & 1 & 1 & -1\n",
    "  \\end{bmatrix}\n",
    "$$\n",
    "\n",
    "Esta matriz se llama operador de difusión o _difusor_ $R_s$. \n",
    "\n",
    "Es fácil verificar que si $|s\\rangle = |+\\rangle^{\\otimes n}$ es el estado de superposición completa, entonces $A = |s\\rangle\\langle s|$, por lo que:\n",
    "\n",
    "$$\n",
    "R_s = 2A-I = 2|s\\rangle\\langle s| -I\n",
    "$$\n",
    "\n",
    "#### Implementación de $R_s$\n",
    "\n",
    "Dado que $|s\\rangle = |+\\rangle^{\\otimes n}= H^{\\otimes n}|0\\rangle^{\\otimes n}$ se tiene :\n",
    "\n",
    "$$\n",
    "R_s = 2\\left(H^{\\otimes n}|0\\rangle^{\\otimes n}\\langle 0|^{\\otimes n}H^{\\dagger\\otimes n}\\right)-I = 2\\left(H^{\\otimes n}|0\\rangle^{\\otimes n}\\langle 0|^{\\otimes n}H^{\\otimes n}\\right)-I\n",
    "$$\n",
    "\n",
    "ya que $H^\\dagger = H$. \n",
    "\n",
    "Además, podemos escribir $I = H^{\\otimes n}H^{\\otimes n}$. Por lo tanto:\n",
    "\n",
    "$$\n",
    "R_s = 2\\left(H^{\\otimes n}|0\\rangle^{\\otimes n}\\langle 0|^{\\otimes n}H^{\\otimes n}\\right)- H^{\\otimes n}H^{\\otimes n} = H^{\\otimes n}\\left(2|0\\rangle^{\\otimes n}\\langle 0|^{\\otimes n}-I\\right)H^{\\otimes n} = H^{\\otimes n}R_0H^{\\otimes n}\n",
    "$$\n",
    "\n",
    "siendo:\n",
    "\n",
    "$$\n",
    "R_0 = 2|0\\rangle^{\\otimes n}\\langle 0|^{\\otimes n}-I\n",
    "$$\n",
    "\n",
    "Es decir, podemos implementar $R_s$ como $R_0$ rodeado de puertas H:\n",
    "\n",
    "<img src=\"images/difusor0.svg\" alt=\"Difusor Rs\" style=\"width: 200px;\"/>\n",
    "\n",
    "#### Implementación de $R_0$\n",
    "\n",
    "Es posible comprobar que $R_0$ aplicado a cualquier estado cambia el signo de $|i\\rangle$ para todo $i\\ne 0$.\n",
    "\n",
    "Ejemplo:\n",
    "\n",
    "$$\n",
    "R_0|++\\rangle = \\frac{1}{2}\\left(2|00\\rangle\\langle 00|-I\\right)\\left(|00\\rangle+|01\\rangle+|10\\rangle+|11\\rangle\\right) = \\\\\n",
    "\\frac{1}{2}\\left(2|00\\rangle\\langle 00|00\\rangle + 2|00\\rangle\\langle 00|01\\rangle + 2|00\\rangle\\langle 00|10\\rangle + 2|00\\rangle\\langle 00|11\\rangle - |00\\rangle-|01\\rangle-|10\\rangle-|11\\rangle\\right) = \\frac{1}{2}\\left(|00\\rangle-|01\\rangle-|10\\rangle-|11\\rangle\\right)\n",
    "$$\n",
    "\n",
    "Para implementar esta operación, podemos empezar usando una puerta Z controlada:\n",
    "\n",
    "<img src=\"images/difusor1.svg\" alt=\"Difusor R0\" style=\"width: 100px;\"/>\n",
    "\n",
    "Si se aplica al estado $|+\\rangle^{\\otimes n}$ cambia el signo del estado $|1\\rangle^{\\otimes n}$:\n",
    "\n",
    "$$\n",
    "\\frac{1}{2}\\left(|00\\rangle+|01\\rangle+|10\\rangle-|11\\rangle\\right)\n",
    "$$\n",
    "\n",
    "Si añadimos puertas X a todos los cúbits, cambiamos el signo del estado $|0\\rangle^{\\otimes n}$\n",
    "\n",
    "<img src=\"images/difusor2.svg\" alt=\"Difusor R0\" style=\"width: 200px;\"/>\n",
    "\n",
    "$$\n",
    "\\frac{1}{2}\\left(-|00\\rangle+|01\\rangle+|10\\rangle+|11\\rangle\\right)\n",
    "$$\n",
    "\n",
    "Para obtener el resultado que buscamos, podemos usar que las puertas ZXZX aplicadas a un cúbit le cambián el signo:\n",
    "\n",
    "$$\n",
    "ZXZX|\\phi\\rangle = -|\\phi\\rangle\n",
    "$$\n",
    "\n",
    "Si se aplican estas puertas al cúbit más significativo, obtendremos el resultado:\n",
    "\n",
    "\n",
    "<img src=\"images/difusor3.svg\" alt=\"Difusor R0\" style=\"width: 400px;\"/>\n",
    "\n",
    "$$\n",
    "\\frac{1}{2}\\left(|00\\rangle-|01\\rangle-|10\\rangle-|11\\rangle\\right)\n",
    "$$\n",
    "\n",
    "Se pueden simplificar las dos X consecutivas, por lo que la implementación de $R_0$ queda:\n",
    "\n",
    "<img src=\"images/difusor4.svg\" alt=\"Difusor R0\" style=\"width: 400px;\"/>\n",
    "\n"
   ]
  },
  {
   "cell_type": "markdown",
   "id": "65ec70fc",
   "metadata": {},
   "source": [
    "### Ejercicio 9\n",
    "\n",
    "Programa en Qiskit una función que devuelva una puerta $R_s$ para un número arbitrario de cúbits.\n",
    "\n",
    "Obtén la matriz unitaria asociada y comprueba que coincide con lo esperado. "
   ]
  },
  {
   "cell_type": "code",
   "execution_count": 47,
   "id": "9caae62e",
   "metadata": {},
   "outputs": [
    {
     "name": "stderr",
     "output_type": "stream",
     "text": [
      "/home/jorge.vazquez.perez/miniconda3/envs/basic-quantum/lib/python3.10/site-packages/qiskit/visualization/circuit/matplotlib.py:266: FutureWarning: The default matplotlib drawer scheme will be changed to \"iqp\" in a following release. To silence this warning, specify the current default explicitly as style=\"clifford\", or the new default as style=\"iqp\".\n",
      "  self._style, def_font_ratio = load_style(self._style)\n"
     ]
    },
    {
     "data": {
      "image/png": "[encoded data removed]",
      "text/plain": [
       "<Figure size 872.572x200.667 with 1 Axes>"
      ]
     },
     "execution_count": 47,
     "metadata": {},
     "output_type": "execute_result"
    }
   ],
   "source": [
    "from qiskit.circuit.library import MCMT\n",
    "\n",
    "def difusor(nqubits):\n",
    "    qc = QuantumCircuit(nqubits)\n",
    "    # Transforma |s> -> |00..0> (H-gates)\n",
    "    for qubit in range(nqubits):\n",
    "        qc.h(qubit)\n",
    "        \n",
    "    # Transforma |00..0> -> |11..1> (X-gates)\n",
    "    for qubit in range(nqubits):\n",
    "        qc.x(qubit)\n",
    "        \n",
    "    # Implementa una puerta Z multicontrolada\n",
    "    # Una forma de hacer una Z multicontrolada con H y Toffoli\n",
    "    #qc.h(nqubits-1)\n",
    "    #qc.mct(list(range(nqubits-1)), nqubits-1)  # multi-controlled-toffoli\n",
    "    #qc.h(nqubits-1)\n",
    "    # Directamente con MCMT\n",
    "    qc = qc.compose(MCMT('z',nqubits-1, 1))\n",
    "    \n",
    "    # Transforma |11..1> -> |00..0>\n",
    "    for qubit in range(nqubits-1):\n",
    "        qc.x(qubit)\n",
    "        \n",
    "    # Cambia el signo de |00..0>\n",
    "    qc.z(nqubits-1)\n",
    "    qc.x(nqubits-1)\n",
    "    qc.z(nqubits-1)\n",
    "    \n",
    "    # Apply transformation |00..0> -> |s>\n",
    "    for qubit in range(nqubits):\n",
    "        qc.h(qubit)\n",
    "    return qc\n",
    "\n",
    "qc_dif = difusor(2)\n",
    "\n",
    "qc_dif.save_unitary()\n",
    "\n",
    "qc_dif.draw('mpl')"
   ]
  },
  {
   "cell_type": "code",
   "execution_count": 48,
   "id": "42818205",
   "metadata": {},
   "outputs": [
    {
     "data": {
      "text/latex": [
       "$\\displaystyle \n",
       "2A - I = \\begin{bmatrix}\n",
       "-\\tfrac{1}{2} & \\tfrac{1}{2} & \\tfrac{1}{2} & \\tfrac{1}{2}  \\\\\n",
       "\\tfrac{1}{2} & -\\tfrac{1}{2} & \\tfrac{1}{2} & \\tfrac{1}{2}  \\\\\n",
       "\\tfrac{1}{2} & \\tfrac{1}{2} & -\\tfrac{1}{2} & \\tfrac{1}{2}  \\\\\n",
       "\\tfrac{1}{2} & \\tfrac{1}{2} & \\tfrac{1}{2} & -\\tfrac{1}{2}  \\\\\n",
       "\\end{bmatrix}\n",
       "$$\n",
       "$"
      ],
      "text/plain": [
       "<IPython.core.display.Math object>"
      ]
     },
     "metadata": {},
     "output_type": "display_data"
    }
   ],
   "source": [
    "# Ejecuta y obtén la unitaria\n",
    "result = execute(qc_dif, sim_u).result()\n",
    "unitary = result.get_unitary(qc_dif)\n",
    "array_to_latex(unitary, pretext=\"2A - I = \")"
   ]
  },
  {
   "cell_type": "markdown",
   "id": "checked-lighting",
   "metadata": {},
   "source": [
    "Juntando la inversión de fase con la amplificación de amplitud, el circuito que implementa el algoritmo de Grover queda:\n",
    "\n",
    "<img src=\"images/Grover2.svg\" alt=\"Grover completo\" style=\"width: 800px;\"/>"
   ]
  },
  {
   "cell_type": "markdown",
   "id": "020cb69b",
   "metadata": {},
   "source": [
    "## Interpretación geométrica del algoritmo de Grover\n",
    "\n",
    "Sea $|s\\rangle$ el estado inicial del algoritmo de Grover (superposición completa) y sea $w$ el valor para el que $f(w)=1$. Podemos escribir el estado inicial como:\n",
    "\n",
    "$$\n",
    "|s\\rangle = \\frac{1}{\\sqrt{2^{n}}}{\\sum_{x=0}^{2^n-1}|x\\rangle} = \\frac{\\sum_{x\\ne w}|x\\rangle + |w\\rangle}{\\sqrt{2^{n}}} = \\sqrt{\\frac{2^n-1}{2^n}}\\frac{1}{\\sqrt{2^n-1}}\\sum_{x\\ne w}|x\\rangle + \\frac{1}{\\sqrt{2^n}}|w\\rangle\n",
    "$$\n",
    "\n",
    "Si denotamos:\n",
    "$$\n",
    "\\begin{aligned}\n",
    "|r\\rangle &= \\frac{1}{\\sqrt{2^n-1}}\\sum_{x\\ne x_i}|x\\rangle\\\\\n",
    "N &= 2^n\n",
    "\\end{aligned}\n",
    "$$\n",
    "\n",
    "podemos escribir este estado como:\n",
    "\n",
    "$$\n",
    "|s\\rangle = \\frac{1}{\\sqrt{N}}|w\\rangle + \\sqrt{\\frac{N-1}{N}}|r\\rangle\n",
    "$$\n",
    "\n",
    "Y como \n",
    "\n",
    "$$\n",
    "\\left(\\frac{1}{\\sqrt{N}}\\right)^2 + \\left(\\sqrt{\\frac{N-1}{N}}\\right)^2 = 1 \n",
    "$$\n",
    "\n",
    "existe $\\theta$ tal que podemos escribir el estado como:\n",
    "\n",
    "$$\n",
    "|s\\rangle =\\sin\\theta|w\\rangle + \\cos\\theta|r\\rangle\n",
    "$$\n",
    "\n",
    "Podemos representar este estado así:\n",
    "\n",
    "<img src=\"images/GeoGrover1.png\" alt=\"Geo Grover 1\" style=\"width: 200px;\"/>\n",
    "\n",
    "Si a este estado le aplicamos la inversión de fase, $U_f$, se le cambia el signo a $|w\\rangle$:\n",
    "\n",
    "$$\n",
    "U_f|s\\rangle = -\\sin\\theta|w\\rangle + \\cos\\theta|r\\rangle\n",
    "$$\n",
    "\n",
    "que equivale a una reflexión con respecto al eje $|r\\rangle$:\n",
    "\n",
    "<img src=\"images/GeoGrover2.png\" alt=\"Geo Grover 2\" style=\"width: 200px;\"/>\n",
    "\n",
    "Ahora aplicamos la amplificación de amplitud. El difusor $R_s = 2|s\\rangle\\langle s| -I$ mantiene el estado $|s\\rangle$ pero invierte cualquier estado ortogonal a $|s\\rangle$:\n",
    "\n",
    "$$\n",
    "\\begin{aligned}\n",
    "R_s|s\\rangle &= 2|s\\rangle\\langle s|s\\rangle - |s\\rangle = 2|s\\rangle - |s\\rangle = |s\\rangle\\\\\n",
    "R_s|s^\\perp\\rangle &= 2|s\\rangle\\langle s|s^\\perp\\rangle - |s^\\perp\\rangle = -|s^\\perp\\rangle\\\\\n",
    "\\end{aligned}\n",
    "$$\n",
    "\n",
    "ya que $\\langle s|s\\rangle=1$ y $\\langle s|s^\\perp\\rangle=0$. Es decir, $R_s$ produce una reflexión sobre $|s\\rangle$.\n",
    "\n",
    "Si aplicamos $R_s$ al estado $U_f|s\\rangle$ tendremos el estado reflejado sobre $|s\\rangle$:\n",
    "\n",
    "<img src=\"images/GeoGrover3.png\" alt=\"Geo Grover 2\" style=\"width: 200px;\"/>\n",
    "\n",
    "Si aplicamos de nuevo las dos reflexiones $U_f$ y $R_s$ tendremos:\n",
    "\n",
    "<img src=\"images/GeoGrover4.png\" alt=\"Geo Grover 4\" style=\"width: 200px;\"/>\n",
    "\n",
    "Si continuamos aplicando las reflexiones, el estado se irá acercando a $|w\\rangle$ que es la solución buscada.\n",
    "\n",
    "**¿Cuándo se alcanza $|w\\rangle$?**\n",
    "\n",
    "Cada vez que aplicamos las reflexiones, el estado avanza un ángulo $2\\theta$ con respecto a $|s\\rangle$. Sea $t$ el número de reflexiones para llegar a $|w\\rangle$:\n",
    "\n",
    "$$\n",
    "\\begin{aligned}\n",
    "\\theta + 2\\theta\\cdot t = \\frac{\\pi}{2} \\Rightarrow t = \\frac{\\pi}{4\\theta} - \\frac{1}{2}\n",
    "\\end{aligned}\n",
    "$$\n",
    "\n",
    "Como $\\sin\\theta = \\frac{1}{\\sqrt{N}}$, si $N$ es grande:\n",
    "\n",
    "$$\n",
    "\\theta = \\sin^{-1}\\left(\\frac{1}{\\sqrt{N}}\\right) \\approx \\frac{1}{\\sqrt{N}}\n",
    "$$\n",
    "\n",
    "Por lo que:\n",
    "\n",
    "$$\n",
    "t \\approx \\frac{\\pi}{4}\\sqrt{N} - \\frac{1}{2} \\approx \\frac{\\pi}{4}\\sqrt{N}\n",
    "$$\n",
    "\n",
    "Por lo que el número de repeticiones del algoritmo es $\\mathcal{O}(\\sqrt{2^n})$\n",
    "\n",
    "**Problema**: Si hacemos más repeticiones de las necesarias nos alejamos de la solución\n",
    "\n",
    "<img src=\"images/GroverItera.png\" alt=\"Iteraciones Grover\" style=\"width: 800px;\"/>\n",
    "Fuente: Combarro, E.F., González-Castillo, S., \"A practical Guide to QML and Quantum Optimization\", Packt, 2023\n",
    "\n",
    "En la figura se muestra el caso de $n = 4$. El número optimo de iteraciones sería $\\left\\lfloor\\frac{\\pi}{4}\\sqrt{16}\\right\\rfloor = 3.$ Si hacemos más de 3 iteraciones, la probabilidad de éxito cae.\n",
    "\n",
    "**Caso con más de un elemento marcado**\n",
    "\n",
    "Sí tenemos $k$ elementos marcados, con $k \\ll N$, el número de iteraciones adecuado es:\n",
    "\n",
    "$$\n",
    "t = \\left\\lfloor\\frac{\\pi}{4}\\sqrt{N/k}\\right\\rfloor\n",
    "$$\n",
    "\n",
    "Si $k$ es desconocido, el trabajo de [Boyer et al.](https://onlinelibrary.wiley.com/doi/abs/10.1002/(SICI)1521-3978(199806)46:4/5%3C493::AID-PROP493%3E3.0.CO;2-P) demuestra que eligiendo un valor de $t$ arbitrario dentro de un rango, la complejidad se mantiene $\\mathcal{O}\\left(\\sqrt{2^n}\\right)$. "
   ]
  },
  {
   "cell_type": "code",
   "execution_count": 49,
   "id": "fc02c6a4-1277-49bb-97ed-6cf5b744b0c0",
   "metadata": {},
   "outputs": [
    {
     "data": {
      "image/png": "[encoded data removed]",
      "text/plain": [
       "<Figure size 562.368x284.278 with 1 Axes>"
      ]
     },
     "metadata": {},
     "output_type": "display_data"
    },
    {
     "data": {
      "text/latex": [
       "$\\displaystyle \n",
       "|\\psi\\rangle = \\begin{bmatrix}\n",
       "\\tfrac{1}{2} \\\\\n",
       "\\tfrac{1}{2} \\\\\n",
       "0 \\\\\n",
       "\\tfrac{1}{2} \\\\\n",
       "0 \\\\\n",
       "0 \\\\\n",
       "\\tfrac{1}{2} \\\\\n",
       "0\n",
       "\\end{bmatrix}\n",
       "$"
      ],
      "text/plain": [
       "<IPython.core.display.Math object>"
      ]
     },
     "metadata": {},
     "output_type": "display_data"
    }
   ],
   "source": [
    "from qiskit.quantum_info.operators import Operator\n",
    "\n",
    "# Matriz f3\n",
    "x = QuantumRegister(2, name=\"|x\\\\rangle\")\n",
    "y = QuantumRegister(1, name=\"|y\\\\rangle\")\n",
    "qc = QuantumCircuit(x,y)\n",
    "\n",
    "qc.h(x[0])\n",
    "qc.h(x[1])\n",
    "u = Operator([\n",
    "    [1, 0, 0, 0, 0, 0, 0, 0],\n",
    "    [0, 1, 0, 0, 0, 0, 0, 0],\n",
    "    [0, 0, 0, 0, 0, 0, 1, 0],\n",
    "    [0, 0, 0, 1, 0, 0, 0, 0],\n",
    "    [0, 0, 0, 0, 1, 0, 0, 0],\n",
    "    [0, 0, 0, 0, 0, 1, 0, 0],\n",
    "    [0, 0, 1, 0, 0, 0, 0, 0],\n",
    "    [0, 0, 0, 0, 0, 0, 0, 1],\n",
    "])\n",
    "qc.unitary(u, [0, 1, 2], label='u')\n",
    "qc.save_statevector()\n",
    "display(qc.draw('mpl'))\n",
    "\n",
    "# Ejecutamos una simulación \n",
    "job_sim = execute(qc, sim, shots=1)\n",
    "\n",
    "# Obtenemos los resultados\n",
    "result = job_sim.result()\n",
    "\n",
    "# Obtenemos el vector de estado del circuito\n",
    "estado = result.get_statevector()\n",
    "# Muestra estado\n",
    "array_to_latex(estado, pretext=\"|\\psi\\\\rangle = \")"
   ]
  },
  {
   "cell_type": "code",
   "execution_count": 53,
   "id": "8c376c74-09df-44b7-8c20-48403904efa1",
   "metadata": {},
   "outputs": [
    {
     "data": {
      "image/png": "[encoded data removed]",
      "text/plain": [
       "<Figure size 729.792x367.889 with 1 Axes>"
      ]
     },
     "metadata": {},
     "output_type": "display_data"
    },
    {
     "data": {
      "text/latex": [
       "$\\displaystyle \n",
       "|\\psi\\rangle = \\begin{bmatrix}\n",
       "\\tfrac{1}{4} \\\\\n",
       "\\tfrac{1}{4} \\\\\n",
       "\\tfrac{1}{4} \\\\\n",
       "-\\tfrac{1}{4} \\\\\n",
       "\\tfrac{1}{4} \\\\\n",
       "-\\tfrac{1}{4} \\\\\n",
       "\\tfrac{1}{4} \\\\\n",
       "\\tfrac{1}{4} \\\\\n",
       "\\tfrac{1}{4} \\\\\n",
       "-\\tfrac{1}{4} \\\\\n",
       "\\tfrac{1}{4} \\\\\n",
       "\\tfrac{1}{4} \\\\\n",
       "\\tfrac{1}{4} \\\\\n",
       "\\tfrac{1}{4} \\\\\n",
       "\\tfrac{1}{4} \\\\\n",
       "-\\tfrac{1}{4}\n",
       "\\end{bmatrix}\n",
       "$"
      ],
      "text/plain": [
       "<IPython.core.display.Math object>"
      ]
     },
     "metadata": {},
     "output_type": "display_data"
    }
   ],
   "source": [
    "from qiskit.circuit.library import MCMT\n",
    "\n",
    "# Matriz f3\n",
    "x = QuantumRegister(4, name=\"|x\\\\rangle\")\n",
    "qc = QuantumCircuit(x)\n",
    "\n",
    "qc.h(range(4))\n",
    "qc.cz(0, 3)\n",
    "qc.cz(0, 2)\n",
    "qc.cz(0, 1)\n",
    "\n",
    "qc.save_statevector()\n",
    "display(qc.draw('mpl'))\n",
    "\n",
    "# Ejecutamos una simulación \n",
    "job_sim = execute(qc, sim, shots=1)\n",
    "\n",
    "# Obtenemos los resultados\n",
    "result = job_sim.result()\n",
    "\n",
    "# Obtenemos el vector de estado del circuito\n",
    "estado = result.get_statevector()\n",
    "# Muestra estado\n",
    "array_to_latex(estado, pretext=\"|\\psi\\\\rangle = \")"
   ]
  },
  {
   "cell_type": "code",
   "execution_count": 59,
   "id": "206cc720-a349-4d01-8458-2540fe72c717",
   "metadata": {},
   "outputs": [
    {
     "data": {
      "image/png": "[encoded data removed]",
      "text/plain": [
       "<Figure size 1457.85x200.667 with 1 Axes>"
      ]
     },
     "execution_count": 59,
     "metadata": {},
     "output_type": "execute_result"
    }
   ],
   "source": [
    "from qiskit.circuit.library import MCMT\n",
    "\n",
    "# Ahora s es una lista con los estados que queremos invertir\n",
    "def inversor(n,slist):\n",
    "    # Creamos el circuito\n",
    "    qc = QuantumCircuit(n)\n",
    "\n",
    "    # Invertimos los cubits para los que s tenga un bit a 0\n",
    "    for s in slist:\n",
    "        temp = s\n",
    "        for b in range(n):\n",
    "            if(temp&1 == 0):\n",
    "                qc.x(b)\n",
    "            temp >>= 1\n",
    "\n",
    "        qc = qc.compose(MCMT('z',n-1,1)) # Puerta Z con n-1 control y 1 target\n",
    "\n",
    "        # Volvemos a invertir los cubits para los que s tenga un bit a 0\n",
    "        temp = s\n",
    "        for b in range(n):\n",
    "            if(temp&1 == 0):\n",
    "                qc.x(b)\n",
    "            temp >>= 1\n",
    "    return qc\n",
    "\n",
    "from qiskit.circuit.library import MCMT\n",
    "\n",
    "def difusor(nqubits):\n",
    "    qc = QuantumCircuit(nqubits)\n",
    "    # Transforma |s> -> |00..0> (H-gates)\n",
    "    for qubit in range(nqubits):\n",
    "        qc.h(qubit)\n",
    "        \n",
    "    # Transforma |00..0> -> |11..1> (X-gates)\n",
    "    for qubit in range(nqubits):\n",
    "        qc.x(qubit)\n",
    "        \n",
    "    # Implementa una puerta Z multicontrolada\n",
    "    # Una forma de hacer una Z multicontrolada con H y Toffoli\n",
    "    #qc.h(nqubits-1)\n",
    "    #qc.mct(list(range(nqubits-1)), nqubits-1)  # multi-controlled-toffoli\n",
    "    #qc.h(nqubits-1)\n",
    "    # Directamente con MCMT\n",
    "    qc = qc.compose(MCMT('z',nqubits-1, 1))\n",
    "    \n",
    "    # Transforma |11..1> -> |00..0>\n",
    "    for qubit in range(nqubits-1):\n",
    "        qc.x(qubit)\n",
    "        \n",
    "    # Cambia el signo de |00..0>\n",
    "    qc.z(nqubits-1)\n",
    "    qc.x(nqubits-1)\n",
    "    qc.z(nqubits-1)\n",
    "    \n",
    "    # Apply transformation |00..0> -> |s>\n",
    "    for qubit in range(nqubits):\n",
    "        qc.h(qubit)\n",
    "    return qc\n",
    "\n",
    "n=2\n",
    "s=[1,2]\n",
    "qc = QuantumCircuit(n)\n",
    "# Ponemos los qbits en superposición\n",
    "for q in range(n):\n",
    "    qc.h(q)\n",
    "\n",
    "# Añadimos el inversor\n",
    "qc = qc.compose(inversor(n,s))\n",
    "qc.save_statevector() \n",
    "qc = qc.compose(difusor(n))\n",
    "       \n",
    "qc.draw('mpl')"
   ]
  },
  {
   "cell_type": "code",
   "execution_count": 60,
   "id": "1cf581ba-8fef-4a38-a0bf-640f76168ef8",
   "metadata": {},
   "outputs": [
    {
     "data": {
      "text/latex": [
       "$$\\frac{1}{2} |00\\rangle- \\frac{1}{2} |01\\rangle- \\frac{1}{2} |10\\rangle+\\frac{1}{2} |11\\rangle$$"
      ],
      "text/plain": [
       "<IPython.core.display.Latex object>"
      ]
     },
     "execution_count": 60,
     "metadata": {},
     "output_type": "execute_result"
    }
   ],
   "source": [
    "job_sim = execute(qc_pinv, sim)         # Hacemos la simulación \n",
    "result = job_sim.result()           # Obtenemos los resultados\n",
    "estado_final = result.get_statevector()\n",
    "estado_final.draw(\"latex\")"
   ]
  },
  {
   "cell_type": "code",
   "execution_count": null,
   "id": "d29b378c-43f2-4b82-9a28-860fb55e20f8",
   "metadata": {},
   "outputs": [],
   "source": []
  }
 ],
 "metadata": {
  "kernelspec": {
   "display_name": "Basic quantum",
   "language": "python",
   "name": "basic-quantum"
  },
  "language_info": {
   "codemirror_mode": {
    "name": "ipython",
    "version": 3
   },
   "file_extension": ".py",
   "mimetype": "text/x-python",
   "name": "python",
   "nbconvert_exporter": "python",
   "pygments_lexer": "ipython3",
   "version": "3.10.8"
  }
 },
 "nbformat": 4,
 "nbformat_minor": 5
}
