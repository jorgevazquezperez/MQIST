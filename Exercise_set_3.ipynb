{
 "cells": [
  {
   "cell_type": "markdown",
   "metadata": {
    "slideshow": {
     "slide_type": "slide"
    }
   },
   "source": [
    "\n",
    "<table width=\"100%\">\n",
    "<td style=\"font-size:45px;font-style:italic;text-align:right;background-color:rgba(0, 220, 170,0.7)\">\n",
    "Exercise set I\n",
    "</td></table>\n",
    "\n",
    "\n",
    "\n",
    "$ \\newcommand{\\bra}[1]{\\langle #1|} $\n",
    "$ \\newcommand{\\ket}[1]{|#1\\rangle} $\n",
    "$ \\newcommand{\\braket}[2]{\\langle #1|#2\\rangle} $\n",
    "$ \\newcommand{\\ketbra}[2]{\\ket{ #1}\\bra{#2}} $\n",
    "$ \\newcommand{\\i}{{\\color{blue} i}} $ \n",
    "$ \\newcommand{\\Hil}{{\\mathcal H}} $\n",
    "$ \\newcommand{\\cg}[1]{{\\rm C}#1} $\n",
    "$ \\newcommand{\\tr}{{\\rm Tr}\\,} $\n",
    "$ \\newcommand{\\boldsig}{\\boldsymbol{\\sigma}} $\n",
    "$ \\newcommand{\\bn}{\\boldsymbol{n}}$\n",
    "$ \\newcommand{\\boldn}{\\boldsymbol{n}} $\n",
    "$ \\newcommand{\\Lin}{\\hbox{Lin}} $\n",
    "$ \\newcommand{\\id}{{\\mathbb I}} $"
   ]
  },
  {
   "cell_type": "markdown",
   "metadata": {},
   "source": [
    "<div class=\"alert alert-block alert-success\">\n",
    "<b>Exerise 3.1:</b>\n",
    "<br>\n",
    "\n",
    "Write in python the following functions (preferably without using  numpy) :\n",
    "\n",
    "- $braket(u,v)$   and  $norm(u)$  that compute  $\\braket{u}{v}$ and $\\|\\ket{u}\\|$ respectively\n",
    "\n",
    "- $ket\\_bra(u,v)$ that returns the matrix $\\ket{u}\\bra{v}$\n",
    "\n",
    "- $random\\_ket(d)$ that generate a normalized random vector  $\\ket{u}\\in\\Hil$  of dimension $d$\n",
    "\n",
    "-  $spectral\\_decomp$  that returns the two lists $\\lambda_i$ y $P_i$ associated with the spectral decomposition of a diagonalizable operator  $A = \\sum_i \\lambda_i P_i$.      \n",
    "\n",
    "- $reflector(\\psi,u)$ that returns the reflected vectors $R_{u}^{\\|}\\ket{\\psi}$  and  $R_{u}^{\\perp}\\ket{\\psi}$, along and perpendicular  to $\\ket{u}$. \n",
    "\n",
    "- $trace\\_distance(A,B)$ which returns the trace distance between two operators $A$ and $B$:\n",
    "\n",
    "\n",
    "Check in all cases that the functions work correctly.\n",
    "\n",
    "</div>"
   ]
  },
  {
   "cell_type": "markdown",
   "metadata": {},
   "source": [
    "<div class=\"alert alert-block\">\n",
    "\n",
    "- $braket(u,v)$   and  $norm(u)$  that compute  $\\braket{u}{v}$ and $\\|\\ket{u}\\|$ respectively \n",
    "\n",
    "</div>"
   ]
  },
  {
   "cell_type": "code",
   "execution_count": 13,
   "metadata": {},
   "outputs": [
    {
     "name": "stdout",
     "output_type": "stream",
     "text": [
      "0j\n",
      "1.0\n"
     ]
    }
   ],
   "source": [
    "def _check_dimension(*statevectors):\n",
    "    \"\"\"Function to check that the dimension of u is 2^k.\"\"\"\n",
    "    for statevector in statevectors:\n",
    "        if len(statevector) % 2:\n",
    "            raise ValueError(\"The vector is not a statevector (dimension is not equal to 2^k)\")\n",
    "\n",
    "\n",
    "\n",
    "def braket(u, v):\n",
    "    \"\"\"Compute the inner product of two state vectors u and v.\"\"\"\n",
    "    _check_dimension(u, v)\n",
    "    return sum([complex(u_i.real, -u_i.imag) * v_i for u_i, v_i in zip(u, v)])\n",
    "\n",
    "def norm(u):\n",
    "    \"\"\"Compute the norm of state vector u.\"\"\"\n",
    "    _check_dimension(u)\n",
    "    return abs(braket(u, u))**0.5\n",
    "\n",
    "# Example usage:\n",
    "u = [1, 0]\n",
    "v = [0, 1j]\n",
    "\n",
    "print(braket(u, v))  # Outputs: 0j\n",
    "print(norm(u))       # Outputs: 1.0\n"
   ]
  },
  {
   "cell_type": "markdown",
   "metadata": {},
   "source": [
    "<div class=\"alert alert-block\">\n",
    "\n",
    "- $ket\\_bra(u,v)$ that returns the operator $\\ket{u}\\bra{v}$\n",
    "\n",
    "</div>"
   ]
  },
  {
   "cell_type": "code",
   "execution_count": 14,
   "metadata": {},
   "outputs": [
    {
     "name": "stdout",
     "output_type": "stream",
     "text": [
      "[0j, (1+0j)]\n",
      "[0j, 0j]\n"
     ]
    }
   ],
   "source": [
    "def ket_bra(u, v):\n",
    "    \"\"\"Compute the outer product of two statevectors u and v.\"\"\"\n",
    "    _check_dimension(u, v)\n",
    "    return [[u_i * complex(v_j.real, -v_j.imag) for v_j in v] for u_i in u]\n",
    "\n",
    "# Example usage:\n",
    "u = [1, 0]\n",
    "v = [0, 1]\n",
    "\n",
    "result = ket_bra(u, v)\n",
    "for row in result:\n",
    "    print(row)\n"
   ]
  },
  {
   "cell_type": "markdown",
   "metadata": {},
   "source": [
    "<div class=\"alert alert-block\">\n",
    "\n",
    "- $random\\_ket(d)$ that generate a normalized random vector  $\\ket{u}\\in\\Hil$  of dimension $d$\n",
    "\n",
    "</div>"
   ]
  },
  {
   "cell_type": "code",
   "execution_count": 15,
   "metadata": {
    "tags": []
   },
   "outputs": [
    {
     "name": "stdout",
     "output_type": "stream",
     "text": [
      "[(0.49314535100260537-0.14041347326244125j), (0.7315730965100001-0.44932451944409274j)]\n",
      "Norm of ket is: 1.0\n"
     ]
    }
   ],
   "source": [
    "import random\n",
    "import math\n",
    "\n",
    "def random_ket(d):\n",
    "    \"\"\"Generate a normalized random vector of dimension 2**d.\"\"\"\n",
    "    # Generate a random vector with complex entries\n",
    "    vector = [complex(random.gauss(0, 1), random.gauss(0, 1)) for _ in range(pow(2, d))]\n",
    "    \n",
    "    # Compute the magnitude of the vector\n",
    "    magnitude = math.sqrt(sum(abs(x)**2 for x in vector))\n",
    "    \n",
    "    # Normalize the vector\n",
    "    normalized_vector = [x / magnitude for x in vector]\n",
    "    \n",
    "    return normalized_vector\n",
    "\n",
    "# Example usage:\n",
    "d = 1\n",
    "ket = random_ket(d)\n",
    "print(ket)\n",
    "print(\"Norm of ket is: \" + str(norm(ket)))"
   ]
  },
  {
   "cell_type": "markdown",
   "metadata": {},
   "source": [
    "<div class=\"alert alert-block\">\n",
    "\n",
    "-  $spectral\\_decomp$  that returns the two lists $\\lambda_i$ y $P_i$ associated with the spectral decomposition of a diagonalizable operator  $A = \\sum_i \\lambda_i P_i$. \n",
    "\n",
    "</div>"
   ]
  },
  {
   "cell_type": "code",
   "execution_count": 16,
   "metadata": {},
   "outputs": [
    {
     "name": "stdout",
     "output_type": "stream",
     "text": [
      "Eigenvalues: [ 1. -1.]\n",
      "Projection operator for eigenvalue 1.0:\n",
      " [[(1+0j), 0j], [0j, 0j]]\n",
      "Projection operator for eigenvalue -1.0:\n",
      " [[0j, 0j], [0j, (1+0j)]]\n"
     ]
    }
   ],
   "source": [
    "import numpy as np\n",
    "\n",
    "def calc_eig(A):\n",
    "    \"\"\"Function responsible of the calculation of eigenvalues and eigenvectors\"\"\"\n",
    "    return np.linalg.eig(A)\n",
    "\n",
    "def spectral_decomp(A):\n",
    "    \"\"\"\n",
    "    Compute the spectral decomposition of a diagonalizable matrix A.\n",
    "    Returns the eigenvalues and their associated projection operators.\n",
    "    \"\"\"\n",
    "    # Compute the eigenvalues and eigenvectors of A\n",
    "    eigenvalues, eigenvectors = calc_eig(A)\n",
    "    \n",
    "    # Compute the projection operators\n",
    "    projection_operators = [ket_bra(v, v) for v in eigenvectors.T]\n",
    "    \n",
    "    return eigenvalues, projection_operators\n",
    "\n",
    "# Example usage:\n",
    "Z = np.array([[1, 0], [0, -1]])\n",
    "eigenvalues, projection_operators = spectral_decomp(Z)\n",
    "\n",
    "print(\"Eigenvalues:\", eigenvalues)\n",
    "for i, P in enumerate(projection_operators):\n",
    "    print(f\"Projection operator for eigenvalue {eigenvalues[i]}:\\n\", P)\n"
   ]
  },
  {
   "cell_type": "markdown",
   "metadata": {},
   "source": [
    "<div class=\"alert alert-block\">\n",
    "\n",
    "- $reflector(\\psi,u)$ that returns the reflected vectors $R_{u}^{\\|}\\ket{\\psi}$  and  $R_{u}^{\\perp}\\ket{\\psi}$, along and perpendicular  to $\\ket{u}$. \n",
    "\n",
    "</div>"
   ]
  },
  {
   "cell_type": "code",
   "execution_count": 17,
   "metadata": {
    "tags": []
   },
   "outputs": [
    {
     "name": "stdout",
     "output_type": "stream",
     "text": [
      "Reflection along u: [(-1+0j), 0j]\n",
      "Reflection perpendicular to u: [(1+0j), 0j]\n"
     ]
    }
   ],
   "source": [
    "def vector_scalar_multiply(scalar, vector):\n",
    "    \"\"\"Multiply a vector by a scalar.\"\"\"\n",
    "    _check_dimension(vector)\n",
    "    return [scalar * v for v in vector]\n",
    "\n",
    "def statevector_subtract(v1, v2):\n",
    "    \"\"\"Subtract vector v2 from v1.\"\"\"\n",
    "    _check_dimension(v1, v2)\n",
    "    return [a - b for a, b in zip(v1, v2)]\n",
    "\n",
    "def reflector(psi, u):\n",
    "    \"\"\"Compute the reflected vectors of psi along and perpendicular to u.\"\"\"\n",
    "    # Compute the inner product <u|psi>\n",
    "    inner = braket(u, psi)\n",
    "    \n",
    "    # Compute the reflection along u\n",
    "    R_parallel = statevector_subtract(vector_scalar_multiply(2 * inner, u), psi)\n",
    "    \n",
    "    # Compute the reflection perpendicular to u\n",
    "    R_perpendicular = statevector_subtract(psi, vector_scalar_multiply(2 * inner, u))\n",
    "    \n",
    "    return R_parallel, R_perpendicular\n",
    "\n",
    "# Example usage:\n",
    "psi = [1, 0]\n",
    "u = [0, 1]\n",
    "#u = [1/math.sqrt(2), 1/math.sqrt(2)]\n",
    "R_parallel, R_perpendicular = reflector(psi, u)\n",
    "print(\"Reflection along u:\", R_parallel)\n",
    "print(\"Reflection perpendicular to u:\", R_perpendicular)\n"
   ]
  },
  {
   "cell_type": "markdown",
   "metadata": {},
   "source": [
    "<div class=\"alert alert-block\">\n",
    "\n",
    "- $trace\\_distance(A,B)$ which returns the trace distance between two operators $A$ and $B$.\n",
    "\n",
    "</div>"
   ]
  },
  {
   "cell_type": "code",
   "execution_count": 18,
   "metadata": {},
   "outputs": [
    {
     "name": "stdout",
     "output_type": "stream",
     "text": [
      "1.4142135623730951\n"
     ]
    }
   ],
   "source": [
    "import numpy as np\n",
    "\n",
    "def trace_distance(A, B):\n",
    "    \"\"\"Compute the trace distance between two operators A and B.\"\"\"\n",
    "    \n",
    "    # Calculate the difference between matrices A and B\n",
    "    difference = [[A[i][j] - B[i][j] for j in range(len(A[0]))] for i in range(len(A))]\n",
    "    \n",
    "    # We need the eigenvalues of difference^dagger * difference\n",
    "    # Where difference^dagger is the conjugate transpose of difference\n",
    "    difference_dagger = [[complex(difference[j][i]).conjugate() for j in range(len(difference))] for i in range(len(difference[0]))]\n",
    "    \n",
    "    product = [[sum(difference_dagger[i][k] * difference[k][j] for k in range(len(difference))) for j in range(len(difference[0]))] for i in range(len(difference))]\n",
    "    \n",
    "    eigenvalues = np.linalg.eigvals(product)\n",
    "\n",
    "    # There is some bibliography that chooses not to divide by 2, here the division is performed\n",
    "    return 0.5 * sum(math.sqrt(eigenvalue.real) for eigenvalue in eigenvalues)\n",
    "\n",
    "# Example matrices\n",
    "A = [\n",
    "    [1, 0],\n",
    "    [0, -1]\n",
    "]\n",
    "\n",
    "B = [\n",
    "    [0, 1],\n",
    "    [1, 0]\n",
    "]\n",
    "\n",
    "print(trace_distance(A, B))"
   ]
  },
  {
   "cell_type": "markdown",
   "metadata": {},
   "source": [
    "<div class=\"alert alert-block alert-success\">\n",
    "<b>Exercise 3.2:</b> \n",
    "    \n",
    "The   hamiltonian  of the  Heisenberg model  that describes the interaction of two neighbouring spins in $\\Hil^{\\otimes 2}$ is\n",
    "<br>\n",
    " \n",
    "$$\n",
    "H =\\frac{J}{4}\\left(\\vec \\sigma \\otimes \\vec\\sigma - \\id\\otimes \\id \\right) = \\frac{J}{4}\\left(X \\otimes X + Y \\otimes Y +  Z \\otimes Z   - \\id\\otimes \\id \\right) \n",
    "$$\n",
    "- Write down the matrix $H_{ij}$.  Compute the eigenvalues and the eigenvectors. Which one is the ground state?\n",
    "\n",
    "- Show that $H$ can be written as\n",
    "$$\n",
    "H\n",
    "= {J\\over 2} \\left(  \\vec S\\cdot \\vec S- 2 \\id \\otimes \\id \\right)\n",
    "\\,.\n",
    "$$\n",
    "where\n",
    "$\\vec S \\equiv {1\\over 2}\\left( \\vec\\sigma \\otimes \\id + \\id \\otimes \n",
    "\\vec\\sigma \\right) $ is the total spin operator\n",
    "    \n",
    "    \n",
    "</div>"
   ]
  },
  {
   "cell_type": "markdown",
   "metadata": {},
   "source": [
    "<div class=\"alert alert-block\">\n",
    "\n",
    "- Write down the matrix $H_{ij}$.  Compute the eigenvalues and the eigenvectors. Which one is the ground state?\n",
    "\n",
    "</div>\n",
    "\n",
    "<div class=\"alert alert-block\">\n",
    "\n",
    "The Hamiltonian of the Heisenberg model that describes the interaction of two neighboring spins in $\\mathcal{H}^{\\otimes 2}$ is given by:\n",
    "$$\n",
    "H = \\frac{J}{4}\\left(\\vec{\\sigma} \\otimes \\vec{\\sigma} - \\mathbb{I}\\otimes \\mathbb{I} \\right) = \\frac{J}{4}\\left(X \\otimes X + Y \\otimes Y + Z \\otimes Z - \\mathbb{I}\\otimes \\mathbb{I} \\right)\n",
    "$$\n",
    "\n",
    "To find the matrix representation $H_{ij}$ of the Hamiltonian, we need to compute the tensor product of the Pauli matrices with the identity operator:\n",
    "$$\n",
    "H_{ij} = \\frac{J}{4}\\left(X_i \\otimes X_j + Y_i \\otimes Y_j + Z_i \\otimes Z_j - \\mathbb{I}_i\\otimes \\mathbb{I}_j \\right)\n",
    "$$\n",
    "where $X_i$, $Y_i$, and $Z_i$ are Pauli matrices acting on the $i$-th spin, and $\\mathbb{I}_i$ is the identity operator for the $i$-th spin.\n",
    "\n",
    "The matrix elements are as follows:\n",
    "$$\n",
    "H_{ij} = \\frac{J}{4}\\begin{bmatrix}\n",
    "0 & 0 & 0 & 0 \\\\\n",
    "0 & -2 & 2 & 0 \\\\\n",
    "0 & 2 & -2 & 0 \\\\\n",
    "0 & 0 & 0 & 0\n",
    "\\end{bmatrix}\n",
    "$$\n",
    "\n",
    "Next, let's compute the eigenvalues and eigenvectors of the matrix $H_{ij}$. The eigenvalues $\\lambda_i$ satisfy the equation $\\det(H_{ij} - \\lambda \\mathbb{I}) = 0$. Solving this equation gives the eigenvalues:\n",
    "\n",
    "$$\n",
    "\\lambda_1 = -J, \\quad \\lambda_2 = 0\n",
    "$$\n",
    "\n",
    "Now, let's find the corresponding eigenvectors $\\ket{\\psi_i}$ for each eigenvalue. The eigenvectors are the column vectors that satisfy the equation $H_{ij}\\ket{\\psi_i} = \\lambda_i\\ket{\\psi_i}$.\n",
    "\n",
    "For $\\lambda_1 = -J$, the corresponding eigenvector is:\n",
    "\n",
    "$$\n",
    "\\ket{\\psi_1} = \\begin{bmatrix}\n",
    "0 \\\\\n",
    "-\\frac{1}{\\sqrt{2}} \\\\\n",
    "\\frac{1}{\\sqrt{2}} \\\\\n",
    "0\n",
    "\\end{bmatrix}\n",
    "$$\n",
    "\n",
    "For $\\lambda_2 = 0$, the corresponding eigenvectors are the following (they conform a base of a subespace of $\\Hil^{\\otimes 2}$):\n",
    "\n",
    "$$\n",
    "\\ket{\\psi_2} = \\begin{bmatrix}\n",
    "1 \\\\\n",
    "0 \\\\\n",
    "0 \\\\\n",
    "0\n",
    "\\end{bmatrix}\n",
    "$$\n",
    "$$\n",
    "\\ket{\\psi_4} = \\begin{bmatrix}\n",
    "0 \\\\\n",
    "\\frac{1}{\\sqrt{2}} \\\\\n",
    "\\frac{1}{\\sqrt{2}} \\\\\n",
    "0\n",
    "\\end{bmatrix}\n",
    "$$\n",
    "\n",
    "$$\n",
    "\\ket{\\psi_3} = \\begin{bmatrix}\n",
    "0 \\\\\n",
    "0 \\\\\n",
    "0 \\\\\n",
    "1\n",
    "\\end{bmatrix}.\n",
    "$$\n",
    "\n",
    "The ground state of the system corresponds to the eigenvector with the lowest energy, which is the eigenvector associated with the smallest eigenvalue. In this case, the ground state is $\\ket{\\psi_1}$ with eigenvalue $\\lambda_1 = -J$. Below there's a code developed to probe our theoretic result: \n",
    "\n",
    "</div>"
   ]
  },
  {
   "cell_type": "code",
   "execution_count": 19,
   "metadata": {},
   "outputs": [
    {
     "name": "stdout",
     "output_type": "stream",
     "text": [
      "[0.0, 0j, 0j, 0j]\n",
      "[0j, -0.5, (0.5+0j), 0j]\n",
      "[0j, (0.5+0j), -0.5, 0j]\n",
      "[0j, 0j, 0j, 0.0]\n",
      "\n",
      "Eigenvalues: ['-0.000+0.000j', '-1.000+0.000j', '0.000+0.000j', '0.000+0.000j']\n",
      "Ground state energy: -1.0+0.0j\n",
      "Ground state vector: ['0.000+0.000j', '0.707+0.000j', '-0.707+0.000j', '0.000+0.000j']\n"
     ]
    }
   ],
   "source": [
    "def operator_scalar_multiply(scalar, operator):\n",
    "    \"\"\"Multiply an operator by a scalar.\"\"\"\n",
    "    return [[scalar * element for element in row] for row in operator]\n",
    "\n",
    "def operator_kron(A, B):\n",
    "    \"\"\"Compute the Kronecker product of matrices A and B.\"\"\"\n",
    "    # Get the dimensions of the matrices\n",
    "    m, n = len(A), len(A[0])\n",
    "    p, q = len(B), len(B[0])\n",
    "    \n",
    "    # Initialize the result operator with zeros\n",
    "    result = [[0 for _ in range(n * q)] for _ in range(m * p)]\n",
    "    \n",
    "    for i in range(m):\n",
    "        for j in range(n):\n",
    "            for k in range(p):\n",
    "                for l in range(q):\n",
    "                    result[i * p + k][j * q + l] = A[i][j] * B[k][l]\n",
    "                    \n",
    "    return result\n",
    "\n",
    "def operator_add(A, B):\n",
    "    \"\"\"Compute the sum of matrices A and B.\"\"\"\n",
    "    # Check if matrices have the same dimensions\n",
    "    if len(A) != len(B) or len(A[0]) != len(B[0]):\n",
    "        raise ValueError(\"Matrices must have the same dimensions for addition\")\n",
    "    \n",
    "    # Get the dimensions of the matrices\n",
    "    m, n = len(A), len(A[0])\n",
    "    \n",
    "    # Initialize the result operator with zeros\n",
    "    result = [[0 for _ in range(n)] for _ in range(m)]\n",
    "    \n",
    "    for i in range(m):\n",
    "        for j in range(n):\n",
    "            result[i][j] = A[i][j] + B[i][j]\n",
    "                    \n",
    "    return result\n",
    "\n",
    "\n",
    "# Define Pauli matrices\n",
    "X = [[0, 1], [1, 0]]\n",
    "Y = [[0, -1j], [1j, 0]]\n",
    "Z = [[1, 0], [0, -1]]\n",
    "I = [[1, 0], [0, 1]]\n",
    "\n",
    "# Compute all the kronecker products\n",
    "XxX = operator_kron(X, X)\n",
    "YxY = operator_kron(Y, Y)\n",
    "ZxZ = operator_kron(Z, Z)\n",
    "IxI = operator_kron(I, I)\n",
    "\n",
    "# Define the Heisenberg Hamiltonian\n",
    "J = 1  # You can set the value of J as needed\n",
    "H = operator_scalar_multiply(J/4, operator_add(operator_add(operator_add(XxX, YxY), ZxZ), operator_scalar_multiply(-1, IxI)))\n",
    "\n",
    "# Print the Hamiltonian matrix H_ij\n",
    "for row in H:\n",
    "    print(row)\n",
    "\n",
    "# Utilize the previous function to get eigenvalues and eigenvectors\n",
    "eigenvalues, eigenvectors = calc_eig(H)\n",
    "#eigenvalues, eigenvectors = np.linalg.eig(H)\n",
    "\n",
    "# Find the index of the smallest eigenvalue (ground state energy)\n",
    "def argmin(lst):\n",
    "    \"\"\"Return the index of the smallest value in the list.\"\"\"\n",
    "    min_index = 0\n",
    "    min_value = lst[0]\n",
    "    for i, value in enumerate(lst):\n",
    "        if value < min_value:\n",
    "            min_value = value\n",
    "            min_index = i\n",
    "    return min_index\n",
    "\n",
    "ground_state_index = argmin(eigenvalues)\n",
    "\n",
    "# Extract the ground state energy and the corresponding eigenvector\n",
    "ground_state_energy = eigenvalues[ground_state_index]\n",
    "ground_state_vector = eigenvectors[:, ground_state_index]\n",
    "\n",
    "print(\"\\nEigenvalues:\", [\"{:.3f}\".format(eigenvalue) for eigenvalue in eigenvalues])\n",
    "print(\"Ground state energy:\", \"{:.1f}\".format(ground_state_energy))\n",
    "print(\"Ground state vector:\", [\"{:.3f}\".format(component) for component in ground_state_vector])"
   ]
  },
  {
   "cell_type": "markdown",
   "metadata": {},
   "source": [
    "<div class=\"alert alert-block\">\n",
    "\n",
    "- Show that $H$ can be written as\n",
    "$$\n",
    "H\n",
    "= {J\\over 2} \\left( \\vec S\\cdot \\vec S- 2 \\id \\otimes \\id \\right)\n",
    "\\,.\n",
    "$$\n",
    "where\n",
    "$\\vec S \\equiv {1\\over 2}\\left( \\vec\\sigma \\otimes \\id + \\id \\otimes \n",
    "\\vec\\sigma \\right) $ is the total spin operator\n",
    "\n",
    "</div>\n",
    "\n",
    "<div class=\"alert alert-block\">\n",
    "\n",
    "To show that the Hamiltonian $H$ can be written as\n",
    "$$\n",
    "H = \\frac{J}{2} \\left(\\vec{S} \\cdot \\vec{S} - 2\\mathbb{I} \\otimes \\mathbb{I}\\right)\n",
    "$$\n",
    "where\n",
    "$$\n",
    "\\vec{S} \\equiv \\frac{1}{2}\\left(\\vec{\\sigma} \\otimes \\mathbb{I} + \\mathbb{I}  \\otimes \\vec{\\sigma}\\right)\n",
    "$$\n",
    "is the total spin operator, we can use the properties of the Pauli matrices and the total spin operator:\n",
    "\n",
    "\\begin{align*}\n",
    "\\vec{S} \\cdot \\vec{S} &= \\left(\\frac{1}{2}\\left(\\vec{\\sigma} \\otimes \\mathbb{I} + \\mathbb{I} \\otimes \\vec{\\sigma}\\right)\\right) \\cdot \\left(\\frac{1}{2}\\left(\\vec{\\sigma} \\otimes \\mathbb{I} + \\mathbb{I} \\otimes \\vec{\\sigma}\\right)\\right) \\\\\n",
    "&= \\frac{1}{4}(\\vec{\\sigma} \\otimes \\mathbb{I} + \\mathbb{I} \\otimes \\vec{\\sigma}) \\cdot (\\vec{\\sigma} \\otimes \\mathbb{I} + \\mathbb{I} \\otimes \\vec{\\sigma}) \\\\\n",
    "&= \\frac{1}{4}(\\vec{\\sigma} \\cdot \\vec{\\sigma} \\otimes \\mathbb{I} + \\vec{\\sigma} \\otimes \\vec{\\sigma} + \\vec{\\sigma} \\otimes \\vec{\\sigma} + \\mathbb{I} \\otimes \\vec{\\sigma}  \\cdot \\vec{\\sigma}) \\\\\n",
    "&= \\frac{1}{4}(6\\mathbb{I} \\otimes \\mathbb{I} + 2\\vec{\\sigma} \\otimes \\vec{\\sigma}) \\\\\n",
    "&= \\frac{1}{2}(3\\mathbb{I} \\otimes \\mathbb{I} + \\vec{\\sigma} \\otimes \\vec{\\sigma}).\n",
    "\\end{align*}\n",
    "\n",
    "Now, we can use this result to rewrite:\n",
    "\n",
    "\\begin{align*}\n",
    "\\frac{J}{2} \\left(\\vec{S} \\cdot \\vec{S} - 2\\mathbb{I} \\otimes \\mathbb{I}\\right) &= \\frac{J}{2} \\left(\\frac{1}{2}(3\\mathbb{I} \\otimes \\mathbb{I} + \\vec{\\sigma} \\otimes \\vec{\\sigma}) - 2\\mathbb{I} \\otimes \\mathbb{I}\\right) \\\\\n",
    "&= \\frac{J}{4} \\left(3\\mathbb{I} \\otimes \\mathbb{I} + \\vec{\\sigma} \\otimes \\vec{\\sigma} - 4\\mathbb{I} \\otimes \\mathbb{I}\\right) \\\\\n",
    "&= \\frac{J}{4} \\left(\\vec{\\sigma} \\otimes \\vec{\\sigma} - \\mathbb{I} \\otimes \\mathbb{I}\\right) = H\\\\\n",
    "\\end{align*}\n",
    "\n",
    "So, we've shown that $H$ can be written in the desired form:\n",
    "\n",
    "$$\n",
    "H = \\frac{J}{2} \\left(\\vec{S} \\cdot \\vec{S} - 2\\mathbb{I} \\otimes \\mathbb{I}\\right).\n",
    "$$\n",
    "\n",
    "Lets code this again to check the result:\n",
    "</div>"
   ]
  },
  {
   "cell_type": "code",
   "execution_count": 20,
   "metadata": {},
   "outputs": [
    {
     "name": "stdout",
     "output_type": "stream",
     "text": [
      "[[ True  True  True  True]]\n",
      "[[ True  True  True  True]]\n",
      "[[ True  True  True  True]]\n",
      "[[ True  True  True  True]]\n"
     ]
    }
   ],
   "source": [
    "def operator_multiply(A, B):\n",
    "    \"\"\"Multiply operators A and B.\"\"\"\n",
    "    # Check if the number of columns in A matches the number of rows in B\n",
    "    if len(A[0]) != len(B):\n",
    "        raise ValueError(\"Number of columns in A must match number of rows in B for operator multiplication\")\n",
    "    \n",
    "    # Initialize the result matrix with zeros\n",
    "    result = [[0 for _ in range(len(B[0]))] for _ in range(len(A))]\n",
    "    \n",
    "    # Compute the matrix product\n",
    "    for i in range(len(A)):\n",
    "        for j in range(len(B[0])):\n",
    "            for k in range(len(B)):\n",
    "                result[i][j] += A[i][k] * B[k][j]\n",
    "    \n",
    "    return result\n",
    "\n",
    "def operator_subtract(A, B):\n",
    "    \"\"\"Subtract operator B from matrix A.\"\"\"\n",
    "    # Check if matrices have the same dimensions\n",
    "    if len(A) != len(B) or len(A[0]) != len(B[0]):\n",
    "        raise ValueError(\"Operators must have the same dimensions for subtraction\")\n",
    "    \n",
    "    # Compute the matrix difference\n",
    "    result = [[A[i][j] - B[i][j] for j in range(len(A[0]))] for i in range(len(A))]\n",
    "    \n",
    "    return result\n",
    "\n",
    "def compute_H(J):\n",
    "    \"\"\"Compute the Hamiltonian H using the total spin operator.\"\"\"\n",
    "    \n",
    "    # Define the kronecker products\n",
    "    XxI = operator_kron(X, I)\n",
    "    IxX = operator_kron(I, X)\n",
    "    YxI = operator_kron(Y, I)\n",
    "    IxY = operator_kron(I, Y)\n",
    "    ZxI = operator_kron(Z, I)\n",
    "    IxZ = operator_kron(I, Z)\n",
    "    \n",
    "    # Compute components of the total spin operator\n",
    "    S_x = operator_scalar_multiply(0.5, operator_add(XxI, IxX))\n",
    "    S_y = operator_scalar_multiply(0.5, operator_add(YxI, IxY))\n",
    "    S_z = operator_scalar_multiply(0.5, operator_add(ZxI, IxZ))\n",
    "    \n",
    "    # Compute the dot product S.S\n",
    "    S_dot_S = operator_add(operator_add(operator_multiply(S_x, S_x), operator_multiply(S_y, S_y)), operator_multiply(S_z, S_z))\n",
    "    \n",
    "    # Compute the Hamiltonian using the given expression\n",
    "    H = operator_scalar_multiply(J/2, operator_subtract(S_dot_S, operator_scalar_multiply(2, operator_kron(I, I))))\n",
    "    \n",
    "    return H\n",
    "\n",
    "# Example usage:\n",
    "J = 1\n",
    "H_alt = np.matrix(compute_H(J))\n",
    "H = np.matrix(H)\n",
    "for row in H == H_alt:\n",
    "    print(row)"
   ]
  },
  {
   "cell_type": "markdown",
   "metadata": {},
   "source": [
    "<div class=\"alert alert-block alert-success\">\n",
    "<b>Exercise 3.3:</b> \n",
    "    \n",
    "Let\n",
    "$$\n",
    " \\ket{+,\\hat\\bn} =  \\cos\\frac{\\theta}{2}\\ket{0} + e^{i\\phi}\\sin\\frac{\\theta}{2} \\ket{1}  ~~; ~~\n",
    "  \\ket{-,\\hat\\boldn} =  -e^{-i\\phi}\\sin\\frac{\\theta}{2}\\ket{0} + \\cos\\frac{\\theta}{2} \\ket{1} \\, .\n",
    " %\\label{baserotada}\n",
    " $$\n",
    "with $\\hat{\\bf n}=(\\sin\\theta\\cos\\phi,\\sin\\theta\\sin\\phi, \\cos\\theta)^t$,\n",
    "prove that \n",
    "- $\\hat\\boldn\\cdot \\boldsig \\ket{\\pm,\\hat\\boldn} = \\pm \\ket{\\pm,\\hat\\boldn} $\n",
    "<br>\n",
    "\n",
    "-  $\\langle  \\sigma_i \\rangle_{\\hat\\boldn,\\pm} \\equiv \\bra{\\hat\\boldn,\\pm } \\sigma_i   \\ket{\\hat\\boldn,\\pm }=\\pm  \\hat n_i $\n",
    "<br>\n",
    "- with $\\ket{B_{11}} = \\frac{1}{\\sqrt{2}}(\\ket{01}-\\ket{10})$  the singlet Bell state,\n",
    "$$\n",
    "  C(\\hat\\boldn_A, \\hat\\boldn_B) = \\bra{B_{11}} \\hat\\boldn_A\\!\\cdot \\!\\boldsig \\otimes  \\hat\\boldn_B \\! \\cdot \\! \\boldsig \\ket{B_{11}} = -\\boldn_A\\cdot \\boldn_B\n",
    "$$\n",
    "<br>\n",
    "\n",
    "(tip: set $\\hat\\boldn_B =\\hat{\\bf z}$ and try to argue why this is not a restriction) \n",
    "</div>"
   ]
  },
  {
   "cell_type": "markdown",
   "metadata": {},
   "source": [
    "<div class=\"alert alert-block\">\n",
    "\n",
    "This exercise is attached along with this file in PDF format. \n",
    "    \n",
    "</div>"
   ]
  },
  {
   "cell_type": "markdown",
   "metadata": {},
   "source": [
    "<div class=\"alert alert-block alert-success\">\n",
    "<b>Exercies 3.4:</b> \n",
    " \n",
    " Write a function  $exp\\_val(A,\\psi)$ that returns the expectation value $\\bra{u}A\\ket{\\psi}$ of an observable in the 1-qubit state  $\\ket{\\psi}\\in\\Hil$\n",
    "\n",
    "</div>"
   ]
  },
  {
   "cell_type": "code",
   "execution_count": 21,
   "metadata": {},
   "outputs": [
    {
     "name": "stdout",
     "output_type": "stream",
     "text": [
      "0.0\n"
     ]
    }
   ],
   "source": [
    "\"\"\"Code using the previous used functions\"\"\"\n",
    "\n",
    "def conjugate_transpose(vector):\n",
    "    \"\"\"Return the conjugate transpose (adjoint) of a vector.\"\"\"\n",
    "    return [complex(v.real, -v.imag) for v in vector]\n",
    "\n",
    "def apply_operator(operator, vector):\n",
    "    \"\"\"Apply a operator to a statevector.\"\"\"\n",
    "    return [sum(a * b for a, b in zip(row, vector)) for row in operator]\n",
    "\n",
    "def exp_val_alg(A, psi):\n",
    "    \"\"\"Compute the expectation value of an observable A in the state psi.\"\"\"\n",
    "    # Compute A|psi>\n",
    "    A_psi = apply_operator(A, psi)\n",
    "    # Compute <psi|A|psi>\n",
    "    expectation_value = braket(conjugate_transpose(psi), A_psi)\n",
    "    return expectation_value.real  # The expectation value should be real\n",
    "\n",
    "# Example usage:\n",
    "A = [[1, 0],\n",
    "    [0, -1]]\n",
    "psi = [1/math.sqrt(2), 1/math.sqrt(2)]  # |+> state\n",
    "print(exp_val_alg(A, psi))  # Outputs: 0.0 for the Pauli-Z observable on |+> state"
   ]
  },
  {
   "cell_type": "code",
   "execution_count": 22,
   "metadata": {},
   "outputs": [
    {
     "data": {
      "text/latex": [
       "$$ |0\\rangle$$"
      ],
      "text/plain": [
       "<IPython.core.display.Latex object>"
      ]
     },
     "metadata": {},
     "output_type": "display_data"
    },
    {
     "name": "stdout",
     "output_type": "stream",
     "text": [
      "-0.0015\n"
     ]
    }
   ],
   "source": [
    "#%pip install qiskit\n",
    "\"\"\"Code using a Qiskit circuit to implement the expected value\"\"\"\n",
    "from qiskit import QuantumCircuit\n",
    "from qiskit import Aer, execute, transpile \n",
    "from qiskit.tools.visualization import plot_histogram\n",
    "from qiskit.quantum_info import Statevector\n",
    "\n",
    "import copy\n",
    "\n",
    "def measure_XYZ(qc,axis=\"Z\",shots=1024):\n",
    "    \"\"\"Calculate the measurement in a determined Pauli gate.\"\"\"\n",
    "    import copy \n",
    "    qc0 = copy.deepcopy(qc)\n",
    "    if axis == \"Z\":\n",
    "        qc0.measure(0,0)\n",
    "    if axis == \"X\":\n",
    "        qc0.h(0)\n",
    "        qc0.measure(0,0) \n",
    "        qc0.h(0)\n",
    "    elif axis == \"Y\":\n",
    "        qc0.sdg(0)\n",
    "        qc0.h(0)\n",
    "        qc0.measure(0,0) \n",
    "        qc0.h(0)\n",
    "        qc0.s(0)\n",
    "        \n",
    "    counts=execute(qc0,backend=Aer.get_backend('qasm_simulator'),shots=shots).result().get_counts()\n",
    "    \n",
    "    return counts\n",
    "\n",
    "def _pauli_exp_val(qc, axis = \"Z\", shots = 1024):\n",
    "    \"\"\"Private function to calculate the expected value of a pauli gate.\"\"\"\n",
    "    counts_psi = measure_XYZ(copy.deepcopy(qc), axis = axis, shots = shots)\n",
    "    mean_Z = 0\n",
    "    for bits, counts  in counts_psi.items():\n",
    "        mean_Z += (-1)**(int(bits))* (counts/shots)\n",
    " \n",
    "    return np.round(mean_Z,5)\n",
    "\n",
    "def _a_values(A):\n",
    "    \"\"\"Private function to calculate the coefficients.\"\"\"\n",
    "    a0 = sum(A[i][i] for i in range(len(A)))\n",
    "\n",
    "    AxX = operator_multiply(A, X)\n",
    "    a1 = sum(AxX[i][i] for i in range(len(AxX)))\n",
    "\n",
    "    AxY = operator_multiply(A, Y)\n",
    "    a2 = sum(AxY[i][i] for i in range(len(AxY)))\n",
    "\n",
    "    AxZ = operator_multiply(A, Z)\n",
    "    a3 = sum(AxZ[i][i] for i in range(len(AxZ)))\n",
    "\n",
    "    return (a0, a1, a2, a3)\n",
    "\n",
    "def exp_val(A, psi):\n",
    "    display(Statevector(psi).draw('latex'))\n",
    "    qc_psi = QuantumCircuit(1,1)\n",
    "    qc_psi.initialize(psi_state,0)\n",
    "\n",
    "    X_exp = _pauli_exp_val(qc_psi, axis = \"X\", shots = 1000000)\n",
    "    Y_exp = _pauli_exp_val(qc_psi, axis = \"Y\", shots = 1000000)\n",
    "    Z_exp = _pauli_exp_val(qc_psi, axis = \"Z\", shots = 1000000)\n",
    "\n",
    "    (a0, a1, a2, a3) = _a_values(A)\n",
    "\n",
    "    return (a0 + X_exp*a1 + Y_exp*a2 + Z_exp*a3).real\n",
    "#psi_state = random_ket(1)\n",
    "psi_state = [1, 0]\n",
    "A = X\n",
    "print(exp_val(A, psi_state))"
   ]
  },
  {
   "cell_type": "markdown",
   "metadata": {},
   "source": [
    "<div class=\"alert alert-block alert-success\">\n",
    "<b>Exercies 3.5:</b> \n",
    " (challenge!)\n",
    "\n",
    "Extend the  function  $exp\\_val(A,u)$ to return the expectation value $\\bra{u}A\\ket{u}$ of an observable in the multicubit state  $\\ket{u}\\in\\Hil^{\\otimes n}$.\n",
    "\n",
    "Apply this function to the   Heisenberg hamiltonian in $\\Hil^{\\otimes 2}$, taking $J=1eV$ and obtain the value of the energy $E = \\langle H\\rangle_\\Psi$  in the four Bell states  $\\ket{\\psi} = \\ket{B_{ij}}$.  \n",
    "\n",
    "<i>Tip</i>: you can ask for help if you lack coding skills, but you should document all the steps in the code. \n",
    "</div>"
   ]
  },
  {
   "cell_type": "markdown",
   "metadata": {
    "tags": []
   },
   "source": [
    "<div class=\"alert alert-block\">\n",
    "\n",
    "Due to how $exp\\_val(A,u)$ was defined in the last exercise, it is already able to compute multicubit states. \n",
    "\n",
    "</div>"
   ]
  },
  {
   "cell_type": "code",
   "execution_count": 23,
   "metadata": {},
   "outputs": [
    {
     "name": "stdout",
     "output_type": "stream",
     "text": [
      "[[0.0, 0j, 0j, 0j], [0j, -0.5, (0.5+0j), 0j], [0j, (0.5+0j), -0.5, 0j], [0j, 0j, 0j, 0.0]]\n",
      "Expectation value for B_00: 0.0\n",
      "Expectation value for B_01: 0.0\n",
      "Expectation value for B_10: 0.0\n",
      "Expectation value for B_11: -1.0\n"
     ]
    }
   ],
   "source": [
    "import math\n",
    "\n",
    "# Define the Heisenberg Hamiltonian\n",
    "J = 1  # in eV\n",
    "H = operator_scalar_multiply(J/4, operator_add(operator_add(operator_add(XxX, YxY), ZxZ), operator_scalar_multiply(-1, IxI)))\n",
    "\n",
    "# Define the Bell states\n",
    "B_00 = [1/math.sqrt(2), 0, 0, 1/math.sqrt(2)]\n",
    "B_01 = [1/math.sqrt(2), 0, 0, -1/math.sqrt(2)]\n",
    "B_10 = [0, 1/math.sqrt(2), 1/math.sqrt(2), 0]\n",
    "B_11 = [0, 1/math.sqrt(2), -1/math.sqrt(2), 0]\n",
    "\n",
    "# Compute the expectation values\n",
    "print(H)\n",
    "E_B_00 = exp_val_alg(H, B_00)\n",
    "E_B_01 = exp_val_alg(H, B_01)\n",
    "E_B_10 = exp_val_alg(H, B_10)\n",
    "E_B_11 = exp_val_alg(H, B_11)\n",
    "\n",
    "print(\"Expectation value for B_00:\", \"{:.1f}\".format(E_B_00))\n",
    "print(\"Expectation value for B_01:\", \"{:.1f}\".format(E_B_01))\n",
    "print(\"Expectation value for B_10:\", \"{:.1f}\".format(E_B_10))\n",
    "print(\"Expectation value for B_11:\", \"{:.1f}\".format(E_B_11))"
   ]
  }
 ],
 "metadata": {
  "kernelspec": {
   "display_name": "Python 3 (ipykernel)",
   "language": "python",
   "name": "python3"
  },
  "language_info": {
   "codemirror_mode": {
    "name": "ipython",
    "version": 3
   },
   "file_extension": ".py",
   "mimetype": "text/x-python",
   "name": "python",
   "nbconvert_exporter": "python",
   "pygments_lexer": "ipython3",
   "version": "3.9.0"
  },
  "varInspector": {
   "cols": {
    "lenName": 16,
    "lenType": 16,
    "lenVar": 40
   },
   "kernels_config": {
    "python": {
     "delete_cmd_postfix": "",
     "delete_cmd_prefix": "del ",
     "library": "var_list.py",
     "varRefreshCmd": "print(var_dic_list())"
    },
    "r": {
     "delete_cmd_postfix": ") ",
     "delete_cmd_prefix": "rm(",
     "library": "var_list.r",
     "varRefreshCmd": "cat(var_dic_list()) "
    }
   },
   "types_to_exclude": [
    "module",
    "function",
    "builtin_function_or_method",
    "instance",
    "_Feature"
   ],
   "window_display": false
  }
 },
 "nbformat": 4,
 "nbformat_minor": 4
}
