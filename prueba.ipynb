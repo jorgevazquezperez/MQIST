{
  "nbformat": 4,
  "nbformat_minor": 0,
  "metadata": {
    "colab": {
      "provenance": [],
      "authorship_tag": "ABX9TyN+aa/ac+LcZaGRoESTJa50",
      "include_colab_link": true
    },
    "kernelspec": {
      "name": "python3",
      "display_name": "Python 3"
    },
    "language_info": {
      "name": "python"
    }
  },
  "cells": [
    {
      "cell_type": "markdown",
      "metadata": {
        "id": "view-in-github",
        "colab_type": "text"
      },
      "source": [
        "<a href=\"https://colab.research.google.com/github/jorgevazquezperez/MQIST/blob/main/prueba.ipynb\" target=\"_parent\"><img src=\"https://colab.research.google.com/assets/colab-badge.svg\" alt=\"Open In Colab\"/></a>"
      ]
    },
    {
      "cell_type": "code",
      "execution_count": null,
      "metadata": {
        "id": "sZ1HgPfr0LaO"
      },
      "outputs": [],
      "source": []
    },
    {
      "cell_type": "markdown",
      "source": [
        "![descargar.png](data:image/png;base64,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)"
      ],
      "metadata": {
        "id": "aVbXE_WR0Y0E"
      }
    },
    {
      "cell_type": "code",
      "source": [],
      "metadata": {
        "id": "ZQEFeZFR0hRV"
      },
      "execution_count": null,
      "outputs": []
    }
  ]
}