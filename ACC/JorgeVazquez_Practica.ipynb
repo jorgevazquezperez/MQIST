{
 "cells": [
  {
   "cell_type": "markdown",
   "metadata": {},
   "source": [
    "# Practice \n",
    "**Author: Jorge Vázquez Pérez**"
   ]
  },
  {
   "cell_type": "code",
   "execution_count": 48,
   "metadata": {},
   "outputs": [],
   "source": [
    "\n",
    "\"\"\" Uncomment to install packages\n",
    "%pip install scipy\n",
    "%pip install numpy\n",
    "%pip install qiskit\n",
    "%pip install IPython\n",
    "%pip install functools\"\"\"\n",
    "\n",
    "import numpy as np\n",
    "from scipy import sparse\n",
    "from qiskit.visualization import array_to_latex\n",
    "from qiskit.quantum_info import Statevector\n",
    "from IPython.display import display, HTML\n",
    "from functools import reduce"
   ]
  },
  {
   "cell_type": "markdown",
   "metadata": {},
   "source": [
    "## Part 1\n",
    "\n",
    "Here we are going to code the results obtained analytically in the PDF attached. Only necessary explanations will be done here as all the clarifications are done in the PDF.\n",
    "\n",
    "### Exercise 1: CN and CCN\n",
    "First, because $a$ and $a^*$ have the form:\n",
    "\n",
    "\\begin{equation}\n",
    "a= \\left[ \\begin{array}{cc}\n",
    "0 & 1 \\\\\n",
    "0 & 0 \\\\\n",
    "\\end{array} \\right]\n",
    "\\quad\n",
    "a^* = \\left[ \\begin{array}{cc}\n",
    "0 & 0 \\\\\n",
    "1 & 0 \\\\\n",
    "\\end{array} \\right]\n",
    "\\end{equation}\n",
    "\n",
    "we are going to use the sparse representation, trying to take advantage of the numerous zeros."
   ]
  },
  {
   "cell_type": "code",
   "execution_count": 6,
   "metadata": {},
   "outputs": [
    {
     "data": {
      "text/latex": [
       "$$\n",
       "a=\n",
       "\\begin{bmatrix}\n",
       "0 & 1  \\\\\n",
       " 0 & 0  \\\\\n",
       " \\end{bmatrix}\n",
       "$$"
      ],
      "text/plain": [
       "<IPython.core.display.Latex object>"
      ]
     },
     "metadata": {},
     "output_type": "display_data"
    },
    {
     "data": {
      "text/latex": [
       "$$\n",
       "a^*=\n",
       "\\begin{bmatrix}\n",
       "0 & 0  \\\\\n",
       " 1 & 0  \\\\\n",
       " \\end{bmatrix}\n",
       "$$"
      ],
      "text/plain": [
       "<IPython.core.display.Latex object>"
      ]
     },
     "metadata": {},
     "output_type": "display_data"
    }
   ],
   "source": [
    "a = sparse.csr_matrix(np.array([[0, 1], [0, 0]]))\n",
    "a_dag = sparse.csr_matrix(np.array([[0, 0], [1, 0]]))\n",
    "\n",
    "display(array_to_latex(a.toarray(), prefix=\"a=\"))\n",
    "display(array_to_latex(a_dag.toarray(), prefix=\"a^*=\"))"
   ]
  },
  {
   "cell_type": "code",
   "execution_count": 11,
   "metadata": {},
   "outputs": [
    {
     "data": {
      "text/latex": [
       "$$\n",
       "U_{CN}=\n",
       "\\begin{bmatrix}\n",
       "1 & 0 & 0 & 0  \\\\\n",
       " 0 & 1 & 0 & 0  \\\\\n",
       " 0 & 0 & 0 & 1  \\\\\n",
       " 0 & 0 & 1 & 0  \\\\\n",
       " \\end{bmatrix}\n",
       "$$"
      ],
      "text/plain": [
       "<IPython.core.display.Latex object>"
      ]
     },
     "metadata": {},
     "output_type": "display_data"
    }
   ],
   "source": [
    "I = sparse.eye(2)\n",
    "\n",
    "U_CN = sparse.kron(a@a_dag, I) + sparse.kron(a_dag@a, a + a_dag)\n",
    "display(array_to_latex(U_CN.toarray(), prefix=\"U_{CN}=\"))"
   ]
  },
  {
   "cell_type": "code",
   "execution_count": 96,
   "metadata": {},
   "outputs": [
    {
     "data": {
      "text/latex": [
       "$$\n",
       "U_{CCN}=\n",
       "\\begin{bmatrix}\n",
       "1 & 0 & 0 & 0 & 0 & 0 & 0 & 0  \\\\\n",
       " 0 & 1 & 0 & 0 & 0 & 0 & 0 & 0  \\\\\n",
       " 0 & 0 & 1 & 0 & 0 & 0 & 0 & 0  \\\\\n",
       " 0 & 0 & 0 & 1 & 0 & 0 & 0 & 0  \\\\\n",
       " 0 & 0 & 0 & 0 & 1 & 0 & 0 & 0  \\\\\n",
       " 0 & 0 & 0 & 0 & 0 & 1 & 0 & 0  \\\\\n",
       " 0 & 0 & 0 & 0 & 0 & 0 & 0 & 1  \\\\\n",
       " 0 & 0 & 0 & 0 & 0 & 0 & 1 & 0  \\\\\n",
       " \\end{bmatrix}\n",
       "$$"
      ],
      "text/plain": [
       "<IPython.core.display.Latex object>"
      ]
     },
     "metadata": {},
     "output_type": "display_data"
    }
   ],
   "source": [
    "def kron(*matrices):\n",
    "    return reduce(sparse.kron, matrices)\n",
    "\n",
    "U_CCN = kron(a@a_dag, a@a_dag, I) + kron(a@a_dag, a_dag@a, I) + \\\n",
    "    kron(a_dag@a, a@a_dag, I) + kron(a_dag@a, a_dag@a, a + a_dag)\n",
    "display(array_to_latex(U_CCN.toarray(), prefix=\"U_{CCN}=\"))"
   ]
  },
  {
   "cell_type": "markdown",
   "metadata": {},
   "source": [
    "### Exercise 2: FAN-OUT"
   ]
  },
  {
   "cell_type": "code",
   "execution_count": 15,
   "metadata": {},
   "outputs": [
    {
     "data": {
      "text/latex": [
       "$$\n",
       "U_{FO} = \n",
       "\\begin{bmatrix}\n",
       "1 & 0 & 0 & 0  \\\\\n",
       " 0 & 0 & 0 & 0  \\\\\n",
       " 0 & 0 & 0 & 1  \\\\\n",
       " 0 & 0 & 0 & 0  \\\\\n",
       " \\end{bmatrix}\n",
       "$$"
      ],
      "text/plain": [
       "<IPython.core.display.Latex object>"
      ]
     },
     "metadata": {},
     "output_type": "display_data"
    }
   ],
   "source": [
    "U_FO = kron(a@a_dag, a@a_dag) + kron(a_dag@a, (a@a_dag)@(a + a_dag))\n",
    "display(array_to_latex(U_FO.toarray(), prefix=\"U_{FO} = \"))"
   ]
  },
  {
   "cell_type": "markdown",
   "metadata": {},
   "source": [
    "### Exercise 3: SWAP"
   ]
  },
  {
   "cell_type": "code",
   "execution_count": 21,
   "metadata": {},
   "outputs": [
    {
     "data": {
      "text/latex": [
       "$$\n",
       "U_{SWAP}=\n",
       "\\begin{bmatrix}\n",
       "1 & 0 & 0 & 0  \\\\\n",
       " 0 & 0 & 1 & 0  \\\\\n",
       " 0 & 1 & 0 & 0  \\\\\n",
       " 0 & 0 & 0 & 1  \\\\\n",
       " \\end{bmatrix}\n",
       "$$"
      ],
      "text/plain": [
       "<IPython.core.display.Latex object>"
      ]
     },
     "metadata": {},
     "output_type": "display_data"
    }
   ],
   "source": [
    "U_SWAP = kron(a@a_dag, a@a_dag) + kron(a_dag@a, a_dag@a) + \\\n",
    "    (kron(a@a_dag, a_dag@a) + kron(a_dag@a, a@a_dag))@kron(a + a_dag, a + a_dag)\n",
    "\n",
    "display(array_to_latex(U_SWAP.toarray(), prefix=\"U_{SWAP}=\"))"
   ]
  },
  {
   "cell_type": "markdown",
   "metadata": {},
   "source": [
    "### Exercise 4: CSWAP"
   ]
  },
  {
   "cell_type": "code",
   "execution_count": 23,
   "metadata": {},
   "outputs": [
    {
     "data": {
      "text/latex": [
       "$$\n",
       "U_{CSWAP}=\n",
       "\\begin{bmatrix}\n",
       "1 & 0 & 0 & 0 & 0 & 0 & 0 & 0  \\\\\n",
       " 0 & 1 & 0 & 0 & 0 & 0 & 0 & 0  \\\\\n",
       " 0 & 0 & 1 & 0 & 0 & 0 & 0 & 0  \\\\\n",
       " 0 & 0 & 0 & 1 & 0 & 0 & 0 & 0  \\\\\n",
       " 0 & 0 & 0 & 0 & 1 & 0 & 0 & 0  \\\\\n",
       " 0 & 0 & 0 & 0 & 0 & 0 & 1 & 0  \\\\\n",
       " 0 & 0 & 0 & 0 & 0 & 1 & 0 & 0  \\\\\n",
       " 0 & 0 & 0 & 0 & 0 & 0 & 0 & 1  \\\\\n",
       " \\end{bmatrix}\n",
       "$$"
      ],
      "text/plain": [
       "<IPython.core.display.Latex object>"
      ]
     },
     "metadata": {},
     "output_type": "display_data"
    }
   ],
   "source": [
    "U_CSWAP = kron(a@a_dag, I, I) + kron(a_dag@a, kron(a@a_dag, a@a_dag) + kron(a_dag@a, a_dag@a)) + \\\n",
    "    kron(a_dag@a, (kron(a@a_dag, a_dag@a) + kron(a_dag@a, a@a_dag))@kron(a + a_dag, a + a_dag))\n",
    "\n",
    "display(array_to_latex(U_CSWAP.toarray(), prefix=\"U_{CSWAP}=\"))"
   ]
  },
  {
   "cell_type": "markdown",
   "metadata": {},
   "source": [
    "### Exercise 5 and Exercise 6: \n",
    "\n",
    "The explanation is in the PDF attached and no code is needed."
   ]
  },
  {
   "cell_type": "markdown",
   "metadata": {},
   "source": [
    "## Part 2\n",
    "\n",
    "First of all, it has to be notice that our work is all with inverted bits. All our theoretical proof revolves around this order and due to lack of time, we cannot put them in the order stated by the Practice, but **the results are totally equivalent** and it will be proven with the comparison with qiskit."
   ]
  },
  {
   "cell_type": "code",
   "execution_count": 40,
   "metadata": {},
   "outputs": [
    {
     "data": {
      "text/latex": [
       "$$\n",
       "U^{1}_{CN}=\n",
       "\\begin{bmatrix}\n",
       "1 & 0 & 0 & 0 & 0 & 0 & 0 & 0 & 0 & 0 & 0 & 0 & 0 & 0 & 0 & 0  \\\\\n",
       " 0 & 1 & 0 & 0 & 0 & 0 & 0 & 0 & 0 & 0 & 0 & 0 & 0 & 0 & 0 & 0  \\\\\n",
       " 0 & 0 & 1 & 0 & 0 & 0 & 0 & 0 & 0 & 0 & 0 & 0 & 0 & 0 & 0 & 0  \\\\\n",
       " 0 & 0 & 0 & 1 & 0 & 0 & 0 & 0 & 0 & 0 & 0 & 0 & 0 & 0 & 0 & 0  \\\\\n",
       " 0 & 0 & 0 & 0 & 1 & 0 & 0 & 0 & 0 & 0 & 0 & 0 & 0 & 0 & 0 & 0  \\\\\n",
       " 0 & 0 & 0 & 0 & 0 & 1 & 0 & 0 & 0 & 0 & 0 & 0 & 0 & 0 & 0 & 0  \\\\\n",
       " 0 & 0 & 0 & 0 & 0 & 0 & 1 & 0 & 0 & 0 & 0 & 0 & 0 & 0 & 0 & 0  \\\\\n",
       " 0 & 0 & 0 & 0 & 0 & 0 & 0 & 1 & 0 & 0 & 0 & 0 & 0 & 0 & 0 & 0  \\\\\n",
       " 0 & 0 & 0 & 0 & 0 & 0 & 0 & 0 & 0 & 0 & 1 & 0 & 0 & 0 & 0 & 0  \\\\\n",
       " 0 & 0 & 0 & 0 & 0 & 0 & 0 & 0 & 0 & 0 & 0 & 1 & 0 & 0 & 0 & 0  \\\\\n",
       " 0 & 0 & 0 & 0 & 0 & 0 & 0 & 0 & 1 & 0 & 0 & 0 & 0 & 0 & 0 & 0  \\\\\n",
       " 0 & 0 & 0 & 0 & 0 & 0 & 0 & 0 & 0 & 1 & 0 & 0 & 0 & 0 & 0 & 0  \\\\\n",
       " 0 & 0 & 0 & 0 & 0 & 0 & 0 & 0 & 0 & 0 & 0 & 0 & 0 & 0 & 1 & 0  \\\\\n",
       " 0 & 0 & 0 & 0 & 0 & 0 & 0 & 0 & 0 & 0 & 0 & 0 & 0 & 0 & 0 & 1  \\\\\n",
       " 0 & 0 & 0 & 0 & 0 & 0 & 0 & 0 & 0 & 0 & 0 & 0 & 1 & 0 & 0 & 0  \\\\\n",
       " 0 & 0 & 0 & 0 & 0 & 0 & 0 & 0 & 0 & 0 & 0 & 0 & 0 & 1 & 0 & 0  \\\\\n",
       " \\end{bmatrix}\n",
       "$$"
      ],
      "text/plain": [
       "<IPython.core.display.Latex object>"
      ]
     },
     "metadata": {},
     "output_type": "display_data"
    }
   ],
   "source": [
    "U1_CN = kron(a@a_dag, I, I, I) + kron(a_dag@a, I, a + a_dag, I)\n",
    "display(array_to_latex(U1_CN.toarray(), max_size=16, prefix=\"U^{1}_{CN}=\"))"
   ]
  },
  {
   "cell_type": "code",
   "execution_count": 42,
   "metadata": {},
   "outputs": [
    {
     "data": {
      "text/latex": [
       "$$\n",
       "U^{2}_{CN}=\n",
       "\\begin{bmatrix}\n",
       "1 & 0 & 0 & 0 & 0 & 0 & 0 & 0 & 0 & 0 & 0 & 0 & 0 & 0 & 0 & 0  \\\\\n",
       " 0 & 1 & 0 & 0 & 0 & 0 & 0 & 0 & 0 & 0 & 0 & 0 & 0 & 0 & 0 & 0  \\\\\n",
       " 0 & 0 & 1 & 0 & 0 & 0 & 0 & 0 & 0 & 0 & 0 & 0 & 0 & 0 & 0 & 0  \\\\\n",
       " 0 & 0 & 0 & 1 & 0 & 0 & 0 & 0 & 0 & 0 & 0 & 0 & 0 & 0 & 0 & 0  \\\\\n",
       " 0 & 0 & 0 & 0 & 0 & 0 & 1 & 0 & 0 & 0 & 0 & 0 & 0 & 0 & 0 & 0  \\\\\n",
       " 0 & 0 & 0 & 0 & 0 & 0 & 0 & 1 & 0 & 0 & 0 & 0 & 0 & 0 & 0 & 0  \\\\\n",
       " 0 & 0 & 0 & 0 & 1 & 0 & 0 & 0 & 0 & 0 & 0 & 0 & 0 & 0 & 0 & 0  \\\\\n",
       " 0 & 0 & 0 & 0 & 0 & 1 & 0 & 0 & 0 & 0 & 0 & 0 & 0 & 0 & 0 & 0  \\\\\n",
       " 0 & 0 & 0 & 0 & 0 & 0 & 0 & 0 & 1 & 0 & 0 & 0 & 0 & 0 & 0 & 0  \\\\\n",
       " 0 & 0 & 0 & 0 & 0 & 0 & 0 & 0 & 0 & 1 & 0 & 0 & 0 & 0 & 0 & 0  \\\\\n",
       " 0 & 0 & 0 & 0 & 0 & 0 & 0 & 0 & 0 & 0 & 1 & 0 & 0 & 0 & 0 & 0  \\\\\n",
       " 0 & 0 & 0 & 0 & 0 & 0 & 0 & 0 & 0 & 0 & 0 & 1 & 0 & 0 & 0 & 0  \\\\\n",
       " 0 & 0 & 0 & 0 & 0 & 0 & 0 & 0 & 0 & 0 & 0 & 0 & 0 & 0 & 1 & 0  \\\\\n",
       " 0 & 0 & 0 & 0 & 0 & 0 & 0 & 0 & 0 & 0 & 0 & 0 & 0 & 0 & 0 & 1  \\\\\n",
       " 0 & 0 & 0 & 0 & 0 & 0 & 0 & 0 & 0 & 0 & 0 & 0 & 1 & 0 & 0 & 0  \\\\\n",
       " 0 & 0 & 0 & 0 & 0 & 0 & 0 & 0 & 0 & 0 & 0 & 0 & 0 & 1 & 0 & 0  \\\\\n",
       " \\end{bmatrix}\n",
       "$$"
      ],
      "text/plain": [
       "<IPython.core.display.Latex object>"
      ]
     },
     "metadata": {},
     "output_type": "display_data"
    }
   ],
   "source": [
    "U2_CN = kron(I, a@a_dag, I, I) + kron(I, a_dag@a, a + a.T, I) \n",
    "display(array_to_latex(U2_CN.toarray(), max_size=16, prefix=\"U^{2}_{CN}=\"))"
   ]
  },
  {
   "cell_type": "code",
   "execution_count": 44,
   "metadata": {},
   "outputs": [
    {
     "data": {
      "text/latex": [
       "$$\n",
       "U_{CCN}=\n",
       "\\begin{bmatrix}\n",
       "1 & 0 & 0 & 0 & 0 & 0 & 0 & 0 & 0 & 0 & 0 & 0 & 0 & 0 & 0 & 0  \\\\\n",
       " 0 & 1 & 0 & 0 & 0 & 0 & 0 & 0 & 0 & 0 & 0 & 0 & 0 & 0 & 0 & 0  \\\\\n",
       " 0 & 0 & 1 & 0 & 0 & 0 & 0 & 0 & 0 & 0 & 0 & 0 & 0 & 0 & 0 & 0  \\\\\n",
       " 0 & 0 & 0 & 1 & 0 & 0 & 0 & 0 & 0 & 0 & 0 & 0 & 0 & 0 & 0 & 0  \\\\\n",
       " 0 & 0 & 0 & 0 & 1 & 0 & 0 & 0 & 0 & 0 & 0 & 0 & 0 & 0 & 0 & 0  \\\\\n",
       " 0 & 0 & 0 & 0 & 0 & 1 & 0 & 0 & 0 & 0 & 0 & 0 & 0 & 0 & 0 & 0  \\\\\n",
       " 0 & 0 & 0 & 0 & 0 & 0 & 1 & 0 & 0 & 0 & 0 & 0 & 0 & 0 & 0 & 0  \\\\\n",
       " 0 & 0 & 0 & 0 & 0 & 0 & 0 & 1 & 0 & 0 & 0 & 0 & 0 & 0 & 0 & 0  \\\\\n",
       " 0 & 0 & 0 & 0 & 0 & 0 & 0 & 0 & 1 & 0 & 0 & 0 & 0 & 0 & 0 & 0  \\\\\n",
       " 0 & 0 & 0 & 0 & 0 & 0 & 0 & 0 & 0 & 1 & 0 & 0 & 0 & 0 & 0 & 0  \\\\\n",
       " 0 & 0 & 0 & 0 & 0 & 0 & 0 & 0 & 0 & 0 & 1 & 0 & 0 & 0 & 0 & 0  \\\\\n",
       " 0 & 0 & 0 & 0 & 0 & 0 & 0 & 0 & 0 & 0 & 0 & 1 & 0 & 0 & 0 & 0  \\\\\n",
       " 0 & 0 & 0 & 0 & 0 & 0 & 0 & 0 & 0 & 0 & 0 & 0 & 0 & 1 & 0 & 0  \\\\\n",
       " 0 & 0 & 0 & 0 & 0 & 0 & 0 & 0 & 0 & 0 & 0 & 0 & 1 & 0 & 0 & 0  \\\\\n",
       " 0 & 0 & 0 & 0 & 0 & 0 & 0 & 0 & 0 & 0 & 0 & 0 & 0 & 0 & 0 & 1  \\\\\n",
       " 0 & 0 & 0 & 0 & 0 & 0 & 0 & 0 & 0 & 0 & 0 & 0 & 0 & 0 & 1 & 0  \\\\\n",
       " \\end{bmatrix}\n",
       "$$"
      ],
      "text/plain": [
       "<IPython.core.display.Latex object>"
      ]
     },
     "metadata": {},
     "output_type": "display_data"
    }
   ],
   "source": [
    "U_CCN = kron(a@a_dag, a@a_dag, I, I) + kron(a@a_dag, a_dag@a, I, I) + \\\n",
    "    kron(a_dag@a, a@a_dag, I, I) + kron(a_dag@a, a_dag@a, I, a + a_dag)\n",
    "display(array_to_latex(U_CCN.toarray(), max_size=16, prefix=\"U_{CCN}=\"))"
   ]
  },
  {
   "cell_type": "code",
   "execution_count": 45,
   "metadata": {},
   "outputs": [
    {
     "data": {
      "text/latex": [
       "$$\n",
       "M=\n",
       "\\begin{bmatrix}\n",
       "1 & 0 & 0 & 0 & 0 & 0 & 0 & 0 & 0 & 0 & 0 & 0 & 0 & 0 & 0 & 0  \\\\\n",
       " 0 & 1 & 0 & 0 & 0 & 0 & 0 & 0 & 0 & 0 & 0 & 0 & 0 & 0 & 0 & 0  \\\\\n",
       " 0 & 0 & 1 & 0 & 0 & 0 & 0 & 0 & 0 & 0 & 0 & 0 & 0 & 0 & 0 & 0  \\\\\n",
       " 0 & 0 & 0 & 1 & 0 & 0 & 0 & 0 & 0 & 0 & 0 & 0 & 0 & 0 & 0 & 0  \\\\\n",
       " 0 & 0 & 0 & 0 & 0 & 0 & 1 & 0 & 0 & 0 & 0 & 0 & 0 & 0 & 0 & 0  \\\\\n",
       " 0 & 0 & 0 & 0 & 0 & 0 & 0 & 1 & 0 & 0 & 0 & 0 & 0 & 0 & 0 & 0  \\\\\n",
       " 0 & 0 & 0 & 0 & 1 & 0 & 0 & 0 & 0 & 0 & 0 & 0 & 0 & 0 & 0 & 0  \\\\\n",
       " 0 & 0 & 0 & 0 & 0 & 1 & 0 & 0 & 0 & 0 & 0 & 0 & 0 & 0 & 0 & 0  \\\\\n",
       " 0 & 0 & 0 & 0 & 0 & 0 & 0 & 0 & 0 & 0 & 1 & 0 & 0 & 0 & 0 & 0  \\\\\n",
       " 0 & 0 & 0 & 0 & 0 & 0 & 0 & 0 & 0 & 0 & 0 & 1 & 0 & 0 & 0 & 0  \\\\\n",
       " 0 & 0 & 0 & 0 & 0 & 0 & 0 & 0 & 1 & 0 & 0 & 0 & 0 & 0 & 0 & 0  \\\\\n",
       " 0 & 0 & 0 & 0 & 0 & 0 & 0 & 0 & 0 & 1 & 0 & 0 & 0 & 0 & 0 & 0  \\\\\n",
       " 0 & 0 & 0 & 0 & 0 & 0 & 0 & 0 & 0 & 0 & 0 & 0 & 0 & 1 & 0 & 0  \\\\\n",
       " 0 & 0 & 0 & 0 & 0 & 0 & 0 & 0 & 0 & 0 & 0 & 0 & 1 & 0 & 0 & 0  \\\\\n",
       " 0 & 0 & 0 & 0 & 0 & 0 & 0 & 0 & 0 & 0 & 0 & 0 & 0 & 0 & 0 & 1  \\\\\n",
       " 0 & 0 & 0 & 0 & 0 & 0 & 0 & 0 & 0 & 0 & 0 & 0 & 0 & 0 & 1 & 0  \\\\\n",
       " \\end{bmatrix}\n",
       "$$"
      ],
      "text/plain": [
       "<IPython.core.display.Latex object>"
      ]
     },
     "metadata": {},
     "output_type": "display_data"
    }
   ],
   "source": [
    "M = U_CCN@U2_CN@U1_CN\n",
    "display(array_to_latex(M.toarray(), max_size=16, prefix=\"M=\"))"
   ]
  },
  {
   "cell_type": "code",
   "execution_count": 70,
   "metadata": {},
   "outputs": [
    {
     "data": {
      "text/latex": [
       "$$\\text{We have for } |\\Psi_{in} \\rangle =  |0000\\rangle$$"
      ],
      "text/plain": [
       "<IPython.core.display.Latex object>"
      ]
     },
     "metadata": {},
     "output_type": "display_data"
    },
    {
     "data": {
      "text/latex": [
       "$$|\\Psi_{out} \\rangle = \n",
       "\n",
       "\\begin{bmatrix}\n",
       "1  \\\\\n",
       " 0  \\\\\n",
       " 0  \\\\\n",
       " 0  \\\\\n",
       " \\vdots \\\\\n",
       " 0  \\\\\n",
       " 0  \\\\\n",
       " 0  \\\\\n",
       " \\end{bmatrix}\n",
       " =  |0000\\rangle$$"
      ],
      "text/plain": [
       "<IPython.core.display.Latex object>"
      ]
     },
     "metadata": {},
     "output_type": "display_data"
    },
    {
     "data": {
      "text/latex": [
       "$$\\text{We have for } |\\Psi_{in} \\rangle =  |1000\\rangle$$"
      ],
      "text/plain": [
       "<IPython.core.display.Latex object>"
      ]
     },
     "metadata": {},
     "output_type": "display_data"
    },
    {
     "data": {
      "text/latex": [
       "$$|\\Psi_{out} \\rangle = \n",
       "\n",
       "\\begin{bmatrix}\n",
       "0  \\\\\n",
       " 0  \\\\\n",
       " 0  \\\\\n",
       " 0  \\\\\n",
       " \\vdots \\\\\n",
       " 0  \\\\\n",
       " 0  \\\\\n",
       " 0  \\\\\n",
       " \\end{bmatrix}\n",
       " =  |1010\\rangle$$"
      ],
      "text/plain": [
       "<IPython.core.display.Latex object>"
      ]
     },
     "metadata": {},
     "output_type": "display_data"
    },
    {
     "data": {
      "text/latex": [
       "$$\\text{We have for } |\\Psi_{in} \\rangle =  |0100\\rangle$$"
      ],
      "text/plain": [
       "<IPython.core.display.Latex object>"
      ]
     },
     "metadata": {},
     "output_type": "display_data"
    },
    {
     "data": {
      "text/latex": [
       "$$|\\Psi_{out} \\rangle = \n",
       "\n",
       "\\begin{bmatrix}\n",
       "0  \\\\\n",
       " 0  \\\\\n",
       " 0  \\\\\n",
       " 0  \\\\\n",
       " \\vdots \\\\\n",
       " 0  \\\\\n",
       " 0  \\\\\n",
       " 0  \\\\\n",
       " \\end{bmatrix}\n",
       " =  |0110\\rangle$$"
      ],
      "text/plain": [
       "<IPython.core.display.Latex object>"
      ]
     },
     "metadata": {},
     "output_type": "display_data"
    },
    {
     "data": {
      "text/latex": [
       "$$\\text{We have for } |\\Psi_{in} \\rangle =  |1100\\rangle$$"
      ],
      "text/plain": [
       "<IPython.core.display.Latex object>"
      ]
     },
     "metadata": {},
     "output_type": "display_data"
    },
    {
     "data": {
      "text/latex": [
       "$$|\\Psi_{out} \\rangle = \n",
       "\n",
       "\\begin{bmatrix}\n",
       "0  \\\\\n",
       " 0  \\\\\n",
       " 0  \\\\\n",
       " 0  \\\\\n",
       " \\vdots \\\\\n",
       " 1  \\\\\n",
       " 0  \\\\\n",
       " 0  \\\\\n",
       " \\end{bmatrix}\n",
       " =  |1101\\rangle$$"
      ],
      "text/plain": [
       "<IPython.core.display.Latex object>"
      ]
     },
     "metadata": {},
     "output_type": "display_data"
    }
   ],
   "source": [
    "ket0 = sparse.csr_matrix(np.array([[1], [0]]))\n",
    "ket1 = sparse.csr_matrix(np.array([[0], [1]]))\n",
    "\n",
    "ket0000 = kron(ket0, ket0, ket0, ket0)\n",
    "ket0001 = kron(ket1, ket0, ket0, ket0)\n",
    "ket0010 = kron(ket0, ket1, ket0, ket0)\n",
    "ket0011 = kron(ket1, ket1, ket0, ket0)\n",
    "\n",
    "classical_inputs = [ket0000, ket0001, ket0010, ket0011]\n",
    "\n",
    "for i, psi_in in enumerate(classical_inputs):\n",
    "    psi_out = M@psi_in\n",
    "    display(Statevector(psi_in.toarray()).draw('latex', prefix=f\"\\\\text{{We have for }} |\\Psi_{{in}} \\\\rangle = \"))\n",
    "    display(Statevector(psi_out.toarray()).draw('latex', prefix=f\"|\\Psi_{{out}} \\\\rangle = {array_to_latex(psi_out.toarray(), source=True)} = \"))"
   ]
  },
  {
   "cell_type": "markdown",
   "metadata": {},
   "source": [
    "In this case, because there is no superposition and no complex phase, the vector of probabilities corresponds with the statevector already shown."
   ]
  },
  {
   "cell_type": "code",
   "execution_count": 80,
   "metadata": {},
   "outputs": [
    {
     "data": {
      "text/latex": [
       "$$\\text{We have for } |\\Psi_{in} \\rangle = \\frac{1}{2} |0000\\rangle+\\frac{1}{2} |0100\\rangle+\\frac{1}{2} |1000\\rangle+\\frac{1}{2} |1100\\rangle$$"
      ],
      "text/plain": [
       "<IPython.core.display.Latex object>"
      ]
     },
     "metadata": {},
     "output_type": "display_data"
    },
    {
     "data": {
      "text/latex": [
       "$$|\\Psi_{out} \\rangle = \n",
       "\n",
       "\\begin{bmatrix}\n",
       "\\frac{1}{2}  \\\\\n",
       " 0  \\\\\n",
       " 0  \\\\\n",
       " 0  \\\\\n",
       " \\vdots \\\\\n",
       " \\frac{1}{2}  \\\\\n",
       " 0  \\\\\n",
       " 0  \\\\\n",
       " \\end{bmatrix}\n",
       " = \\frac{1}{2} |0000\\rangle+\\frac{1}{2} |0110\\rangle+\\frac{1}{2} |1010\\rangle+\\frac{1}{2} |1101\\rangle$$"
      ],
      "text/plain": [
       "<IPython.core.display.Latex object>"
      ]
     },
     "metadata": {},
     "output_type": "display_data"
    },
    {
     "data": {
      "text/latex": [
       "$$\n",
       "\\text{With probabilities: }P = \n",
       "\\begin{bmatrix}\n",
       "\\frac{1}{4} & 0 & 0 & 0 & 0 & 0 & \\frac{1}{4} & 0 & 0 & 0 & \\frac{1}{4} & 0 & 0 & \\frac{1}{4} & 0 & 0  \\\\\n",
       " \\end{bmatrix}\n",
       "$$"
      ],
      "text/plain": [
       "<IPython.core.display.Latex object>"
      ]
     },
     "metadata": {},
     "output_type": "display_data"
    },
    {
     "data": {
      "text/latex": [
       "$$\\text{We have for } |\\Psi_{in} \\rangle = \\frac{1}{2} |0000\\rangle+\\frac{1}{2} |0100\\rangle- \\frac{i}{2} |1000\\rangle- \\frac{i}{2} |1100\\rangle$$"
      ],
      "text/plain": [
       "<IPython.core.display.Latex object>"
      ]
     },
     "metadata": {},
     "output_type": "display_data"
    },
    {
     "data": {
      "text/latex": [
       "$$|\\Psi_{out} \\rangle = \n",
       "\n",
       "\\begin{bmatrix}\n",
       "\\frac{1}{2}  \\\\\n",
       " 0  \\\\\n",
       " 0  \\\\\n",
       " 0  \\\\\n",
       " \\vdots \\\\\n",
       " - \\frac{i}{2}  \\\\\n",
       " 0  \\\\\n",
       " 0  \\\\\n",
       " \\end{bmatrix}\n",
       " = \\frac{1}{2} |0000\\rangle+\\frac{1}{2} |0110\\rangle- \\frac{i}{2} |1010\\rangle- \\frac{i}{2} |1101\\rangle$$"
      ],
      "text/plain": [
       "<IPython.core.display.Latex object>"
      ]
     },
     "metadata": {},
     "output_type": "display_data"
    },
    {
     "data": {
      "text/latex": [
       "$$\n",
       "\\text{With probabilities: }P = \n",
       "\\begin{bmatrix}\n",
       "\\frac{1}{4} & 0 & 0 & 0 & 0 & 0 & \\frac{1}{4} & 0 & 0 & 0 & \\frac{1}{4} & 0 & 0 & \\frac{1}{4} & 0 & 0  \\\\\n",
       " \\end{bmatrix}\n",
       "$$"
      ],
      "text/plain": [
       "<IPython.core.display.Latex object>"
      ]
     },
     "metadata": {},
     "output_type": "display_data"
    }
   ],
   "source": [
    "ket_super1 = kron(1/np.sqrt(2) * ket0 + 1/np.sqrt(2) * ket1, 1/np.sqrt(2) * ket0 + 1/np.sqrt(2) * ket1, ket0, ket0)\n",
    "ket_super2 = kron(1/np.sqrt(2) * ket0 - 1j/np.sqrt(2) * ket1, 1/np.sqrt(2) * ket0 + 1/np.sqrt(2) * ket1, ket0, ket0)\n",
    "\n",
    "superposition_inputs = [ket_super1, ket_super2]\n",
    "\n",
    "for i, psi_in in enumerate(superposition_inputs):\n",
    "    psi_out = (M@psi_in).toarray()\n",
    "\n",
    "    display(Statevector(psi_in.toarray()).draw('latex', prefix=f\"\\\\text{{We have for }} |\\Psi_{{in}} \\\\rangle = \"))\n",
    "    display(Statevector(psi_out).draw('latex', prefix=f\"|\\Psi_{{out}} \\\\rangle = {array_to_latex(psi_out, source=True)} = \"))\n",
    "    \n",
    "    probabilities = np.multiply(np.conj(psi_out), psi_out).T\n",
    "    display(array_to_latex(probabilities, max_size=16, prefix=\"\\\\text{With probabilities: }P = \"))"
   ]
  },
  {
   "cell_type": "markdown",
   "metadata": {},
   "source": [
    "And now, lets construct the qiskit circuit to compare."
   ]
  },
  {
   "cell_type": "code",
   "execution_count": 86,
   "metadata": {},
   "outputs": [
    {
     "data": {
      "image/png": "[encoded data removed]",
      "text/plain": [
       "<Figure size 459.857x367.889 with 1 Axes>"
      ]
     },
     "execution_count": 86,
     "metadata": {},
     "output_type": "execute_result"
    }
   ],
   "source": [
    "from qiskit import QuantumCircuit, QuantumRegister\n",
    "\n",
    "# Create a quantum circuit with 4 qubits\n",
    "carry_q = QuantumRegister(1, name=\"carry_q\")\n",
    "sum_q = QuantumRegister(1, name=\"sum_q\")\n",
    "input_q1 = QuantumRegister(1, name=\"input_q1\")\n",
    "input_q0 = QuantumRegister(1, name=\"input_q0\")\n",
    "\n",
    "qr_list=[carry_q, sum_q, input_q1, input_q0]\n",
    "qc = QuantumCircuit(*qr_list)\n",
    "\n",
    "# Apply the quantum gates according to the quantum half-adder circuit\n",
    "qc.cx(input_q0, sum_q)    # CNOT gate with q0 as control and sum_q as target\n",
    "qc.cx(input_q1, sum_q)    # CNOT gate with q1 as control and sum_q as target\n",
    "qc.ccx(input_q0, input_q1, carry_q)  # Toffoli gate (CCNOT) with q0 and q1 as controls and carry_q as target\n",
    "\n",
    "semi_adder = qc.to_gate()\n",
    "\n",
    "# Display the circuit\n",
    "qc.draw(output='mpl')"
   ]
  },
  {
   "cell_type": "code",
   "execution_count": 95,
   "metadata": {},
   "outputs": [
    {
     "name": "stdout",
     "output_type": "stream",
     "text": [
      "For the classical inputs we get:\n"
     ]
    },
    {
     "data": {
      "text/latex": [
       "$$|\\Psi_{out} \\rangle =  |0000\\rangle$$"
      ],
      "text/plain": [
       "<IPython.core.display.Latex object>"
      ]
     },
     "metadata": {},
     "output_type": "display_data"
    },
    {
     "data": {
      "text/latex": [
       "$$|\\Psi_{out} \\rangle =  |1010\\rangle$$"
      ],
      "text/plain": [
       "<IPython.core.display.Latex object>"
      ]
     },
     "metadata": {},
     "output_type": "display_data"
    },
    {
     "data": {
      "text/latex": [
       "$$|\\Psi_{out} \\rangle =  |0110\\rangle$$"
      ],
      "text/plain": [
       "<IPython.core.display.Latex object>"
      ]
     },
     "metadata": {},
     "output_type": "display_data"
    },
    {
     "data": {
      "text/latex": [
       "$$|\\Psi_{out} \\rangle =  |1101\\rangle$$"
      ],
      "text/plain": [
       "<IPython.core.display.Latex object>"
      ]
     },
     "metadata": {},
     "output_type": "display_data"
    },
    {
     "name": "stdout",
     "output_type": "stream",
     "text": [
      "For the superposition inputs we get:\n"
     ]
    },
    {
     "data": {
      "text/latex": [
       "$$|\\Psi_{out} \\rangle = \\frac{1}{2} |0000\\rangle+\\frac{1}{2} |0110\\rangle+\\frac{1}{2} |1010\\rangle+\\frac{1}{2} |1101\\rangle$$"
      ],
      "text/plain": [
       "<IPython.core.display.Latex object>"
      ]
     },
     "metadata": {},
     "output_type": "display_data"
    },
    {
     "data": {
      "text/latex": [
       "$$|\\Psi_{out} \\rangle = \\frac{1}{2} |0000\\rangle+\\frac{1}{2} |0110\\rangle- \\frac{i}{2} |1010\\rangle- \\frac{i}{2} |1101\\rangle$$"
      ],
      "text/plain": [
       "<IPython.core.display.Latex object>"
      ]
     },
     "metadata": {},
     "output_type": "display_data"
    }
   ],
   "source": [
    "from qiskit import QuantumCircuit, BasicAer, transpile\n",
    "\n",
    "def execute_adder(ket):\n",
    "    carry_q = QuantumRegister(1, name=\"carry_q\")\n",
    "    sum_q = QuantumRegister(1, name=\"sum_q\")\n",
    "    input_q1 = QuantumRegister(1, name=\"input_q1\")\n",
    "    input_q0 = QuantumRegister(1, name=\"input_q0\")\n",
    "\n",
    "    qr_list=[carry_q, sum_q, input_q1, input_q0]\n",
    "    circuit = QuantumCircuit(*qr_list)\n",
    "\n",
    "    circuit.initialize(Statevector(ket.toarray()))\n",
    "    circuit.compose(semi_adder, inplace=True)\n",
    "\n",
    "    backend = BasicAer.get_backend(\"statevector_simulator\")\n",
    "\n",
    "    tqc = transpile(circuit, backend)\n",
    "    job = backend.run(tqc)\n",
    "    result = job.result() \n",
    "    return Statevector(result.get_statevector(tqc))\n",
    "\n",
    "print(\"For the classical inputs we get:\")\n",
    "for i, psi_in in enumerate(classical_inputs):\n",
    "    statevector = execute_adder(psi_in)\n",
    "    display(statevector.draw('latex', prefix=f\"|\\Psi_{{out}} \\\\rangle = \"))\n",
    "\n",
    "print(\"For the superposition inputs we get:\")\n",
    "for i, psi_in in enumerate(superposition_inputs):\n",
    "    statevector = execute_adder(psi_in)\n",
    "    display(statevector.draw('latex', prefix=f\"|\\Psi_{{out}} \\\\rangle = \"))"
   ]
  },
  {
   "cell_type": "markdown",
   "metadata": {},
   "source": [
    "Obtaining exactly the same results."
   ]
  }
 ],
 "metadata": {
  "kernelspec": {
   "display_name": "basic-quantum",
   "language": "python",
   "name": "python3"
  },
  "language_info": {
   "codemirror_mode": {
    "name": "ipython",
    "version": 3
   },
   "file_extension": ".py",
   "mimetype": "text/x-python",
   "name": "python",
   "nbconvert_exporter": "python",
   "pygments_lexer": "ipython3",
   "version": "3.9.0"
  }
 },
 "nbformat": 4,
 "nbformat_minor": 2
}
