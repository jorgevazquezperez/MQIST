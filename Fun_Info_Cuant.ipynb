{
 "cells": [
  {
   "cell_type": "markdown",
   "id": "3710bfdb",
   "metadata": {
    "slideshow": {
     "slide_type": "slide"
    }
   },
   "source": [
    "<table width=\"100%\">\n",
    "<td style=\"font-size:40px;font-style:italic;text-align:right;background-color:rgba(0, 190, 170,0.6)\">\n",
    "Teoría de la Medida Generalizada\n",
    "</td></table>\n",
    "\n",
    "\n",
    "\n",
    "$ \\newcommand{\\bra}[1]{\\langle #1|} $\n",
    "$ \\newcommand{\\ket}[1]{|#1\\rangle} $\n",
    "$ \\newcommand{\\braket}[2]{\\langle #1|#2\\rangle} $\n",
    "$ \\newcommand{\\ketbra}[2]{| #1\\rangle \\langle #2|} $\n",
    "$ \\newcommand{\\tr}{{\\rm Tr}\\,} $\n",
    "$ \\newcommand{\\Tr}{{\\rm Tr}\\,} $\n",
    "$ \\newcommand{\\i}{{\\color{blue} i}} $ \n",
    "$ \\newcommand{\\Hil}{{\\cal H}} $\n",
    "$ \\newcommand{\\V}{{\\cal V}} $\n",
    "$ \\newcommand{\\Lin}{\\hbox{Lin}}$\n",
    "$ \\newcommand{\\bn}{{\\bf n}} $\n",
    "$ \\newcommand{\\bsig}{\\boldsymbol{\\sigma}} $\n",
    "$ \\newcommand{\\ketup}{\\ket{\\!\\uparrow}} $\n",
    "$ \\newcommand{\\ketdo}{\\ket{\\!\\downarrow}} $\n",
    "$ \\newcommand{\\braup}{\\bra{\\uparrow\\!}} $\n",
    "$ \\newcommand{\\brado}{\\bra{\\downarrow\\!}} $\n"
   ]
  },
  {
   "cell_type": "markdown",
   "id": "c1915265",
   "metadata": {
    "slideshow": {
     "slide_type": "skip"
    }
   },
   "source": [
    "\n",
    "- [Medidas proyectivas](#med_proy) \n",
    "\n",
    "\n",
    "- [Medidas generalizadas](#med_gen)\n",
    "    -  [*El experimento de Stern Gerlach real*](#stern_gerlach_real)\n",
    "    -  [*Medidas generalizadas en estados mezclados*](#med_est_mezcl)   \n",
    "    -  [*Medidas generalizadas en estados mezclados*](#med_est_mezcl)   \n",
    "\n",
    "\n",
    "\n",
    "- [POVM's](#povms) \n",
    "\n",
    "- [Distinguibilidad de estados](#disting_estados) \n"
   ]
  },
  {
   "cell_type": "code",
   "execution_count": 3,
   "id": "3fde0f3c",
   "metadata": {
    "run_control": {
     "marked": false
    }
   },
   "outputs": [],
   "source": [
    "import sys\n",
    "sys.path.append('../')\n",
    "import macro_tQ as tQ\n",
    "\n",
    "import numpy as np\n",
    "import scipy.linalg as la\n",
    "from IPython.display import display,Markdown,Latex\n",
    "import matplotlib.pyplot as plt\n",
    "from qiskit.tools.visualization import array_to_latex"
   ]
  },
  {
   "cell_type": "markdown",
   "id": "2984f16d",
   "metadata": {
    "slideshow": {
     "slide_type": "slide"
    }
   },
   "source": [
    "<a id=\"med_proy\"></a>\n",
    "<a id='dirac'></a>\n",
    "<table width=\"100%\">\n",
    "    <td style=\"font-size:25px;font-family:Helvetica;text-align:left;background-color:rgba(0,0,900, 0.3);\">\n",
    "<b>Medidas proyectivas</b>\n",
    "</table>   \n"
   ]
  },
  {
   "cell_type": "markdown",
   "id": "be187a92",
   "metadata": {
    "slideshow": {
     "slide_type": "-"
    }
   },
   "source": [
    "En el axioma de la medida se relaciona, de manera *un tanto difusa*, <u>un aparato de medida con un operador observable</u>\n",
    "<br>\n",
    "\n",
    "Por ejemplo, a un Stern Gerlach orientado en la dirección $z$ le hacemos corresponder el operador \n",
    "\n",
    "$$ S_z = \\frac{\\hbar}{2}\\sigma_z  = S_z^\\dagger$$\n",
    "\n",
    "Vamos a precisar un poco más para aclarar cómo aparece esta relación. Supongamos \n",
    "que: "
   ]
  },
  {
   "cell_type": "markdown",
   "id": "e02be6c7",
   "metadata": {
    "slideshow": {
     "slide_type": "fragment"
    }
   },
   "source": [
    "<br>\n",
    "\n",
    "- tenemos un dispositivo macroscópico que interactúa  con un sistema cuántico de dimensión $N = {\\rm dim }\\Hil$\n",
    "<br>\n",
    "\n",
    "- en cada interacción, <u>el aparato adopta <b>uno</b> de entre  <b>un conjunto discreto</b> de posibles estados clásicos</u>\n",
    "\n"
   ]
  },
  {
   "cell_type": "markdown",
   "id": "cbf568c1",
   "metadata": {
    "slideshow": {
     "slide_type": "slide"
    }
   },
   "source": [
    "Asumimos que es posible preparar el estado cuántico repetidamente de <u>la misma manera</u> y efectuar medidas \n",
    "\n",
    "En un primer escenario vamos a suponer que ocurre lo siguiente:\n",
    "\n",
    ">1.- $~$  hay número $N$ de resultados posibles. Podemos, por tanto, numerarlos $m=1,2,...,N$.\n",
    "<br>\n",
    "\n",
    ">2.- $~$ los resultados de $m$ obtenidos en <u>*la primera medida*</u> son aleatorios y siguen una cierta distribución de probabilidad $p(m)$\n",
    "<br>\n",
    "\n",
    ">3.- $~$ si se realiza una cadena de medidas sucesivas <u>iguales</u>, el resultado $m$ de la primera medición se repite <i>idénticamente</i>. \n",
    "<br> \n",
    "<br>\n",
    "Es decir $p(m|m) = 1$ y  $p(n|m) = 0$ si $n\\neq m$.\n",
    "<br>\n"
   ]
  },
  {
   "cell_type": "markdown",
   "id": "9cc2b617",
   "metadata": {
    "slideshow": {
     "slide_type": "fragment"
    }
   },
   "source": [
    "\n",
    "En este caso estamos *en presencia* de una **medida proyectiva**, o **de von Neumann** y podemos reconstruir el formalismo matemático asociado. \n"
   ]
  },
  {
   "cell_type": "markdown",
   "id": "2ff047be",
   "metadata": {
    "slideshow": {
     "slide_type": "slide"
    }
   },
   "source": [
    "De las observaciónes anteriores  <b>podemos sacar conclusiones</b>. Denotemos $\\ket{\\psi}$ el estado cuántico asociado a la preparación inicial. Al medir un resultado $m$:\n",
    "\n",
    "-   el <b>estado</b> ha cambiado $\\ket{\\psi} \\to \\ket{m}$, dado que la distribución de probabilidades se modifica  <i>en la medición posterior a  dicha medida</i>.\n",
    "<br>\n",
    "\n"
   ]
  },
  {
   "cell_type": "markdown",
   "id": "327f9c3c",
   "metadata": {
    "slideshow": {
     "slide_type": "fragment"
    }
   },
   "source": [
    "<br>\n",
    "\n",
    "- \n",
    " los  estados así generados <b>son ortogonales</b>. Una vez medido $m$, la probabilidad de encontrar $n\\neq m$ es nula\n",
    "<br>\n",
    "\n",
    "$$p(n|m) = |\\braket{n}{m}|^2 = \\delta_{mn}$$\n",
    "<br>\n",
    "<br>\n"
   ]
  },
  {
   "cell_type": "markdown",
   "id": "5fcb7d18",
   "metadata": {
    "slideshow": {
     "slide_type": "slide"
    }
   },
   "source": [
    "\n",
    "- no queda ni rastro del estado original $\\ket{\\psi}$  en $\\ket{m}$.\n",
    "<br>\n",
    "El hecho de que, después de la primera medida, el estado (la distribución de probabilidades) permanezca invariable, indica que la acción del aparato de medida sobre el estado inicial puede describirse mediante un <b>proyector</b> para cada $m$\n",
    "<br>\n",
    "<br>\n",
    "$$\n",
    "\\ket{\\psi} \\stackrel{m}{\\rightarrow} \\ket{m} \\sim P_m\\ket{\\psi} = P_m^2 \\ket{\\psi} = P_m^3\\ket{\\psi} = ...\n",
    "$$\n",
    "<br>\n",
    "Los proyectores asociados son ortogonales\n",
    "<br>\n",
    "<br>\n",
    "$$\n",
    "P_m P_n = \\ket{m}\\braket{m}{n}\\bra{n} = P_m \\delta_{mn}\n",
    "$$\n",
    "\n"
   ]
  },
  {
   "cell_type": "markdown",
   "id": "4616c303",
   "metadata": {
    "slideshow": {
     "slide_type": "fragment"
    }
   },
   "source": [
    "<br>\n",
    "\n",
    "La situación descrita aquí es un caso ideal de medida que se denomina *medida proyectiva*. Ahora\n",
    "podemos <u>*encapsular* toda la información relevante usando el *teorema de descomposición espectral*</u>"
   ]
  },
  {
   "cell_type": "markdown",
   "id": "1ab8210b",
   "metadata": {
    "slideshow": {
     "slide_type": "slide"
    }
   },
   "source": [
    "Efectivamente, con los *proyectores ortogonales* $\\{P_m\\}$ siempre podemos fabricar un *operador hermítico* si los combinamos con *autovalores reales*\n",
    "\n",
    "Existen infinitos aparatos capaces de realizar la misma medida. Cada uno asociará un valor numérico de medida $\\lambda_m$ a cada resultado $m$ posible, dependiendo de la escala con la que está construido. Entonces, el operador que contiene la información del aparato de medida es el *observable* \n",
    "\n",
    "$$\n",
    "A = \\sum_m \\lambda_m P_m\n",
    "$$\n",
    "\n",
    "cuyo valor esperado en el estado final $\\ket{m}$ delata el valor $\\lambda_m$ del resultado obtenido\n",
    "<br>\n",
    "<br>\n",
    "\n",
    "$$\n",
    "\\bra{m} A \\ket{m} = \\sum_n \\lambda_n \\bra{m}P_n\\ket{m} = \\sum_n \\lambda_n \\delta_{mn} = \\lambda_m\n",
    "$$"
   ]
  },
  {
   "cell_type": "markdown",
   "id": "39bf3a42",
   "metadata": {
    "slideshow": {
     "slide_type": "slide"
    }
   },
   "source": [
    "<div class=\"alert alert-block alert-danger\">\n",
    "<b>En resumen:</b> \n",
    "\n",
    "Una medida proyectiva está asociado a un conjunto $P_m, m=1,...,N$ de *proyectores ortogonales*.\n",
    "<br>\n",
    "<br>    \n",
    "    \n",
    "El <i>observable</i> sólo sirve para encapsular la información anterior.  \n",
    "<br>   \n",
    "    \n",
    "Sin embargo, las medidas proyectivas forman un límite ideal de la medida más general. \n",
    "\n",
    "<br>\n",
    "    \n",
    "Para entender en qué modo es así, debemos generalizar el formalismo para poder tener en cuenta situaciones reales. \n",
    "\n",
    "</div>"
   ]
  },
  {
   "cell_type": "markdown",
   "id": "f29d5f44",
   "metadata": {
    "slideshow": {
     "slide_type": "slide"
    }
   },
   "source": [
    "## El experimento de Stern Gerlach real"
   ]
  },
  {
   "cell_type": "markdown",
   "id": "2c527a93",
   "metadata": {
    "slideshow": {
     "slide_type": "-"
    }
   },
   "source": [
    "Volvamos sobre el caso de un electrón que atraviesa un Stern-Gerlach en el que el campo magnético está alineado en la dirección $z$.\n",
    "\n",
    "Nuestro modelo de evolución nos indica que, debido a la interacción con el campo $B_z$, las partículas\n",
    "\n",
    "-  con espín +$\\hbar/2$   sufrirán una fuerza deflectora hacia arriba.\n",
    "<br>\n",
    "<br>\n",
    "- con espín -$\\hbar/2$ sufrirán una fuerza deflectora hacia abajo.\n",
    "\n",
    "Por tanto, si a la salida, el electrón es detectado en la pantalla superior (inferior), decimos que hemos medido una componente del espín $+\\hbar/2$ ($-\\hbar/2$).\n"
   ]
  },
  {
   "cell_type": "markdown",
   "id": "e5ba3670",
   "metadata": {
    "slideshow": {
     "slide_type": "slide"
    }
   },
   "source": [
    "\n",
    "\n",
    "En realidad esta afirmación es excesiva: lo único que tenemos derecho a afirmar es que hemos medido  *la posición del electrón en la pantalla*\n",
    "\n",
    "\n",
    "Interpretar el Stern Gerlach como medidor del espín es más delicado y llevará a definir el concepto de **medida generalizada**.\n",
    "\n"
   ]
  },
  {
   "cell_type": "markdown",
   "id": "a1542154",
   "metadata": {
    "slideshow": {
     "slide_type": "slide"
    }
   },
   "source": [
    "### Experimento de Stern-Gerlach ideal:\n",
    "\n",
    "\n"
   ]
  },
  {
   "cell_type": "markdown",
   "id": "a4d16946",
   "metadata": {
    "slideshow": {
     "slide_type": "-"
    }
   },
   "source": [
    "\n",
    "<div>\n",
    "<img src=\"./figuras/Stern-Gerlach-3.png\" width=\"40*\" style=\"margin:auto\"/>\n",
    "</div>\n",
    "\n"
   ]
  },
  {
   "cell_type": "markdown",
   "id": "a29207c9",
   "metadata": {
    "slideshow": {
     "slide_type": "skip"
    }
   },
   "source": [
    "En la pantalla posterior al imán, la *función de onda orbital*$~~\\Rightarrow ~~\n",
    "\\psi(z) = \\braket{z}{\\psi}$ nos da la amplitud de probabilidad de hallar el electrón en la posición $z$\n",
    "\n",
    "\n"
   ]
  },
  {
   "cell_type": "markdown",
   "id": "1cf1627d",
   "metadata": {
    "slideshow": {
     "slide_type": "skip"
    }
   },
   "source": [
    "Si sólo estamos interesados en predecir si impactará en $~z>0~$ ó  en $~z<0~$ podemos <b>reducir el problema a un espacio de Hilbert de dimensión 2</b> \n",
    "<br>\n",
    "<br>\n",
    "\n",
    "\\begin{eqnarray}\n",
    "\\ket{\\psi} ~ &=& \\int_{-\\infty}^{+\\infty} dz \\ket{z}\\braket{z}{\\psi} ~= ~  \\int_{-\\infty}^0 dz \\ket{z}\\braket{z}{\\psi} + \\int_0^{+\\infty}dz \\ket{z}\\braket{z}{\\psi} \\\\\n",
    "&=&  \\int_0^{+\\infty}dz\\, \\psi(z) \\ket{z} ~+ ~\\int_{-\\infty}^0 dz\\, \\psi(z)\\ket{z}\n",
    "\\\\ \\rule{0mm}{10mm} &=& \n",
    "a\\ket{+} + b\\ket{-}\n",
    "\\end{eqnarray}"
   ]
  },
  {
   "cell_type": "markdown",
   "id": "a9bd5941",
   "metadata": {
    "slideshow": {
     "slide_type": "skip"
    }
   },
   "source": [
    "con $a^2 + b^2 = 1$\n",
    "$$\n",
    "a^2 = \\int_0^{+\\infty} dz |\\psi(z)|^2  ~~~~~~~~~.~~~~~~~~b^2 = \\int_{-\\infty}^0 dz |\\psi(z)|^2\n",
    "$$\n",
    " y \n",
    "$$\n",
    "\\ket{+} = \\frac{1}{a}\\int_0^{+\\infty}dz\\, \\psi(z) \\ket{z}~~~~~~~.~~~~~~~~\n",
    "\\ket{-} = \\frac{1}{b}\\int_{-\\infty}^0dz\\, \\psi(z) \\ket{z}~~~~~~~.~~~~~~~~\n",
    "$$\n",
    "<br>\n",
    "\n",
    "claramente $~\\braket{+}{+} = \\braket{-}{-} = 1~$ y $~\\braket{+}{-} = 0~$."
   ]
  },
  {
   "cell_type": "markdown",
   "id": "d95395f6",
   "metadata": {
    "slideshow": {
     "slide_type": "slide"
    }
   },
   "source": [
    "- Los estados $\\ket{+}$ están asociados a la detección en cualquier punto con $~z>0~$ y, a este evento le asignamos el valor +1. \n",
    "<br>\n",
    "<br>\n",
    "- Los estados $\\ket{-}$ están asociados a la detección en cualquier punto con $~z<0~$ y, a este evento le asignamos el valor -1. \n",
    "\n",
    "Esto hace de $\\ket{\\pm}$ autoestados del observable $Z$. \n"
   ]
  },
  {
   "cell_type": "markdown",
   "id": "8d13ba74",
   "metadata": {
    "slideshow": {
     "slide_type": "slide"
    }
   },
   "source": [
    "\n",
    "Vamos a estudiar cómo se ve el asunto desde el punto de vista de la variable de espín. \n",
    "\n",
    "El espín pertenece a un espacio $\\Hil_S$ de dimensión 2 en el que podemos tomar una base $\\{ \\ketup,\\ketdo\\}$"
   ]
  },
  {
   "cell_type": "markdown",
   "id": "671a046c",
   "metadata": {
    "slideshow": {
     "slide_type": "fragment"
    }
   },
   "source": [
    "- A la entrada del detector, no hay <u>ninguna correlación</u> entre ambos grados de libertad.\n",
    "<br>\n",
    "<br>\n",
    "El sistema se halla en un cierto estado de espín y centrado simétricamente  \n",
    "<br>\n",
    "\\begin{eqnarray}\n",
    "\\ket{\\chi} &=& \\ket{s}\\otimes \\ket{\\psi}  ~= ~ (c_\\uparrow\\ketup + c_\\downarrow \\ketdo)\\otimes  \\frac{1}{\\sqrt{2}}(\\ket{+} + \\ket{-})\n",
    "\\end{eqnarray}\n",
    "<br>\n",
    "donde $|c_\\uparrow|^2 + |c_\\downarrow|^2 = 1$."
   ]
  },
  {
   "cell_type": "markdown",
   "id": "6e74e2d4",
   "metadata": {
    "slideshow": {
     "slide_type": "fragment"
    }
   },
   "source": [
    "\n",
    "\n",
    "-   La <b>interacción</b> con el campo magnético induce una evolución que  <b>entrelaza</b> los estados $\\ket{\\uparrow}$ con $\\ket{+}$ y $\\ket{\\downarrow}$ con $\\ket{-}$ de forma que, a la salida\n",
    "<br>\n",
    "<br>\n",
    "$$\n",
    "\\ket{\\chi}  ~\\longrightarrow ~ \\ket{\\chi'}~ =~ c_\\uparrow \\ketup\\otimes \\ket{+} ~+~ c_\\downarrow \\ketdo\\otimes \\ket{-}  \n",
    "$$"
   ]
  },
  {
   "cell_type": "markdown",
   "id": "b5adb1cd",
   "metadata": {
    "slideshow": {
     "slide_type": "slide"
    }
   },
   "source": [
    "Si el detector superior o inferior hacen *click*, entonces se realiza una medida proyectiva a uno de los dos estados orbitales $\\pm 1 \\to \\{\\ket{\\pm}\\}$ \n",
    "\n",
    "Consecuentemente el <i>estado de espín</i> colapsa  a uno de los dos estados de la base\n",
    "\n",
    "$$\n",
    " (+1)~ : ~\\ket{\\chi'} \\, \\longrightarrow \\,  \\ket{\\uparrow} ~~~~~~~~~~~;~~~~~~~~~~ (-1)~ :~ \\ket{\\chi'} \\, \\longrightarrow \\,  \\ket{\\downarrow}\n",
    "$$\n",
    "\n"
   ]
  },
  {
   "cell_type": "markdown",
   "id": "af3eeaac",
   "metadata": {
    "slideshow": {
     "slide_type": "fragment"
    }
   },
   "source": [
    "La repetición permite reconstruir las amplitudes de la función de onda de espín\n",
    "\n",
    "$$\n",
    "p(+1) ~=~ |c_\\uparrow|^2 ~~~~~~~~~;~~~~~~~~~~ p(-1) ~=~ |c_\\downarrow|^2\n",
    "$$"
   ]
  },
  {
   "cell_type": "markdown",
   "id": "823caa36",
   "metadata": {
    "slideshow": {
     "slide_type": "fragment"
    }
   },
   "source": [
    "<div class=\"alert alert-block alert-warning\">\n",
    "<b>En resumen:</b> \n",
    "<br>\n",
    "    en un experimento de Stern-Gerlach ideal, la <i>medida proyectiva</i> de la componente orbital efectuada por el detector espacial, <i>equivale a una medida proyectiva del espín</i> descrita por el observable\n",
    "\n",
    "$$\n",
    "Z = (+1)\\, \\ketbra{\\!\\uparrow}{\\uparrow\\!}~ +~ (-1)\\, \\ketbra{\\!\\downarrow}{\\downarrow\\!}\n",
    "$$\n",
    "</div>"
   ]
  },
  {
   "cell_type": "markdown",
   "id": "dd75c76b",
   "metadata": {
    "slideshow": {
     "slide_type": "slide"
    }
   },
   "source": [
    "<a id=\"med_gen\"></a>\n",
    "<a id='dirac'></a>\n",
    "<table width=\"100%\">\n",
    "    <td style=\"font-size:25px;font-family:Helvetica;text-align:left;background-color:rgba(0,0,900, 0.3);\">\n",
    "<b>Medidas generalizadas</b>\n",
    "</table>   \n"
   ]
  },
  {
   "cell_type": "markdown",
   "id": "9c26ee6b",
   "metadata": {
    "slideshow": {
     "slide_type": "slide"
    }
   },
   "source": [
    "### Experimento de Stern-Gerlach real:\n",
    "\n",
    "En el experimento de Stern-Gerlach real la interacción con el campo magnético genera un entrelazamiento imperfecto, con unas funciones de onda que no tienen soporte en el las semirectas $~z>0~$ ó $~z<0~$ (ver figura) \n"
   ]
  },
  {
   "cell_type": "markdown",
   "id": "e89f3980",
   "metadata": {
    "slideshow": {
     "slide_type": "-"
    }
   },
   "source": [
    "<div>\n",
    "<img src=\"./figuras/Stern-Gerlach-4.png\" width=\"50*\" style=\"margin:auto\"/>\n",
    "</div>\n",
    "\n"
   ]
  },
  {
   "cell_type": "markdown",
   "id": "7fb5bf71",
   "metadata": {
    "slideshow": {
     "slide_type": "slide"
    }
   },
   "source": [
    "En este caso, el estado inicial es transformado por la interacción en un estado entrelazado\n",
    "<br>\n",
    "<br>\n",
    "\n",
    "$$\n",
    "\\ket{\\chi}  ~\\longrightarrow ~ \\ket{\\chi'} = c_\\uparrow \\ket{\\uparrow}\\otimes \\left( \\sqrt{1-p_0}\\,\\ket{+} + \\sqrt{p_0}\\,\\ket{-} \\right) + c_\\downarrow \\ket{\\downarrow}\\otimes \\left( \\sqrt{p_1}\\, \\ket{+} + \\sqrt{1-p_1}\\, \\ket{-} \\right)\n",
    "$$\n",
    "<br>\n",
    "\n",
    "\n",
    "Aquí $~0\\leq p_0, p_1\\leq 1~$ parametrizan la desviación vertical de la función de onda orbital\n"
   ]
  },
  {
   "cell_type": "markdown",
   "id": "712609c8",
   "metadata": {
    "slideshow": {
     "slide_type": "fragment"
    }
   },
   "source": [
    "<div class=\"alert alert-block alert-success\">\n",
    "<b>Ejercicio:</b> \n",
    " verifica que $\\|\\ket{\\chi'}\\| = 1$.\n",
    "</div>                               "
   ]
  },
  {
   "cell_type": "markdown",
   "id": "98574b1c",
   "metadata": {
    "slideshow": {
     "slide_type": "slide"
    }
   },
   "source": [
    "Si pretendemos medir el impacto en el semieje vertical, será mejor que escribamos $\\ket{\\chi'}$ en la forma\n",
    "<br>\n",
    "<br>\n",
    "\n",
    "$$\n",
    "\\ket{\\chi'} = \n",
    "\\left(  \\sqrt{1-p_0} c_\\uparrow \\ketup + \\sqrt{p_1} c_\\downarrow \\ketdo\\right) \\otimes \\,\\ket{+} ~+~ \\left( \\sqrt{p_0}\\,c_\\uparrow \\ketup  +  \\sqrt{1-p_1}c_\\downarrow  \\ketdo \\right)\\otimes \\ket{-}\n",
    "$$\n",
    "<br>\n",
    "\n",
    "\n",
    "\n",
    "Nuevamente una medida consiste en una señal que procede del detector de posición superior $\\ket{+}$ o del inferior  $\\ket{-}$\n"
   ]
  },
  {
   "cell_type": "markdown",
   "id": "3f9a8d9f",
   "metadata": {
    "slideshow": {
     "slide_type": "fragment"
    }
   },
   "source": [
    "La probabilidad de detección de $\\ket{+}$ ó $\\ket{-}$ viene dada por el módulo del vector que lo multiplica\n",
    "<br>\n",
    "\n",
    "\\begin{eqnarray} \n",
    "p(+1) &=& (1-p_0)|c_\\uparrow|^2 + p_1 |c_\\downarrow|^2  \\\\\n",
    "\\rule{0mm}{9mm}\n",
    "p(-1) &=& p_0 |c_\\uparrow|^2 + (1-p_1) |c_\\downarrow|^2\n",
    "\\end{eqnarray}\n",
    "\n",
    "<br>"
   ]
  },
  {
   "cell_type": "markdown",
   "id": "b91e77bb",
   "metadata": {
    "slideshow": {
     "slide_type": "slide"
    }
   },
   "source": [
    "**Medida no-proyectiva del espín**\n",
    "\n",
    "A continuación vamos a describir el experimento como <u>un proceso de medida directa del espín</u> que afecta al espín\n",
    "<br>\n",
    "\n",
    "\\begin{eqnarray}\n",
    "\\ket{s}  ~= ~ (c_\\uparrow\\ketup + c_\\downarrow \\ketdo) ~~\\stackrel{\\rm Stern Gerlach}{\\longrightarrow} ~~\n",
    "\\ket{s'}\n",
    "\\end{eqnarray}\n",
    "<br>\n"
   ]
  },
  {
   "cell_type": "markdown",
   "id": "a5a17987",
   "metadata": {
    "slideshow": {
     "slide_type": "-"
    }
   },
   "source": [
    "Introduzcamos los operadores\n",
    "<br>\n",
    "<br>\n",
    "\\begin{eqnarray}\n",
    "M_+ &=& \\sqrt{1-p_0} \\, \\ketup\\braup ~+~ \\sqrt{p_1} \\, \\ketdo\\brado \\\\\n",
    "\\rule{0mm}{8mm}\n",
    "M_- &=& \\sqrt{p_0} \\, \\ketup\\braup ~+~ \\sqrt{1-p_1} \\, \\ketdo\\brado \\\\\n",
    "\\end{eqnarray}\n",
    "<br>\n"
   ]
  },
  {
   "cell_type": "markdown",
   "id": "3a16734c",
   "metadata": {
    "slideshow": {
     "slide_type": "fragment"
    }
   },
   "source": [
    "<div class=\"alert alert-block alert-success\">\n",
    "<b>Ejercicio:</b> \n",
    "<br>\n",
    " verifica que $M_m$ ni son proyectores, ni son ortogonales. Prueba que satisfacen la relación siguiente\n",
    " <br>\n",
    " <br>   \n",
    " $$\n",
    " M_+^\\dagger M_+ + M_-^\\dagger M_- = I\n",
    " $$\n",
    "</div>  "
   ]
  },
  {
   "cell_type": "markdown",
   "id": "d79f17df",
   "metadata": {
    "slideshow": {
     "slide_type": "slide"
    }
   },
   "source": [
    "Veamos que dichas probabilidades ¡<u>son expresables en términos de </u> $M_\\pm$!\n",
    "<br>\n",
    "<br>\n",
    "\n",
    "\\begin{eqnarray} \n",
    "p(+1) &=& (1-p_0)|c_\\uparrow|^2 + p_1 |c_\\downarrow|^2 = \\bra{s}M_+^\\dagger M_+\\ket{s} \\\\\n",
    "\\rule{0mm}{18mm}\n",
    "p(-1) &=& p_0 |c_\\uparrow|^2 + (1-p_1) |c_\\downarrow|^2=  \\bra{s}M_-^\\dagger M_-\\ket{s} \n",
    "\\end{eqnarray}\n",
    "\n",
    "<br>\n",
    "\n"
   ]
  },
  {
   "cell_type": "markdown",
   "id": "b5023fbc",
   "metadata": {
    "slideshow": {
     "slide_type": "fragment"
    }
   },
   "source": [
    "Con respecto a los estados finales, el registro en cada detector hace  colapsar el estado inicial a un estado normalizado\n",
    "<br>\n",
    "\n",
    "\\begin{eqnarray}\n",
    "(+1)~:~ \\ket{s} ~&\\stackrel{\\rm Stern Gerlach}{\\longrightarrow}& ~\\ket{s_+} = \\frac{\\sqrt{1-p_0}\\, c_\\uparrow\\ket{\\uparrow} + \\sqrt{p_1}\\, c_\\downarrow\\ket{\\downarrow}) }{\\hbox{Norma}} ~ = ~ \\frac{M_+\\ket{s}}{\\bra{s}M_+^\\dagger M_+\\ket{s}}\\\\\n",
    "\\rule{0mm}{20mm}\n",
    "(-1)~:~ \\ket{s}~&\\stackrel{\\rm Stern Gerlach}{\\longrightarrow} & ~\\ket{s_-} = \\frac{\\sqrt{p_0}\\, c_\\uparrow\\ket{\\uparrow} + \\sqrt{1-p_1}\\, c_\\downarrow\\ket{\\downarrow}) }{\\hbox{Norma}} ~= ~\\frac{M_-\\ket{s}}{\\bra{s}M_-^\\dagger M_-\\ket{s}}  \\\\\n",
    "\\end{eqnarray}"
   ]
  },
  {
   "cell_type": "markdown",
   "id": "cef517c2",
   "metadata": {
    "slideshow": {
     "slide_type": "slide"
    }
   },
   "source": [
    "<div class=\"alert alert-block alert-warning\">\n",
    "<b>En resumen:</b> \n",
    "\n",
    "\n",
    "- en un experimento no-ideal, la medida proyectiva en el espacio orbital $\\Hil_B$ equivale a una medida no-proyectiva  en el espacio $\\Hil_S$ de espín. \n",
    "\n",
    "<br>\n",
    "\n",
    "- vemos como la medida proyectiva se recupera como un caso <i>ideal</i>  en el que $p_0 = p_1 = 0$. En este caso las medidas repetidas de la posición   $p(+1) = |c_\\uparrow|^2$ y $p(-1)=|c_\\downarrow|^2$ permiten una <i>identificación precisa</i> del estado de espín preparado incialmente $\\ket{s}$.\n",
    "<br> \n",
    "    \n",
    "-  en el otro extremo $p(+1) = p(-1) = 1/2$ tenemos que el estado que genera el Stern-Gerlach es factorizable\n",
    "$ \\frac{1}{\\sqrt{2}}\\ket{s}\\otimes (\\ket{+}+\\ket{-})$, y su medida no permite concluir nada acerca de $\\ket{s}$. Se trata de una <i>medida borrosa</i>.\n",
    "<br>\n",
    "\n",
    "    \n",
    "- En este sentido una <b>medida generalizada</b> es una medida <u>imprecisa</u> de un grado de libertad.\n",
    "</div>"
   ]
  },
  {
   "cell_type": "markdown",
   "id": "84e551e1",
   "metadata": {
    "slideshow": {
     "slide_type": "slide"
    }
   },
   "source": [
    "## Medida selectiva generalizada sobre un estado puro\n"
   ]
  },
  {
   "cell_type": "markdown",
   "id": "e1b3424c",
   "metadata": {
    "slideshow": {
     "slide_type": "-"
    }
   },
   "source": [
    "### $\\bullet$  Postulado III-b:    <a id='postul_III_medida'></a>\n",
    "<div class=\"alert alert-block alert-info\">\n",
    "<p style=\"text-align: left ;color: navy;\">    \n",
    "Una <i>medida geralizada selectiva</i> se describe mediante una <i> colección de   operadores lineales de medida </i>  $\\{ M_m \\}$  que verifican la <i>relación de completitud</i>\n",
    "<br>  \n",
    "$$\n",
    "\\sum_{m} M_m^\\dagger M_m = I \\, \n",
    "$$\n",
    "<br>  \n",
    "    Con cada proceso de medida, <u>un sólo resultado</u> $m$ será declarado. El estado (normalizado) posterior a la detección será\n",
    "<br>   \n",
    "$$\n",
    "\\ket{\\psi}  \\to  \\frac{M_m\\ket{\\psi}}{p(m)}\n",
    "$$\n",
    "<br> \n",
    "La probabilidad de medir el valor $m$ vendrá dada por \n",
    "<br>    \n",
    "<br>  \n",
    "$$\n",
    "p(m)  = \\bra{\\psi} M_m^\\dagger M_m \\ket{\\psi}\n",
    "$$\n",
    "<br>   \n",
    "</p>\n",
    "</div>\n",
    "    "
   ]
  },
  {
   "cell_type": "markdown",
   "id": "07a021fc",
   "metadata": {
    "slideshow": {
     "slide_type": "slide"
    }
   },
   "source": [
    "*Notar:*  \n",
    "- la relación de completitud es esencial para que las cantidades $p(m)$ tengan intepretación de probabilidades\n",
    "<br>\n",
    "\n",
    "$$\n",
    "\\sum_m p(m) = \\sum_m \\bra{\\psi}M_m^\\dagger M_m \\ket{\\psi} = \\braket{\\psi}{\\psi} = 1\n",
    "$$\n",
    "\n"
   ]
  },
  {
   "cell_type": "markdown",
   "id": "df884113",
   "metadata": {
    "slideshow": {
     "slide_type": "fragment"
    }
   },
   "source": [
    "- Las medidas proyectivas son casos particulares de medidas generalizadas en las que los operadores $M_m $ son proyectores ortogonales $M_m M_n = M_m \\delta_{mn}$. \n",
    " Por tanto hay  $N = {\\rm dim}\\, \\Hil$ resultados posibles.\n",
    "\n",
    "<br>\n",
    "\n"
   ]
  },
  {
   "cell_type": "markdown",
   "id": "3e8d097d",
   "metadata": {
    "slideshow": {
     "slide_type": "fragment"
    }
   },
   "source": [
    "\n",
    "-  La medidas proyectivas están asociadas a una *propiedad medible* del sistema ya que se borra todo rastro del estado entrante $\\ket{\\psi} \\to P_m\\ket{\\psi}/|P_m\\ket{\\psi}| = P^2_m\\ket{\\psi}/|P_m\\ket{\\psi}| = ... $ \n",
    "<br>\n",
    "\n"
   ]
  },
  {
   "cell_type": "markdown",
   "id": "f58682fb",
   "metadata": {
    "slideshow": {
     "slide_type": "fragment"
    }
   },
   "source": [
    "\n",
    "- Las medidas generalizadas no están asociadas a una *propiedad medible*. El estado final depende del entrante $\\ket{\\psi} \\neq  M_m\\ket{\\psi}/|M_m\\ket{\\psi}| \\neq  M^2_m\\ket{\\psi}/|M^2_m\\ket{\\psi}|\\neq ...$\n"
   ]
  },
  {
   "cell_type": "markdown",
   "id": "5acb9873",
   "metadata": {
    "slideshow": {
     "slide_type": "slide"
    }
   },
   "source": [
    "## Medidas generalizadas en estados mezclados</b>  \n"
   ]
  },
  {
   "cell_type": "markdown",
   "id": "eebf8250",
   "metadata": {
    "slideshow": {
     "slide_type": "-"
    }
   },
   "source": [
    "\n",
    "### Medida selectiva\n",
    "\n",
    "Supongamos que,  en un sistema descrito por el estado mezclado\n",
    "\n",
    "$$\n",
    "\\rho = \\sum_i p_i \\ket{\\psi_i}\\bra{\\psi_i}\n",
    "$$\n",
    "\n",
    "actuamos con una serie de operadores de medida  $\\{M_m\\}$. \n",
    "\n",
    "Cada vez que obtenemos un resultado $m$, lo anotamos, con el objeto de hacer estadística. Esto es una *medida selectiva*"
   ]
  },
  {
   "cell_type": "markdown",
   "id": "affc6f9c",
   "metadata": {
    "slideshow": {
     "slide_type": "slide"
    }
   },
   "source": [
    "<div class=\"alert alert-block alert-info\">\n",
    "    <p style=\"text-align: left ;color: navy;\">  <b>Teorema:</b> \n",
    "<br>    \n",
    "<br>        \n",
    "El resultado de una <i>medida selectiva generalizada</i> $\\{M_m\\}$ sobre un estado $\\rho$  puede dar un resultado $m$ con probabilidad\n",
    "<br>\n",
    "<br>    \n",
    "$$\n",
    "p(m) = \\tr\\left(M_m^\\dagger M_m \\rho\\right)\n",
    "$$\n",
    "<br>    \n",
    "Posteriormente a la detección de dicho resultado, el sistema colapsa a un nuevo estado\n",
    "<br>\n",
    "<br>    \n",
    "$$\n",
    "\\rho_m =  \\frac{M_m  \\rho M_m^\\dagger}{p_m} \n",
    "$$\n",
    "<br>   \n",
    "</p>\n",
    "</div>     \n",
    "\n",
    "    "
   ]
  },
  {
   "cell_type": "markdown",
   "id": "83e57625",
   "metadata": {
    "slideshow": {
     "slide_type": "slide"
    }
   },
   "source": [
    "*Prueba:*\n",
    "$~~$ Sea $\\rho = \\sum_i p_i \\ketbra{\\psi_i}{\\psi_i}$ el estado que entra en el detector. \n",
    "\n",
    "La  *probabilidad* de obtener el resultado $m$ *condicionada* a que el estado sobre el que se mide sea $\\ket{\\psi_i}$ es\n",
    "\n",
    "\n",
    "$$\n",
    "p(m|i) = \\bra{\\psi_i}M^\\dagger_m M_m \\ket{\\psi_i}\n",
    "$$"
   ]
  },
  {
   "cell_type": "markdown",
   "id": "da5da0c5",
   "metadata": {
    "slideshow": {
     "slide_type": "fragment"
    }
   },
   "source": [
    "Ahora podemos calcular la probabilidad total de obtención del valor $m$ al medir sobre el colectivo\n",
    "\n",
    "\\begin{eqnarray}\n",
    "p_m &=& \\sum_i p(m|i) p_i = \\sum_{i=1}^r \\bra{\\psi_i}M^\\dagger_m M_m \\ket{\\psi_i} p_i \\\\\n",
    "&=& \\tr \\left( M_m^\\dagger M \\sum_{i=1}^r p_i \\ketbra{\\psi_i}{\\psi_i} \\right) \\\\  \\rule{0mm}{7mm}\n",
    "&=& \\tr \\left( M_m^\\dagger M_m \\rho \\right) \\\\   \\rule{0mm}{8mm}\n",
    "\\end{eqnarray}"
   ]
  },
  {
   "cell_type": "markdown",
   "id": "a25b6cd6",
   "metadata": {
    "slideshow": {
     "slide_type": "slide"
    }
   },
   "source": [
    "Veamos cómo se transforma el estado. \n",
    "Supongamos que la medida arroja el valor $m$. Este resultado puede provenir de <u>cualquier miembro del colectivo</u> \n",
    "\n",
    "$$\n",
    "\\ket{\\psi_i} ~\\to ~  \\ket{\\psi_i^m} = \\frac{M_m\\ket{\\psi_i}}{\\sqrt{p(m|i)}}\n",
    "$$"
   ]
  },
  {
   "cell_type": "markdown",
   "id": "62a38c6f",
   "metadata": {
    "slideshow": {
     "slide_type": "fragment"
    }
   },
   "source": [
    "con una probabilidad condicionada $p(i|m)$ de $-$sabiendo que el resultado es $m-$  haya sido $\\ket{\\psi_i}$ el estado que entró en el detector."
   ]
  },
  {
   "cell_type": "markdown",
   "id": "6128bd8c",
   "metadata": {
    "slideshow": {
     "slide_type": "fragment"
    }
   },
   "source": [
    "En definitiva, una medida $m$ modifica el colectivo en la forma\n",
    "\n",
    "$$\n",
    "\\{\\, \\ket{\\psi_i},p_i \\, \\} ~~~\\to ~~~ \\{\\, \\ket{\\psi^m_i},p(i|m)\\, \\}\n",
    "$$"
   ]
  },
  {
   "cell_type": "markdown",
   "id": "e35ce0b7",
   "metadata": {
    "slideshow": {
     "slide_type": "fragment"
    }
   },
   "source": [
    "Las probabilidades condicionadas $~p(m|i)~$ y $~p(i|m)~$ se relacionan mediante la **regla de Bayes**\n",
    "\n",
    "$$\n",
    "p(m|i)p_i  = p(m,i) = p(i,m) = p(i|m) p_m\n",
    "$$\n",
    "es decir\n",
    "\n",
    "$$\n",
    "\\frac{p(m|i)}{p(i|m)} = \\frac{p_i}{p_m}\n",
    "$$\n"
   ]
  },
  {
   "cell_type": "markdown",
   "id": "8ff0cd49",
   "metadata": {
    "slideshow": {
     "slide_type": "slide"
    }
   },
   "source": [
    "*En resumen*:\n",
    "tras una medida selectiva en la que *observamos* el resultado $m$, la descripción del sistema vendrá dada por un nuevo operador densidad\n",
    "<br>\n",
    "\n",
    "\\begin{eqnarray}\n",
    " \\rho_m &=& \\sum_i p(i|m) \\,\\ketbra{\\psi_i^m}{\\psi_i^m} \\\\\n",
    "&=&\\sum_i p(i|m) \\frac{M_m\\ketbra{\\psi_i}{\\psi_i}M_m^\\dagger}{p(m|i)}  \\\\\n",
    "&=&  \\sum_i \\frac{p_i}{p_m} M_m\\ketbra{\\psi_i}{\\psi_i}M_m^\\dagger  = \\frac{1}{p_m}M_m\\left(\\sum_i p_i \\ketbra{\\psi_i}{\\psi_i} \\right) M_m^\\dagger\\\\\n",
    "&=& \\frac{M_m  \\rho M_m^\\dagger}{p_m} \n",
    "\\end{eqnarray}\n",
    "\n"
   ]
  },
  {
   "cell_type": "markdown",
   "id": "9278988b",
   "metadata": {
    "slideshow": {
     "slide_type": "slide"
    }
   },
   "source": [
    "### Medida no selectiva"
   ]
  },
  {
   "cell_type": "markdown",
   "id": "a7ca529b",
   "metadata": {
    "slideshow": {
     "slide_type": "-"
    }
   },
   "source": [
    "Supongamos que después de muchas medidas selectivas $m_1,m_2,....$ de un estado $\\rho$ obtenemos las probabilidades $\\{p(m_i)\\sim m_i/\\sum_i m_i\\}$  asociada a los resultados de las medidas\n",
    "<br>"
   ]
  },
  {
   "cell_type": "markdown",
   "id": "1255c61f",
   "metadata": {
    "slideshow": {
     "slide_type": "fragment"
    }
   },
   "source": [
    "Ahora preparamos de nuevo $\\rho$ y realizamos una medida en la que  <b>no registramos</b> el resultado. Es decir, sólo sabemos que el sistema ha sido medido.\n",
    "\n"
   ]
  },
  {
   "cell_type": "markdown",
   "id": "36cbc6b1",
   "metadata": {
    "slideshow": {
     "slide_type": "fragment"
    }
   },
   "source": [
    "Entonces la *mejor descripción del sistema* es un nuevo estado $\\rho'$ que es <i> separable</i>\n",
    "\n",
    "\\begin{eqnarray}\n",
    "\\rho' &=& \\sum_m p_m \\rho_m = \\sum_m p_m \\frac{M_m  \\rho M_m^\\dagger}{p_m}  \\\\\n",
    "&=& \\sum_m M_m  \\rho M_m^\\dagger\n",
    "\\end{eqnarray}"
   ]
  },
  {
   "cell_type": "markdown",
   "id": "54812b57",
   "metadata": {
    "slideshow": {
     "slide_type": "slide"
    }
   },
   "source": [
    "<div class=\"alert alert-block alert-warning\",text-align:center>\n",
    "<b>Ejemplo:</b>\n",
    "En el experimento de EPR, el estado inicial que comparten Alice y Bob es  puro \n",
    "    \n",
    "$$\n",
    "\\rho = \\ketbra{B_{11}}{B_{11}} = \\frac{1}{\\sqrt{2}}\\begin{pmatrix}0\\\\1\\\\-1\\\\0\\end{pmatrix}\n",
    "\\frac{1}{\\sqrt{2}}\\begin{pmatrix}0 & 1 & -1&0 \\end{pmatrix} = \\begin{pmatrix} 0&0&0&0 \\\\ 0&\\frac{1}{2}&-\\frac{1}{2}&0 \\\\ 0&-\\frac{1}{2}&\\frac{1}{2}&0 \\\\ 0&0&0&0 \\end{pmatrix}\n",
    "$$\n",
    "    \n",
    "Alice <u>mide</u>, pero Bob <u>desconoce el resultado</u>. Para él se trata de una medida no-selectiva donde el nuevo estado compartido será \n",
    "$$\n",
    "\\rho' ~=~ P_0^A \\rho P_0^A + P_1^A \\rho P_1^A ~=~ \\ketbra{0}{0} \\otimes I \\cdot \\rho \\cdot \\ketbra{0}{0}\\otimes I + \\ketbra{1}{1}\\otimes I\\cdot \\rho\\cdot \\ketbra{1}{1}\\otimes I  ~=~ \\begin{pmatrix} 0&0&0&0 \\\\ 0&\\frac{1}{2}&0&0 \\\\ 0&0&\\frac{1}{2}&0 \\\\ 0&0&0&0 \\end{pmatrix}\n",
    "$$\n",
    "<br>\n",
    "\n",
    "Vemos que se han perdido las coherencias $\\rho_{i\\neq j}$ y el resultado es una mezcla estadística con pureza $\\tr \\rho'^2 = 1/2$.\n",
    "<br> \n",
    "    \n",
    "Las probabilidades de medida para Bob vienen controladas por la matriz densidad reducida $\\rho_B$.\n",
    "    \n",
    "Es relevante ver que éstas <b>no dependen de lo que haya hecho Alice</b>\n",
    "<br> \n",
    "    \n",
    "$$\n",
    "\\rho_B = \\tr_A \\rho = \\tr_A \\rho' = \\begin{pmatrix} \\frac{1}{2} &0 \\\\ 0 & \\frac{1}{2} \\end{pmatrix}\n",
    "$$    \n",
    "lo cual es importante, porque, de lo contrario, podríamos utilizarlo para efectuar una comunicación instantánea.\n",
    "    \n",
    "</div>"
   ]
  },
  {
   "cell_type": "markdown",
   "id": "69cfd1eb",
   "metadata": {
    "slideshow": {
     "slide_type": "slide"
    }
   },
   "source": [
    "<a id=\"povms\"></a>\n",
    "<a id='dirac'></a>\n",
    "<table width=\"100%\">\n",
    "    <td style=\"font-size:25px;font-family:Helvetica;text-align:left;background-color:rgba(0,0,900, 0.3);\">\n",
    "<b>POVMs</b>\n",
    "</table>   \n"
   ]
  },
  {
   "cell_type": "markdown",
   "id": "bbe9d1a7",
   "metadata": {
    "slideshow": {
     "slide_type": "fragment"
    }
   },
   "source": [
    "A partir de una medida generalizada definida mediante operadores $\\{M_m\\}$ podemos definir un conjunto de nuevos operadores\n",
    "\n",
    "$$\n",
    "E_m = M_m^\\dagger M_m\n",
    "$$\n",
    "\n",
    "que implementan las denominadas  *Medidas Evaluadas por Operadores Positivos* POVM"
   ]
  },
  {
   "cell_type": "markdown",
   "id": "d55872fe",
   "metadata": {
    "slideshow": {
     "slide_type": "slide"
    }
   },
   "source": [
    "Notar que\n",
    "\n",
    "- son operadores hermíticos \n",
    "\n",
    "$$E_m^\\dagger = E_m$$\n",
    "\n",
    "- son operadores positivos \n",
    "<br>\n",
    "\n",
    "$$\\bra{\\psi}E_m\\ket{m} = \\bra{\\psi}M_m^\\dagger M_m\\ket{m} = |M_m\\ket{\\psi}|^2 \\geq 0 $$\n",
    "- verifican la *relación de completitud* \n",
    "\n",
    "$$\\sum_m E_m = I$$"
   ]
  },
  {
   "cell_type": "markdown",
   "id": "91a84df0",
   "metadata": {
    "slideshow": {
     "slide_type": "slide"
    }
   },
   "source": [
    "Un POVM es un concepto más *grueso* que un *operador generalizado*. \n",
    "\n",
    "En particular *sólo sirve para calcular probabilidades* de ocurrencia de un cierto resultado\n",
    "\n",
    "$$\n",
    "p(m) = \\bra{\\psi} E_m \\ket{\\psi}\n",
    "$$"
   ]
  },
  {
   "cell_type": "markdown",
   "id": "a01556fc",
   "metadata": {
    "slideshow": {
     "slide_type": "fragment"
    }
   },
   "source": [
    "Genéricamente están asociados a *medidas destructivas* en las que ya no existe el estado posterior."
   ]
  },
  {
   "cell_type": "markdown",
   "id": "d4d7d947",
   "metadata": {
    "slideshow": {
     "slide_type": "skip"
    }
   },
   "source": [
    "La relación entre POVM's y operadores de medida no es unívoca\n",
    ": a un POVM le podemos asociar infinitos operadores de medida\n",
    "\n"
   ]
  },
  {
   "cell_type": "markdown",
   "id": "e2c1f701",
   "metadata": {
    "slideshow": {
     "slide_type": "skip"
    }
   },
   "source": [
    "Como $E_m$ son operadores positivos, es posible definir su raíz cuadrada $\\sqrt{E_m}$, (usando la descomposición espectral)\n",
    "\n",
    "Entonces, para cualquier unitario $U$ podemos definir un operador\n",
    "<br>\n",
    "<br>\n",
    "$$\n",
    "M_m = U\\sqrt{E_m}\n",
    "$$\n",
    "\n",
    "que verifica ser un operador de medida asociado a $E_m$\n",
    "<br>\n",
    "<br>\n",
    "$$\n",
    "M_m^\\dagger M_m = \\sqrt{E_m}U^\\dagger U \\sqrt{E_m} = E_m\n",
    "$$\n"
   ]
  },
  {
   "cell_type": "markdown",
   "id": "c1acec29",
   "metadata": {
    "slideshow": {
     "slide_type": "skip"
    }
   },
   "source": [
    "Después de una medida, el estado es\n",
    "$$\n",
    "\\ket{\\psi} \\to \\ket{\\psi_m} = \\frac{U\\sqrt{E_m}\\ket{\\psi}}{p(m)}\n",
    "$$"
   ]
  },
  {
   "cell_type": "markdown",
   "id": "cd675239",
   "metadata": {
    "slideshow": {
     "slide_type": "slide"
    }
   },
   "source": [
    "**POVM en el experimento de Stern Gerlach real**\n",
    "\n",
    "Recordemos que, en este caso no-ideal, el detector efectúa las medidas generalizadas \n",
    "<br>\n",
    "<br>\n",
    "\n",
    "\\begin{eqnarray}\n",
    "M_+ &=& \\sqrt{1-p_0} \\, \\ketup\\braup ~+~ \\sqrt{p_1} \\, \\ketdo\\brado \\\\\n",
    "\\rule{0mm}{14mm}\n",
    "M_- &=& \\sqrt{p_0} \\, \\ketup\\braup ~+~ \\sqrt{1-p_1} \\, \\ketdo\\brado \\\\\n",
    "\\end{eqnarray}\n",
    "<br>\n",
    "\n",
    "asociadas a las medidas $+1$ y $-1$ en el detector de posición\n",
    "<br>"
   ]
  },
  {
   "cell_type": "markdown",
   "id": "94092afd",
   "metadata": {
    "slideshow": {
     "slide_type": "slide"
    }
   },
   "source": [
    "Los POVMS asociados a estas medidas son    \n",
    "    \n",
    "\\begin{eqnarray}\n",
    "E_+ = M_+^\\dagger M_+&=& (1-p_0)\\ketbra{\\uparrow}{\\uparrow} + p_1 \\ketbra{\\downarrow}{\\downarrow} \\\\\n",
    "\\rule{0mm}{10mm}\n",
    "E_- = M_-^\\dagger M_-&=& p_0\\ketbra{\\uparrow}{\\uparrow} + (1- p_1) \\ketbra{\\downarrow}{\\downarrow}    \n",
    "\\end{eqnarray}\n",
    "<br>\n",
    "<br>\n",
    "que sólo sirven para reconstruir las probabilidades\n",
    "\n",
    "\\begin{eqnarray}\n",
    "p(+1) &=& \\bra{s}E_+ \\ket{s} \\\\ \\rule{0mm}{10mm}\n",
    "p(-1) &=& \\bra{s} E_- \\ket{s}\n",
    "\\end{eqnarray}\n"
   ]
  },
  {
   "cell_type": "markdown",
   "id": "c158273c",
   "metadata": {
    "slideshow": {
     "slide_type": "fragment"
    }
   },
   "source": [
    "Cada proyector se correspondería físicamente con un semi-detector que sólo tienen *pantalla de detección* en la parte superior o inferior respectivamente. \n"
   ]
  },
  {
   "cell_type": "markdown",
   "id": "22b77fe1",
   "metadata": {
    "slideshow": {
     "slide_type": "skip"
    }
   },
   "source": [
    "Es inmediato comprobar que \n",
    "    \n",
    "$$\n",
    "M_+ = \\sqrt{E_+} ~~~~~,~~~~~~ M_- = \\sqrt{E_-}\n",
    "$$\n",
    "    \n",
    "Estos operadores de medida forman parte de una familia de <i>medidas generalizadas</i>\n",
    "<br>\n",
    "\n",
    "$$\n",
    "\\tilde M_+ = U_+ \\sqrt{E_+} ~~~~~,~~~~~~ \\tilde M_- = U_- \\sqrt{E_-}\n",
    "$$\n",
    "\n",
    "donde $U_+$ y $U_-$ son operadores unitarios.\n"
   ]
  },
  {
   "cell_type": "markdown",
   "id": "9821c58d",
   "metadata": {
    "slideshow": {
     "slide_type": "slide"
    }
   },
   "source": [
    "#### Ejemplo:  POVM a partir de proyectores no ortogonales.\n",
    "   \n",
    "Ya sabemos que, con una colección de proyectores ortogonales podemos construir un observable \n",
    "\n",
    "Este es el caso de un <i>Stern-Gerlach</i> *ideal* orientado en la dirección  $\\hat\\bn$, el cual realiza una medida proyectiva asociada a un observable \n",
    "\n",
    "$$S = \\hat\\bn\\cdot \\bsig  = + P_{+\\hat\\bn}-P_{-\\hat\\bn}$$ \n",
    "\n",
    "donde  \n",
    "\n",
    "$$P_{\\pm\\hat\\bn} = \\frac{1}{2}\\left( I \\pm \\hat\\bn\\cdot \\bsig \\right) = \\ketbra{\\pm,\\hat\\bn}{\\pm,\\hat\\bn}$$ \n",
    "<br>\n",
    "\n"
   ]
  },
  {
   "cell_type": "markdown",
   "id": "c7c0040e",
   "metadata": {
    "slideshow": {
     "slide_type": "slide"
    }
   },
   "source": [
    "Ahora vamos a considerar una <i>colección de $r$ vectores unitarios </i> $\\{\\hat\\bn_i\\}\\, $, \n",
    "y  numeros reales positivo $c_i\\in [0,1), ~i=1,...,r$ que verifican las dos condiciones siguientes\n",
    "\n",
    "$$\n",
    "\\sum_{i=1}^r c_i = 1 ~~~~~~\\hbox{y} ~~~~~~~\\sum_{i=1}^r c_i \\hat\\bn_i = 0\n",
    "$$\n",
    "\n",
    "Con cada dirección podemos asociar un proyector\n",
    "\n",
    "$$P_{\\hat\\bn_i} =  \\frac{1}{2}\\left( I + \\hat\\bn_i\\cdot \\bsig \\right) = \\ketbra{+,\\hat\\bn_i}{+,\\hat\\bn_i} $$\n",
    "\n"
   ]
  },
  {
   "cell_type": "code",
   "execution_count": 18,
   "id": "c0f3bfeb",
   "metadata": {
    "run_control": {
     "marked": true
    },
    "slideshow": {
     "slide_type": "slide"
    }
   },
   "outputs": [
    {
     "data": {
      "image/png": "[encoded data removed]",
      "text/plain": [
       "<Figure size 800x800 with 1 Axes>"
      ]
     },
     "metadata": {},
     "output_type": "display_data"
    }
   ],
   "source": [
    "# Ejemplo, la estrella de Mercedes Benz\n",
    "\n",
    "c = [1/3,1/3,1/3]\n",
    "n0 = [0,1]\n",
    "n1 = [np.sin(4*np.pi/3),np.cos(4*np.pi/3)]\n",
    "n2 = [np.sin(8*np.pi/3),np.cos(8*np.pi/3)]\n",
    "\n",
    "\n",
    "tQ.plot_2D_plane(left=-1,right=1,up=1,down=-1) #cambiar las dimensiones para que encuadrar la figura\n",
    "tQ.draw_vector(n0[0],n0[1],'b')\n",
    "tQ.draw_vector(n1[0],n1[1],vcolor='r')\n",
    "tQ.draw_vector(n2[0],n2[1],vcolor='g')\n"
   ]
  },
  {
   "cell_type": "markdown",
   "id": "aab501fe",
   "metadata": {
    "slideshow": {
     "slide_type": "slide"
    }
   },
   "source": [
    "Con esta geometría es inmediato comprobar que la colección de semi-detectores $P_{\\hat\\bn_i}$ permite definir un POVM $\\{E_i\\}$ con\n",
    "\n",
    "$$  E_i = 2 c_i P_{\\hat\\bn_i}$$\n",
    "    \n",
    "Efectivamente, cada $E_i$ es \n",
    "- hermítico, \n",
    "<br>\n",
    "\n",
    "- tiene autovalores no-negativos $\\{2c_i,0\\}$ y verifica que\n",
    "<br>\n",
    "\n",
    "-  verifica \n",
    "$\n",
    "\\sum_{i} E_i = \\sum_i 2 c_i P_i = \\left( \\sum_{i=1}^r c_i I + \\sum_{i=1}^r c_i \\hat\\bn_i \\cdot \\bsig\\right) = I\n",
    "$\n"
   ]
  },
  {
   "cell_type": "markdown",
   "id": "71e1da8f",
   "metadata": {
    "slideshow": {
     "slide_type": "skip"
    }
   },
   "source": [
    "Notar que, en general, los operadores  $E_i$ no son, ni proyectores, ni ortogonales, si los vectores $\\hat\\bn_i$ no lo son. Tenemos\n",
    "<br>\n",
    "\n",
    "$$\n",
    "E_i E_j = 4 c_i c_j \\braket{\\hat\\bn_i}{\\hat\\bn_j}\\ket{\\hat\\bn_i}\\bra{\\hat\\bn_j} \\neq E_i \\delta_{ij}\n",
    "$$\n",
    "\n",
    "<br>\n"
   ]
  },
  {
   "cell_type": "markdown",
   "id": "5b5f61d6",
   "metadata": {
    "slideshow": {
     "slide_type": "slide"
    }
   },
   "source": [
    "<a id=\"disting_estados\"></a>\n",
    "<a id='dirac'></a>\n",
    "<table width=\"100%\">\n",
    "    <td style=\"font-size:25px;font-family:Helvetica;text-align:left;background-color:rgba(0,0,900, 0.3);\">\n",
    "<b>Distinguibilidad de estados</b>\n",
    "</table>   \n"
   ]
  },
  {
   "cell_type": "markdown",
   "id": "536cc928",
   "metadata": {
    "slideshow": {
     "slide_type": "-"
    }
   },
   "source": [
    "Hacer la tomografía completa de un estado cuántico es una tarea ardua. Requiere  realizar muchas mediciones para reconstruir los coeficientes en la base asociada al aparato de medida. \n",
    "\n",
    "\n",
    "El teorema de no-clonación hace que tengamos, necesariamente, que pasar por la tarea de preparar el estado cada vez que repetimos la medida. Si el estado está muy entrelazado, esta tarea puede ser muy costosa."
   ]
  },
  {
   "cell_type": "markdown",
   "id": "a5cdb193",
   "metadata": {
    "slideshow": {
     "slide_type": "fragment"
    }
   },
   "source": [
    "Un problema de menor entidad que *reconstruir* un estado es *reconocer* un estado \n",
    "\n",
    "Supongamos que pretendemos dar una respuesta Si/No a la pregunta acerca de si un sistema se encuentra en un determinado estado $\\ket{\\psi}$. ¿Existe un POVM  (adaptado a $\\ket{\\psi}$) capaz de  hacer esta tarea?\n",
    "\n",
    "El siguiente teorema demuestra que no.\n"
   ]
  },
  {
   "cell_type": "markdown",
   "id": "2ef82fd9",
   "metadata": {
    "slideshow": {
     "slide_type": "slide"
    }
   },
   "source": [
    "<div class=\"alert alert-block alert-info\">\n",
    "<p style=\"text-align: left ;color: navy;\">    \n",
    "    <b> Teorema: </b> es imposible,  mediante una sola medida, <i>discernir</i> si un cierto objeto cuántico se encuentra en un estado $\\ket{\\psi}$ o no.\n",
    "<br>\n"
   ]
  },
  {
   "cell_type": "markdown",
   "id": "fd3a2a34",
   "metadata": {
    "slideshow": {
     "slide_type": "fragment"
    }
   },
   "source": [
    "*Demostración:*\n",
    "\n",
    "Lo probaremos por reducción al absurdo: supongamos que existe POVM, $\\{E_m\\}$, tal que, una medida concreta $ m_0$, \n",
    "<br>\n",
    "<br>\n",
    "$\\bullet$ con certidumbre total <b>sí ocurre</b>   cuando el estado $\\ket{\\psi}$ está presente, \n",
    "<br>\n",
    "<br>    \n",
    "$$ p_\\psi( m_0) = \\bra{\\psi}E_{ m_0}\\ket{\\psi} =1 $$\n",
    "<br>\n",
    "$\\bullet$ con certidumbre total <b>no ocurre</b> cuando el objeto se encuentra en cualquier otro estado $\\ket{\\chi}\\neq \\ket{\\psi}$\n",
    "<br>\n",
    "<br>\n",
    "$$ p_\\chi(m_0) = \\bra{\\chi}E_{m_0}\\ket{\\chi} = 0$$\n"
   ]
  },
  {
   "cell_type": "markdown",
   "id": "6ca17f07",
   "metadata": {
    "slideshow": {
     "slide_type": "slide"
    }
   },
   "source": [
    "Podemos ahora hacer uso de una propiedad de los POVMs que se demostrará aparte: para cualesquiera estados $\\ket{\\psi}, \\ket{\\chi}$ se cumplen las implicaciones\n",
    "<br>\n",
    "\n",
    "\\begin{eqnarray}\n",
    "\\bra{\\psi}E_{m}\\ket{\\psi} = 1 ~~~~&\\Longleftrightarrow &~~~~E_{m} \\ket{\\psi} =  \\ket{\\psi} \\\\ \\rule{0mm}{6mm}\n",
    "\\bra{\\chi}E_{m}\\ket{\\chi} = 0 ~~~~&\\Longleftrightarrow &~~~~E_{m} \\ket{\\chi} = 0 \\\\\n",
    "\\end{eqnarray}\n",
    "\n"
   ]
  },
  {
   "cell_type": "markdown",
   "id": "714e6d37",
   "metadata": {
    "slideshow": {
     "slide_type": "fragment"
    }
   },
   "source": [
    "Ahora podemos ver que, necesariamente, $\\ket{\\psi}$ y $\\ket{\\chi}$ deben ser ortogonales\n",
    "<br>\n",
    "<br>\n",
    "$$\n",
    "\\braket{\\psi}{\\chi} =  \\big(\\bra{\\psi}E_{m}\\big)  \\ket{\\chi} =  \\bra{\\psi}\\big( E_{m} \\ket{\\chi}\\big) = 0 \n",
    "$$\n",
    "<br>\n",
    "Por ser  $\\ket{\\chi}\\neq \\ket{\\psi} $ un <u>estado arbitrario</u>, la condición de ortogonalidad no será cierta en general, lo cual prueba el teorema.\n",
    "\n",
    "<br>"
   ]
  },
  {
   "cell_type": "markdown",
   "id": "ede92910",
   "metadata": {},
   "source": [
    "<div class=\"alert alert-block alert-success\">\n",
    "<b>Ejercicio:</b> \n",
    "<br>\n",
    " Muestra que si $E$ es un elemento de un POVM, para cualquier estado normalizado $\\ket{\\phi}$ se cumple la siguiente doble implicación\n",
    " \n",
    "$$\n",
    "\\bra{\\phi} E \\ket{\\phi} = \\mu ~~~~\\Longleftrightarrow ~~~E\\ket{\\phi} = \\mu \\ket{\\phi}\n",
    "$$\n",
    " \n",
    "donde $\\mu =0,1 $.\n",
    "</div> "
   ]
  },
  {
   "cell_type": "markdown",
   "id": "e5e8e1c5",
   "metadata": {
    "slideshow": {
     "slide_type": "slide"
    }
   },
   "source": [
    "### Distinguibilidad dentro de un conjunto"
   ]
  },
  {
   "cell_type": "markdown",
   "id": "cb8e08c0",
   "metadata": {
    "slideshow": {
     "slide_type": "-"
    }
   },
   "source": [
    "La respuesta negativa anterior se debe a la *arbitrariedad infinita* de $\\ket{\\chi}\\neq \\ket{\\psi}$.\n",
    "\n",
    "Ahora vamos a restringir la discriminación de $\\ket{\\psi}$ a un conjunto $\\{\\ket{\\psi_a}\\}$ con $a=0,1,2,..,p$\n",
    "de estados pre-establecidos. \n",
    "\n",
    "El teorema anterior conduce automáticamente al siguiente corolario."
   ]
  },
  {
   "cell_type": "markdown",
   "id": "5f735743",
   "metadata": {
    "slideshow": {
     "slide_type": "slide"
    }
   },
   "source": [
    "<div class=\"alert alert-block alert-info\">\n",
    "<p style=\"text-align: left ;color: navy;\">    \n",
    "    <b> Corolario: </b> \n",
    "<br> sólo es posible distinguir de forma <i>inequívoca</i> un estado de entre un conjunto discreto de estados $\\{\\ket{\\psi_i}\\}\\, i=1,...,p$,  si estos son  mutuamente <i> ortogonales</i>\n",
    "</div>\n"
   ]
  },
  {
   "cell_type": "markdown",
   "id": "d792b46e",
   "metadata": {
    "slideshow": {
     "slide_type": "slide"
    }
   },
   "source": [
    "- Observar que $p \\leq N = \\hbox{dim}(\\Hil)$. \n",
    "<br>\n",
    "\n",
    "\n",
    "- En este caso existe un conjunto de medidas proyectivas que permiten discriminar un elemento $\\ket{\\psi_i}$ de los demás mediante una sola medida. \n"
   ]
  },
  {
   "cell_type": "markdown",
   "id": "755f6412",
   "metadata": {
    "slideshow": {
     "slide_type": "fragment"
    }
   },
   "source": [
    "Con los $p$ vectores ortonormales definimos proyectores\n",
    "\n",
    "\n",
    "\\begin{eqnarray}\n",
    "P_i &=& \\ketbra{\\psi_i}{\\psi_i} ~~~~~~~~~~~~~i=1,2,..,p \\\\\n",
    "\\rule{0mm}{10mm} \n",
    "P_0 &=&I-\\sum_{i=1}^p \\ketbra{\\psi_i}{\\psi_i}\n",
    "\\end{eqnarray}\n",
    "\n",
    "De hecho, son hermíticos y ortogonales $P_iP_j = P_j \\delta_{ij}$. Además \n",
    " verifican también la relación de completitud \n",
    "\n",
    "$$\n",
    "\\sum_{i=0}^p  P_i =  I \n",
    "$$\n",
    "\n",
    "por lo que definen una medida de von Neumann.\n"
   ]
  },
  {
   "cell_type": "markdown",
   "id": "f6b65683",
   "metadata": {
    "slideshow": {
     "slide_type": "slide"
    }
   },
   "source": [
    "Si Bob recibe un estado $\\ket{\\psi_j}$, entonces la probabilidad de medida asociada al operador $M_i$ será\n",
    "\n",
    "$$\n",
    "p(i) = \\bra{\\psi_j}P_i \\ket{\\psi_j} = \\delta_{ij}\n",
    "$$\n",
    "\n",
    "es decir $p(j) = 1 $ si $i=j$ y $p(i) = 0$ si $i\\neq j$. "
   ]
  },
  {
   "cell_type": "markdown",
   "id": "54f44f68",
   "metadata": {
    "slideshow": {
     "slide_type": "fragment"
    }
   },
   "source": [
    "De esta manera, es posible <b>distinguir fidedignamente</b> cuál es el estado recibido con una sola medida de los  $p+1$ detectores. "
   ]
  },
  {
   "cell_type": "markdown",
   "id": "99576f13",
   "metadata": {
    "slideshow": {
     "slide_type": "slide"
    }
   },
   "source": [
    "#### Estados no-ortogonales"
   ]
  },
  {
   "cell_type": "markdown",
   "id": "4ceab642",
   "metadata": {
    "slideshow": {
     "slide_type": "-"
    }
   },
   "source": [
    "Cuando el conjunto de estados que queremos discriminar no es ortogonal, el uso de POVMs  es *más ventajoso* que el de medidas proyectivas. "
   ]
  },
  {
   "cell_type": "markdown",
   "id": "1b3b7cf6",
   "metadata": {
    "slideshow": {
     "slide_type": "fragment"
    }
   },
   "source": [
    "Supongamos que Bob recibe un objeto cuántico que ha sido preparado por Alice en el estado \n",
    "\n",
    "$$\n",
    "\\rho = \\frac{1}{2}\\ketbra{1}{1} + \\frac{1}{2}\\ketbra{2}{2}\n",
    "$$\n",
    "\n",
    "donde los estados son *no ortogonales* $\\braket{1}{2}\\neq 0$. \n",
    "\n",
    "\n",
    "Bob diseña un POVM $\\{E_m\\}$ optimizado para cumplir con las siguientes reglas del juego"
   ]
  },
  {
   "cell_type": "markdown",
   "id": "50b60210",
   "metadata": {
    "slideshow": {
     "slide_type": "fragment"
    }
   },
   "source": [
    "- después de la medida podemos <b>no emitir</b> ninguna afirmación o <b>hacerlo</b>\n",
    "<br>\n",
    "\n",
    "- si emitimos una afirmación, ésta debe ser verdad con <b>certidumbre total</b>:  es $\\ket{1}$ ó es $\\ket{2}$ ."
   ]
  },
  {
   "cell_type": "markdown",
   "id": "c0fa1ed4",
   "metadata": {
    "slideshow": {
     "slide_type": "slide"
    }
   },
   "source": [
    "Por tanto, hay *tres respuestas* posibles, y, consistentemente, el POVM está formado por *tres operadores* $\\{ E_1, E_2, E_3\\}$  construidos de forma tal que\n",
    "\n",
    "- en el estado  $\\ket{1} \\Rightarrow E_2$ nunca ocurre $~ \\Rightarrow ~\\bra{1}E_2\\ket{1} = 0$, pero pueden ocurrir $E_1, E_3$ \n",
    "\n",
    "En consecuencia, si *se detecta* $E_2 ~ ( \\bra{1}E_2\\ket{1} \\neq 0)$ entonces no puede ser $\\ket{1}$, así que *tiene que ser* $\\ket{2}$.\n",
    "\n",
    "<br>\n",
    "\n",
    "\n",
    "- en el estado  $\\ket{2} \\Rightarrow E_1$ nunca ocurre $~\\Rightarrow ~ \\bra{2}E_1\\ket{2} = 0$, pero pueden ocurrir $E_2, E_3$ \n",
    "\n",
    "En consecuencia, *si se detecta* $E_1 ~(\\bra{1}E_1\\ket{1} \\neq 0)$ entonces no puede ser $\\ket{2}$, así que *tiene que ser* $\\ket{1}$.\n",
    "\n",
    "<br>\n",
    "\n"
   ]
  },
  {
   "cell_type": "markdown",
   "id": "ed920916",
   "metadata": {
    "slideshow": {
     "slide_type": "slide"
    }
   },
   "source": [
    "De forma consistente, tenemos que, después de efectuar una medida \n",
    "\n",
    "- Si se detecta $E_1$ es señal inequívoca de que el estado era $\\ket{1}$\n",
    "<br>\n",
    "- Si se detecta $E_2$ es señal inequívoca de que el estado era $\\ket{2}$\n",
    "<br>\n",
    "\n",
    "- Si se detecta $E_3$ no se puede afirmar nada\n"
   ]
  },
  {
   "cell_type": "markdown",
   "id": "f9e359ed",
   "metadata": {
    "slideshow": {
     "slide_type": "slide"
    }
   },
   "source": [
    "Podemos dar una forma más explícita de estos operadores\n",
    "\n",
    "\n",
    "\\begin{eqnarray} \\rule{0mm}{10mm}\n",
    "E_1 &=& a_1 \\left( \\rule{0mm}{4mm}I- \\ket{2}\\bra{2} \\right) \\\\\n",
    "\\rule{0mm}{10mm}\n",
    "E_2 &=& a_2 \\left( \\rule{0mm}{4mm} I-\\ket{1}\\bra{1} \\right)  \\\\\n",
    "\\rule{0mm}{10mm}\n",
    "E_3 &=& I - E_1 - E_2\n",
    "\\end{eqnarray}"
   ]
  },
  {
   "cell_type": "markdown",
   "id": "1bd57c2f",
   "metadata": {
    "slideshow": {
     "slide_type": "slide"
    }
   },
   "source": [
    "Las constantes $a_1$ y $a_2$ pueden optimizarse para que la probabilidad de las opciones $E_1$ y $E_2$ que permiten extraer una conclusión se maximice\n",
    "\n",
    "\n",
    "\\begin{eqnarray}\n",
    "p &=& \\tr((E_1 + E_2)\\rho)   \\nonumber \\\\  \\rule{0mm}{8mm}\n",
    "&=& \\tr\\left[(E_1+E_2) \\left(\\frac{1}{2}\\ket{1}\\bra{1} + \\frac{1}{2}\\ket{2}\\bra{2}\\right) \\right] \\nonumber\\\\\n",
    "&=& \\frac{1}{2}\\left(\\bra{1}E_1\\ket{1} + \\bra{2}E_1\\ket{2} + \\bra{1}E_2\\ket{1}  + \\bra{2}E_2\\ket{2}\\right)  \\nonumber\\\\ \\rule{0mm}{8mm}\n",
    "&=& \\frac{1}{2}(a_1+a_2) (1 - |\\braket{1}{2}|^2) \n",
    "\\end{eqnarray}\n"
   ]
  },
  {
   "cell_type": "markdown",
   "id": "c93446d9",
   "metadata": {
    "slideshow": {
     "slide_type": "slide"
    }
   },
   "source": [
    "En https://arxiv.org/abs/quant-ph/9604014 se demuestra que, para maximizar $p$, manteniendo la positividad de $E_3$, debemos tomar\n",
    "\n",
    "$$\n",
    "a_1 = a_2 = \\frac{1}{1+|\\braket{1}{2}|} ~~~~~~~\\Rightarrow ~~~~~~~ p = 1 - |\\braket{1}{2}|\n",
    "$$\n"
   ]
  },
  {
   "cell_type": "markdown",
   "id": "2d358d26",
   "metadata": {
    "slideshow": {
     "slide_type": "fragment"
    }
   },
   "source": [
    "La posibilidad de afirmar algo como resultado de una medida se vuelve menor  a medida que los estados se parecen más entre sí. \n",
    "\n",
    "Para estados ortogonales $\\braket{1}{2} = 0$ se cumple la distinguibilidad completa $p_{max} = 1$\n",
    "\n",
    "Estados paralelos  $\\braket{1}{2} = 1$ son indistinguibles.\n"
   ]
  },
  {
   "cell_type": "markdown",
   "id": "abf6615b",
   "metadata": {
    "slideshow": {
     "slide_type": "slide"
    }
   },
   "source": [
    "<div class=\"alert alert-block alert-success\">\n",
    "<b>Ejercicio:</b> \n",
    "<br>\n",
    " Muestra que, en el caso particular $a_1=a_2 = a$, la probabilidad  $p$ cuando la medida se realiza sobre un conjunto equiprobable $\\{\\ket{1},\\frac{1}{2}; \\ket{2},\\frac{1}{2}\\}$, se maximiza cuando \n",
    "$$\n",
    "a_{opt}  = \\frac{1}{1+|\\braket{1}{2}|}~~~~~~ \\hbox{con} ~~~~~~p = 1 - |\\braket{1}{2}|\n",
    "$$\n",
    "</div> "
   ]
  },
  {
   "cell_type": "markdown",
   "id": "6e6df8db",
   "metadata": {
    "slideshow": {
     "slide_type": "-"
    }
   },
   "source": [
    "<div class=\"alert alert-block alert-success\">\n",
    "<b>Exercise 5.3:</b> \n",
    "Suppose that Alice sends with equal  probability  $1/2$ the states   $ \\ket{a_\\perp} = \\ket{1} ,  \\ket{b_\\perp} =  \\frac{\\sqrt{3}}{2}\\ket{0} + \\frac{1}{2}\\ket{1}\\}$. Write the density operator that Bob uses to describe the statistical mixture. \n",
    "\n",
    "Bob tries to identify correctly which state was actually sent first by using the projective measurement $Z = P_0 + P_1$.\n",
    "Show that only $P_0$ discriminates and that this only occurs with probability 3/8 hence the identification rate is  $37.5\\%$.\n",
    "<br>\n",
    "<br>\n",
    "    \n",
    "Then Bob tries to use the triangular POVM with  directions $\\{(\\theta_a = 0,\\phi_a = 0)$, $(\\theta_b = 4\\pi/3,\\phi_b = 0)\\}$ and $(\\theta_c = 8\\pi/3,\\phi_c = 0)$.  Find the associated Bloch vectors \n",
    "$\\{\\ket{i} = \\ket{\\hat\\bn_i}\\} , ~i=a,b,c$ and build the POVM $\\{ E_i = \\frac{2}{3}\\ket{i}\\bra{i}\\}$.\n",
    "Show that now Bob can discriminate $\\ket{a_\\perp}$ from $\\ket{b_\\perp}$ with up to $50\\%$ certainty.\n",
    "     \n",
    "    \n",
    "    \n",
    "</div>"
   ]
  }
 ],
 "metadata": {
  "celltoolbar": "Slideshow",
  "kernelspec": {
   "display_name": "Python 3 (ipykernel)",
   "language": "python",
   "name": "python3"
  },
  "language_info": {
   "codemirror_mode": {
    "name": "ipython",
    "version": 3
   },
   "file_extension": ".py",
   "mimetype": "text/x-python",
   "name": "python",
   "nbconvert_exporter": "python",
   "pygments_lexer": "ipython3",
   "version": "3.9.16"
  },
  "varInspector": {
   "cols": {
    "lenName": 16,
    "lenType": 16,
    "lenVar": 40
   },
   "kernels_config": {
    "python": {
     "delete_cmd_postfix": "",
     "delete_cmd_prefix": "del ",
     "library": "var_list.py",
     "varRefreshCmd": "print(var_dic_list())"
    },
    "r": {
     "delete_cmd_postfix": ") ",
     "delete_cmd_prefix": "rm(",
     "library": "var_list.r",
     "varRefreshCmd": "cat(var_dic_list()) "
    }
   },
   "types_to_exclude": [
    "module",
    "function",
    "builtin_function_or_method",
    "instance",
    "_Feature"
   ],
   "window_display": false
  }
 },
 "nbformat": 4,
 "nbformat_minor": 5
}
